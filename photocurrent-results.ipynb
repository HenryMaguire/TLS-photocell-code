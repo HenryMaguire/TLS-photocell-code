{
 "cells": [
  {
   "cell_type": "code",
   "execution_count": 1,
   "metadata": {},
   "outputs": [
    {
     "name": "stdout",
     "output_type": "stream",
     "text": [
      "utils imported\n"
     ]
    }
   ],
   "source": [
    "%matplotlib inline\n",
    "import time \n",
    "from qutip import mesolve, steadystate\n",
    "import numpy as np\n",
    "import optical as EM\n",
    "import phonons as RC\n",
    "import leads as FL\n",
    "from utils import *\n",
    "from photocell_setup import *\n",
    "import matplotlib.pyplot as plt\n",
    "#from importlib import reload\n",
    "from style import *"
   ]
  },
  {
   "cell_type": "code",
   "execution_count": 2,
   "metadata": {
    "collapsed": true
   },
   "outputs": [],
   "source": [
    "def short_current(v,c):\n",
    "    # assumes that V=0 at element 0\n",
    "    return c[0]\n",
    "\n",
    "def estimate_Voc(v, c):\n",
    "    # voltage where current goes to zero\n",
    "    return v[np.argmin(np.abs(c))]\n",
    "\n",
    "def power_values(v, c):\n",
    "    return np.array(v)*np.array(c)\n",
    "\n",
    "def max_power(v, c):\n",
    "    # can make this more sophisticated at a later date\n",
    "    return np.max(power_values(v, c))\n",
    "\n",
    "def theoretical_max_power(v,c):\n",
    "    return short_current(v,c)*estimate_Voc(v, c)\n",
    "\n",
    "def fill_factor(v, c):\n",
    "    return max_power(v, c)/theoretical_max_power(v,c)\n",
    "\n",
    "def fill_factor_from_dict(_data_dict):\n",
    "    return fill_factor(_data_dict['bias_voltages'], _data_dict['current'])\n",
    "\n",
    "def plot_power(_data_dict):\n",
    "    current = _data_dict['current']\n",
    "    \n",
    "    voltage = _data_dict['bias_voltages']*ev_to_inv_cm\n",
    "    power = power_values(voltage, current)\n",
    "    plt.plot(voltage, power)\n",
    "    plt.axvline(estimate_Voc(voltage, current))\n",
    "    plt.axhline(max_power(power))\n",
    "    \n",
    "def get_photovoltaic_summary(data_dict):\n",
    "    v, c = data_dict['bias_voltages'], data_dict['current']\n",
    "    return {\"fill-factor\": fill_factor_from_dict(data_dict), \n",
    "         \"V_OC\" : estimate_Voc(v, c),\n",
    "         \"I_SC\" : short_current(v, c),\n",
    "         \"P_max\": max_power(data_dict['bias_voltages'], data_dict['current']),\n",
    "         \"P_theoretical_max\": theoretical_max_power(v,c)\n",
    "        }"
   ]
  },
  {
   "cell_type": "code",
   "execution_count": 3,
   "metadata": {
    "collapsed": true
   },
   "outputs": [],
   "source": [
    "def populations_and_current_vs_voltage(PARAMS, x_scale=1.8):\n",
    "    ti = time.time()\n",
    "    if PARAMS['T_L']<100:\n",
    "        number_of_voltages = 180\n",
    "    else:\n",
    "        number_of_voltages = 100\n",
    "    bias_voltages = np. linspace(0, PARAMS['omega_exciton']*x_scale, number_of_voltages)\n",
    "    current = []\n",
    "    conduction_population = []\n",
    "    valence_population = []\n",
    "    ground_population = []\n",
    "    hole_population = []\n",
    "    electron_population = []\n",
    "    exciton_population = []\n",
    "    ops = make_expectation_operators(PARAMS)\n",
    "    for i, bv in enumerate(bias_voltages):\n",
    "        PARAMS.update({'mu_R': PARAMS['mu']+bv/2, 'mu_L': PARAMS['mu']-bv/2})\n",
    "        #if i in [10, 90]:\n",
    "        #    print_PARAMS(PARAMS)\n",
    "        L_Lindblad_dict = build_L(PARAMS, silent=True)\n",
    "        #ops = make_expectation_operators(PARAMS)\n",
    "        n_c = tensor(d_e.dag()*d_e, qeye(PARAMS['N']))\n",
    "        n_v = tensor(d_h.dag()*d_h, qeye(PARAMS['N']))\n",
    "        ss = steadystate(L_Lindblad_dict['H_S'], [L_Lindblad_dict['L_lindblad']])\n",
    "        current.append(current_from_ss(ss, L_Lindblad_dict['L_R_lindblad'], n_c))\n",
    "        conduction_population.append((n_c*ss).tr())\n",
    "        valence_population.append((n_v*ss).tr())\n",
    "        ground_population.append((ops['vac']*ss).tr())\n",
    "        hole_population.append((ops['hole']*ss).tr())\n",
    "        electron_population.append((ops['electron']*ss).tr())\n",
    "        exciton_population.append((ops['exciton']*ss).tr())\n",
    "    bias_voltages/=ev_to_inv_cm\n",
    "    data_dict = {'bias_voltages':bias_voltages, \n",
    "                 'current': current,\n",
    "                 'conduction_population' : conduction_population, \n",
    "                 'valence_population' : valence_population,\n",
    "                 'ground_population': ground_population,\n",
    "                 'hole_population' : hole_population,\n",
    "                 'electron_population' : electron_population,\n",
    "                 'exciton_population' : exciton_population,\n",
    "                'PARAMS': PARAMS}\n",
    "    print(\"C-V data calculated in {:0.1f} seconds\".format(time.time() - ti))\n",
    "    return data_dict"
   ]
  },
  {
   "cell_type": "code",
   "execution_count": 4,
   "metadata": {
    "collapsed": true
   },
   "outputs": [],
   "source": [
    "def plot_voltage_current(data_dict, label=''):\n",
    "    # if \n",
    "    _PARAMS = data_dict['PARAMS']\n",
    "    \n",
    "    fig, (ax1, ax2) = plt.subplots(2, 1, figsize=(9,12), sharex=True)\n",
    "    \n",
    "    X = data_dict['bias_voltages']*ev_to_inv_cm\n",
    "    red_mu_R, red_mu_L = _PARAMS['omega_c'], 2*_PARAMS['mu']-_PARAMS['omega_c']\n",
    "    blue_mu_R  = 2*_PARAMS['mu']+(_PARAMS['omega_v']-_PARAMS['binding_energy'])\n",
    "    blue_mu_L = -(_PARAMS['omega_v']-_PARAMS['binding_energy'])\n",
    "    \n",
    "    \n",
    "    if abs(_PARAMS['binding_energy'])>0:\n",
    "        yellow_mu_R = _PARAMS['omega_c']-_PARAMS['binding_energy']\n",
    "        yellow_mu_L = 2*_PARAMS['mu']-(_PARAMS['omega_c']-_PARAMS['binding_energy'])\n",
    "        ax2.axvline(yellow_mu_R - yellow_mu_L, linestyle='dotted', color='yellow')\n",
    "        if _PARAMS['mu']<(_PARAMS['bandgap']/2):\n",
    "            red_mu_R = 2*_PARAMS['mu']+_PARAMS['omega_v']\n",
    "            red_mu_L = 2*_PARAMS['mu']-(red_mu_R)\n",
    "    ax2.axvline(blue_mu_R-blue_mu_L, linestyle='dotted', color=colors[1])\n",
    "    ax2.axvline(red_mu_R-red_mu_L, linestyle='dotted', color=colors[0])\n",
    "    ax1.plot(X, np.array(data_dict['conduction_population']).real, label=r'$n_c$')\n",
    "    ax1.plot(X, np.array(data_dict['valence_population']).real, label=r'$n_v$')\n",
    "    ax2.set_xlabel('Bias voltage')\n",
    "    ax1.set_ylabel('Population')\n",
    "    ax2.set_ylabel('Current')\n",
    "    #ax1.plot(X, np.array(data_dict['ground_population']).real, label=r'v')\n",
    "    #ax1.plot(X, np.array(data_dict['hole_population']).real, label=r'h')\n",
    "    #ax1.plot(X, np.array(data_dict['electron_population']).real, label=r'e')\n",
    "    #ax1.plot(X, np.array(data_dict['exciton_population']).real, label=r'exc')\n",
    "    ax1.set_xlim(0,X[-1])\n",
    "    ax1.legend()\n",
    "    ax2.plot(X, np.array(data_dict['current']).real)\n",
    "    plt.savefig(\"PLOTS/C-V-{}.pdf\".format(label))"
   ]
  },
  {
   "cell_type": "code",
   "execution_count": 18,
   "metadata": {
    "scrolled": true
   },
   "outputs": [
    {
     "name": "stdout",
     "output_type": "stream",
     "text": [
      "Phonon occupation: 0.00. Phonon thermal energy is 53.51. Phonon SD peak is 0.00. V=0.0. N=2.\n",
      "C-V data calculated in 33.7 seconds\n"
     ]
    },
    {
     "data": {
      "image/png": "[encoded data removed]",
      "text/plain": [
       "<matplotlib.figure.Figure at 0x7f6a961f1e90>"
      ]
     },
     "metadata": {},
     "output_type": "display_data"
    }
   ],
   "source": [
    "PARAMS = PARAMS_setup(valence_energy=100e-3, binding_energy=0.1, radiative_lifetime=1, alpha_ph=0, mu=700e-3,\n",
    "                      bias_voltage=0, N=2, silent=False, T_C=77.)\n",
    "\n",
    "data_dict_no_BE = populations_and_current_vs_voltage(PARAMS, x_scale=2)\n",
    "plot_voltage_current(data_dict_no_BE)"
   ]
  },
  {
   "cell_type": "markdown",
   "metadata": {},
   "source": [
    "## Analytical results"
   ]
  },
  {
   "cell_type": "code",
   "execution_count": 16,
   "metadata": {},
   "outputs": [
    {
     "name": "stdout",
     "output_type": "stream",
     "text": [
      "Phonon occupation: 0.00. Phonon thermal energy is 53.51. Phonon SD peak is 0.00. V=32262.0. N=2.\n",
      "bandgap : 11291.7\n",
      "mu_R : 21776.85\n",
      "mu_L : -10485.15\n",
      "delta_R : 24.1965\n",
      "mu : 5645.85\n",
      "Omega_ph : 403.275\n",
      "T_ph : 77.0\n",
      "binding_energy : 0.0\n",
      "deformation_ratio : 0.5\n",
      "radiative_lifetime : 1\n",
      "leads_lifetime : 1\n",
      "omega_exciton : 12904.8\n",
      "Gamma_EM : 0.005309\n",
      "Omega_R : 12098.25\n",
      "J : <function J_minimal at 0x7f6aa83d8d70>\n",
      "omega_v : 806.55\n",
      "T_EM : 5800\n",
      "alpha_ph : 0.0\n",
      "Omega_L : -806.55\n",
      "omega_c : 12098.25\n",
      "N : 2\n",
      "Gamma_L : 0.005309\n",
      "T_L : 77.0\n",
      "sys_dim : 4\n",
      "Gamma_ph : 80.655\n",
      "delta_L : 24.1965\n",
      "T_R : 77.0\n",
      "Gamma_R : 0.005309\n",
      "None\n",
      "(-0.00301617496328+0j)\n",
      "{'P_theoretical_max': 0.00042450041894854108, 'I_SC': 0.0002698351384651593, 'P_max': 0.00040693843303267002, 'fill-factor': 0.958629049273094, 'V_OC': 1.5731843575418991}\n"
     ]
    }
   ],
   "source": [
    "def CS_analytical_current(PARAMS):\n",
    "    Gamma_Ldown, Gamma_Lup, Gamma_Rdown, Gamma_Rup = FL.leads_rates(PARAMS)\n",
    "    Gamma_downEM, Gamma_upEM = EM.EM_rates(PARAMS)\n",
    "    Gamma_downEM*=2\n",
    "    Gamma_upEM*=2\n",
    "    \n",
    "    numer = 2*(Gamma_Ldown+Gamma_Lup+Gamma_Rdown+Gamma_Rup)\n",
    "    numer*=(Gamma_downEM*Gamma_Ldown*Gamma_Rup-Gamma_Lup*Gamma_Rdown*Gamma_upEM)\n",
    "    denom = (Gamma_Ldown+Gamma_Lup)*(Gamma_Rdown+Gamma_Rup)*(Gamma_Ldown+Gamma_Lup+Gamma_Rdown+Gamma_Rup)\n",
    "    denom += Gamma_downEM*(Gamma_Ldown**2+(Gamma_Rup+Gamma_Lup)*(Gamma_Rdown+Gamma_Rup)+Gamma_Ldown*(Gamma_Lup+Gamma_Rdown+Gamma_Rup))\n",
    "    denom += (Gamma_Lup**2+Gamma_Lup*(Gamma_Rdown+Gamma_Rup)+Gamma_Rdown*(Gamma_Rdown+Gamma_Rup)+Gamma_Ldown*(Gamma_Lup+Gamma_Rdown+Gamma_Rup))*Gamma_upEM\n",
    "    return -numer/denom\n",
    "\n",
    "def rate_analytical_current():\n",
    "    numer = Gamma_downalpha*Gamma_downbeta*Gamma_downI*Gamma_upEM\n",
    "    numer-= Gamma_downEM*Gamma_upalpha*Gamma_upbeta*Gamma_upI\n",
    "    denom = (Gamma_downI+Gamma_upalpha)*(Gamma_downEM*Gamma_upbeta + Gamma_downbeta*(Gamma_downEM+Gamma_upEM))\n",
    "    denom = Gamma_downEM*(Gamma_upalpha+Gamma_upbeta)\n",
    "    #nenom = Gamma_downalpha*Gamma_downbeta*Gamma_downI+Gamma_upEM+(Gamma_downI+Gamma_upI) (\\Gamma _{\\text{upC$\\beta $}}+\\Gamma _{\\text{upEM}}\\right)\\right)+\\left(\\Gamma _{\\text{downI}}+\\Gamma _{\\text{upC$\\alpha $}}\\right) \\left(\\Gamma _{\\text{downC$\\beta $}} \\left(\\Gamma _{\\text{downEM}}+\\Gamma _{\\text{upEM}}\\right)+\\Gamma _{\\text{downEM}} \\Gamma _{\\text{upC$\\beta $}}\\right)+\\Gamma _{\\text{upI}} \\left(\\Gamma _{\\text{downEM}} \\left(\\Gamma _{\\text{upC$\\alpha $}}+\\Gamma _{\\text{upC$\\beta $}}\\right)+\\Gamma _{\\text{upC$\\alpha $}} \\left(\\Gamma _{\\text{upC$\\beta $}}+\\Gamma _{\\text{upEM}}\\right)\\right)}\n",
    "\n",
    "PARAMS = PARAMS_setup(valence_energy=100e-3, binding_energy=0.0, radiative_lifetime=1, alpha_ph=0, mu=700e-3,\n",
    "                      bias_voltage=2, N=2, silent=False, T_C=77.)\n",
    "#Gamma_Ldown, Gamma_Lup, Gamma_Rdown, Gamma_Rup, Gamma_downEM, Gamma_upEM  = get_rates(PARAMS)\n",
    "print(print_PARAMS(PARAMS))\n",
    "print (CS_analytical_current(PARAMS))\n",
    "print(get_photovoltaic_summary(data_dict_no_BE))"
   ]
  },
  {
   "cell_type": "code",
   "execution_count": null,
   "metadata": {
    "collapsed": true
   },
   "outputs": [],
   "source": []
  }
 ],
 "metadata": {
  "kernelspec": {
   "display_name": "Python 3",
   "language": "python",
   "name": "python3"
  },
  "language_info": {
   "codemirror_mode": {
    "name": "ipython",
    "version": 2
   },
   "file_extension": ".py",
   "mimetype": "text/x-python",
   "name": "python",
   "nbconvert_exporter": "python",
   "pygments_lexer": "ipython2",
   "version": "2.7.13"
  }
 },
 "nbformat": 4,
 "nbformat_minor": 2
}
