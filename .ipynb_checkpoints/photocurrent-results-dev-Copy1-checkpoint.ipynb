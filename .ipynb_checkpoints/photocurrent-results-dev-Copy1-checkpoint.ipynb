{
 "cells": [
  {
   "cell_type": "code",
   "execution_count": 1,
   "metadata": {},
   "outputs": [
    {
     "name": "stdout",
     "output_type": "stream",
     "text": [
      "utils imported\n"
     ]
    }
   ],
   "source": [
    "%matplotlib inline\n",
    "import time \n",
    "from qutip import mesolve, steadystate\n",
    "import numpy as np\n",
    "import optical as EM\n",
    "import phonons as RC\n",
    "import leads as FL\n",
    "from utils import *\n",
    "from photocell_setup import *\n",
    "import matplotlib.pyplot as plt\n",
    "#from importlib import reload\n",
    "from style import *"
   ]
  },
  {
   "cell_type": "code",
   "execution_count": 2,
   "metadata": {},
   "outputs": [],
   "source": [
    "def short_current(v,c):\n",
    "    # assumes that V=0 at element 0\n",
    "    return c[0]\n",
    "\n",
    "def estimate_Voc(v, c):\n",
    "    # voltage where current goes to zero\n",
    "    return v[np.argmin(np.abs(c))]\n",
    "\n",
    "def power_values(v, c):\n",
    "    return np.array(v)*np.array(c)\n",
    "\n",
    "def power_values_from_dict(_data_dict):\n",
    "    return np.array(_data_dict['bias_voltages'])*np.array(_data_dict['current'])\n",
    "\n",
    "def max_power(v, c):\n",
    "    # can make this more sophisticated at a later date\n",
    "    return np.max(power_values(v, c))\n",
    "\n",
    "def theoretical_max_power(v,c):\n",
    "    return short_current(v,c)*estimate_Voc(v, c)\n",
    "\n",
    "def fill_factor(v, c):\n",
    "    return max_power(v, c)/theoretical_max_power(v,c)\n",
    "\n",
    "def fill_factor_from_dict(_data_dict):\n",
    "    return fill_factor(_data_dict['bias_voltages'], _data_dict['current'])\n",
    "\n",
    "def voltage_at_max_power_from_dict(_data_dict):\n",
    "    return _data_dict['bias_voltages'][np.argmax(power_values_from_dict(_data_dict))]\n",
    "\n",
    "def plot_power(_data_dict):\n",
    "    current = _data_dict['current']\n",
    "    \n",
    "    voltage = _data_dict['bias_voltages']*ev_to_inv_cm\n",
    "    power = power_values(voltage, current)\n",
    "    plt.plot(voltage, power)\n",
    "    plt.axvline(estimate_Voc(voltage, current))\n",
    "    plt.axhline(max_power(power))\n",
    "\n",
    "def get_photovoltaic_summary(data_dict):\n",
    "    v, c = data_dict['bias_voltages'], data_dict['current']\n",
    "    return {\"fill_factor\": fill_factor_from_dict(data_dict), \n",
    "         \"V_OC\" : estimate_Voc(v, c),\n",
    "         \"I_SC\" : short_current(v, c),\n",
    "         \"P_max\": max_power(data_dict['bias_voltages'], data_dict['current']),\n",
    "         \"P_theoretical_max\": theoretical_max_power(v,c),\n",
    "         \"V_at_max_P\": voltage_at_max_power_from_dict(data_dict)\n",
    "        }"
   ]
  },
  {
   "cell_type": "code",
   "execution_count": 3,
   "metadata": {},
   "outputs": [],
   "source": [
    "def convergence(PARAMS, N_lim=[5,18]):\n",
    "    for N in range(N_lim[0],N_lim[-1]):\n",
    "        PARAMS.update({'N': N})\n",
    "        L_Lindblad_dict = build_L(PARAMS, silent=True)\n",
    "        ss = steadystate(L_Lindblad_dict['H_S'], [L_Lindblad_dict['L']])"
   ]
  },
  {
   "cell_type": "code",
   "execution_count": 8,
   "metadata": {
    "code_folding": []
   },
   "outputs": [],
   "source": [
    "def populations_and_current_vs_voltage(PARAMS, x_range=[0.7,2], num_voltages=40):\n",
    "    ti = time.time()\n",
    "    if PARAMS['T_L']<100:\n",
    "        number_of_voltages = int(1.8*num_voltages)\n",
    "    else:\n",
    "        number_of_voltages = num_voltages\n",
    "    #bias_voltages = np. linspace(x_range[0]*ev_to_inv_cm, x_range[1]*ev_to_inv_cm, number_of_voltages)\n",
    "    bias_voltages = np.concatenate((np.array([0]), \n",
    "                    np.linspace(x_range[0]*ev_to_inv_cm, x_range[1]*ev_to_inv_cm, number_of_voltages)), \n",
    "                                   axis=0)\n",
    "    current = []\n",
    "    conduction_population = []\n",
    "    valence_population = []\n",
    "    ground_population = []\n",
    "    hole_population = []\n",
    "    electron_population = []\n",
    "    exciton_population = []\n",
    "    CC_population = []\n",
    "    ops = make_expectation_operators(PARAMS)\n",
    "    for i, bv in enumerate(bias_voltages):\n",
    "        PARAMS.update({'mu_R': PARAMS['mu']+bv/2, 'mu_L': PARAMS['mu']-bv/2})\n",
    "        #if i in [10, 90]:\n",
    "        #    print_PARAMS(PARAMS)\n",
    "        L_Lindblad_dict = build_L(PARAMS, silent=True)\n",
    "        #ops = make_expectation_operators(PARAMS)\n",
    "        n_c = tensor(d_e.dag()*d_e, qeye(PARAMS['N']))\n",
    "        n_v = tensor(d_h.dag()*d_h, qeye(PARAMS['N']))\n",
    "        ss = steadystate(L_Lindblad_dict['H_S'], [L_Lindblad_dict['L']])\n",
    "        current.append(current_from_ss(ss, L_Lindblad_dict['L_R'], n_c))\n",
    "        conduction_population.append((n_c*ss).tr())\n",
    "        valence_population.append((n_v*ss).tr())\n",
    "        ground_population.append((ops['vac']*ss).tr())\n",
    "        hole_population.append((ops['hole']*ss).tr())\n",
    "        electron_population.append((ops['electron']*ss).tr())\n",
    "        exciton_population.append((ops['exciton']*ss).tr())\n",
    "        CC_population.append((ops['CC_pop']*ss).tr())\n",
    "    bias_voltages/=ev_to_inv_cm\n",
    "    data_dict = {'bias_voltages':bias_voltages, \n",
    "                 'current': current,\n",
    "                 'conduction_population' : conduction_population, \n",
    "                 'valence_population' : valence_population,\n",
    "                 'ground_population': ground_population,\n",
    "                 'hole_population' : hole_population,\n",
    "                 'electron_population' : electron_population,\n",
    "                 'exciton_population' : exciton_population,\n",
    "                 'CC_population' : CC_population,\n",
    "                'PARAMS': PARAMS}\n",
    "    print(\"C-V data calculated in {:0.1f} seconds\".format(time.time() - ti))\n",
    "    return data_dict\n",
    "\n"
   ]
  },
  {
   "cell_type": "code",
   "execution_count": 9,
   "metadata": {},
   "outputs": [],
   "source": [
    "def plot_voltage_current(data_dict, label='', plot_CC=False):\n",
    "    # if \n",
    "    _PARAMS = data_dict['PARAMS']\n",
    "    \n",
    "    fig, (ax1, ax2) = plt.subplots(2, 1, figsize=(8,10), sharex=True)\n",
    "    \n",
    "    X = data_dict['bias_voltages']\n",
    "    red_mu_R, red_mu_L = _PARAMS['omega_c'], 2*_PARAMS['mu']-_PARAMS['omega_c']\n",
    "    blue_mu_R  = 2*_PARAMS['mu']+(_PARAMS['omega_v']-_PARAMS['binding_energy'])\n",
    "    blue_mu_L = -(_PARAMS['omega_v']-_PARAMS['binding_energy'])\n",
    "    \n",
    "    \n",
    "    if abs(_PARAMS['binding_energy'])>0:\n",
    "        yellow_mu_R = _PARAMS['omega_c']-_PARAMS['binding_energy']\n",
    "        yellow_mu_L = 2*_PARAMS['mu']-(_PARAMS['omega_c']-_PARAMS['binding_energy'])\n",
    "        yellow_mu_R/= ev_to_inv_cm\n",
    "        yellow_mu_L/= ev_to_inv_cm\n",
    "        ax2.axvline(yellow_mu_R - yellow_mu_L, linestyle='dotted', color=colors[5], linewidth=2.2)\n",
    "        if _PARAMS['mu']<(_PARAMS['bandgap']/2):\n",
    "            red_mu_R = 2*_PARAMS['mu']+_PARAMS['omega_v']\n",
    "            red_mu_L = 2*_PARAMS['mu']-(red_mu_R)\n",
    "    red_mu_R /= ev_to_inv_cm\n",
    "    red_mu_L /= ev_to_inv_cm\n",
    "    blue_mu_R/= ev_to_inv_cm\n",
    "    blue_mu_L/= ev_to_inv_cm\n",
    "    \n",
    "    \n",
    "    \n",
    "    ax2.axvline(blue_mu_R-blue_mu_L, linestyle='dotted', color=colors[1], linewidth=2)\n",
    "    ax2.axvline(red_mu_R-red_mu_L, linestyle='dotted', color=colors[0], linewidth=2)\n",
    "    if plot_CC:\n",
    "        ax1.plot(X, np.array(data_dict['CC_population']).real, label=r'$n_{CC}$')\n",
    "    else:\n",
    "        ax1.plot(X, np.array(data_dict['electron_population']).real, label=r'$n_e$')\n",
    "        ax1.plot(X, np.array(data_dict['hole_population']).real, label=r'$n_h$')\n",
    "        ax1.plot(X, np.array(data_dict['exciton_population']).real, label=r'$n_x$')\n",
    "    \n",
    "    \n",
    "    ax2.set_xlabel('Bias voltage (eV)')\n",
    "    ax1.set_ylabel('Population')\n",
    "    ax2.set_ylabel('Current')\n",
    "    #ax1.plot(X, np.array(data_dict['ground_population']).real, label=r'v')\n",
    "    #ax1.plot(X, np.array(data_dict['hole_population']).real, label=r'h')\n",
    "    #ax1.plot(X, np.array(data_dict['electron_population']).real, label=r'e')\n",
    "    #ax1.plot(X, np.array(data_dict['exciton_population']).real, label=r'exc')\n",
    "    ax1.set_xlim(X[0],X[-1])\n",
    "    ax1.legend()\n",
    "    plt.subplots_adjust(left=0.18, bottom=0.065, right=0.97, top=0.98, wspace=0.24, hspace=0.015)\n",
    "    q = 1.602176634e-19 # coulomb\n",
    "    current = np.array(data_dict['current']).real # in electrons per second?\n",
    "    ax2.plot(X, current)\n",
    "    plt_title = \"PLOTS/C-V-{}.pdf\".format(label)\n",
    "    plt.savefig(plt_title)\n",
    "    print(\"saved at \"+plt_title)"
   ]
  },
  {
   "cell_type": "code",
   "execution_count": null,
   "metadata": {},
   "outputs": [
    {
     "name": "stdout",
     "output_type": "stream",
     "text": [
      "Phonon occupation: 0.17. Phonon thermal energy is 208.50. Phonon SD peak is 0.00. V=0.0. N=5.\n",
      "C-V data calculated in 82.7 seconds\n",
      "Phonon occupation: 0.17. Phonon thermal energy is 208.50. Phonon SD peak is 0.00. V=0.0. N=10.\n",
      "C-V data calculated in 528.9 seconds\n",
      "Phonon occupation: 0.17. Phonon thermal energy is 208.50. Phonon SD peak is 0.00. V=0.0. N=10.\n"
     ]
    }
   ],
   "source": [
    "PARAMS = PARAMS_setup(valence_energy=100e-3, binding_energy=0.3, radiative_lifetime=1, alpha_ph=0, mu=700e-3,\n",
    "                      bias_voltage=0, N=5, silent=False, T_C=300.)\n",
    "\n",
    "data_dict_0 = populations_and_current_vs_voltage(PARAMS)\n",
    "\n",
    "\n",
    "PARAMS = PARAMS_setup(valence_energy=100e-3, binding_energy=0.3, radiative_lifetime=1, alpha_ph=10e-3, mu=700e-3,\n",
    "                      bias_voltage=0, N=10, silent=False, T_C=300.)\n",
    "\n",
    "data_dict_10 = populations_and_current_vs_voltage(PARAMS)\n",
    "plt.plot(data_dict_10['bias_voltages'], data_dict_10['current'])\n",
    "\n",
    "PARAMS = PARAMS_setup(valence_energy=100e-3, binding_energy=0.3, radiative_lifetime=1, alpha_ph=20e-3, mu=700e-3,\n",
    "                      bias_voltage=0, N=10, silent=False, T_C=300.)\n",
    "\n",
    "data_dict_20 = populations_and_current_vs_voltage(PARAMS)\n",
    "plt.plot(data_dict_20['bias_voltages'], data_dict_20['current'])\n",
    "\n",
    "PARAMS = PARAMS_setup(valence_energy=100e-3, binding_energy=0.3, radiative_lifetime=1, alpha_ph=30e-3, mu=700e-3,\n",
    "                      bias_voltage=0, N=12, silent=False, T_C=300.)\n",
    "\n",
    "data_dict_30 = populations_and_current_vs_voltage(PARAMS)\n",
    "plt.plot(data_dict_30['bias_voltages'], data_dict_30['current'])\n",
    "\n",
    "#plot_voltage_current(data_dict_no_BE_1, label='center-0meV')\n",
    "\n",
    "#PARAMS = PARAMS_setup(valence_energy=100e-3, binding_energy=0.0, radiative_lifetime=1, alpha_ph=0, mu=800e-3,\n",
    "#                      bias_voltage=0, N=2, silent=False, T_C=77.)\n",
    "\n",
    "#data_dict_no_BE_2 = populations_and_current_vs_voltage(PARAMS)\n",
    "#plot_voltage_current(data_dict_no_BE_2, label='above-0meV')\n"
   ]
  },
  {
   "cell_type": "code",
   "execution_count": null,
   "metadata": {},
   "outputs": [],
   "source": [
    "\n",
    "\n",
    "\n",
    "plt.plot(data_dict_0['bias_voltages'], data_dict_0['current'])\n",
    "plt.plot(data_dict_10['bias_voltages'], data_dict_10['current'])\n",
    "plt.plot(data_dict_100['bias_voltages'], data_dict_100['current'])\n",
    "plt.xlim(0,1.5)"
   ]
  },
  {
   "cell_type": "markdown",
   "metadata": {},
   "source": [
    "# No binding energy"
   ]
  },
  {
   "cell_type": "code",
   "execution_count": null,
   "metadata": {
    "collapsed": true,
    "scrolled": true
   },
   "outputs": [],
   "source": [
    "PARAMS = PARAMS_setup(valence_energy=100e-3, binding_energy=0.0, radiative_lifetime=1, alpha_ph=0, mu=700e-3,\n",
    "                      bias_voltage=0, N=2, silent=False, T_C=77.)\n",
    "\n",
    "data_dict_no_BE_1 = populations_and_current_vs_voltage(PARAMS)\n",
    "plot_voltage_current(data_dict_no_BE_1, label='center-0meV')\n",
    "\n",
    "PARAMS = PARAMS_setup(valence_energy=100e-3, binding_energy=0.0, radiative_lifetime=1, alpha_ph=0, mu=800e-3,\n",
    "                      bias_voltage=0, N=2, silent=False, T_C=77.)\n",
    "\n",
    "data_dict_no_BE_2 = populations_and_current_vs_voltage(PARAMS)\n",
    "plot_voltage_current(data_dict_no_BE_2, label='above-0meV')\n",
    "\n",
    "PARAMS = PARAMS_setup(valence_energy=100e-3, binding_energy=0.0, radiative_lifetime=1, alpha_ph=0, mu=600e-3,\n",
    "                      bias_voltage=0, N=2, silent=False, T_C=77.)\n",
    "\n",
    "data_dict_no_BE_3 = populations_and_current_vs_voltage(PARAMS)\n",
    "plot_voltage_current(data_dict_no_BE_3, label='below-0meV')"
   ]
  },
  {
   "cell_type": "markdown",
   "metadata": {},
   "source": [
    "# Small binding energy"
   ]
  },
  {
   "cell_type": "code",
   "execution_count": null,
   "metadata": {
    "collapsed": true
   },
   "outputs": [],
   "source": [
    "PARAMS = PARAMS_setup(valence_energy=100e-3, binding_energy=0.1, radiative_lifetime=1, alpha_ph=0, mu=700e-3,\n",
    "                      bias_voltage=0, N=2, silent=False, T_C=77.)\n",
    "\n",
    "data_dict_100_1 = populations_and_current_vs_voltage(PARAMS, x_scale=1.3)\n",
    "plot_voltage_current(data_dict_100_1, label='center-100meV')\n",
    "\n",
    "PARAMS = PARAMS_setup(valence_energy=100e-3, binding_energy=0.1, radiative_lifetime=1, alpha_ph=0, mu=800e-3,\n",
    "                      bias_voltage=0, N=2, silent=False, T_C=77.)\n",
    "\n",
    "#data_dict_100_2 = populations_and_current_vs_voltage(PARAMS, x_scale=1.3)\n",
    "#plot_voltage_current(data_dict_100_2, label='above-100meV')\n",
    "\n",
    "#PARAMS = PARAMS_setup(valence_energy=100e-3, binding_energy=0.1, radiative_lifetime=1, alpha_ph=0, mu=600e-3,\n",
    "#                      bias_voltage=0, N=2, silent=False, T_C=77.)\n",
    "\n",
    "#data_dict_100_3 = populations_and_current_vs_voltage(PARAMS, x_scale=1.3)\n",
    "#plot_voltage_current(data_dict_100_3, label='below-100meV')"
   ]
  },
  {
   "cell_type": "markdown",
   "metadata": {},
   "source": [
    "exciton populations go to zero when $U=\\omega_h$"
   ]
  },
  {
   "cell_type": "code",
   "execution_count": null,
   "metadata": {
    "collapsed": true
   },
   "outputs": [],
   "source": [
    "print_PARAMS(PARAMS)"
   ]
  },
  {
   "cell_type": "markdown",
   "metadata": {},
   "source": [
    "# Medium binding energy"
   ]
  },
  {
   "cell_type": "code",
   "execution_count": null,
   "metadata": {
    "collapsed": true
   },
   "outputs": [],
   "source": [
    "PARAMS = PARAMS_setup(valence_energy=100e-3, binding_energy=0.2, radiative_lifetime=1, alpha_ph=0, mu=700e-3,\n",
    "                      bias_voltage=0, N=2, silent=False, T_C=77.)\n",
    "\n",
    "data_dict_200_1 = populations_and_current_vs_voltage(PARAMS, x_scale=1.3)\n",
    "plot_voltage_current(data_dict_200_1, label='center-200meV')\n",
    "\"\"\"\n",
    "PARAMS = PARAMS_setup(valence_energy=100e-3, binding_energy=0.2, radiative_lifetime=1, alpha_ph=0, mu=800e-3,\n",
    "                      bias_voltage=0, N=2, silent=False, T_C=77.)\n",
    "\n",
    "data_dict_200_2 = populations_and_current_vs_voltage(PARAMS, x_scale=1.3)\n",
    "plot_voltage_current(data_dict_200_2, label='above-200meV')\n",
    "\n",
    "PARAMS = PARAMS_setup(valence_energy=100e-3, binding_energy=0.2, radiative_lifetime=1, alpha_ph=0, mu=600e-3,\n",
    "                      bias_voltage=0, N=2, silent=False, T_C=77.)\n",
    "\n",
    "data_dict_200_3 = populations_and_current_vs_voltage(PARAMS, x_scale=1.3)\n",
    "plot_voltage_current(data_dict_200_3, label='below-200meV')\"\"\""
   ]
  },
  {
   "cell_type": "code",
   "execution_count": null,
   "metadata": {
    "collapsed": true
   },
   "outputs": [],
   "source": [
    "plt.plot(data_dict_200_1['bias_voltages'], data_dict_200_1['exciton_population'], label='exc')\n",
    "plt.plot(data_dict_200_1['bias_voltages'], data_dict_200_1['electron_population'], label='e')\n",
    "plt.plot(data_dict_200_1['bias_voltages'], data_dict_200_1['hole_population'], label='h')\n",
    "plt.legend()"
   ]
  },
  {
   "cell_type": "code",
   "execution_count": null,
   "metadata": {
    "collapsed": true
   },
   "outputs": [],
   "source": [
    "PARAMS = PARAMS_setup(valence_energy=100e-3, binding_energy=0.3, radiative_lifetime=1, alpha_ph=0, mu=700e-3,\n",
    "                      bias_voltage=0, N=2, silent=False, T_C=77.)\n",
    "\n",
    "data_dict_300_1 = populations_and_current_vs_voltage(PARAMS, x_scale=1.3)\n",
    "plot_voltage_current(data_dict_300_1, label='center-300meV')\n",
    "\n",
    "PARAMS = PARAMS_setup(valence_energy=100e-3, binding_energy=0.3, radiative_lifetime=1, alpha_ph=0, mu=800e-3,\n",
    "                      bias_voltage=0, N=2, silent=False, T_C=77.)\n",
    "\n",
    "data_dict_300_2 = populations_and_current_vs_voltage(PARAMS, x_scale=1.3)\n",
    "plot_voltage_current(data_dict_300_2, label='above-300meV')\n",
    "\n",
    "PARAMS = PARAMS_setup(valence_energy=100e-3, binding_energy=0.3, radiative_lifetime=1, alpha_ph=0, mu=600e-3,\n",
    "                      bias_voltage=0, N=2, silent=False, T_C=77.)\n",
    "\n",
    "data_dict_300_3 = populations_and_current_vs_voltage(PARAMS, x_scale=1.3)\n",
    "plot_voltage_current(data_dict_300_3, label='below-300meV')"
   ]
  },
  {
   "cell_type": "code",
   "execution_count": null,
   "metadata": {
    "collapsed": true
   },
   "outputs": [],
   "source": [
    "data_dict_100_ph1.keys()"
   ]
  },
  {
   "cell_type": "code",
   "execution_count": null,
   "metadata": {
    "collapsed": true
   },
   "outputs": [],
   "source": [
    "plt.plot(data_dict_100_ph1['bias_voltages'], data_dict_100_ph1['exciton_population'])\n",
    "plt.plot(data_dict_100_ph1['bias_voltages'], data_dict_100_ph1['electron_population'])\n",
    "plt.plot(data_dict_100_ph1['bias_voltages'], data_dict_100_ph1['hole_population'])"
   ]
  },
  {
   "cell_type": "markdown",
   "metadata": {},
   "source": [
    "## Analytical results"
   ]
  },
  {
   "cell_type": "code",
   "execution_count": null,
   "metadata": {
    "collapsed": true
   },
   "outputs": [],
   "source": [
    "def CS_analytical_current(PARAMS):\n",
    "    Gamma_Ldown, Gamma_Lup, Gamma_Rdown, Gamma_Rup = FL.leads_rates(PARAMS)\n",
    "    Gamma_downEM, Gamma_upEM = EM.EM_rates(PARAMS)\n",
    "    Gamma_downEM*=2\n",
    "    Gamma_upEM*=2\n",
    "    \n",
    "    numer = 2*(Gamma_Ldown+Gamma_Lup+Gamma_Rdown+Gamma_Rup)\n",
    "    numer*=(Gamma_downEM*Gamma_Ldown*Gamma_Rup-Gamma_Lup*Gamma_Rdown*Gamma_upEM)\n",
    "    denom = (Gamma_Ldown+Gamma_Lup)*(Gamma_Rdown+Gamma_Rup)*(Gamma_Ldown+Gamma_Lup+Gamma_Rdown+Gamma_Rup)\n",
    "    denom += Gamma_downEM*(Gamma_Ldown**2+(Gamma_Rup+Gamma_Lup)*(Gamma_Rdown+Gamma_Rup)+Gamma_Ldown*(Gamma_Lup+Gamma_Rdown+Gamma_Rup))\n",
    "    denom += (Gamma_Lup**2+Gamma_Lup*(Gamma_Rdown+Gamma_Rup)+Gamma_Rdown*(Gamma_Rdown+Gamma_Rup)+Gamma_Ldown*(Gamma_Lup+Gamma_Rdown+Gamma_Rup))*Gamma_upEM\n",
    "    return -numer/denom\n",
    "\n",
    "def rate_analytical_current():\n",
    "    numer = Gamma_downalpha*Gamma_downbeta*Gamma_downI*Gamma_upEM\n",
    "    numer-= Gamma_downEM*Gamma_upalpha*Gamma_upbeta*Gamma_upI\n",
    "    denom = (Gamma_downI+Gamma_upalpha)*(Gamma_downEM*Gamma_upbeta + Gamma_downbeta*(Gamma_downEM+Gamma_upEM))\n",
    "    denom = Gamma_downEM*(Gamma_upalpha+Gamma_upbeta)\n",
    "    #nenom = Gamma_downalpha*Gamma_downbeta*Gamma_downI+Gamma_upEM+(Gamma_downI+Gamma_upI) (\\Gamma _{\\text{upC$\\beta $}}+\\Gamma _{\\text{upEM}}\\right)\\right)+\\left(\\Gamma _{\\text{downI}}+\\Gamma _{\\text{upC$\\alpha $}}\\right) \\left(\\Gamma _{\\text{downC$\\beta $}} \\left(\\Gamma _{\\text{downEM}}+\\Gamma _{\\text{upEM}}\\right)+\\Gamma _{\\text{downEM}} \\Gamma _{\\text{upC$\\beta $}}\\right)+\\Gamma _{\\text{upI}} \\left(\\Gamma _{\\text{downEM}} \\left(\\Gamma _{\\text{upC$\\alpha $}}+\\Gamma _{\\text{upC$\\beta $}}\\right)+\\Gamma _{\\text{upC$\\alpha $}} \\left(\\Gamma _{\\text{upC$\\beta $}}+\\Gamma _{\\text{upEM}}\\right)\\right)}\n",
    "\n",
    "PARAMS = PARAMS_setup(valence_energy=100e-3, binding_energy=0.0, radiative_lifetime=1, alpha_ph=0, mu=700e-3,\n",
    "                      bias_voltage=2, N=2, silent=False, T_C=77.)\n",
    "#Gamma_Ldown, Gamma_Lup, Gamma_Rdown, Gamma_Rup, Gamma_downEM, Gamma_upEM  = get_rates(PARAMS)\n",
    "print(print_PARAMS(PARAMS))\n",
    "print (CS_analytical_current(PARAMS))\n",
    "print(get_photovoltaic_summary(data_dict_no_BE))"
   ]
  },
  {
   "cell_type": "markdown",
   "metadata": {},
   "source": [
    "# Phonons"
   ]
  },
  {
   "cell_type": "code",
   "execution_count": null,
   "metadata": {
    "collapsed": true,
    "scrolled": false
   },
   "outputs": [],
   "source": [
    "PARAMS = PARAMS_setup(valence_energy=100e-3, binding_energy=0.1, radiative_lifetime=1, alpha_ph=1e-3,\n",
    "                      mu=700e-3, bias_voltage=0, N=6, silent=False, T_C=77.)\n",
    "data_dict_100_ph1 = populations_and_current_vs_voltage(PARAMS, x_scale=1.3, num_voltages=55)\n",
    "plot_voltage_current(data_dict_100_ph1, label='')\n",
    "\n",
    "get_photovoltaic_summary(data_dict_100_ph1)"
   ]
  },
  {
   "cell_type": "code",
   "execution_count": null,
   "metadata": {
    "collapsed": true
   },
   "outputs": [],
   "source": [
    "PARAMS = PARAMS_setup(valence_energy=100e-3, binding_energy=0.1, radiative_lifetime=1, alpha_ph=10e-3,\n",
    "                      mu=700e-3, bias_voltage=0, N=8, silent=False, T_C=77.)\n",
    "data_dict_100_ph2 = populations_and_current_vs_voltage(PARAMS, x_scale=1.3, num_voltages=90)\n",
    "plot_voltage_current(data_dict_100_ph2, label='')\n",
    "get_photovoltaic_summary(data_dict_100_ph2)"
   ]
  },
  {
   "cell_type": "code",
   "execution_count": null,
   "metadata": {
    "collapsed": true
   },
   "outputs": [],
   "source": [
    "PARAMS = PARAMS_setup(valence_energy=100e-3, binding_energy=0.1, radiative_lifetime=1, alpha_ph=100e-3,\n",
    "                      mu=700e-3, bias_voltage=0, N=11, silent=False, T_C=77.)\n",
    "data_dict_100_ph3 = populations_and_current_vs_voltage(PARAMS, x_scale=1.3, num_voltages=110)\n",
    "plot_voltage_current(data_dict_100_ph3, label='')\n",
    "get_photovoltaic_summary(data_dict_100_ph3)"
   ]
  },
  {
   "cell_type": "code",
   "execution_count": null,
   "metadata": {
    "collapsed": true
   },
   "outputs": [],
   "source": [
    "print(data_dict_100_ph1['bias_voltages'][np.argmax(power_values_from_dict(data_dict_100_ph1))])\n",
    "print(data_dict_100_ph2['bias_voltages'][np.argmax(power_values_from_dict(data_dict_100_ph2))])\n",
    "print(data_dict_100_ph3['bias_voltages'][np.argmax(power_values_from_dict(data_dict_100_ph3))])"
   ]
  },
  {
   "cell_type": "markdown",
   "metadata": {},
   "source": [
    "The voltage at maximum power decreases as phonon-coupling increases. "
   ]
  },
  {
   "cell_type": "code",
   "execution_count": null,
   "metadata": {
    "collapsed": true
   },
   "outputs": [],
   "source": [
    "print(get_photovoltaic_summary(data_dict_100_ph1))\n",
    "print(get_photovoltaic_summary(data_dict_100_ph2))\n",
    "print(get_photovoltaic_summary(data_dict_100_ph3))"
   ]
  },
  {
   "cell_type": "code",
   "execution_count": null,
   "metadata": {
    "collapsed": true
   },
   "outputs": [],
   "source": [
    "PARAMS = PARAMS_setup(valence_energy=100e-3, binding_energy=0.1, radiative_lifetime=1, alpha_ph=100e-3,\n",
    "                      mu=700e-3, bias_voltage=0, N=16, silent=False, T_C=300.)\n",
    "data_dict_test = populations_and_current_vs_voltage(PARAMS, x_range=[0.6,1.5], num_voltages=30)\n"
   ]
  },
  {
   "cell_type": "code",
   "execution_count": null,
   "metadata": {
    "collapsed": true
   },
   "outputs": [],
   "source": [
    "print(get_photovoltaic_summary(data_dict_test))"
   ]
  },
  {
   "cell_type": "code",
   "execution_count": null,
   "metadata": {
    "collapsed": true
   },
   "outputs": [],
   "source": [
    "plot_voltage_current(data_dict_test, plot_CC=False)"
   ]
  },
  {
   "cell_type": "code",
   "execution_count": null,
   "metadata": {
    "collapsed": true
   },
   "outputs": [],
   "source": [
    "print(get_photovoltaic_summary(data_dict_test))"
   ]
  },
  {
   "cell_type": "code",
   "execution_count": null,
   "metadata": {
    "collapsed": true
   },
   "outputs": [],
   "source": [
    "plot_voltage_current(data_dict_test, label='')"
   ]
  },
  {
   "cell_type": "markdown",
   "metadata": {},
   "source": [
    "# Photovoltaic performance with respect to phonons"
   ]
  },
  {
   "cell_type": "code",
   "execution_count": 9,
   "metadata": {
    "collapsed": true
   },
   "outputs": [],
   "source": [
    "def photovoltaic_performance_phonons(label='test', num_alpha=25, num_voltages=25, \n",
    "                                     valence_energy=100e-3, binding_energy=0.1, \n",
    "                                     radiative_lifetime=1, mu=700e-3, \n",
    "                                     N_max=13, T_C=300., alpha_max=100e-3):\n",
    "    N_values = [int(n) for n in np.linspace(7, N_max, num_alpha)]\n",
    "    print(N_values)\n",
    "    alpha_values = np.linspace(0, alpha_max, num_alpha)\n",
    "    pvpd_list = []\n",
    "    for alpha_ph, N in zip(alpha_values, N_values):\n",
    "        PARAMS = PARAMS_setup(valence_energy=valence_energy, binding_energy=binding_energy, \n",
    "                          radiative_lifetime=radiative_lifetime, alpha_ph=alpha_ph, mu=mu, \n",
    "                          bias_voltage=0, N=N, silent=False, T_C=T_C)\n",
    "        dd = populations_and_current_vs_voltage(PARAMS, x_range=[0.8,1.5], num_voltages=num_voltages)\n",
    "        pvpd_list.append(get_photovoltaic_summary(dd))\n",
    "    save_obj({\"alpha_values\" : alpha_values,\n",
    "              \"pvpd_list\": pvpd_list}, \"DATA/pvp/\"+label)\n",
    "    return alpha_values, pvpd_list\n",
    "\n",
    "\n",
    "# \"fill_factor\", \"V_OC\" , \"I_SC\", \"P_max\", \"P_theoretical_max\", \"V_at_max_P\"\n",
    "\n",
    "def plot_performance(alpha_values, pvpd_list, metric=\"P_max\"):\n",
    "    plt.figure()\n",
    "    av_meV = alpha_values*10e2 # convert to meV\n",
    "    metric_array = np.array([perf_dict[metric] for perf_dict in pvpd_list])\n",
    "    plt.plot(av_meV, metric_array)\n",
    "    plt.xlim(av_meV[0], av_meV[-1])\n"
   ]
  },
  {
   "cell_type": "code",
   "execution_count": 16,
   "metadata": {},
   "outputs": [
    {
     "name": "stdout",
     "output_type": "stream",
     "text": [
      "[5, 5, 5, 5, 5, 5, 6, 6, 6, 6, 6, 6, 7, 7, 7, 7, 7, 7, 8, 8, 8, 8, 8, 8, 9, 9, 9, 9, 9, 9, 10, 10, 10, 10, 10, 11, 11, 11, 11, 11, 11, 12, 12, 12, 12, 12, 12, 13, 13, 13, 13, 13, 13, 14, 14, 14, 14, 14, 14, 15, 15, 15, 15, 15, 15, 16, 16, 16, 16, 16, 17, 17, 17, 17, 17, 17, 18, 18, 18, 18, 18, 18, 19, 19, 19, 19, 19, 19, 20, 20, 20, 20, 20, 20, 21, 21, 21, 21, 21, 22]\n",
      "Phonon occupation: 0.17. Phonon thermal energy is 208.50. Phonon SD peak is 0.00. V=0.0. N=5.\n",
      "C-V data calculated in 22.4 seconds\n",
      "Phonon occupation: 0.17. Phonon thermal energy is 208.50. Phonon SD peak is 0.00. V=0.0. N=5.\n",
      "C-V data calculated in 28.1 seconds\n",
      "Phonon occupation: 0.17. Phonon thermal energy is 208.50. Phonon SD peak is 0.00. V=0.0. N=5.\n",
      "C-V data calculated in 28.0 seconds\n",
      "Phonon occupation: 0.17. Phonon thermal energy is 208.50. Phonon SD peak is 0.00. V=0.0. N=5.\n",
      "C-V data calculated in 28.1 seconds\n",
      "Phonon occupation: 0.17. Phonon thermal energy is 208.50. Phonon SD peak is 0.00. V=0.0. N=5.\n",
      "C-V data calculated in 28.1 seconds\n",
      "Phonon occupation: 0.17. Phonon thermal energy is 208.50. Phonon SD peak is 0.00. V=0.0. N=5.\n",
      "C-V data calculated in 28.0 seconds\n",
      "Phonon occupation: 0.17. Phonon thermal energy is 208.50. Phonon SD peak is 0.00. V=0.0. N=6.\n",
      "C-V data calculated in 40.3 seconds\n",
      "Phonon occupation: 0.17. Phonon thermal energy is 208.50. Phonon SD peak is 0.00. V=0.0. N=6.\n",
      "C-V data calculated in 40.3 seconds\n",
      "Phonon occupation: 0.17. Phonon thermal energy is 208.50. Phonon SD peak is 0.00. V=0.0. N=6.\n",
      "C-V data calculated in 40.2 seconds\n",
      "Phonon occupation: 0.17. Phonon thermal energy is 208.50. Phonon SD peak is 0.00. V=0.0. N=6.\n",
      "C-V data calculated in 40.4 seconds\n",
      "Phonon occupation: 0.17. Phonon thermal energy is 208.50. Phonon SD peak is 0.00. V=0.0. N=6.\n",
      "C-V data calculated in 40.2 seconds\n",
      "Phonon occupation: 0.17. Phonon thermal energy is 208.50. Phonon SD peak is 0.00. V=0.0. N=6.\n",
      "C-V data calculated in 40.2 seconds\n",
      "Phonon occupation: 0.17. Phonon thermal energy is 208.50. Phonon SD peak is 0.00. V=0.0. N=7.\n",
      "C-V data calculated in 55.2 seconds\n",
      "Phonon occupation: 0.17. Phonon thermal energy is 208.50. Phonon SD peak is 0.00. V=0.0. N=7.\n",
      "C-V data calculated in 55.0 seconds\n",
      "Phonon occupation: 0.17. Phonon thermal energy is 208.50. Phonon SD peak is 0.00. V=0.0. N=7.\n",
      "C-V data calculated in 54.9 seconds\n",
      "Phonon occupation: 0.17. Phonon thermal energy is 208.50. Phonon SD peak is 0.00. V=0.0. N=7.\n",
      "C-V data calculated in 54.9 seconds\n",
      "Phonon occupation: 0.17. Phonon thermal energy is 208.50. Phonon SD peak is 0.00. V=0.0. N=7.\n",
      "C-V data calculated in 55.2 seconds\n",
      "Phonon occupation: 0.17. Phonon thermal energy is 208.50. Phonon SD peak is 0.00. V=0.0. N=7.\n",
      "C-V data calculated in 54.8 seconds\n",
      "Phonon occupation: 0.17. Phonon thermal energy is 208.50. Phonon SD peak is 0.00. V=0.0. N=8.\n",
      "C-V data calculated in 79.5 seconds\n",
      "Phonon occupation: 0.17. Phonon thermal energy is 208.50. Phonon SD peak is 0.00. V=0.0. N=8.\n",
      "C-V data calculated in 79.5 seconds\n",
      "Phonon occupation: 0.17. Phonon thermal energy is 208.50. Phonon SD peak is 0.00. V=0.0. N=8.\n",
      "C-V data calculated in 79.6 seconds\n",
      "Phonon occupation: 0.17. Phonon thermal energy is 208.50. Phonon SD peak is 0.00. V=0.0. N=8.\n",
      "C-V data calculated in 79.2 seconds\n",
      "Phonon occupation: 0.17. Phonon thermal energy is 208.50. Phonon SD peak is 0.00. V=0.0. N=8.\n",
      "C-V data calculated in 79.1 seconds\n",
      "Phonon occupation: 0.17. Phonon thermal energy is 208.50. Phonon SD peak is 0.00. V=0.0. N=8.\n",
      "C-V data calculated in 79.5 seconds\n",
      "Phonon occupation: 0.17. Phonon thermal energy is 208.50. Phonon SD peak is 0.00. V=0.0. N=9.\n",
      "C-V data calculated in 104.1 seconds\n",
      "Phonon occupation: 0.17. Phonon thermal energy is 208.50. Phonon SD peak is 0.00. V=0.0. N=9.\n",
      "C-V data calculated in 104.4 seconds\n",
      "Phonon occupation: 0.17. Phonon thermal energy is 208.50. Phonon SD peak is 0.00. V=0.0. N=9.\n",
      "C-V data calculated in 104.5 seconds\n",
      "Phonon occupation: 0.17. Phonon thermal energy is 208.50. Phonon SD peak is 0.00. V=0.0. N=9.\n",
      "C-V data calculated in 104.5 seconds\n",
      "Phonon occupation: 0.17. Phonon thermal energy is 208.50. Phonon SD peak is 0.00. V=0.0. N=9.\n",
      "C-V data calculated in 104.3 seconds\n",
      "Phonon occupation: 0.17. Phonon thermal energy is 208.50. Phonon SD peak is 0.00. V=0.0. N=9.\n",
      "C-V data calculated in 104.1 seconds\n",
      "Phonon occupation: 0.17. Phonon thermal energy is 208.50. Phonon SD peak is 0.00. V=0.0. N=10.\n",
      "C-V data calculated in 133.4 seconds\n",
      "Phonon occupation: 0.17. Phonon thermal energy is 208.50. Phonon SD peak is 0.00. V=0.0. N=10.\n",
      "C-V data calculated in 133.4 seconds\n",
      "Phonon occupation: 0.17. Phonon thermal energy is 208.50. Phonon SD peak is 0.00. V=0.0. N=10.\n",
      "C-V data calculated in 133.4 seconds\n",
      "Phonon occupation: 0.17. Phonon thermal energy is 208.50. Phonon SD peak is 0.00. V=0.0. N=10.\n",
      "C-V data calculated in 133.4 seconds\n",
      "Phonon occupation: 0.17. Phonon thermal energy is 208.50. Phonon SD peak is 0.00. V=0.0. N=10.\n",
      "C-V data calculated in 133.3 seconds\n",
      "Phonon occupation: 0.17. Phonon thermal energy is 208.50. Phonon SD peak is 0.00. V=0.0. N=11.\n",
      "C-V data calculated in 168.4 seconds\n",
      "Phonon occupation: 0.17. Phonon thermal energy is 208.50. Phonon SD peak is 0.00. V=0.0. N=11.\n",
      "C-V data calculated in 169.1 seconds\n",
      "Phonon occupation: 0.17. Phonon thermal energy is 208.50. Phonon SD peak is 0.00. V=0.0. N=11.\n",
      "C-V data calculated in 168.6 seconds\n",
      "Phonon occupation: 0.17. Phonon thermal energy is 208.50. Phonon SD peak is 0.00. V=0.0. N=11.\n",
      "C-V data calculated in 168.7 seconds\n",
      "Phonon occupation: 0.17. Phonon thermal energy is 208.50. Phonon SD peak is 0.00. V=0.0. N=11.\n",
      "C-V data calculated in 168.6 seconds\n",
      "Phonon occupation: 0.17. Phonon thermal energy is 208.50. Phonon SD peak is 0.00. V=0.0. N=11.\n",
      "C-V data calculated in 168.5 seconds\n",
      "Phonon occupation: 0.17. Phonon thermal energy is 208.50. Phonon SD peak is 0.00. V=0.0. N=12.\n",
      "C-V data calculated in 209.7 seconds\n",
      "Phonon occupation: 0.17. Phonon thermal energy is 208.50. Phonon SD peak is 0.00. V=0.0. N=12.\n",
      "C-V data calculated in 210.4 seconds\n",
      "Phonon occupation: 0.17. Phonon thermal energy is 208.50. Phonon SD peak is 0.00. V=0.0. N=12.\n",
      "C-V data calculated in 210.7 seconds\n",
      "Phonon occupation: 0.17. Phonon thermal energy is 208.50. Phonon SD peak is 0.00. V=0.0. N=12.\n",
      "C-V data calculated in 210.7 seconds\n",
      "Phonon occupation: 0.17. Phonon thermal energy is 208.50. Phonon SD peak is 0.00. V=0.0. N=12.\n",
      "C-V data calculated in 210.1 seconds\n",
      "Phonon occupation: 0.17. Phonon thermal energy is 208.50. Phonon SD peak is 0.00. V=0.0. N=12.\n",
      "C-V data calculated in 210.4 seconds\n",
      "Phonon occupation: 0.17. Phonon thermal energy is 208.50. Phonon SD peak is 0.00. V=0.0. N=13.\n",
      "C-V data calculated in 260.2 seconds\n",
      "Phonon occupation: 0.17. Phonon thermal energy is 208.50. Phonon SD peak is 0.00. V=0.0. N=13.\n",
      "C-V data calculated in 260.0 seconds\n",
      "Phonon occupation: 0.17. Phonon thermal energy is 208.50. Phonon SD peak is 0.00. V=0.0. N=13.\n",
      "C-V data calculated in 259.9 seconds\n",
      "Phonon occupation: 0.17. Phonon thermal energy is 208.50. Phonon SD peak is 0.00. V=0.0. N=13.\n",
      "C-V data calculated in 259.3 seconds\n",
      "Phonon occupation: 0.17. Phonon thermal energy is 208.50. Phonon SD peak is 0.00. V=0.0. N=13.\n",
      "C-V data calculated in 258.5 seconds\n",
      "Phonon occupation: 0.17. Phonon thermal energy is 208.50. Phonon SD peak is 0.00. V=0.0. N=13.\n",
      "C-V data calculated in 259.4 seconds\n",
      "Phonon occupation: 0.17. Phonon thermal energy is 208.50. Phonon SD peak is 0.00. V=0.0. N=14.\n",
      "C-V data calculated in 320.5 seconds\n",
      "Phonon occupation: 0.17. Phonon thermal energy is 208.50. Phonon SD peak is 0.00. V=0.0. N=14.\n",
      "C-V data calculated in 321.0 seconds\n",
      "Phonon occupation: 0.17. Phonon thermal energy is 208.50. Phonon SD peak is 0.00. V=0.0. N=14.\n",
      "C-V data calculated in 321.4 seconds\n",
      "Phonon occupation: 0.17. Phonon thermal energy is 208.50. Phonon SD peak is 0.00. V=0.0. N=14.\n",
      "C-V data calculated in 321.9 seconds\n",
      "Phonon occupation: 0.17. Phonon thermal energy is 208.50. Phonon SD peak is 0.00. V=0.0. N=14.\n",
      "C-V data calculated in 320.6 seconds\n",
      "Phonon occupation: 0.17. Phonon thermal energy is 208.50. Phonon SD peak is 0.00. V=0.0. N=14.\n",
      "C-V data calculated in 319.6 seconds\n",
      "Phonon occupation: 0.17. Phonon thermal energy is 208.50. Phonon SD peak is 0.00. V=0.0. N=15.\n"
     ]
    },
    {
     "name": "stdout",
     "output_type": "stream",
     "text": [
      "C-V data calculated in 396.5 seconds\n",
      "Phonon occupation: 0.17. Phonon thermal energy is 208.50. Phonon SD peak is 0.00. V=0.0. N=15.\n",
      "C-V data calculated in 396.6 seconds\n",
      "Phonon occupation: 0.17. Phonon thermal energy is 208.50. Phonon SD peak is 0.00. V=0.0. N=15.\n",
      "C-V data calculated in 396.5 seconds\n",
      "Phonon occupation: 0.17. Phonon thermal energy is 208.50. Phonon SD peak is 0.00. V=0.0. N=15.\n",
      "C-V data calculated in 396.5 seconds\n",
      "Phonon occupation: 0.17. Phonon thermal energy is 208.50. Phonon SD peak is 0.00. V=0.0. N=15.\n",
      "C-V data calculated in 396.1 seconds\n",
      "Phonon occupation: 0.17. Phonon thermal energy is 208.50. Phonon SD peak is 0.00. V=0.0. N=15.\n",
      "C-V data calculated in 396.1 seconds\n",
      "Phonon occupation: 0.17. Phonon thermal energy is 208.50. Phonon SD peak is 0.00. V=0.0. N=16.\n",
      "C-V data calculated in 488.0 seconds\n",
      "Phonon occupation: 0.17. Phonon thermal energy is 208.50. Phonon SD peak is 0.00. V=0.0. N=16.\n",
      "C-V data calculated in 487.7 seconds\n",
      "Phonon occupation: 0.17. Phonon thermal energy is 208.50. Phonon SD peak is 0.00. V=0.0. N=16.\n",
      "C-V data calculated in 487.8 seconds\n",
      "Phonon occupation: 0.17. Phonon thermal energy is 208.50. Phonon SD peak is 0.00. V=0.0. N=16.\n",
      "C-V data calculated in 486.5 seconds\n",
      "Phonon occupation: 0.17. Phonon thermal energy is 208.50. Phonon SD peak is 0.00. V=0.0. N=16.\n",
      "C-V data calculated in 486.8 seconds\n",
      "Phonon occupation: 0.17. Phonon thermal energy is 208.50. Phonon SD peak is 0.00. V=0.0. N=17.\n",
      "C-V data calculated in 598.7 seconds\n",
      "Phonon occupation: 0.17. Phonon thermal energy is 208.50. Phonon SD peak is 0.00. V=0.0. N=17.\n",
      "C-V data calculated in 598.3 seconds\n",
      "Phonon occupation: 0.17. Phonon thermal energy is 208.50. Phonon SD peak is 0.00. V=0.0. N=17.\n",
      "C-V data calculated in 599.2 seconds\n",
      "Phonon occupation: 0.17. Phonon thermal energy is 208.50. Phonon SD peak is 0.00. V=0.0. N=17.\n",
      "C-V data calculated in 598.4 seconds\n",
      "Phonon occupation: 0.17. Phonon thermal energy is 208.50. Phonon SD peak is 0.00. V=0.0. N=17.\n",
      "C-V data calculated in 597.9 seconds\n",
      "Phonon occupation: 0.17. Phonon thermal energy is 208.50. Phonon SD peak is 0.00. V=0.0. N=17.\n",
      "C-V data calculated in 597.7 seconds\n",
      "Phonon occupation: 0.17. Phonon thermal energy is 208.50. Phonon SD peak is 0.00. V=0.0. N=18.\n",
      "C-V data calculated in 735.6 seconds\n",
      "Phonon occupation: 0.17. Phonon thermal energy is 208.50. Phonon SD peak is 0.00. V=0.0. N=18.\n",
      "C-V data calculated in 736.5 seconds\n",
      "Phonon occupation: 0.17. Phonon thermal energy is 208.50. Phonon SD peak is 0.00. V=0.0. N=18.\n",
      "C-V data calculated in 737.1 seconds\n",
      "Phonon occupation: 0.17. Phonon thermal energy is 208.50. Phonon SD peak is 0.00. V=0.0. N=18.\n",
      "C-V data calculated in 736.2 seconds\n",
      "Phonon occupation: 0.17. Phonon thermal energy is 208.50. Phonon SD peak is 0.00. V=0.0. N=18.\n",
      "C-V data calculated in 735.3 seconds\n",
      "Phonon occupation: 0.17. Phonon thermal energy is 208.50. Phonon SD peak is 0.00. V=0.0. N=18.\n",
      "C-V data calculated in 735.7 seconds\n",
      "Phonon occupation: 0.17. Phonon thermal energy is 208.50. Phonon SD peak is 0.00. V=0.0. N=19.\n",
      "C-V data calculated in 911.7 seconds\n",
      "Phonon occupation: 0.17. Phonon thermal energy is 208.50. Phonon SD peak is 0.00. V=0.0. N=19.\n",
      "C-V data calculated in 909.9 seconds\n",
      "Phonon occupation: 0.17. Phonon thermal energy is 208.50. Phonon SD peak is 0.00. V=0.0. N=19.\n",
      "C-V data calculated in 909.5 seconds\n",
      "Phonon occupation: 0.17. Phonon thermal energy is 208.50. Phonon SD peak is 0.00. V=0.0. N=19.\n",
      "C-V data calculated in 909.6 seconds\n",
      "Phonon occupation: 0.17. Phonon thermal energy is 208.50. Phonon SD peak is 0.00. V=0.0. N=19.\n",
      "C-V data calculated in 908.9 seconds\n",
      "Phonon occupation: 0.17. Phonon thermal energy is 208.50. Phonon SD peak is 0.00. V=0.0. N=19.\n",
      "C-V data calculated in 907.2 seconds\n",
      "Phonon occupation: 0.17. Phonon thermal energy is 208.50. Phonon SD peak is 0.00. V=0.0. N=20.\n",
      "C-V data calculated in 1128.2 seconds\n",
      "Phonon occupation: 0.17. Phonon thermal energy is 208.50. Phonon SD peak is 0.00. V=0.0. N=20.\n",
      "C-V data calculated in 1126.8 seconds\n",
      "Phonon occupation: 0.17. Phonon thermal energy is 208.50. Phonon SD peak is 0.00. V=0.0. N=20.\n",
      "C-V data calculated in 1127.2 seconds\n",
      "Phonon occupation: 0.17. Phonon thermal energy is 208.50. Phonon SD peak is 0.00. V=0.0. N=20.\n",
      "C-V data calculated in 1125.5 seconds\n",
      "Phonon occupation: 0.17. Phonon thermal energy is 208.50. Phonon SD peak is 0.00. V=0.0. N=20.\n",
      "C-V data calculated in 1127.9 seconds\n",
      "Phonon occupation: 0.17. Phonon thermal energy is 208.50. Phonon SD peak is 0.00. V=0.0. N=20.\n",
      "C-V data calculated in 1128.0 seconds\n",
      "Phonon occupation: 0.17. Phonon thermal energy is 208.50. Phonon SD peak is 0.00. V=0.0. N=21.\n",
      "C-V data calculated in 1386.6 seconds\n",
      "Phonon occupation: 0.17. Phonon thermal energy is 208.50. Phonon SD peak is 0.00. V=0.0. N=21.\n",
      "C-V data calculated in 1386.4 seconds\n",
      "Phonon occupation: 0.17. Phonon thermal energy is 208.50. Phonon SD peak is 0.00. V=0.0. N=21.\n",
      "C-V data calculated in 1394.9 seconds\n",
      "Phonon occupation: 0.17. Phonon thermal energy is 208.50. Phonon SD peak is 0.00. V=0.0. N=21.\n",
      "C-V data calculated in 1398.0 seconds\n",
      "Phonon occupation: 0.17. Phonon thermal energy is 208.50. Phonon SD peak is 0.00. V=0.0. N=21.\n",
      "C-V data calculated in 1391.7 seconds\n",
      "Phonon occupation: 0.17. Phonon thermal energy is 208.50. Phonon SD peak is 0.00. V=0.0. N=22.\n",
      "C-V data calculated in 1724.5 seconds\n"
     ]
    }
   ],
   "source": [
    "alpha_values, pvpd_list = photovoltaic_performance_phonons(label='T300_big', num_alpha=100, num_voltages=20, \n",
    "                                                valence_energy=100e-3, binding_energy=100e-3, \n",
    "                                                radiative_lifetime=1, mu=700e-3, \n",
    "                                                N_max=22, T_C=300., alpha_max=1000e-3)"
   ]
  },
  {
   "cell_type": "code",
   "execution_count": 17,
   "metadata": {},
   "outputs": [
    {
     "data": {
      "image/png": "[encoded data removed]",
      "text/plain": [
       "<Figure size 432x288 with 1 Axes>"
      ]
     },
     "metadata": {},
     "output_type": "display_data"
    },
    {
     "data": {
      "image/png": "[encoded data removed]",
      "text/plain": [
       "<Figure size 432x288 with 1 Axes>"
      ]
     },
     "metadata": {},
     "output_type": "display_data"
    },
    {
     "data": {
      "image/png": "[encoded data removed]",
      "text/plain": [
       "<Figure size 432x288 with 1 Axes>"
      ]
     },
     "metadata": {},
     "output_type": "display_data"
    }
   ],
   "source": [
    "plot_performance(alpha_values, pvpd_list, metric=\"fill_factor\")\n",
    "plot_performance(alpha_values, pvpd_list, metric=\"V_at_max_P\")\n",
    "plot_performance(alpha_values, pvpd_list, metric=\"P_max\")"
   ]
  },
  {
   "cell_type": "code",
   "execution_count": 10,
   "metadata": {
    "scrolled": true
   },
   "outputs": [
    {
     "name": "stdout",
     "output_type": "stream",
     "text": [
      "[7, 7, 7, 7, 7, 7, 7, 7, 8, 8, 8, 8, 8, 8, 8, 8, 9, 9, 9, 9, 9, 9, 9, 10, 10, 10, 10, 10, 10, 10, 10, 11, 11, 11, 11, 11, 11, 11, 11, 12, 12, 12, 12, 12, 12, 12, 13, 13, 13, 13, 13, 13, 13, 13, 14, 14, 14, 14, 14, 14, 14, 15, 15, 15, 15, 15, 15, 15, 15, 16, 16, 16, 16, 16, 16, 16, 16, 17, 17, 17, 17, 17, 17, 17, 18, 18, 18, 18, 18, 18, 18, 18, 19, 19, 19, 19, 19, 19, 19, 20]\n",
      "Phonon occupation: 0.17. Phonon thermal energy is 208.50. Phonon SD peak is 0.00. V=0.0. N=7.\n",
      "C-V data calculated in 50.9 seconds\n",
      "Phonon occupation: 0.17. Phonon thermal energy is 208.50. Phonon SD peak is 0.00. V=0.0. N=7.\n",
      "C-V data calculated in 63.4 seconds\n",
      "Phonon occupation: 0.17. Phonon thermal energy is 208.50. Phonon SD peak is 0.00. V=0.0. N=7.\n",
      "C-V data calculated in 67.3 seconds\n",
      "Phonon occupation: 0.17. Phonon thermal energy is 208.50. Phonon SD peak is 0.00. V=0.0. N=7.\n",
      "C-V data calculated in 62.7 seconds\n",
      "Phonon occupation: 0.17. Phonon thermal energy is 208.50. Phonon SD peak is 0.00. V=0.0. N=7.\n",
      "C-V data calculated in 59.4 seconds\n",
      "Phonon occupation: 0.17. Phonon thermal energy is 208.50. Phonon SD peak is 0.00. V=0.0. N=7.\n",
      "C-V data calculated in 65.7 seconds\n",
      "Phonon occupation: 0.17. Phonon thermal energy is 208.50. Phonon SD peak is 0.00. V=0.0. N=7.\n",
      "C-V data calculated in 64.6 seconds\n",
      "Phonon occupation: 0.17. Phonon thermal energy is 208.50. Phonon SD peak is 0.00. V=0.0. N=7.\n",
      "C-V data calculated in 63.6 seconds\n",
      "Phonon occupation: 0.17. Phonon thermal energy is 208.50. Phonon SD peak is 0.00. V=0.0. N=8.\n",
      "C-V data calculated in 86.3 seconds\n",
      "Phonon occupation: 0.17. Phonon thermal energy is 208.50. Phonon SD peak is 0.00. V=0.0. N=8.\n",
      "C-V data calculated in 86.1 seconds\n",
      "Phonon occupation: 0.17. Phonon thermal energy is 208.50. Phonon SD peak is 0.00. V=0.0. N=8.\n",
      "C-V data calculated in 89.3 seconds\n",
      "Phonon occupation: 0.17. Phonon thermal energy is 208.50. Phonon SD peak is 0.00. V=0.0. N=8.\n",
      "C-V data calculated in 86.4 seconds\n",
      "Phonon occupation: 0.17. Phonon thermal energy is 208.50. Phonon SD peak is 0.00. V=0.0. N=8.\n",
      "C-V data calculated in 86.3 seconds\n",
      "Phonon occupation: 0.17. Phonon thermal energy is 208.50. Phonon SD peak is 0.00. V=0.0. N=8.\n",
      "C-V data calculated in 85.6 seconds\n",
      "Phonon occupation: 0.17. Phonon thermal energy is 208.50. Phonon SD peak is 0.00. V=0.0. N=8.\n",
      "C-V data calculated in 88.1 seconds\n",
      "Phonon occupation: 0.17. Phonon thermal energy is 208.50. Phonon SD peak is 0.00. V=0.0. N=8.\n",
      "C-V data calculated in 86.5 seconds\n",
      "Phonon occupation: 0.17. Phonon thermal energy is 208.50. Phonon SD peak is 0.00. V=0.0. N=9.\n",
      "C-V data calculated in 115.1 seconds\n",
      "Phonon occupation: 0.17. Phonon thermal energy is 208.50. Phonon SD peak is 0.00. V=0.0. N=9.\n",
      "C-V data calculated in 114.4 seconds\n",
      "Phonon occupation: 0.17. Phonon thermal energy is 208.50. Phonon SD peak is 0.00. V=0.0. N=9.\n",
      "C-V data calculated in 113.8 seconds\n",
      "Phonon occupation: 0.17. Phonon thermal energy is 208.50. Phonon SD peak is 0.00. V=0.0. N=9.\n",
      "C-V data calculated in 114.1 seconds\n",
      "Phonon occupation: 0.17. Phonon thermal energy is 208.50. Phonon SD peak is 0.00. V=0.0. N=9.\n",
      "C-V data calculated in 116.2 seconds\n",
      "Phonon occupation: 0.17. Phonon thermal energy is 208.50. Phonon SD peak is 0.00. V=0.0. N=9.\n",
      "C-V data calculated in 115.1 seconds\n",
      "Phonon occupation: 0.17. Phonon thermal energy is 208.50. Phonon SD peak is 0.00. V=0.0. N=9.\n",
      "C-V data calculated in 114.4 seconds\n",
      "Phonon occupation: 0.17. Phonon thermal energy is 208.50. Phonon SD peak is 0.00. V=0.0. N=10.\n",
      "C-V data calculated in 150.5 seconds\n",
      "Phonon occupation: 0.17. Phonon thermal energy is 208.50. Phonon SD peak is 0.00. V=0.0. N=10.\n",
      "C-V data calculated in 147.5 seconds\n",
      "Phonon occupation: 0.17. Phonon thermal energy is 208.50. Phonon SD peak is 0.00. V=0.0. N=10.\n",
      "C-V data calculated in 147.0 seconds\n",
      "Phonon occupation: 0.17. Phonon thermal energy is 208.50. Phonon SD peak is 0.00. V=0.0. N=10.\n",
      "C-V data calculated in 147.5 seconds\n",
      "Phonon occupation: 0.17. Phonon thermal energy is 208.50. Phonon SD peak is 0.00. V=0.0. N=10.\n",
      "C-V data calculated in 147.6 seconds\n",
      "Phonon occupation: 0.17. Phonon thermal energy is 208.50. Phonon SD peak is 0.00. V=0.0. N=10.\n",
      "C-V data calculated in 147.6 seconds\n",
      "Phonon occupation: 0.17. Phonon thermal energy is 208.50. Phonon SD peak is 0.00. V=0.0. N=10.\n",
      "C-V data calculated in 147.6 seconds\n",
      "Phonon occupation: 0.17. Phonon thermal energy is 208.50. Phonon SD peak is 0.00. V=0.0. N=10.\n",
      "C-V data calculated in 147.9 seconds\n",
      "Phonon occupation: 0.17. Phonon thermal energy is 208.50. Phonon SD peak is 0.00. V=0.0. N=11.\n",
      "C-V data calculated in 189.6 seconds\n",
      "Phonon occupation: 0.17. Phonon thermal energy is 208.50. Phonon SD peak is 0.00. V=0.0. N=11.\n",
      "C-V data calculated in 189.5 seconds\n",
      "Phonon occupation: 0.17. Phonon thermal energy is 208.50. Phonon SD peak is 0.00. V=0.0. N=11.\n",
      "C-V data calculated in 189.5 seconds\n",
      "Phonon occupation: 0.17. Phonon thermal energy is 208.50. Phonon SD peak is 0.00. V=0.0. N=11.\n",
      "C-V data calculated in 189.4 seconds\n",
      "Phonon occupation: 0.17. Phonon thermal energy is 208.50. Phonon SD peak is 0.00. V=0.0. N=11.\n",
      "C-V data calculated in 189.3 seconds\n",
      "Phonon occupation: 0.17. Phonon thermal energy is 208.50. Phonon SD peak is 0.00. V=0.0. N=11.\n",
      "C-V data calculated in 189.4 seconds\n",
      "Phonon occupation: 0.17. Phonon thermal energy is 208.50. Phonon SD peak is 0.00. V=0.0. N=11.\n",
      "C-V data calculated in 190.7 seconds\n",
      "Phonon occupation: 0.17. Phonon thermal energy is 208.50. Phonon SD peak is 0.00. V=0.0. N=11.\n",
      "C-V data calculated in 189.7 seconds\n",
      "Phonon occupation: 0.17. Phonon thermal energy is 208.50. Phonon SD peak is 0.00. V=0.0. N=12.\n",
      "C-V data calculated in 241.8 seconds\n",
      "Phonon occupation: 0.17. Phonon thermal energy is 208.50. Phonon SD peak is 0.00. V=0.0. N=12.\n",
      "C-V data calculated in 241.5 seconds\n",
      "Phonon occupation: 0.17. Phonon thermal energy is 208.50. Phonon SD peak is 0.00. V=0.0. N=12.\n",
      "C-V data calculated in 240.4 seconds\n",
      "Phonon occupation: 0.17. Phonon thermal energy is 208.50. Phonon SD peak is 0.00. V=0.0. N=12.\n",
      "C-V data calculated in 240.8 seconds\n",
      "Phonon occupation: 0.17. Phonon thermal energy is 208.50. Phonon SD peak is 0.00. V=0.0. N=12.\n",
      "C-V data calculated in 242.2 seconds\n",
      "Phonon occupation: 0.17. Phonon thermal energy is 208.50. Phonon SD peak is 0.00. V=0.0. N=12.\n",
      "C-V data calculated in 243.3 seconds\n",
      "Phonon occupation: 0.17. Phonon thermal energy is 208.50. Phonon SD peak is 0.00. V=0.0. N=12.\n",
      "C-V data calculated in 242.7 seconds\n",
      "Phonon occupation: 0.17. Phonon thermal energy is 208.50. Phonon SD peak is 0.00. V=0.0. N=13.\n",
      "C-V data calculated in 309.0 seconds\n",
      "Phonon occupation: 0.17. Phonon thermal energy is 208.50. Phonon SD peak is 0.00. V=0.0. N=13.\n",
      "C-V data calculated in 309.2 seconds\n",
      "Phonon occupation: 0.17. Phonon thermal energy is 208.50. Phonon SD peak is 0.00. V=0.0. N=13.\n",
      "C-V data calculated in 309.6 seconds\n",
      "Phonon occupation: 0.17. Phonon thermal energy is 208.50. Phonon SD peak is 0.00. V=0.0. N=13.\n",
      "C-V data calculated in 309.8 seconds\n",
      "Phonon occupation: 0.17. Phonon thermal energy is 208.50. Phonon SD peak is 0.00. V=0.0. N=13.\n",
      "C-V data calculated in 310.3 seconds\n",
      "Phonon occupation: 0.17. Phonon thermal energy is 208.50. Phonon SD peak is 0.00. V=0.0. N=13.\n",
      "C-V data calculated in 310.7 seconds\n",
      "Phonon occupation: 0.17. Phonon thermal energy is 208.50. Phonon SD peak is 0.00. V=0.0. N=13.\n",
      "C-V data calculated in 311.4 seconds\n",
      "Phonon occupation: 0.17. Phonon thermal energy is 208.50. Phonon SD peak is 0.00. V=0.0. N=13.\n",
      "C-V data calculated in 311.2 seconds\n",
      "Phonon occupation: 0.17. Phonon thermal energy is 208.50. Phonon SD peak is 0.00. V=0.0. N=14.\n",
      "C-V data calculated in 393.6 seconds\n",
      "Phonon occupation: 0.17. Phonon thermal energy is 208.50. Phonon SD peak is 0.00. V=0.0. N=14.\n",
      "C-V data calculated in 394.6 seconds\n",
      "Phonon occupation: 0.17. Phonon thermal energy is 208.50. Phonon SD peak is 0.00. V=0.0. N=14.\n",
      "C-V data calculated in 391.3 seconds\n",
      "Phonon occupation: 0.17. Phonon thermal energy is 208.50. Phonon SD peak is 0.00. V=0.0. N=14.\n",
      "C-V data calculated in 391.6 seconds\n",
      "Phonon occupation: 0.17. Phonon thermal energy is 208.50. Phonon SD peak is 0.00. V=0.0. N=14.\n",
      "C-V data calculated in 392.3 seconds\n",
      "Phonon occupation: 0.17. Phonon thermal energy is 208.50. Phonon SD peak is 0.00. V=0.0. N=14.\n"
     ]
    },
    {
     "name": "stdout",
     "output_type": "stream",
     "text": [
      "C-V data calculated in 393.3 seconds\n",
      "Phonon occupation: 0.17. Phonon thermal energy is 208.50. Phonon SD peak is 0.00. V=0.0. N=14.\n",
      "C-V data calculated in 393.3 seconds\n",
      "Phonon occupation: 0.17. Phonon thermal energy is 208.50. Phonon SD peak is 0.00. V=0.0. N=15.\n",
      "C-V data calculated in 496.2 seconds\n",
      "Phonon occupation: 0.17. Phonon thermal energy is 208.50. Phonon SD peak is 0.00. V=0.0. N=15.\n",
      "C-V data calculated in 495.4 seconds\n",
      "Phonon occupation: 0.17. Phonon thermal energy is 208.50. Phonon SD peak is 0.00. V=0.0. N=15.\n",
      "C-V data calculated in 496.1 seconds\n",
      "Phonon occupation: 0.17. Phonon thermal energy is 208.50. Phonon SD peak is 0.00. V=0.0. N=15.\n",
      "C-V data calculated in 495.9 seconds\n",
      "Phonon occupation: 0.17. Phonon thermal energy is 208.50. Phonon SD peak is 0.00. V=0.0. N=15.\n",
      "C-V data calculated in 498.2 seconds\n",
      "Phonon occupation: 0.17. Phonon thermal energy is 208.50. Phonon SD peak is 0.00. V=0.0. N=15.\n",
      "C-V data calculated in 498.4 seconds\n",
      "Phonon occupation: 0.17. Phonon thermal energy is 208.50. Phonon SD peak is 0.00. V=0.0. N=15.\n",
      "C-V data calculated in 501.4 seconds\n",
      "Phonon occupation: 0.17. Phonon thermal energy is 208.50. Phonon SD peak is 0.00. V=0.0. N=15.\n",
      "C-V data calculated in 501.8 seconds\n",
      "Phonon occupation: 0.17. Phonon thermal energy is 208.50. Phonon SD peak is 0.00. V=0.0. N=16.\n",
      "C-V data calculated in 634.3 seconds\n",
      "Phonon occupation: 0.17. Phonon thermal energy is 208.50. Phonon SD peak is 0.00. V=0.0. N=16.\n",
      "C-V data calculated in 633.7 seconds\n",
      "Phonon occupation: 0.17. Phonon thermal energy is 208.50. Phonon SD peak is 0.00. V=0.0. N=16.\n",
      "C-V data calculated in 634.3 seconds\n",
      "Phonon occupation: 0.17. Phonon thermal energy is 208.50. Phonon SD peak is 0.00. V=0.0. N=16.\n",
      "C-V data calculated in 634.2 seconds\n",
      "Phonon occupation: 0.17. Phonon thermal energy is 208.50. Phonon SD peak is 0.00. V=0.0. N=16.\n",
      "C-V data calculated in 635.2 seconds\n",
      "Phonon occupation: 0.17. Phonon thermal energy is 208.50. Phonon SD peak is 0.00. V=0.0. N=16.\n",
      "C-V data calculated in 636.2 seconds\n",
      "Phonon occupation: 0.17. Phonon thermal energy is 208.50. Phonon SD peak is 0.00. V=0.0. N=16.\n",
      "C-V data calculated in 637.4 seconds\n",
      "Phonon occupation: 0.17. Phonon thermal energy is 208.50. Phonon SD peak is 0.00. V=0.0. N=16.\n",
      "C-V data calculated in 637.1 seconds\n",
      "Phonon occupation: 0.17. Phonon thermal energy is 208.50. Phonon SD peak is 0.00. V=0.0. N=17.\n",
      "C-V data calculated in 805.2 seconds\n",
      "Phonon occupation: 0.17. Phonon thermal energy is 208.50. Phonon SD peak is 0.00. V=0.0. N=17.\n",
      "C-V data calculated in 805.0 seconds\n",
      "Phonon occupation: 0.17. Phonon thermal energy is 208.50. Phonon SD peak is 0.00. V=0.0. N=17.\n",
      "C-V data calculated in 806.6 seconds\n",
      "Phonon occupation: 0.17. Phonon thermal energy is 208.50. Phonon SD peak is 0.00. V=0.0. N=17.\n",
      "C-V data calculated in 807.7 seconds\n",
      "Phonon occupation: 0.17. Phonon thermal energy is 208.50. Phonon SD peak is 0.00. V=0.0. N=17.\n",
      "C-V data calculated in 808.9 seconds\n",
      "Phonon occupation: 0.17. Phonon thermal energy is 208.50. Phonon SD peak is 0.00. V=0.0. N=17.\n",
      "C-V data calculated in 809.9 seconds\n",
      "Phonon occupation: 0.17. Phonon thermal energy is 208.50. Phonon SD peak is 0.00. V=0.0. N=17.\n",
      "C-V data calculated in 811.0 seconds\n",
      "Phonon occupation: 0.17. Phonon thermal energy is 208.50. Phonon SD peak is 0.00. V=0.0. N=18.\n",
      "C-V data calculated in 1105.7 seconds\n",
      "Phonon occupation: 0.17. Phonon thermal energy is 208.50. Phonon SD peak is 0.00. V=0.0. N=18.\n",
      "C-V data calculated in 1093.8 seconds\n",
      "Phonon occupation: 0.17. Phonon thermal energy is 208.50. Phonon SD peak is 0.00. V=0.0. N=18.\n",
      "C-V data calculated in 1061.8 seconds\n",
      "Phonon occupation: 0.17. Phonon thermal energy is 208.50. Phonon SD peak is 0.00. V=0.0. N=18.\n",
      "C-V data calculated in 1065.4 seconds\n",
      "Phonon occupation: 0.17. Phonon thermal energy is 208.50. Phonon SD peak is 0.00. V=0.0. N=18.\n",
      "C-V data calculated in 1063.3 seconds\n",
      "Phonon occupation: 0.17. Phonon thermal energy is 208.50. Phonon SD peak is 0.00. V=0.0. N=18.\n",
      "C-V data calculated in 1067.1 seconds\n",
      "Phonon occupation: 0.17. Phonon thermal energy is 208.50. Phonon SD peak is 0.00. V=0.0. N=18.\n",
      "C-V data calculated in 1064.6 seconds\n",
      "Phonon occupation: 0.17. Phonon thermal energy is 208.50. Phonon SD peak is 0.00. V=0.0. N=18.\n",
      "C-V data calculated in 1066.8 seconds\n",
      "Phonon occupation: 0.17. Phonon thermal energy is 208.50. Phonon SD peak is 0.00. V=0.0. N=19.\n",
      "C-V data calculated in 1350.2 seconds\n",
      "Phonon occupation: 0.17. Phonon thermal energy is 208.50. Phonon SD peak is 0.00. V=0.0. N=19.\n",
      "C-V data calculated in 1348.3 seconds\n",
      "Phonon occupation: 0.17. Phonon thermal energy is 208.50. Phonon SD peak is 0.00. V=0.0. N=19.\n",
      "C-V data calculated in 1349.6 seconds\n",
      "Phonon occupation: 0.17. Phonon thermal energy is 208.50. Phonon SD peak is 0.00. V=0.0. N=19.\n",
      "C-V data calculated in 1356.2 seconds\n",
      "Phonon occupation: 0.17. Phonon thermal energy is 208.50. Phonon SD peak is 0.00. V=0.0. N=19.\n",
      "C-V data calculated in 1356.9 seconds\n",
      "Phonon occupation: 0.17. Phonon thermal energy is 208.50. Phonon SD peak is 0.00. V=0.0. N=19.\n",
      "C-V data calculated in 1355.5 seconds\n",
      "Phonon occupation: 0.17. Phonon thermal energy is 208.50. Phonon SD peak is 0.00. V=0.0. N=19.\n",
      "C-V data calculated in 1354.2 seconds\n",
      "Phonon occupation: 0.17. Phonon thermal energy is 208.50. Phonon SD peak is 0.00. V=0.0. N=20.\n",
      "C-V data calculated in 1708.3 seconds\n"
     ]
    }
   ],
   "source": [
    "alpha_values, pvpd_list = photovoltaic_performance_phonons(label='T300_1', num_alpha=100, num_voltages=20, \n",
    "                                                valence_energy=100e-3, binding_energy=100e-3, \n",
    "                                                radiative_lifetime=1, mu=700e-3, \n",
    "                                                N_max=20, T_C=300.)"
   ]
  },
  {
   "cell_type": "code",
   "execution_count": 11,
   "metadata": {},
   "outputs": [
    {
     "data": {
      "image/png": "[encoded data removed]",
      "text/plain": [
       "<matplotlib.figure.Figure at 0x7fc0942b7f90>"
      ]
     },
     "metadata": {},
     "output_type": "display_data"
    },
    {
     "data": {
      "image/png": "[encoded data removed]",
      "text/plain": [
       "<matplotlib.figure.Figure at 0x7fc0a1982610>"
      ]
     },
     "metadata": {},
     "output_type": "display_data"
    },
    {
     "data": {
      "image/png": "[encoded data removed]",
      "text/plain": [
       "<matplotlib.figure.Figure at 0x7fc0a1a98210>"
      ]
     },
     "metadata": {},
     "output_type": "display_data"
    }
   ],
   "source": [
    "plot_performance(alpha_values, pvpd_list, metric=\"fill_factor\")\n",
    "plot_performance(alpha_values, pvpd_list, metric=\"V_at_max_P\")\n",
    "plot_performance(alpha_values, pvpd_list, metric=\"P_max\")"
   ]
  },
  {
   "cell_type": "code",
   "execution_count": 12,
   "metadata": {},
   "outputs": [
    {
     "name": "stdout",
     "output_type": "stream",
     "text": [
      "[7, 7, 7, 7, 7, 7, 7, 7, 8, 8, 8, 8, 8, 8, 8, 8, 9, 9, 9, 9, 9, 9, 9, 10, 10, 10, 10, 10, 10, 10, 10, 11, 11, 11, 11, 11, 11, 11, 11, 12, 12, 12, 12, 12, 12, 12, 13, 13, 13, 13, 13, 13, 13, 13, 14, 14, 14, 14, 14, 14, 14, 15, 15, 15, 15, 15, 15, 15, 15, 16, 16, 16, 16, 16, 16, 16, 16, 17, 17, 17, 17, 17, 17, 17, 18, 18, 18, 18, 18, 18, 18, 18, 19, 19, 19, 19, 19, 19, 19, 20]\n",
      "Phonon occupation: 0.06. Phonon thermal energy is 139.00. Phonon SD peak is 0.00. V=0.0. N=7.\n",
      "C-V data calculated in 55.2 seconds\n",
      "Phonon occupation: 0.06. Phonon thermal energy is 139.00. Phonon SD peak is 0.00. V=0.0. N=7.\n",
      "C-V data calculated in 71.3 seconds\n",
      "Phonon occupation: 0.06. Phonon thermal energy is 139.00. Phonon SD peak is 0.00. V=0.0. N=7.\n",
      "C-V data calculated in 71.4 seconds\n",
      "Phonon occupation: 0.06. Phonon thermal energy is 139.00. Phonon SD peak is 0.00. V=0.0. N=7.\n",
      "C-V data calculated in 71.6 seconds\n",
      "Phonon occupation: 0.06. Phonon thermal energy is 139.00. Phonon SD peak is 0.00. V=0.0. N=7.\n",
      "C-V data calculated in 72.2 seconds\n",
      "Phonon occupation: 0.06. Phonon thermal energy is 139.00. Phonon SD peak is 0.00. V=0.0. N=7.\n",
      "C-V data calculated in 72.1 seconds\n",
      "Phonon occupation: 0.06. Phonon thermal energy is 139.00. Phonon SD peak is 0.00. V=0.0. N=7.\n",
      "C-V data calculated in 72.5 seconds\n",
      "Phonon occupation: 0.06. Phonon thermal energy is 139.00. Phonon SD peak is 0.00. V=0.0. N=7.\n",
      "C-V data calculated in 72.2 seconds\n",
      "Phonon occupation: 0.06. Phonon thermal energy is 139.00. Phonon SD peak is 0.00. V=0.0. N=8.\n",
      "C-V data calculated in 105.3 seconds\n",
      "Phonon occupation: 0.06. Phonon thermal energy is 139.00. Phonon SD peak is 0.00. V=0.0. N=8.\n",
      "C-V data calculated in 105.2 seconds\n",
      "Phonon occupation: 0.06. Phonon thermal energy is 139.00. Phonon SD peak is 0.00. V=0.0. N=8.\n",
      "C-V data calculated in 105.6 seconds\n",
      "Phonon occupation: 0.06. Phonon thermal energy is 139.00. Phonon SD peak is 0.00. V=0.0. N=8.\n",
      "C-V data calculated in 106.2 seconds\n",
      "Phonon occupation: 0.06. Phonon thermal energy is 139.00. Phonon SD peak is 0.00. V=0.0. N=8.\n",
      "C-V data calculated in 106.7 seconds\n",
      "Phonon occupation: 0.06. Phonon thermal energy is 139.00. Phonon SD peak is 0.00. V=0.0. N=8.\n",
      "C-V data calculated in 106.6 seconds\n",
      "Phonon occupation: 0.06. Phonon thermal energy is 139.00. Phonon SD peak is 0.00. V=0.0. N=8.\n",
      "C-V data calculated in 106.9 seconds\n",
      "Phonon occupation: 0.06. Phonon thermal energy is 139.00. Phonon SD peak is 0.00. V=0.0. N=8.\n",
      "C-V data calculated in 106.8 seconds\n",
      "Phonon occupation: 0.06. Phonon thermal energy is 139.00. Phonon SD peak is 0.00. V=0.0. N=9.\n",
      "C-V data calculated in 142.6 seconds\n",
      "Phonon occupation: 0.06. Phonon thermal energy is 139.00. Phonon SD peak is 0.00. V=0.0. N=9.\n",
      "C-V data calculated in 143.1 seconds\n",
      "Phonon occupation: 0.06. Phonon thermal energy is 139.00. Phonon SD peak is 0.00. V=0.0. N=9.\n",
      "C-V data calculated in 142.7 seconds\n",
      "Phonon occupation: 0.06. Phonon thermal energy is 139.00. Phonon SD peak is 0.00. V=0.0. N=9.\n",
      "C-V data calculated in 143.1 seconds\n",
      "Phonon occupation: 0.06. Phonon thermal energy is 139.00. Phonon SD peak is 0.00. V=0.0. N=9.\n",
      "C-V data calculated in 142.9 seconds\n",
      "Phonon occupation: 0.06. Phonon thermal energy is 139.00. Phonon SD peak is 0.00. V=0.0. N=9.\n",
      "C-V data calculated in 143.0 seconds\n",
      "Phonon occupation: 0.06. Phonon thermal energy is 139.00. Phonon SD peak is 0.00. V=0.0. N=9.\n",
      "C-V data calculated in 143.0 seconds\n",
      "Phonon occupation: 0.06. Phonon thermal energy is 139.00. Phonon SD peak is 0.00. V=0.0. N=10.\n",
      "C-V data calculated in 185.6 seconds\n",
      "Phonon occupation: 0.06. Phonon thermal energy is 139.00. Phonon SD peak is 0.00. V=0.0. N=10.\n",
      "C-V data calculated in 184.9 seconds\n",
      "Phonon occupation: 0.06. Phonon thermal energy is 139.00. Phonon SD peak is 0.00. V=0.0. N=10.\n",
      "C-V data calculated in 184.9 seconds\n",
      "Phonon occupation: 0.06. Phonon thermal energy is 139.00. Phonon SD peak is 0.00. V=0.0. N=10.\n",
      "C-V data calculated in 185.6 seconds\n",
      "Phonon occupation: 0.06. Phonon thermal energy is 139.00. Phonon SD peak is 0.00. V=0.0. N=10.\n",
      "C-V data calculated in 187.2 seconds\n",
      "Phonon occupation: 0.06. Phonon thermal energy is 139.00. Phonon SD peak is 0.00. V=0.0. N=10.\n",
      "C-V data calculated in 187.0 seconds\n",
      "Phonon occupation: 0.06. Phonon thermal energy is 139.00. Phonon SD peak is 0.00. V=0.0. N=10.\n",
      "C-V data calculated in 186.2 seconds\n",
      "Phonon occupation: 0.06. Phonon thermal energy is 139.00. Phonon SD peak is 0.00. V=0.0. N=10.\n",
      "C-V data calculated in 186.5 seconds\n",
      "Phonon occupation: 0.06. Phonon thermal energy is 139.00. Phonon SD peak is 0.00. V=0.0. N=11.\n",
      "C-V data calculated in 239.0 seconds\n",
      "Phonon occupation: 0.06. Phonon thermal energy is 139.00. Phonon SD peak is 0.00. V=0.0. N=11.\n",
      "C-V data calculated in 239.4 seconds\n",
      "Phonon occupation: 0.06. Phonon thermal energy is 139.00. Phonon SD peak is 0.00. V=0.0. N=11.\n",
      "C-V data calculated in 238.7 seconds\n",
      "Phonon occupation: 0.06. Phonon thermal energy is 139.00. Phonon SD peak is 0.00. V=0.0. N=11.\n",
      "C-V data calculated in 239.0 seconds\n",
      "Phonon occupation: 0.06. Phonon thermal energy is 139.00. Phonon SD peak is 0.00. V=0.0. N=11.\n",
      "C-V data calculated in 238.9 seconds\n",
      "Phonon occupation: 0.06. Phonon thermal energy is 139.00. Phonon SD peak is 0.00. V=0.0. N=11.\n",
      "C-V data calculated in 239.0 seconds\n",
      "Phonon occupation: 0.06. Phonon thermal energy is 139.00. Phonon SD peak is 0.00. V=0.0. N=11.\n",
      "C-V data calculated in 239.3 seconds\n",
      "Phonon occupation: 0.06. Phonon thermal energy is 139.00. Phonon SD peak is 0.00. V=0.0. N=11.\n",
      "C-V data calculated in 239.0 seconds\n",
      "Phonon occupation: 0.06. Phonon thermal energy is 139.00. Phonon SD peak is 0.00. V=0.0. N=12.\n",
      "C-V data calculated in 305.6 seconds\n",
      "Phonon occupation: 0.06. Phonon thermal energy is 139.00. Phonon SD peak is 0.00. V=0.0. N=12.\n",
      "C-V data calculated in 304.8 seconds\n",
      "Phonon occupation: 0.06. Phonon thermal energy is 139.00. Phonon SD peak is 0.00. V=0.0. N=12.\n",
      "C-V data calculated in 305.4 seconds\n",
      "Phonon occupation: 0.06. Phonon thermal energy is 139.00. Phonon SD peak is 0.00. V=0.0. N=12.\n",
      "C-V data calculated in 305.5 seconds\n",
      "Phonon occupation: 0.06. Phonon thermal energy is 139.00. Phonon SD peak is 0.00. V=0.0. N=12.\n",
      "C-V data calculated in 305.8 seconds\n",
      "Phonon occupation: 0.06. Phonon thermal energy is 139.00. Phonon SD peak is 0.00. V=0.0. N=12.\n",
      "C-V data calculated in 305.6 seconds\n",
      "Phonon occupation: 0.06. Phonon thermal energy is 139.00. Phonon SD peak is 0.00. V=0.0. N=12.\n",
      "C-V data calculated in 306.1 seconds\n",
      "Phonon occupation: 0.06. Phonon thermal energy is 139.00. Phonon SD peak is 0.00. V=0.0. N=13.\n",
      "C-V data calculated in 390.0 seconds\n",
      "Phonon occupation: 0.06. Phonon thermal energy is 139.00. Phonon SD peak is 0.00. V=0.0. N=13.\n",
      "C-V data calculated in 398.8 seconds\n",
      "Phonon occupation: 0.06. Phonon thermal energy is 139.00. Phonon SD peak is 0.00. V=0.0. N=13.\n",
      "C-V data calculated in 390.9 seconds\n",
      "Phonon occupation: 0.06. Phonon thermal energy is 139.00. Phonon SD peak is 0.00. V=0.0. N=13.\n",
      "C-V data calculated in 390.6 seconds\n",
      "Phonon occupation: 0.06. Phonon thermal energy is 139.00. Phonon SD peak is 0.00. V=0.0. N=13.\n",
      "C-V data calculated in 413.8 seconds\n",
      "Phonon occupation: 0.06. Phonon thermal energy is 139.00. Phonon SD peak is 0.00. V=0.0. N=13.\n",
      "C-V data calculated in 408.7 seconds\n",
      "Phonon occupation: 0.06. Phonon thermal energy is 139.00. Phonon SD peak is 0.00. V=0.0. N=13.\n",
      "C-V data calculated in 393.3 seconds\n",
      "Phonon occupation: 0.06. Phonon thermal energy is 139.00. Phonon SD peak is 0.00. V=0.0. N=13.\n",
      "C-V data calculated in 392.0 seconds\n",
      "Phonon occupation: 0.06. Phonon thermal energy is 139.00. Phonon SD peak is 0.00. V=0.0. N=14.\n",
      "C-V data calculated in 512.4 seconds\n",
      "Phonon occupation: 0.06. Phonon thermal energy is 139.00. Phonon SD peak is 0.00. V=0.0. N=14.\n",
      "C-V data calculated in 509.9 seconds\n",
      "Phonon occupation: 0.06. Phonon thermal energy is 139.00. Phonon SD peak is 0.00. V=0.0. N=14.\n",
      "C-V data calculated in 504.2 seconds\n",
      "Phonon occupation: 0.06. Phonon thermal energy is 139.00. Phonon SD peak is 0.00. V=0.0. N=14.\n",
      "C-V data calculated in 503.8 seconds\n",
      "Phonon occupation: 0.06. Phonon thermal energy is 139.00. Phonon SD peak is 0.00. V=0.0. N=14.\n",
      "C-V data calculated in 504.5 seconds\n",
      "Phonon occupation: 0.06. Phonon thermal energy is 139.00. Phonon SD peak is 0.00. V=0.0. N=14.\n"
     ]
    },
    {
     "name": "stdout",
     "output_type": "stream",
     "text": [
      "C-V data calculated in 505.1 seconds\n",
      "Phonon occupation: 0.06. Phonon thermal energy is 139.00. Phonon SD peak is 0.00. V=0.0. N=14.\n",
      "C-V data calculated in 508.0 seconds\n",
      "Phonon occupation: 0.06. Phonon thermal energy is 139.00. Phonon SD peak is 0.00. V=0.0. N=15.\n",
      "C-V data calculated in 641.3 seconds\n",
      "Phonon occupation: 0.06. Phonon thermal energy is 139.00. Phonon SD peak is 0.00. V=0.0. N=15.\n",
      "C-V data calculated in 641.9 seconds\n",
      "Phonon occupation: 0.06. Phonon thermal energy is 139.00. Phonon SD peak is 0.00. V=0.0. N=15.\n",
      "C-V data calculated in 641.4 seconds\n",
      "Phonon occupation: 0.06. Phonon thermal energy is 139.00. Phonon SD peak is 0.00. V=0.0. N=15.\n",
      "C-V data calculated in 642.0 seconds\n",
      "Phonon occupation: 0.06. Phonon thermal energy is 139.00. Phonon SD peak is 0.00. V=0.0. N=15.\n",
      "C-V data calculated in 642.6 seconds\n",
      "Phonon occupation: 0.06. Phonon thermal energy is 139.00. Phonon SD peak is 0.00. V=0.0. N=15.\n",
      "C-V data calculated in 642.4 seconds\n",
      "Phonon occupation: 0.06. Phonon thermal energy is 139.00. Phonon SD peak is 0.00. V=0.0. N=15.\n",
      "C-V data calculated in 646.1 seconds\n",
      "Phonon occupation: 0.06. Phonon thermal energy is 139.00. Phonon SD peak is 0.00. V=0.0. N=15.\n",
      "C-V data calculated in 645.3 seconds\n",
      "Phonon occupation: 0.06. Phonon thermal energy is 139.00. Phonon SD peak is 0.00. V=0.0. N=16.\n",
      "C-V data calculated in 1025.7 seconds\n",
      "Phonon occupation: 0.06. Phonon thermal energy is 139.00. Phonon SD peak is 0.00. V=0.0. N=16.\n",
      "C-V data calculated in 1357.0 seconds\n",
      "Phonon occupation: 0.06. Phonon thermal energy is 139.00. Phonon SD peak is 0.00. V=0.0. N=16.\n",
      "C-V data calculated in 1406.7 seconds\n",
      "Phonon occupation: 0.06. Phonon thermal energy is 139.00. Phonon SD peak is 0.00. V=0.0. N=16.\n",
      "C-V data calculated in 1338.8 seconds\n",
      "Phonon occupation: 0.06. Phonon thermal energy is 139.00. Phonon SD peak is 0.00. V=0.0. N=16.\n",
      "C-V data calculated in 829.7 seconds\n",
      "Phonon occupation: 0.06. Phonon thermal energy is 139.00. Phonon SD peak is 0.00. V=0.0. N=16.\n",
      "C-V data calculated in 859.5 seconds\n",
      "Phonon occupation: 0.06. Phonon thermal energy is 139.00. Phonon SD peak is 0.00. V=0.0. N=16.\n",
      "C-V data calculated in 865.6 seconds\n",
      "Phonon occupation: 0.06. Phonon thermal energy is 139.00. Phonon SD peak is 0.00. V=0.0. N=16.\n",
      "C-V data calculated in 860.8 seconds\n",
      "Phonon occupation: 0.06. Phonon thermal energy is 139.00. Phonon SD peak is 0.00. V=0.0. N=17.\n",
      "C-V data calculated in 1094.2 seconds\n",
      "Phonon occupation: 0.06. Phonon thermal energy is 139.00. Phonon SD peak is 0.00. V=0.0. N=17.\n",
      "C-V data calculated in 1095.7 seconds\n",
      "Phonon occupation: 0.06. Phonon thermal energy is 139.00. Phonon SD peak is 0.00. V=0.0. N=17.\n",
      "C-V data calculated in 1100.3 seconds\n",
      "Phonon occupation: 0.06. Phonon thermal energy is 139.00. Phonon SD peak is 0.00. V=0.0. N=17.\n",
      "C-V data calculated in 1101.1 seconds\n",
      "Phonon occupation: 0.06. Phonon thermal energy is 139.00. Phonon SD peak is 0.00. V=0.0. N=17.\n",
      "C-V data calculated in 1102.5 seconds\n",
      "Phonon occupation: 0.06. Phonon thermal energy is 139.00. Phonon SD peak is 0.00. V=0.0. N=17.\n",
      "C-V data calculated in 1106.4 seconds\n",
      "Phonon occupation: 0.06. Phonon thermal energy is 139.00. Phonon SD peak is 0.00. V=0.0. N=17.\n",
      "C-V data calculated in 1100.7 seconds\n",
      "Phonon occupation: 0.06. Phonon thermal energy is 139.00. Phonon SD peak is 0.00. V=0.0. N=18.\n",
      "C-V data calculated in 1394.6 seconds\n",
      "Phonon occupation: 0.06. Phonon thermal energy is 139.00. Phonon SD peak is 0.00. V=0.0. N=18.\n",
      "C-V data calculated in 1400.5 seconds\n",
      "Phonon occupation: 0.06. Phonon thermal energy is 139.00. Phonon SD peak is 0.00. V=0.0. N=18.\n",
      "C-V data calculated in 1398.1 seconds\n",
      "Phonon occupation: 0.06. Phonon thermal energy is 139.00. Phonon SD peak is 0.00. V=0.0. N=18.\n",
      "C-V data calculated in 1393.5 seconds\n",
      "Phonon occupation: 0.06. Phonon thermal energy is 139.00. Phonon SD peak is 0.00. V=0.0. N=18.\n",
      "C-V data calculated in 1390.5 seconds\n",
      "Phonon occupation: 0.06. Phonon thermal energy is 139.00. Phonon SD peak is 0.00. V=0.0. N=18.\n",
      "C-V data calculated in 1393.1 seconds\n",
      "Phonon occupation: 0.06. Phonon thermal energy is 139.00. Phonon SD peak is 0.00. V=0.0. N=18.\n",
      "C-V data calculated in 1400.2 seconds\n",
      "Phonon occupation: 0.06. Phonon thermal energy is 139.00. Phonon SD peak is 0.00. V=0.0. N=18.\n",
      "C-V data calculated in 1396.5 seconds\n",
      "Phonon occupation: 0.06. Phonon thermal energy is 139.00. Phonon SD peak is 0.00. V=0.0. N=19.\n",
      "C-V data calculated in 1761.2 seconds\n",
      "Phonon occupation: 0.06. Phonon thermal energy is 139.00. Phonon SD peak is 0.00. V=0.0. N=19.\n",
      "C-V data calculated in 1762.8 seconds\n",
      "Phonon occupation: 0.06. Phonon thermal energy is 139.00. Phonon SD peak is 0.00. V=0.0. N=19.\n",
      "C-V data calculated in 1763.1 seconds\n",
      "Phonon occupation: 0.06. Phonon thermal energy is 139.00. Phonon SD peak is 0.00. V=0.0. N=19.\n",
      "C-V data calculated in 1771.0 seconds\n",
      "Phonon occupation: 0.06. Phonon thermal energy is 139.00. Phonon SD peak is 0.00. V=0.0. N=19.\n",
      "C-V data calculated in 1776.3 seconds\n",
      "Phonon occupation: 0.06. Phonon thermal energy is 139.00. Phonon SD peak is 0.00. V=0.0. N=19.\n",
      "C-V data calculated in 1774.6 seconds\n",
      "Phonon occupation: 0.06. Phonon thermal energy is 139.00. Phonon SD peak is 0.00. V=0.0. N=19.\n",
      "C-V data calculated in 1778.8 seconds\n",
      "Phonon occupation: 0.06. Phonon thermal energy is 139.00. Phonon SD peak is 0.00. V=0.0. N=20.\n",
      "C-V data calculated in 2238.6 seconds\n"
     ]
    }
   ],
   "source": [
    "alpha_values_200K, pvpd_list_200K = photovoltaic_performance_phonons(label='T200_1', num_alpha=100, \n",
    "                                                                     num_voltages=25, \n",
    "                                                valence_energy=100e-3, binding_energy=100e-3, \n",
    "                                                radiative_lifetime=1, mu=700e-3, \n",
    "                                                N_max=20, T_C=200.)"
   ]
  },
  {
   "cell_type": "code",
   "execution_count": 13,
   "metadata": {},
   "outputs": [
    {
     "data": {
      "image/png": "[encoded data removed]",
      "text/plain": [
       "<matplotlib.figure.Figure at 0x7fc069717110>"
      ]
     },
     "metadata": {},
     "output_type": "display_data"
    },
    {
     "data": {
      "image/png": "[encoded data removed]",
      "text/plain": [
       "<matplotlib.figure.Figure at 0x7fc0651e4950>"
      ]
     },
     "metadata": {},
     "output_type": "display_data"
    },
    {
     "data": {
      "image/png": "[encoded data removed]",
      "text/plain": [
       "<matplotlib.figure.Figure at 0x7fc065200910>"
      ]
     },
     "metadata": {},
     "output_type": "display_data"
    }
   ],
   "source": [
    "plot_performance(alpha_values_200K, pvpd_list_200K, metric=\"fill_factor\")\n",
    "plot_performance(alpha_values_200K, pvpd_list_200K, metric=\"V_at_max_P\")\n",
    "plot_performance(alpha_values_200K, pvpd_list_200K, metric=\"P_max\")"
   ]
  },
  {
   "cell_type": "code",
   "execution_count": 14,
   "metadata": {},
   "outputs": [
    {
     "name": "stdout",
     "output_type": "stream",
     "text": [
      "[7, 7, 7, 7, 7, 7, 7, 7, 8, 8, 8, 8, 8, 8, 8, 8, 9, 9, 9, 9, 9, 9, 9, 10, 10, 10, 10, 10, 10, 10, 10, 11, 11, 11, 11, 11, 11, 11, 11, 12, 12, 12, 12, 12, 12, 12, 13, 13, 13, 13, 13, 13, 13, 13, 14, 14, 14, 14, 14, 14, 14, 15, 15, 15, 15, 15, 15, 15, 15, 16, 16, 16, 16, 16, 16, 16, 16, 17, 17, 17, 17, 17, 17, 17, 18, 18, 18, 18, 18, 18, 18, 18, 19, 19, 19, 19, 19, 19, 19, 20]\n",
      "Phonon occupation: 0.17. Phonon thermal energy is 208.50. Phonon SD peak is 0.00. V=0.0. N=7.\n",
      "C-V data calculated in 45.5 seconds\n",
      "Phonon occupation: 0.17. Phonon thermal energy is 208.50. Phonon SD peak is 0.00. V=0.0. N=7.\n",
      "C-V data calculated in 59.7 seconds\n",
      "Phonon occupation: 0.17. Phonon thermal energy is 208.50. Phonon SD peak is 0.00. V=0.0. N=7.\n",
      "C-V data calculated in 59.7 seconds\n",
      "Phonon occupation: 0.17. Phonon thermal energy is 208.50. Phonon SD peak is 0.00. V=0.0. N=7.\n",
      "C-V data calculated in 60.0 seconds\n",
      "Phonon occupation: 0.17. Phonon thermal energy is 208.50. Phonon SD peak is 0.00. V=0.0. N=7.\n",
      "C-V data calculated in 60.0 seconds\n",
      "Phonon occupation: 0.17. Phonon thermal energy is 208.50. Phonon SD peak is 0.00. V=0.0. N=7.\n",
      "C-V data calculated in 60.0 seconds\n",
      "Phonon occupation: 0.17. Phonon thermal energy is 208.50. Phonon SD peak is 0.00. V=0.0. N=7.\n",
      "C-V data calculated in 60.2 seconds\n",
      "Phonon occupation: 0.17. Phonon thermal energy is 208.50. Phonon SD peak is 0.00. V=0.0. N=7.\n",
      "C-V data calculated in 60.0 seconds\n",
      "Phonon occupation: 0.17. Phonon thermal energy is 208.50. Phonon SD peak is 0.00. V=0.0. N=8.\n",
      "C-V data calculated in 87.6 seconds\n",
      "Phonon occupation: 0.17. Phonon thermal energy is 208.50. Phonon SD peak is 0.00. V=0.0. N=8.\n",
      "C-V data calculated in 87.1 seconds\n",
      "Phonon occupation: 0.17. Phonon thermal energy is 208.50. Phonon SD peak is 0.00. V=0.0. N=8.\n",
      "C-V data calculated in 88.2 seconds\n",
      "Phonon occupation: 0.17. Phonon thermal energy is 208.50. Phonon SD peak is 0.00. V=0.0. N=8.\n",
      "C-V data calculated in 88.2 seconds\n",
      "Phonon occupation: 0.17. Phonon thermal energy is 208.50. Phonon SD peak is 0.00. V=0.0. N=8.\n",
      "C-V data calculated in 88.2 seconds\n",
      "Phonon occupation: 0.17. Phonon thermal energy is 208.50. Phonon SD peak is 0.00. V=0.0. N=8.\n",
      "C-V data calculated in 88.3 seconds\n",
      "Phonon occupation: 0.17. Phonon thermal energy is 208.50. Phonon SD peak is 0.00. V=0.0. N=8.\n",
      "C-V data calculated in 88.1 seconds\n",
      "Phonon occupation: 0.17. Phonon thermal energy is 208.50. Phonon SD peak is 0.00. V=0.0. N=8.\n",
      "C-V data calculated in 88.1 seconds\n",
      "Phonon occupation: 0.17. Phonon thermal energy is 208.50. Phonon SD peak is 0.00. V=0.0. N=9.\n",
      "C-V data calculated in 118.3 seconds\n",
      "Phonon occupation: 0.17. Phonon thermal energy is 208.50. Phonon SD peak is 0.00. V=0.0. N=9.\n",
      "C-V data calculated in 118.4 seconds\n",
      "Phonon occupation: 0.17. Phonon thermal energy is 208.50. Phonon SD peak is 0.00. V=0.0. N=9.\n",
      "C-V data calculated in 118.2 seconds\n",
      "Phonon occupation: 0.17. Phonon thermal energy is 208.50. Phonon SD peak is 0.00. V=0.0. N=9.\n",
      "C-V data calculated in 118.1 seconds\n",
      "Phonon occupation: 0.17. Phonon thermal energy is 208.50. Phonon SD peak is 0.00. V=0.0. N=9.\n",
      "C-V data calculated in 117.9 seconds\n",
      "Phonon occupation: 0.17. Phonon thermal energy is 208.50. Phonon SD peak is 0.00. V=0.0. N=9.\n",
      "C-V data calculated in 117.8 seconds\n",
      "Phonon occupation: 0.17. Phonon thermal energy is 208.50. Phonon SD peak is 0.00. V=0.0. N=9.\n",
      "C-V data calculated in 117.9 seconds\n",
      "Phonon occupation: 0.17. Phonon thermal energy is 208.50. Phonon SD peak is 0.00. V=0.0. N=10.\n",
      "C-V data calculated in 153.3 seconds\n",
      "Phonon occupation: 0.17. Phonon thermal energy is 208.50. Phonon SD peak is 0.00. V=0.0. N=10.\n",
      "C-V data calculated in 153.3 seconds\n",
      "Phonon occupation: 0.17. Phonon thermal energy is 208.50. Phonon SD peak is 0.00. V=0.0. N=10.\n",
      "C-V data calculated in 153.2 seconds\n",
      "Phonon occupation: 0.17. Phonon thermal energy is 208.50. Phonon SD peak is 0.00. V=0.0. N=10.\n",
      "C-V data calculated in 153.8 seconds\n",
      "Phonon occupation: 0.17. Phonon thermal energy is 208.50. Phonon SD peak is 0.00. V=0.0. N=10.\n",
      "C-V data calculated in 154.7 seconds\n",
      "Phonon occupation: 0.17. Phonon thermal energy is 208.50. Phonon SD peak is 0.00. V=0.0. N=10.\n",
      "C-V data calculated in 154.5 seconds\n",
      "Phonon occupation: 0.17. Phonon thermal energy is 208.50. Phonon SD peak is 0.00. V=0.0. N=10.\n",
      "C-V data calculated in 154.4 seconds\n",
      "Phonon occupation: 0.17. Phonon thermal energy is 208.50. Phonon SD peak is 0.00. V=0.0. N=10.\n",
      "C-V data calculated in 155.0 seconds\n",
      "Phonon occupation: 0.17. Phonon thermal energy is 208.50. Phonon SD peak is 0.00. V=0.0. N=11.\n",
      "C-V data calculated in 199.4 seconds\n",
      "Phonon occupation: 0.17. Phonon thermal energy is 208.50. Phonon SD peak is 0.00. V=0.0. N=11.\n",
      "C-V data calculated in 200.1 seconds\n",
      "Phonon occupation: 0.17. Phonon thermal energy is 208.50. Phonon SD peak is 0.00. V=0.0. N=11.\n",
      "C-V data calculated in 200.3 seconds\n",
      "Phonon occupation: 0.17. Phonon thermal energy is 208.50. Phonon SD peak is 0.00. V=0.0. N=11.\n",
      "C-V data calculated in 200.0 seconds\n",
      "Phonon occupation: 0.17. Phonon thermal energy is 208.50. Phonon SD peak is 0.00. V=0.0. N=11.\n",
      "C-V data calculated in 199.6 seconds\n",
      "Phonon occupation: 0.17. Phonon thermal energy is 208.50. Phonon SD peak is 0.00. V=0.0. N=11.\n",
      "C-V data calculated in 200.4 seconds\n",
      "Phonon occupation: 0.17. Phonon thermal energy is 208.50. Phonon SD peak is 0.00. V=0.0. N=11.\n",
      "C-V data calculated in 200.4 seconds\n",
      "Phonon occupation: 0.17. Phonon thermal energy is 208.50. Phonon SD peak is 0.00. V=0.0. N=11.\n",
      "C-V data calculated in 200.2 seconds\n",
      "Phonon occupation: 0.17. Phonon thermal energy is 208.50. Phonon SD peak is 0.00. V=0.0. N=12.\n",
      "C-V data calculated in 256.5 seconds\n",
      "Phonon occupation: 0.17. Phonon thermal energy is 208.50. Phonon SD peak is 0.00. V=0.0. N=12.\n",
      "C-V data calculated in 255.1 seconds\n",
      "Phonon occupation: 0.17. Phonon thermal energy is 208.50. Phonon SD peak is 0.00. V=0.0. N=12.\n",
      "C-V data calculated in 255.5 seconds\n",
      "Phonon occupation: 0.17. Phonon thermal energy is 208.50. Phonon SD peak is 0.00. V=0.0. N=12.\n",
      "C-V data calculated in 255.6 seconds\n",
      "Phonon occupation: 0.17. Phonon thermal energy is 208.50. Phonon SD peak is 0.00. V=0.0. N=12.\n",
      "C-V data calculated in 256.5 seconds\n",
      "Phonon occupation: 0.17. Phonon thermal energy is 208.50. Phonon SD peak is 0.00. V=0.0. N=12.\n",
      "C-V data calculated in 255.6 seconds\n",
      "Phonon occupation: 0.17. Phonon thermal energy is 208.50. Phonon SD peak is 0.00. V=0.0. N=12.\n",
      "C-V data calculated in 287.5 seconds\n",
      "Phonon occupation: 0.17. Phonon thermal energy is 208.50. Phonon SD peak is 0.00. V=0.0. N=13.\n",
      "C-V data calculated in 362.5 seconds\n",
      "Phonon occupation: 0.17. Phonon thermal energy is 208.50. Phonon SD peak is 0.00. V=0.0. N=13.\n",
      "C-V data calculated in 321.1 seconds\n",
      "Phonon occupation: 0.17. Phonon thermal energy is 208.50. Phonon SD peak is 0.00. V=0.0. N=13.\n",
      "C-V data calculated in 342.5 seconds\n",
      "Phonon occupation: 0.17. Phonon thermal energy is 208.50. Phonon SD peak is 0.00. V=0.0. N=13.\n",
      "C-V data calculated in 318.3 seconds\n",
      "Phonon occupation: 0.17. Phonon thermal energy is 208.50. Phonon SD peak is 0.00. V=0.0. N=13.\n",
      "C-V data calculated in 318.9 seconds\n",
      "Phonon occupation: 0.17. Phonon thermal energy is 208.50. Phonon SD peak is 0.00. V=0.0. N=13.\n",
      "C-V data calculated in 319.2 seconds\n",
      "Phonon occupation: 0.17. Phonon thermal energy is 208.50. Phonon SD peak is 0.00. V=0.0. N=13.\n",
      "C-V data calculated in 319.0 seconds\n",
      "Phonon occupation: 0.17. Phonon thermal energy is 208.50. Phonon SD peak is 0.00. V=0.0. N=13.\n",
      "C-V data calculated in 319.4 seconds\n",
      "Phonon occupation: 0.17. Phonon thermal energy is 208.50. Phonon SD peak is 0.00. V=0.0. N=14.\n",
      "C-V data calculated in 411.5 seconds\n",
      "Phonon occupation: 0.17. Phonon thermal energy is 208.50. Phonon SD peak is 0.00. V=0.0. N=14.\n",
      "C-V data calculated in 405.2 seconds\n",
      "Phonon occupation: 0.17. Phonon thermal energy is 208.50. Phonon SD peak is 0.00. V=0.0. N=14.\n",
      "C-V data calculated in 405.0 seconds\n",
      "Phonon occupation: 0.17. Phonon thermal energy is 208.50. Phonon SD peak is 0.00. V=0.0. N=14.\n",
      "C-V data calculated in 406.2 seconds\n",
      "Phonon occupation: 0.17. Phonon thermal energy is 208.50. Phonon SD peak is 0.00. V=0.0. N=14.\n",
      "C-V data calculated in 406.2 seconds\n",
      "Phonon occupation: 0.17. Phonon thermal energy is 208.50. Phonon SD peak is 0.00. V=0.0. N=14.\n"
     ]
    },
    {
     "name": "stdout",
     "output_type": "stream",
     "text": [
      "C-V data calculated in 406.9 seconds\n",
      "Phonon occupation: 0.17. Phonon thermal energy is 208.50. Phonon SD peak is 0.00. V=0.0. N=14.\n",
      "C-V data calculated in 407.0 seconds\n",
      "Phonon occupation: 0.17. Phonon thermal energy is 208.50. Phonon SD peak is 0.00. V=0.0. N=15.\n",
      "C-V data calculated in 514.5 seconds\n",
      "Phonon occupation: 0.17. Phonon thermal energy is 208.50. Phonon SD peak is 0.00. V=0.0. N=15.\n",
      "C-V data calculated in 517.8 seconds\n",
      "Phonon occupation: 0.17. Phonon thermal energy is 208.50. Phonon SD peak is 0.00. V=0.0. N=15.\n",
      "C-V data calculated in 514.8 seconds\n",
      "Phonon occupation: 0.17. Phonon thermal energy is 208.50. Phonon SD peak is 0.00. V=0.0. N=15.\n",
      "C-V data calculated in 515.7 seconds\n",
      "Phonon occupation: 0.17. Phonon thermal energy is 208.50. Phonon SD peak is 0.00. V=0.0. N=15.\n",
      "C-V data calculated in 515.8 seconds\n",
      "Phonon occupation: 0.17. Phonon thermal energy is 208.50. Phonon SD peak is 0.00. V=0.0. N=15.\n",
      "C-V data calculated in 516.1 seconds\n",
      "Phonon occupation: 0.17. Phonon thermal energy is 208.50. Phonon SD peak is 0.00. V=0.0. N=15.\n",
      "C-V data calculated in 514.6 seconds\n",
      "Phonon occupation: 0.17. Phonon thermal energy is 208.50. Phonon SD peak is 0.00. V=0.0. N=15.\n",
      "C-V data calculated in 514.6 seconds\n",
      "Phonon occupation: 0.17. Phonon thermal energy is 208.50. Phonon SD peak is 0.00. V=0.0. N=16.\n",
      "C-V data calculated in 653.9 seconds\n",
      "Phonon occupation: 0.17. Phonon thermal energy is 208.50. Phonon SD peak is 0.00. V=0.0. N=16.\n",
      "C-V data calculated in 665.7 seconds\n",
      "Phonon occupation: 0.17. Phonon thermal energy is 208.50. Phonon SD peak is 0.00. V=0.0. N=16.\n",
      "C-V data calculated in 654.0 seconds\n",
      "Phonon occupation: 0.17. Phonon thermal energy is 208.50. Phonon SD peak is 0.00. V=0.0. N=16.\n",
      "C-V data calculated in 655.3 seconds\n",
      "Phonon occupation: 0.17. Phonon thermal energy is 208.50. Phonon SD peak is 0.00. V=0.0. N=16.\n",
      "C-V data calculated in 655.8 seconds\n",
      "Phonon occupation: 0.17. Phonon thermal energy is 208.50. Phonon SD peak is 0.00. V=0.0. N=16.\n",
      "C-V data calculated in 661.9 seconds\n",
      "Phonon occupation: 0.17. Phonon thermal energy is 208.50. Phonon SD peak is 0.00. V=0.0. N=16.\n",
      "C-V data calculated in 656.6 seconds\n",
      "Phonon occupation: 0.17. Phonon thermal energy is 208.50. Phonon SD peak is 0.00. V=0.0. N=16.\n",
      "C-V data calculated in 656.2 seconds\n",
      "Phonon occupation: 0.17. Phonon thermal energy is 208.50. Phonon SD peak is 0.00. V=0.0. N=17.\n"
     ]
    },
    {
     "ename": "KeyboardInterrupt",
     "evalue": "",
     "output_type": "error",
     "traceback": [
      "\u001b[0;31m---------------------------------------------------------------------------\u001b[0m",
      "\u001b[0;31mKeyboardInterrupt\u001b[0m                         Traceback (most recent call last)",
      "\u001b[0;32m<ipython-input-14-f7cbe7062e71>\u001b[0m in \u001b[0;36m<module>\u001b[0;34m()\u001b[0m\n\u001b[1;32m      2\u001b[0m                                                 \u001b[0mvalence_energy\u001b[0m\u001b[0;34m=\u001b[0m\u001b[0;36m100e-3\u001b[0m\u001b[0;34m,\u001b[0m \u001b[0mbinding_energy\u001b[0m\u001b[0;34m=\u001b[0m\u001b[0;36m100e-3\u001b[0m\u001b[0;34m,\u001b[0m\u001b[0;34m\u001b[0m\u001b[0m\n\u001b[1;32m      3\u001b[0m                                                 \u001b[0mradiative_lifetime\u001b[0m\u001b[0;34m=\u001b[0m\u001b[0;36m0.2\u001b[0m\u001b[0;34m,\u001b[0m \u001b[0mmu\u001b[0m\u001b[0;34m=\u001b[0m\u001b[0;36m700e-3\u001b[0m\u001b[0;34m,\u001b[0m\u001b[0;34m\u001b[0m\u001b[0m\n\u001b[0;32m----> 4\u001b[0;31m                                                 N_max=20, T_C=300.)\n\u001b[0m\u001b[1;32m      5\u001b[0m \u001b[0;31m# This has 5 times faster optical liouvillian. We'll see if this makes a difference\u001b[0m\u001b[0;34m\u001b[0m\u001b[0;34m\u001b[0m\u001b[0m\n",
      "\u001b[0;32m<ipython-input-9-343771a5d9f0>\u001b[0m in \u001b[0;36mphotovoltaic_performance_phonons\u001b[0;34m(label, num_alpha, num_voltages, valence_energy, binding_energy, radiative_lifetime, mu, N_max, T_C, alpha_max)\u001b[0m\n\u001b[1;32m     11\u001b[0m                           \u001b[0mradiative_lifetime\u001b[0m\u001b[0;34m=\u001b[0m\u001b[0mradiative_lifetime\u001b[0m\u001b[0;34m,\u001b[0m \u001b[0malpha_ph\u001b[0m\u001b[0;34m=\u001b[0m\u001b[0malpha_ph\u001b[0m\u001b[0;34m,\u001b[0m \u001b[0mmu\u001b[0m\u001b[0;34m=\u001b[0m\u001b[0mmu\u001b[0m\u001b[0;34m,\u001b[0m\u001b[0;34m\u001b[0m\u001b[0m\n\u001b[1;32m     12\u001b[0m                           bias_voltage=0, N=N, silent=False, T_C=T_C)\n\u001b[0;32m---> 13\u001b[0;31m         \u001b[0mdd\u001b[0m \u001b[0;34m=\u001b[0m \u001b[0mpopulations_and_current_vs_voltage\u001b[0m\u001b[0;34m(\u001b[0m\u001b[0mPARAMS\u001b[0m\u001b[0;34m,\u001b[0m \u001b[0mx_range\u001b[0m\u001b[0;34m=\u001b[0m\u001b[0;34m[\u001b[0m\u001b[0;36m0.8\u001b[0m\u001b[0;34m,\u001b[0m\u001b[0;36m1.5\u001b[0m\u001b[0;34m]\u001b[0m\u001b[0;34m,\u001b[0m \u001b[0mnum_voltages\u001b[0m\u001b[0;34m=\u001b[0m\u001b[0mnum_voltages\u001b[0m\u001b[0;34m)\u001b[0m\u001b[0;34m\u001b[0m\u001b[0m\n\u001b[0m\u001b[1;32m     14\u001b[0m         \u001b[0mpvpd_list\u001b[0m\u001b[0;34m.\u001b[0m\u001b[0mappend\u001b[0m\u001b[0;34m(\u001b[0m\u001b[0mget_photovoltaic_summary\u001b[0m\u001b[0;34m(\u001b[0m\u001b[0mdd\u001b[0m\u001b[0;34m)\u001b[0m\u001b[0;34m)\u001b[0m\u001b[0;34m\u001b[0m\u001b[0m\n\u001b[1;32m     15\u001b[0m     save_obj({\"alpha_values\" : alpha_values,\n",
      "\u001b[0;32m<ipython-input-5-3018e0c6c13a>\u001b[0m in \u001b[0;36mpopulations_and_current_vs_voltage\u001b[0;34m(PARAMS, x_range, num_voltages)\u001b[0m\n\u001b[1;32m     22\u001b[0m         \u001b[0;31m#if i in [10, 90]:\u001b[0m\u001b[0;34m\u001b[0m\u001b[0;34m\u001b[0m\u001b[0m\n\u001b[1;32m     23\u001b[0m         \u001b[0;31m#    print_PARAMS(PARAMS)\u001b[0m\u001b[0;34m\u001b[0m\u001b[0;34m\u001b[0m\u001b[0m\n\u001b[0;32m---> 24\u001b[0;31m         \u001b[0mL_Lindblad_dict\u001b[0m \u001b[0;34m=\u001b[0m \u001b[0mbuild_L\u001b[0m\u001b[0;34m(\u001b[0m\u001b[0mPARAMS\u001b[0m\u001b[0;34m,\u001b[0m \u001b[0msilent\u001b[0m\u001b[0;34m=\u001b[0m\u001b[0mTrue\u001b[0m\u001b[0;34m)\u001b[0m\u001b[0;34m\u001b[0m\u001b[0m\n\u001b[0m\u001b[1;32m     25\u001b[0m         \u001b[0;31m#ops = make_expectation_operators(PARAMS)\u001b[0m\u001b[0;34m\u001b[0m\u001b[0;34m\u001b[0m\u001b[0m\n\u001b[1;32m     26\u001b[0m         \u001b[0mn_c\u001b[0m \u001b[0;34m=\u001b[0m \u001b[0mtensor\u001b[0m\u001b[0;34m(\u001b[0m\u001b[0md_e\u001b[0m\u001b[0;34m.\u001b[0m\u001b[0mdag\u001b[0m\u001b[0;34m(\u001b[0m\u001b[0;34m)\u001b[0m\u001b[0;34m*\u001b[0m\u001b[0md_e\u001b[0m\u001b[0;34m,\u001b[0m \u001b[0mqeye\u001b[0m\u001b[0;34m(\u001b[0m\u001b[0mPARAMS\u001b[0m\u001b[0;34m[\u001b[0m\u001b[0;34m'N'\u001b[0m\u001b[0;34m]\u001b[0m\u001b[0;34m)\u001b[0m\u001b[0;34m)\u001b[0m\u001b[0;34m\u001b[0m\u001b[0m\n",
      "\u001b[0;32m/home/henry/Work/phd-work/CS-photocell-code/photocell_setup.pyc\u001b[0m in \u001b[0;36mbuild_L\u001b[0;34m(PARAMS, silent)\u001b[0m\n\u001b[1;32m    117\u001b[0m     \u001b[0;31m#  Left and right leads and additive\u001b[0m\u001b[0;34m\u001b[0m\u001b[0;34m\u001b[0m\u001b[0m\n\u001b[1;32m    118\u001b[0m     \u001b[0;31m#L_L, L_R = FL.L_R_lead_dissipators(H_S, PARAMS, real_only=False, silent=False)\u001b[0m\u001b[0;34m\u001b[0m\u001b[0;34m\u001b[0m\u001b[0m\n\u001b[0;32m--> 119\u001b[0;31m     \u001b[0mL_L\u001b[0m\u001b[0;34m,\u001b[0m \u001b[0mL_R\u001b[0m \u001b[0;34m=\u001b[0m \u001b[0mFL\u001b[0m\u001b[0;34m.\u001b[0m\u001b[0mL_left_and_right_secular\u001b[0m\u001b[0;34m(\u001b[0m\u001b[0mH\u001b[0m\u001b[0;34m,\u001b[0m \u001b[0mPARAMS\u001b[0m\u001b[0;34m)\u001b[0m\u001b[0;34m\u001b[0m\u001b[0m\n\u001b[0m\u001b[1;32m    120\u001b[0m     \u001b[0mL_L_add\u001b[0m\u001b[0;34m,\u001b[0m \u001b[0mL_R_add\u001b[0m \u001b[0;34m=\u001b[0m \u001b[0mFL\u001b[0m\u001b[0;34m.\u001b[0m\u001b[0mL_left_and_right_secular\u001b[0m\u001b[0;34m(\u001b[0m\u001b[0mH_add\u001b[0m\u001b[0;34m,\u001b[0m \u001b[0mPARAMS\u001b[0m\u001b[0;34m)\u001b[0m\u001b[0;34m\u001b[0m\u001b[0m\n\u001b[1;32m    121\u001b[0m     \u001b[0;31m# dict of various combinations\u001b[0m\u001b[0;34m\u001b[0m\u001b[0;34m\u001b[0m\u001b[0m\n",
      "\u001b[0;32m/home/henry/Work/phd-work/CS-photocell-code/leads.pyc\u001b[0m in \u001b[0;36mL_left_and_right_secular\u001b[0;34m(H, PARAMS)\u001b[0m\n\u001b[1;32m    106\u001b[0m             \u001b[0;32mif\u001b[0m \u001b[0mnp\u001b[0m\u001b[0;34m.\u001b[0m\u001b[0mabs\u001b[0m\u001b[0;34m(\u001b[0m\u001b[0mcoeff\u001b[0m\u001b[0;34m)\u001b[0m \u001b[0;34m>\u001b[0m \u001b[0;36m0\u001b[0m\u001b[0;34m:\u001b[0m\u001b[0;34m\u001b[0m\u001b[0m\n\u001b[1;32m    107\u001b[0m                 \u001b[0mL_R\u001b[0m \u001b[0;34m+=\u001b[0m \u001b[0mLambda_down_R\u001b[0m\u001b[0;34m(\u001b[0m\u001b[0momega_jk\u001b[0m\u001b[0;34m)\u001b[0m\u001b[0;34m*\u001b[0m\u001b[0mcoeff\u001b[0m\u001b[0;34m*\u001b[0m\u001b[0msecular_term\u001b[0m\u001b[0;34m(\u001b[0m\u001b[0mstate_j\u001b[0m\u001b[0;34m,\u001b[0m \u001b[0mstate_k\u001b[0m\u001b[0;34m)\u001b[0m\u001b[0;34m\u001b[0m\u001b[0m\n\u001b[0;32m--> 108\u001b[0;31m                 \u001b[0mL_R\u001b[0m \u001b[0;34m+=\u001b[0m \u001b[0mLambda_up_R\u001b[0m\u001b[0;34m(\u001b[0m\u001b[0momega_jk\u001b[0m\u001b[0;34m)\u001b[0m\u001b[0;34m*\u001b[0m\u001b[0mcoeff\u001b[0m\u001b[0;34m*\u001b[0m\u001b[0msecular_term\u001b[0m\u001b[0;34m(\u001b[0m\u001b[0mstate_k\u001b[0m\u001b[0;34m,\u001b[0m \u001b[0mstate_j\u001b[0m\u001b[0;34m)\u001b[0m\u001b[0;34m\u001b[0m\u001b[0m\n\u001b[0m\u001b[1;32m    109\u001b[0m \u001b[0;34m\u001b[0m\u001b[0m\n\u001b[1;32m    110\u001b[0m             \u001b[0mA_dag_jk\u001b[0m \u001b[0;34m=\u001b[0m \u001b[0mA_L\u001b[0m\u001b[0;34m.\u001b[0m\u001b[0mdag\u001b[0m\u001b[0;34m(\u001b[0m\u001b[0;34m)\u001b[0m\u001b[0;34m.\u001b[0m\u001b[0mmatrix_element\u001b[0m\u001b[0;34m(\u001b[0m\u001b[0mstate_j\u001b[0m\u001b[0;34m,\u001b[0m \u001b[0mstate_k\u001b[0m\u001b[0;34m)\u001b[0m\u001b[0;34m\u001b[0m\u001b[0m\n",
      "\u001b[0;32m/home/henry/anaconda2/envs/qutip/lib/python2.7/site-packages/qutip/qobj.pyc\u001b[0m in \u001b[0;36m__add__\u001b[0;34m(self, other)\u001b[0m\n\u001b[1;32m    427\u001b[0m                 \u001b[0mout\u001b[0m\u001b[0;34m.\u001b[0m\u001b[0msuperrep\u001b[0m \u001b[0;34m=\u001b[0m \u001b[0mself\u001b[0m\u001b[0;34m.\u001b[0m\u001b[0msuperrep\u001b[0m\u001b[0;34m\u001b[0m\u001b[0m\n\u001b[1;32m    428\u001b[0m \u001b[0;34m\u001b[0m\u001b[0m\n\u001b[0;32m--> 429\u001b[0;31m             \u001b[0;32mreturn\u001b[0m \u001b[0mout\u001b[0m\u001b[0;34m.\u001b[0m\u001b[0mtidyup\u001b[0m\u001b[0;34m(\u001b[0m\u001b[0;34m)\u001b[0m \u001b[0;32mif\u001b[0m \u001b[0msettings\u001b[0m\u001b[0;34m.\u001b[0m\u001b[0mauto_tidyup\u001b[0m \u001b[0;32melse\u001b[0m \u001b[0mout\u001b[0m\u001b[0;34m\u001b[0m\u001b[0m\n\u001b[0m\u001b[1;32m    430\u001b[0m \u001b[0;34m\u001b[0m\u001b[0m\n\u001b[1;32m    431\u001b[0m     \u001b[0;32mdef\u001b[0m \u001b[0m__radd__\u001b[0m\u001b[0;34m(\u001b[0m\u001b[0mself\u001b[0m\u001b[0;34m,\u001b[0m \u001b[0mother\u001b[0m\u001b[0;34m)\u001b[0m\u001b[0;34m:\u001b[0m\u001b[0;34m\u001b[0m\u001b[0m\n",
      "\u001b[0;32m/home/henry/anaconda2/envs/qutip/lib/python2.7/site-packages/qutip/qobj.pyc\u001b[0m in \u001b[0;36mtidyup\u001b[0;34m(self, atol)\u001b[0m\n\u001b[1;32m   1250\u001b[0m \u001b[0;34m\u001b[0m\u001b[0m\n\u001b[1;32m   1251\u001b[0m             \u001b[0mdata_imag\u001b[0m \u001b[0;34m=\u001b[0m \u001b[0mself\u001b[0m\u001b[0;34m.\u001b[0m\u001b[0mdata\u001b[0m\u001b[0;34m.\u001b[0m\u001b[0mdata\u001b[0m\u001b[0;34m.\u001b[0m\u001b[0mimag\u001b[0m\u001b[0;34m\u001b[0m\u001b[0m\n\u001b[0;32m-> 1252\u001b[0;31m             \u001b[0mdata_imag\u001b[0m\u001b[0;34m[\u001b[0m\u001b[0mnp\u001b[0m\u001b[0;34m.\u001b[0m\u001b[0mabs\u001b[0m\u001b[0;34m(\u001b[0m\u001b[0mdata_imag\u001b[0m\u001b[0;34m)\u001b[0m \u001b[0;34m<\u001b[0m \u001b[0matol\u001b[0m\u001b[0;34m]\u001b[0m \u001b[0;34m=\u001b[0m \u001b[0;36m0\u001b[0m\u001b[0;34m\u001b[0m\u001b[0m\n\u001b[0m\u001b[1;32m   1253\u001b[0m \u001b[0;34m\u001b[0m\u001b[0m\n\u001b[1;32m   1254\u001b[0m             \u001b[0mself\u001b[0m\u001b[0;34m.\u001b[0m\u001b[0mdata\u001b[0m\u001b[0;34m.\u001b[0m\u001b[0mdata\u001b[0m \u001b[0;34m=\u001b[0m \u001b[0mdata_real\u001b[0m \u001b[0;34m+\u001b[0m \u001b[0;36m1j\u001b[0m \u001b[0;34m*\u001b[0m \u001b[0mdata_imag\u001b[0m\u001b[0;34m\u001b[0m\u001b[0m\n",
      "\u001b[0;31mKeyboardInterrupt\u001b[0m: "
     ]
    }
   ],
   "source": [
    "alpha_values_100K, pvpd_list_100K = photovoltaic_performance_phonons(label='T300_5', num_alpha=100, num_voltages=20, \n",
    "                                                valence_energy=100e-3, binding_energy=100e-3, \n",
    "                                                radiative_lifetime=0.2, mu=700e-3, \n",
    "                                                N_max=20, T_C=300.)\n",
    "# This has 5 times faster optical liouvillian. We'll see if this makes a difference"
   ]
  },
  {
   "cell_type": "code",
   "execution_count": null,
   "metadata": {},
   "outputs": [],
   "source": [
    "plot_performance(alpha_values_100K, pvpd_list_100K, metric=\"fill_factor\")\n",
    "plot_performance(alpha_values_100K, pvpd_list_100K, metric=\"V_at_max_P\")\n",
    "plot_performance(alpha_values_100K, pvpd_list_100K, metric=\"P_max\")"
   ]
  },
  {
   "cell_type": "markdown",
   "metadata": {},
   "source": [
    "# Data for each theory (additive leads, non-additive, etc)"
   ]
  },
  {
   "cell_type": "code",
   "execution_count": 15,
   "metadata": {
    "collapsed": true
   },
   "outputs": [],
   "source": [
    "def populations_and_current_vs_voltage_all(PARAMS, x_range=[0.,2.], num_voltages=100, label=''):\n",
    "    \n",
    "    if PARAMS['T_L']<100:\n",
    "        number_of_voltages = int(1.8*num_voltages)\n",
    "    else:\n",
    "        number_of_voltages = num_voltages\n",
    "    bias_voltages = np.concatenate((np.array([0]), \n",
    "                                    np.linspace(x_range[0]*ev_to_inv_cm, x_range[1]*ev_to_inv_cm, number_of_voltages)), \n",
    "                                   axis=0)\n",
    "    labels = zip([\"L_R\", \"L_R\", \"L_R_add\", \"L_R_add\"], # Right lead \n",
    "                 [\"L\", \"L_add_EM\", \"L_add_leads\", \"L_add\"]) #and full dissipators (for current)\n",
    "    data_dict = {} # inner dicts are of current and population data etc.\n",
    "    for theory in labels:\n",
    "        ti = time.time()\n",
    "        current = []\n",
    "        conduction_population = []\n",
    "        valence_population = []\n",
    "        ground_population = []\n",
    "        hole_population = []\n",
    "        electron_population = []\n",
    "        exciton_population = []\n",
    "        CC_population = []\n",
    "        ops = make_expectation_operators(PARAMS)\n",
    "        for i, bv in enumerate(bias_voltages):\n",
    "            PARAMS.update({'mu_R': PARAMS['mu']+bv/2, 'mu_L': PARAMS['mu']-bv/2})\n",
    "            #if i in [10, 90]:\n",
    "            #    print_PARAMS(PARAMS)\n",
    "            L_Lindblad_dict = build_L(PARAMS, silent=True)\n",
    "            #ops = make_expectation_operators(PARAMS)\n",
    "            n_c = tensor(d_e.dag()*d_e, qeye(PARAMS['N']))\n",
    "            n_v = tensor(d_h.dag()*d_h, qeye(PARAMS['N']))\n",
    "            ss = steadystate(L_Lindblad_dict['H_S'], [L_Lindblad_dict[theory[1]]])\n",
    "            current.append(current_from_ss(ss, L_Lindblad_dict[theory[0]], n_c))\n",
    "            conduction_population.append((n_c*ss).tr())\n",
    "            valence_population.append((n_v*ss).tr())\n",
    "            ground_population.append((ops['vac']*ss).tr())\n",
    "            hole_population.append((ops['hole']*ss).tr())\n",
    "            electron_population.append((ops['electron']*ss).tr())\n",
    "            exciton_population.append((ops['exciton']*ss).tr())\n",
    "            CC_population.append((ops['CC_pop']*ss).tr())\n",
    "        data_dict[theory[1]] = {'bias_voltages':bias_voltages/ev_to_inv_cm, \n",
    "                     'current': current,\n",
    "                     'conduction_population' : conduction_population, \n",
    "                     'valence_population' : valence_population,\n",
    "                     'ground_population': ground_population,\n",
    "                     'hole_population' : hole_population,\n",
    "                     'electron_population' : electron_population,\n",
    "                     'exciton_population' : exciton_population,\n",
    "                     'CC_population' : CC_population,\n",
    "                    'PARAMS': PARAMS}\n",
    "        print(\"C-V {} calculated in {:0.1f} seconds\".format(theory[1], time.time() - ti))\n",
    "    save_obj(data_dict, \"DATA/pvp/all_\"+label)\n",
    "    return data_dict"
   ]
  },
  {
   "cell_type": "code",
   "execution_count": 11,
   "metadata": {},
   "outputs": [
    {
     "name": "stdout",
     "output_type": "stream",
     "text": [
      "Phonon occupation: 0.17. Phonon thermal energy is 208.50. Phonon SD peak is 0.00. V=0.0. N=4.\n",
      "C-V L calculated in 15.8 seconds\n",
      "C-V L_add_EM calculated in 16.9 seconds\n",
      "C-V L_add_leads calculated in 16.4 seconds\n",
      "C-V L_add calculated in 14.6 seconds\n"
     ]
    }
   ],
   "source": [
    "PARAMS = PARAMS_setup(valence_energy=100e-3, binding_energy=0.1, radiative_lifetime=0.1, alpha_ph=0.1e-3,\n",
    "                      mu=700e-3, bias_voltage=0, N=4, silent=False, T_C=300.)\n",
    "\n",
    "data_dict_test_0 = populations_and_current_vs_voltage_all(PARAMS, x_range=[0.8, 1.5], num_voltages=15, label='')"
   ]
  },
  {
   "cell_type": "code",
   "execution_count": 27,
   "metadata": {},
   "outputs": [
    {
     "name": "stdout",
     "output_type": "stream",
     "text": [
      "Phonon occupation: 0.17. Phonon thermal energy is 208.50. Phonon SD peak is 0.00. V=0.0. N=22.\n",
      "C-V L calculated in 2316.8 seconds\n",
      "C-V L_add_EM calculated in 2267.3 seconds\n",
      "C-V L_add_leads calculated in 2310.3 seconds\n",
      "C-V L_add calculated in 2257.6 seconds\n"
     ]
    }
   ],
   "source": [
    "PARAMS = PARAMS_setup(valence_energy=100e-3, binding_energy=0.1, radiative_lifetime=0.05, alpha_ph=300e-3,\n",
    "                      mu=700e-3, bias_voltage=0, N=22, silent=False, T_C=300.)\n",
    "\n",
    "data_dict_test_1 = populations_and_current_vs_voltage_all(PARAMS, x_range=[1, 1.5], num_voltages=15)"
   ]
  },
  {
   "cell_type": "code",
   "execution_count": 25,
   "metadata": {},
   "outputs": [
    {
     "data": {
      "text/plain": [
       "[<matplotlib.lines.Line2D at 0x7fc064eafa10>]"
      ]
     },
     "execution_count": 25,
     "metadata": {},
     "output_type": "execute_result"
    },
    {
     "data": {
      "image/png": "[encoded data removed]",
      "text/plain": [
       "<matplotlib.figure.Figure at 0x7fc064fcedd0>"
      ]
     },
     "metadata": {},
     "output_type": "display_data"
    }
   ],
   "source": [
    "lab_dict = {'L': 'full', 'L_add_EM': 'add. EM', 'L_add_leads': 'add. Leads', 'L_add': 'add.'}\n",
    "plt.figure(figsize=(8,9))\n",
    "plt.plot(data_dict_test_1['L_add_leads']['bias_voltages'], data_dict_test_1['L_add_leads']['current'], \n",
    "         linestyle='dashed')\n",
    "#plt.plot(data_dict_test_0['L']['bias_voltages'], data_dict_test_0['L']['current'])\n",
    "plt.plot(data_dict_test_1['L_add']['bias_voltages'], data_dict_test_1['L_add']['current'])\n",
    "plt.plot(data_dict_test_1['L']['bias_voltages'], data_dict_test_1['L']['current'])\n",
    "plt.plot(data_dict_test_1['L_add_EM']['bias_voltages'], data_dict_test_1['L_add_EM']['current'],\n",
    "        linestyle='dotted')\n",
    "#for lab, data in data_dict_test_1.items():\n",
    "#    plt.plot(data['bias_voltages'], data['current'], label=lab_dict[lab])\n",
    "#plt.legend()"
   ]
  },
  {
   "cell_type": "code",
   "execution_count": 14,
   "metadata": {},
   "outputs": [
    {
     "data": {
      "text/plain": [
       "{'I_SC': 1.946174886278277e-06,\n",
       " 'P_max': 2.387027687227405e-06,\n",
       " 'P_theoretical_max': 2.7246448407895878e-06,\n",
       " 'V_OC': 1.4000000000000001,\n",
       " 'V_at_max_P': 1.3000000000000003,\n",
       " 'fill_factor': 0.876087646908012}"
      ]
     },
     "execution_count": 14,
     "metadata": {},
     "output_type": "execute_result"
    }
   ],
   "source": [
    "get_photovoltaic_summary(data_dict_test_1['L'])"
   ]
  },
  {
   "cell_type": "code",
   "execution_count": 15,
   "metadata": {},
   "outputs": [
    {
     "data": {
      "text/plain": [
       "{'I_SC': 4.51906265080723e-07,\n",
       " 'P_max': 5.3350636032662315e-07,\n",
       " 'P_theoretical_max': 6.326687711130123e-07,\n",
       " 'V_OC': 1.4000000000000001,\n",
       " 'V_at_max_P': 1.25,\n",
       " 'fill_factor': 0.84326330725643484}"
      ]
     },
     "execution_count": 15,
     "metadata": {},
     "output_type": "execute_result"
    }
   ],
   "source": [
    "get_photovoltaic_summary(data_dict_test_0['L'])"
   ]
  },
  {
   "cell_type": "code",
   "execution_count": null,
   "metadata": {
    "collapsed": true
   },
   "outputs": [],
   "source": []
  }
 ],
 "metadata": {
  "kernelspec": {
   "display_name": "Python 2",
   "language": "python",
   "name": "python2"
  },
  "language_info": {
   "codemirror_mode": {
    "name": "ipython",
    "version": 2
   },
   "file_extension": ".py",
   "mimetype": "text/x-python",
   "name": "python",
   "nbconvert_exporter": "python",
   "pygments_lexer": "ipython2",
   "version": "2.7.15"
  }
 },
 "nbformat": 4,
 "nbformat_minor": 2
}
