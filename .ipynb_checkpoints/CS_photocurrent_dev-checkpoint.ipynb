{
 "cells": [
  {
   "cell_type": "code",
   "execution_count": 1,
   "metadata": {},
   "outputs": [
    {
     "name": "stdout",
     "output_type": "stream",
     "text": [
      "utils imported\n"
     ]
    }
   ],
   "source": [
    "from qutip import mesolve, steadystate\n",
    "import numpy as np\n",
    "import optical as EM\n",
    "import phonons as RC\n",
    "import leads as FL\n",
    "from utils import *\n",
    "from style import *\n",
    "from photocell_setup import *"
   ]
  },
  {
   "cell_type": "code",
   "execution_count": 2,
   "metadata": {},
   "outputs": [
    {
     "data": {
      "image/png": "[encoded data removed]",
      "text/plain": [
       "<matplotlib.figure.Figure at 0x7fb8ba0fad50>"
      ]
     },
     "metadata": {},
     "output_type": "display_data"
    }
   ],
   "source": [
    "w = np.linspace(-100, 100, 1000)\n",
    "plt.plot(w, FL.J_Lorentzian(w, 10, 100, Gamma=1)*FL.fermi_occ(w, 10, 0.) )\n",
    "#plt.plot(w, FL.J_Lorentzian(w, 10,100,Gamma=1)*(1-FL.fermi_occ(w, 10, 0.)))\n",
    "#plt.plot(w, J_underdamped(w, 10,10,alpha=1/(2*pi)) )\n",
    "plt.show()"
   ]
  },
  {
   "cell_type": "code",
   "execution_count": 36,
   "metadata": {
    "collapsed": true
   },
   "outputs": [],
   "source": [
    "reload(RC)\n",
    "reload(EM)\n",
    "reload(FL)\n",
    "\n",
    "def dynamics( H, L, PARAMS, tf=10, tN=1000):\n",
    "    timelist = np.linspace(0, tf, tN)\n",
    "    ops = make_expectation_operators(PARAMS)\n",
    "    rho_0 = tensor(0.5*(exciton_ket+vac_ket)*(exciton_ket.dag()+vac_ket.dag()), \n",
    "                   thermal_dm(PARAMS['N'], Occupation(PARAMS['Omega_RC'], PARAMS['T_ph'])))\n",
    "    data = mesolve(H, rho_0, timelist, c_ops=[L], e_ops=[ops['exciton'], ops['real_coherence'], \n",
    "                                                         ops['imag_coherence']], \n",
    "                   options=qt.Options(nsteps=15000))\n",
    "    plt.figure()\n",
    "    plt.plot(timelist, data.expect[0])\n",
    "    plt.figure()\n",
    "    plt.plot(timelist, data.expect[1])\n",
    "    plt.show()\n",
    "\n",
    "def build_full_L(PARAMS, silent=True):\n",
    "    # RC mapping on operators etc\n",
    "    PARAMS, L_RC, H_S, A_nrwa, A_RC, A_L, A_R = RC.RC_mapping(PARAMS, silent=silent)\n",
    "    H = H_S # H_S\n",
    "    H_add = tensor(PARAMS['H_sub'], qeye(PARAMS['N']))\n",
    "    # optical liouv and additive\n",
    "    if PARAMS['radiative_lifetime'] == np.infty:\n",
    "        L_EM_add = L_EM = 0\n",
    "    else:\n",
    "        L_EM = EM.L_non_rwa(H_S, A_nrwa, PARAMS['omega_exciton'], PARAMS['Gamma_EM'], \n",
    "                            PARAMS['T_EM'], PARAMS['J'],\n",
    "                                    silent=silent, tol=0)\n",
    "    \n",
    "    #  Left and right leads and additive\n",
    "    #L_L, L_R = FL.L_R_lead_dissipators(H_S, PARAMS, real_only=False, silent=False)\n",
    "    L_L, L_R = FL.L_R_lead_dissipators(H, PARAMS, silent=silent)\n",
    "    # dict of various combinations    \n",
    "    L_dict = {'PARAMS': PARAMS, 'H_S': H_S, 'L_EM': L_EM, 'L_R': L_R, \n",
    "                                            'L_full' : L_EM+L_L+L_R+L_RC}\n",
    "    return L_dict # dict\n",
    "    \n",
    "def build_all_L(PARAMS, silent=True):\n",
    "    # RC mapping on operators etc\n",
    "    PARAMS, L_RC, H_S, A_nrwa, A_RC, A_L, A_R = RC.RC_mapping(PARAMS, silent=silent)\n",
    "    H = H_S # H_S\n",
    "    H_add = tensor(PARAMS['H_sub'], qeye(PARAMS['N']))\n",
    "    # optical liouv and additive\n",
    "    if PARAMS['radiative_lifetime'] == np.infty:\n",
    "        L_EM_add = L_EM = 0\n",
    "    else:\n",
    "        L_EM = EM.L_non_rwa(H_S, A_nrwa, PARAMS['omega_exciton'], PARAMS['Gamma_EM'], \n",
    "                            PARAMS['T_EM'], PARAMS['J'],\n",
    "                                    silent=silent, tol=0)\n",
    "        L_EM_add = EM.L_non_rwa(H_add, A_nrwa, PARAMS['omega_exciton'], PARAMS['Gamma_EM'], \n",
    "                                PARAMS['T_EM'], PARAMS['J'],\n",
    "                                    silent=silent, tol=0)\n",
    "    \n",
    "    #  Left and right leads and additive\n",
    "    #L_L, L_R = FL.L_R_lead_dissipators(H_S, PARAMS, real_only=False, silent=False)\n",
    "    L_L, L_R = FL.L_R_lead_dissipators(H, PARAMS, silent=silent)\n",
    "    L_L_lindblad = FL.L_left_lindblad(H, PARAMS)\n",
    "    L_R_lindblad = FL.L_right_lindblad(H, PARAMS)\n",
    "    #print(L_L.eigenenergies())\n",
    "    #print(L_R.eigenenergies())\n",
    "    #print(L_L_lindblad.eigenenergies())\n",
    "    #print(L_R_lindblad.eigenenergies())\n",
    "    L_L_add, L_R_add = FL.L_left_nonadditive(H_add, PARAMS), FL.L_right_nonadditive(H_add, PARAMS)\n",
    "    # dict of various combinations    \n",
    "    L_dict = {'PARAMS': PARAMS, 'H_S': H_S, 'L_EM': L_EM, 'L_R': L_R, \n",
    "                                            'L_full' : L_EM+L_L+L_R+L_RC,\n",
    "                                            'L_lindblad' : L_EM+L_L_lindblad+L_R_lindblad+L_RC,\n",
    "                                            'L_add_EM' : L_EM_add+L_R+L_L+L_RC,\n",
    "                                            'L_add_leads' : L_EM+L_L_add+L_R_add+L_RC,\n",
    "                                            'L_no_EM' : L_R+L_L+L_RC}\n",
    "    return L_dict # dict\n",
    "#return H_S, L_RC, L_EM, L_EM_add, L_L, L_R, L_L_add, L_R_add\n",
    "\n"
   ]
  },
  {
   "cell_type": "code",
   "execution_count": 37,
   "metadata": {},
   "outputs": [
    {
     "name": "stdout",
     "output_type": "stream",
     "text": [
      "Phonon occupation: 2.12. Phonon thermal energy is 208.50. Phonon SD peak is 0.00. V=0.0. N=4.\n",
      "(5.41733588299e-09+0j)\n",
      "(5.41733588299e-09+0j)\n",
      "(5.41733588299e-09+0j)\n",
      "(5.41733588299e-09+0j)\n",
      "(5.97261156162e-09+0j)\n",
      "(5.97261156162e-09+0j)\n",
      "(5.97261156162e-09+0j)\n",
      "(5.97261156162e-09+0j)\n",
      "gamma_RC : 0.0159154943092\tmu_R : 0.0\tmu_L : 0.0\tdelta_R : 24.1965\tenergy_shift : 0.0\tOmega_RC : 80.655\tOmega_ph : 80.655\tT_ph : 300.0\tbinding_energy : 806.55\tdeformation_ratio : 0.5\tradiative_lifetime : inf\tleads_lifetime : 1\tomega_exciton : 16131.0\tGamma_EM : 0.0\tOmega_R : 8468.775\tJ : <function J_minimal at 0x7fb8ba0e1f50>\tomega_v : 8468.775\tT_EM : 5800\talpha_ph : 0.0\tOmega_L : -8468.775\tomega_c : 8468.775\tN : 4\tGamma_L : 0.005309\tT_L : 300.0\tsys_dim : 4\tGamma_ph : 8.0655\tdelta_L : 24.1965\tT_R : 300.0\tkappa_RC : 0.0\tGamma_R : 0.005309\n",
      "Quantum object: dims = [[4], [4]], shape = (4, 4), type = oper, isherm = True\n",
      "Qobj data =\n",
      "[[ 0.5  0.   0.   0. ]\n",
      " [ 0.   0.   0.   0. ]\n",
      " [ 0.   0.   0.5  0. ]\n",
      " [ 0.   0.   0.   0. ]]\n",
      "Quantum object: dims = [[4], [4]], shape = (4, 4), type = oper, isherm = True\n",
      "Qobj data =\n",
      "[[ -6.54123381e-07   0.00000000e+00   0.00000000e+00   0.00000000e+00]\n",
      " [  0.00000000e+00   0.00000000e+00   0.00000000e+00   0.00000000e+00]\n",
      " [  0.00000000e+00   0.00000000e+00   1.00000065e+00   0.00000000e+00]\n",
      " [  0.00000000e+00   0.00000000e+00   0.00000000e+00   0.00000000e+00]]\n"
     ]
    },
    {
     "data": {
      "text/plain": [
       "\"ss = steadystate(L_dict['H_S'], [L_dict['L_add_leads']])\\nprint(ss.ptrace(0))\\nss = steadystate(L_dict['H_S'], [L_dict['L_no_EM']])\\nprint(ss.ptrace(0))\\nss = steadystate(L_dict['H_S'], [L_dict['L_no_EM']])\\nprint(ss.ptrace(0))\""
      ]
     },
     "execution_count": 37,
     "metadata": {},
     "output_type": "execute_result"
    }
   ],
   "source": [
    "PARAMS = PARAMS_setup(binding_energy=0.1, radiative_lifetime=np.infty, alpha_ph=0, mu_L=0.0, \n",
    "                      bias_voltage=0, N=4, silent=False)\n",
    "L_dict = build_all_L(PARAMS)\n",
    "print_PARAMS(PARAMS)\n",
    "ss = steadystate(L_dict['H_S'], [L_dict['L_full']])\n",
    "print(ss.ptrace(0))\n",
    "ss = steadystate(L_dict['H_S'], [L_dict['L_lindblad']])\n",
    "print(ss.ptrace(0))\n",
    "\"\"\"ss = steadystate(L_dict['H_S'], [L_dict['L_add_leads']])\n",
    "print(ss.ptrace(0))\n",
    "ss = steadystate(L_dict['H_S'], [L_dict['L_no_EM']])\n",
    "print(ss.ptrace(0))\n",
    "ss = steadystate(L_dict['H_S'], [L_dict['L_no_EM']])\n",
    "print(ss.ptrace(0))\"\"\""
   ]
  },
  {
   "cell_type": "code",
   "execution_count": null,
   "metadata": {},
   "outputs": [],
   "source": [
    "300*0.695/ev_to_inv_cm"
   ]
  },
  {
   "cell_type": "code",
   "execution_count": null,
   "metadata": {},
   "outputs": [],
   "source": [
    "PARAMS = PARAMS_setup(binding_energy=0.0, radiative_lifetime=np.infty, alpha_ph=0., mu_L=-1.3, \n",
    "                      bias_voltage=8.0, N=4, silent=False)\n",
    "L_dict = build_all_L(PARAMS)\n",
    "print_PARAMS(PARAMS)\n",
    "ss = steadystate(L_dict['H_S'], [L_dict['L_full']])\n",
    "print(ss.ptrace(0))\n",
    "ss = steadystate(L_dict['H_S'], [L_dict['L_add_EM']])\n",
    "print(ss.ptrace(0))\n",
    "ss = steadystate(L_dict['H_S'], [L_dict['L_add_leads']])\n",
    "print(ss.ptrace(0))\n",
    "ss = steadystate(L_dict['H_S'], [L_dict['L_no_EM']])\n",
    "print(ss.ptrace(0))"
   ]
  },
  {
   "cell_type": "code",
   "execution_count": null,
   "metadata": {},
   "outputs": [],
   "source": [
    "PARAMS = PARAMS_setup(binding_energy=0.1, radiative_lifetime=1, alpha_ph=100e-3, mu_L=0.0, \n",
    "                      bias_voltage=0.5, N=14, silent=False)\n",
    "L_dict = build_all_L(PARAMS)\n",
    "print_PARAMS(PARAMS)\n",
    "ss = steadystate(L_dict['H_S'], [L_dict['L_full']])\n",
    "print(ss.ptrace(0))\n",
    "ss = steadystate(L_dict['H_S'], [L_dict['L_add_EM']])\n",
    "print(ss.ptrace(0))\n",
    "ss = steadystate(L_dict['H_S'], [L_dict['L_add_leads']])\n",
    "print(ss.ptrace(0))\n",
    "ss = steadystate(L_dict['H_S'], [L_dict['L_no_EM']])\n",
    "print(ss.ptrace(0))"
   ]
  },
  {
   "cell_type": "code",
   "execution_count": null,
   "metadata": {
    "collapsed": true
   },
   "outputs": [],
   "source": [
    "def current_from_L(H, L_full, L_track, n_c):\n",
    "    obs_out = []\n",
    "    rho_ss = qt.steadystate(H, [L_full])\n",
    "    return -(qt.vector_to_operator(L_track*qt.operator_to_vector(rho_ss))*n_c).tr()\n",
    "\n",
    "def current_and_obs_from_L(H, L_full, L_track, obs_ops):\n",
    "    obs_out = []\n",
    "    rho_ss = qt.steadystate(H, [L_full])\n",
    "    obs_out.append(-(qt.vector_to_operator(L_track*qt.operator_to_vector(rho_ss))*obs_ops[0]).tr())\n",
    "    for obs in obs_ops[1::]:\n",
    "        obs_out.append((rho_ss*obs).tr())\n",
    "    del rho_ss\n",
    "    return obs_out\n",
    "\n",
    "def simple_current_voltage(PARAMS):\n",
    "    bias_voltages = np. linspace(0, PARAMS['omega_exciton']*1.2, 100)\n",
    "    \n",
    "    currents = []\n",
    "    for i, bv in enumerate(bias_voltages):\n",
    "        PARAMS.update({'mu_R': PARAMS['mu_L']+bv})\n",
    "        if i in [10, 30, 50, 90]:\n",
    "            print_PARAMS(PARAMS)\n",
    "        L_dict = build_full_L(PARAMS, silent=True)\n",
    "        ops = make_expectation_operators(PARAMS)\n",
    "        d_e_RC = ops['d_e']\n",
    "        n_c = d_e_RC.dag()*d_e_RC\n",
    "        currents.append(current_from_L(L_dict['H_S'], L_dict['L_full'], L_dict['L_R'], n_c))\n",
    "    return bias_voltages, currents\n",
    "\n",
    "\n"
   ]
  },
  {
   "cell_type": "code",
   "execution_count": null,
   "metadata": {},
   "outputs": [],
   "source": [
    "PARAMS = PARAMS_setup(binding_energy=0.0, leads_lifetime=2, radiative_lifetime=1, \n",
    "                      alpha_ph=0, mu_L=3e-2, bias_voltage=0, N=4, silent=False)\n",
    "V_values, I = simple_current_voltage(PARAMS)"
   ]
  },
  {
   "cell_type": "code",
   "execution_count": null,
   "metadata": {},
   "outputs": [],
   "source": [
    "I"
   ]
  },
  {
   "cell_type": "code",
   "execution_count": null,
   "metadata": {},
   "outputs": [],
   "source": [
    "np.array(I).real"
   ]
  },
  {
   "cell_type": "code",
   "execution_count": null,
   "metadata": {},
   "outputs": [],
   "source": [
    "plt.plot(V_values, np.array(I).real)\n",
    "plt.show()"
   ]
  },
  {
   "cell_type": "code",
   "execution_count": null,
   "metadata": {},
   "outputs": [],
   "source": [
    "plt.plot(V_values, I)\n",
    "plt.show()"
   ]
  },
  {
   "cell_type": "code",
   "execution_count": null,
   "metadata": {},
   "outputs": [],
   "source": [
    "PARAMS"
   ]
  },
  {
   "cell_type": "code",
   "execution_count": null,
   "metadata": {
    "collapsed": true
   },
   "outputs": [],
   "source": []
  }
 ],
 "metadata": {
  "kernelspec": {
   "display_name": "Python 3",
   "language": "python",
   "name": "python3"
  },
  "language_info": {
   "codemirror_mode": {
    "name": "ipython",
    "version": 2
   },
   "file_extension": ".py",
   "mimetype": "text/x-python",
   "name": "python",
   "nbconvert_exporter": "python",
   "pygments_lexer": "ipython2",
   "version": "2.7.13"
  }
 },
 "nbformat": 4,
 "nbformat_minor": 2
}
