{
 "cells": [
  {
   "cell_type": "code",
   "execution_count": 1,
   "metadata": {},
   "outputs": [
    {
     "name": "stdout",
     "output_type": "stream",
     "text": [
      "utils imported\n"
     ]
    }
   ],
   "source": [
    "import time \n",
    "from qutip import mesolve, steadystate\n",
    "import numpy as np\n",
    "import optical as EM\n",
    "import phonons as RC\n",
    "import leads as FL\n",
    "from utils import *\n",
    "from style import *\n",
    "from photocell_setup import *\n",
    "#from importlib import reload"
   ]
  },
  {
   "cell_type": "code",
   "execution_count": 2,
   "metadata": {},
   "outputs": [
    {
     "data": {
      "image/png": "[encoded data removed]",
      "text/plain": [
       "<matplotlib.figure.Figure at 0x7f8e44298990>"
      ]
     },
     "metadata": {},
     "output_type": "display_data"
    }
   ],
   "source": [
    "w = np.linspace(-100, 100, 1000)\n",
    "plt.plot(w, FL.J_Lorentzian(w, 10, 100, Gamma=1)*FL.fermi_occ(w, 10, 0.) )\n",
    "#plt.plot(w, FL.J_Lorentzian(w, 10,100,Gamma=1)*(1-FL.fermi_occ(w, 10, 0.)))\n",
    "#plt.plot(w, J_underdamped(w, 10,10,alpha=1/(2*pi)) )\n",
    "plt.show()"
   ]
  },
  {
   "cell_type": "code",
   "execution_count": 3,
   "metadata": {
    "collapsed": true
   },
   "outputs": [],
   "source": [
    "reload(RC)\n",
    "reload(EM)\n",
    "reload(FL)\n",
    "\n",
    "def dynamics( H, L, PARAMS, tf=10, tN=1000):\n",
    "    timelist = np.linspace(0, tf, tN)\n",
    "    ops = make_expectation_operators(PARAMS)\n",
    "    rho_0 = tensor(0.5*(exciton_ket+vac_ket)*(exciton_ket.dag()+vac_ket.dag()), \n",
    "                   thermal_dm(PARAMS['N'], Occupation(PARAMS['Omega_RC'], PARAMS['T_ph'])))\n",
    "    data = mesolve(H, rho_0, timelist, c_ops=[L], e_ops=[ops['exciton'], ops['real_coherence'], \n",
    "                                                         ops['imag_coherence']], \n",
    "                   options=qt.Options(nsteps=15000))\n",
    "    plt.figure()\n",
    "    plt.plot(timelist, data.expect[0])\n",
    "    plt.figure()\n",
    "    plt.plot(timelist, data.expect[1])\n",
    "    plt.show()\n",
    "\n",
    "def build_full_L(PARAMS, silent=True):\n",
    "    # RC mapping on operators etc\n",
    "    PARAMS, L_RC, H_S, A_nrwa, A_RC, A_L, A_R = RC.RC_mapping(PARAMS, silent=silent)\n",
    "    H = H_S # H_S\n",
    "    H_add = tensor(PARAMS['H_sub'], qeye(PARAMS['N']))\n",
    "    # optical liouv and additive\n",
    "    if PARAMS['radiative_lifetime'] == np.infty:\n",
    "        L_EM_add = L_EM = 0\n",
    "    else:\n",
    "        L_EM = EM.L_non_rwa(H_S, A_nrwa, PARAMS['omega_exciton'], PARAMS['Gamma_EM'], \n",
    "                            PARAMS['T_EM'], PARAMS['J'],\n",
    "                                    silent=silent, tol=0)\n",
    "    \n",
    "    #  Left and right leads and additive\n",
    "    #L_L, L_R = FL.L_R_lead_dissipators(H_S, PARAMS, real_only=False, silent=False)\n",
    "    L_L, L_R = FL.L_R_lead_dissipators(H, PARAMS, silent=silent)\n",
    "    # dict of various combinations    \n",
    "    L_dict = {'PARAMS': PARAMS, 'H_S': H_S, 'L_EM': L_EM, 'L_R': L_R, \n",
    "                                            'L_full' : L_EM+L_L+L_R+L_RC}\n",
    "    return L_dict # dict\n",
    "\n",
    "def build_Lindblad_L(PARAMS, silent=True):\n",
    "    # RC mapping on operators etc\n",
    "    PARAMS, L_RC, H_S, A_nrwa, A_RC, A_L, A_R = RC.RC_mapping(PARAMS, silent=silent)\n",
    "    H = H_S # H_S\n",
    "    H_add = tensor(PARAMS['H_sub'], qeye(PARAMS['N']))\n",
    "    # optical liouv and additive\n",
    "    if PARAMS['radiative_lifetime'] == np.infty:\n",
    "        L_EM_add = L_EM = 0\n",
    "    else:\n",
    "        L_EM = EM.L_non_rwa(H_S, A_nrwa, PARAMS['omega_exciton'], PARAMS['Gamma_EM'], \n",
    "                            PARAMS['T_EM'], PARAMS['J'],\n",
    "                                    silent=silent, tol=0)\n",
    "    \n",
    "    #  Left and right leads and additive\n",
    "    #L_L, L_R = FL.L_R_lead_dissipators(H_S, PARAMS, real_only=False, silent=False)\n",
    "    L_L_lindblad, L_R_lindblad = L_left_and_right_secular(H, PARAMS)\n",
    "    # dict of various combinations    \n",
    "    L_dict = {'PARAMS': PARAMS, 'H_S': H_S, 'L_EM': L_EM, 'L_R_lindblad': L_R_lindblad, \n",
    "                                            'L_lindblad' : L_EM+L_L_lindblad+L_R_lindblad+L_RC}\n",
    "    return L_dict # dict\n",
    "\n",
    "def build_all_L(PARAMS, silent=True):\n",
    "    # RC mapping on operators etc\n",
    "    PARAMS, L_RC, H_S, A_nrwa, A_RC, A_L, A_R = RC.RC_mapping(PARAMS, silent=silent)\n",
    "    H = H_S # H_S\n",
    "    H_add = tensor(PARAMS['H_sub'], qeye(PARAMS['N']))\n",
    "    # optical liouv and additive\n",
    "    if PARAMS['radiative_lifetime'] == np.infty:\n",
    "        L_EM_add = L_EM = 0\n",
    "    else:\n",
    "        L_EM = EM.L_non_rwa(H_S, A_nrwa, PARAMS['omega_exciton'], PARAMS['Gamma_EM'], \n",
    "                            PARAMS['T_EM'], PARAMS['J'],\n",
    "                                    silent=silent, tol=0)\n",
    "        L_EM_add = EM.L_non_rwa(H_add, A_nrwa, PARAMS['omega_exciton'], PARAMS['Gamma_EM'], \n",
    "                                PARAMS['T_EM'], PARAMS['J'],\n",
    "                                    silent=silent, tol=0)\n",
    "    \n",
    "    #  Left and right leads and additive\n",
    "    L_L, L_R = FL.L_R_lead_dissipators(H, PARAMS, silent=silent)\n",
    "    L_L_lindblad, L_R_lindblad = L_left_and_right_secular(H, PARAMS)\n",
    "    L_L_add, L_R_add = FL.L_left_nonadditive(H_add, PARAMS), FL.L_right_nonadditive(H_add, PARAMS)\n",
    "    # dict of various combinations    \n",
    "    L_dict = {'PARAMS': PARAMS, 'H_S': H_S, 'L_EM': L_EM, 'L_R': L_R, 'L_R_lindblad': L_R_lindblad,\n",
    "                                            'L_full' : L_EM+L_L+L_R+L_RC,\n",
    "                                            'L_lindblad' : L_EM+L_L_lindblad+L_R_lindblad+L_RC,\n",
    "                                            'L_add_EM' : L_EM_add+L_R+L_L+L_RC,\n",
    "                                            'L_add_leads' : L_EM+L_L_add+L_R_add+L_RC,\n",
    "                                            'L_no_EM' : L_R+L_L+L_RC}\n",
    "    return L_dict # dict\n",
    "#return H_S, L_RC, L_EM, L_EM_add, L_L, L_R, L_L_add, L_R_add\n",
    "\n"
   ]
  },
  {
   "cell_type": "code",
   "execution_count": 4,
   "metadata": {
    "collapsed": true
   },
   "outputs": [],
   "source": [
    "def secular_term(state_j, state_k):\n",
    "    jk = state_j*state_k.dag()\n",
    "    kj = jk.dag()\n",
    "    jj = state_j*state_j.dag()\n",
    "    return sprepost(kj, jk) - 0.5*(spre(jj) + spost(jj))\n",
    "\n",
    "def L_left_and_right_secular(H, PARAMS):\n",
    "    ti = time.time()\n",
    "    energies, states = H.eigenstates()\n",
    "    A_R = tensor(PARAMS['A_R'], qeye(PARAMS['N']))\n",
    "    A_L = tensor(PARAMS['A_L'], qeye(PARAMS['N']))\n",
    "    H_dim = len(energies)\n",
    "    Lambda_up_R = lambda x :  FL.Lamdba_complex_rate(x, FL.J_Lorentzian, PARAMS['mu_R'], PARAMS['T_R'], PARAMS['Gamma_R'], \n",
    "                                                    PARAMS['delta_R'], PARAMS['Omega_R'], type='p', real_only=True)\n",
    "    Lambda_down_R = lambda x :  FL.Lamdba_complex_rate(x, FL.J_Lorentzian, PARAMS['mu_R'], PARAMS['T_R'], PARAMS['Gamma_R'], \n",
    "                                                    PARAMS['delta_R'], PARAMS['Omega_R'], type='m', real_only=True)\n",
    "    \n",
    "    Lambda_up_L = lambda x :  FL.Lamdba_complex_rate(x, FL.J_Lorentzian, PARAMS['mu_L'], PARAMS['T_L'], PARAMS['Gamma_L'], \n",
    "                                                    PARAMS['delta_L'], PARAMS['Omega_L'], type='p', real_only=True)\n",
    "    Lambda_down_L = lambda x :  FL.Lamdba_complex_rate(x, FL.J_Lorentzian, PARAMS['mu_L'], PARAMS['T_L'], PARAMS['Gamma_L'], \n",
    "                                                    PARAMS['delta_L'], PARAMS['Omega_L'], type='m', real_only=True)\n",
    "    \n",
    "    L_L = L_R = 0\n",
    "    for j in range(H_dim):\n",
    "        for k in range(H_dim):\n",
    "            omega_jk = energies[j]-energies[k]\n",
    "            state_j, state_k = states[j], states[k]\n",
    "            \n",
    "            A_dag_jk = A_R.dag().matrix_element(state_j, state_k)\n",
    "            A_kj = A_R.matrix_element(state_k, state_j)\n",
    "            coeff = A_dag_jk*A_kj\n",
    "            if np.abs(coeff) > 0:\n",
    "                L_R += Lambda_down_R(omega_jk)*coeff*secular_term(state_j, state_k)\n",
    "                L_R += Lambda_up_R(omega_jk)*coeff*secular_term(state_k, state_j)\n",
    "            \n",
    "            A_dag_jk = A_L.dag().matrix_element(state_j, state_k)\n",
    "            A_kj = A_L.matrix_element(state_k, state_j)\n",
    "            coeff = A_dag_jk*A_kj\n",
    "            if np.abs(coeff) > 0:\n",
    "                L_L += Lambda_up_L(-omega_jk)*coeff*secular_term(state_j, state_k)\n",
    "                L_L += Lambda_down_L(-omega_jk)*coeff*secular_term(state_k, state_j)\n",
    "    #print(time.time() - ti)\n",
    "    return L_L, L_R"
   ]
  },
  {
   "cell_type": "code",
   "execution_count": 5,
   "metadata": {
    "collapsed": true
   },
   "outputs": [],
   "source": [
    "def L_left_and_right_electronic(PARAMS):\n",
    "    ti = time.time()\n",
    "    energies, states = PARAMS['H_sub'].eigenstates()\n",
    "    A_R = d_e\n",
    "    A_L = d_h\n",
    "    H_dim = len(energies)\n",
    "    Lambda_up_R = lambda x :  FL.Lamdba_complex_rate(x, FL.J_Lorentzian, PARAMS['mu_R'], PARAMS['T_R'], PARAMS['Gamma_R'], \n",
    "                                                    PARAMS['delta_R'], PARAMS['Omega_R'], type='p', real_only=True)\n",
    "    Lambda_down_R = lambda x :  FL.Lamdba_complex_rate(x, FL.J_Lorentzian, PARAMS['mu_R'], PARAMS['T_R'], PARAMS['Gamma_R'], \n",
    "                                                    PARAMS['delta_R'], PARAMS['Omega_R'], type='m', real_only=True)\n",
    "    \n",
    "    Lambda_up_L = lambda x :  FL.Lamdba_complex_rate(x, FL.J_Lorentzian, PARAMS['mu_L'], PARAMS['T_L'], PARAMS['Gamma_L'], \n",
    "                                                    PARAMS['delta_L'], PARAMS['Omega_L'], type='p', real_only=True)\n",
    "    Lambda_down_L = lambda x :  FL.Lamdba_complex_rate(x, FL.J_Lorentzian, PARAMS['mu_L'], PARAMS['T_L'], PARAMS['Gamma_L'], \n",
    "                                                    PARAMS['delta_L'], PARAMS['Omega_L'], type='m', real_only=True)\n",
    "    \n",
    "    L_L = L_R = 0\n",
    "    for j in range(H_dim):\n",
    "        for k in range(H_dim):\n",
    "            omega_jk = energies[j]-energies[k]\n",
    "            state_j, state_k = states[j], states[k]\n",
    "            \n",
    "            A_dag_jk = A_R.dag().matrix_element(state_j, state_k)\n",
    "            A_kj = A_R.matrix_element(state_k, state_j)\n",
    "            coeff = A_dag_jk*A_kj\n",
    "            if np.abs(coeff) > 0:\n",
    "                L_R += Lambda_down_R(omega_jk)*coeff*secular_term(state_j, state_k)\n",
    "                L_R += Lambda_up_R(omega_jk)*coeff*secular_term(state_k, state_j)\n",
    "            \n",
    "            A_dag_jk = A_L.dag().matrix_element(state_j, state_k)\n",
    "            A_kj = A_L.matrix_element(state_k, state_j)\n",
    "            coeff = A_dag_jk*A_kj\n",
    "            if np.abs(coeff) > 0:\n",
    "                L_L += Lambda_up_L(-omega_jk)*coeff*secular_term(state_j, state_k)\n",
    "                L_L += Lambda_down_L(-omega_jk)*coeff*secular_term(state_k, state_j)\n",
    "    #print(time.time() - ti)\n",
    "    return L_L, L_R"
   ]
  },
  {
   "cell_type": "code",
   "execution_count": 6,
   "metadata": {
    "collapsed": true
   },
   "outputs": [],
   "source": [
    "def current_from_L(L_dict, n_c_RC):\n",
    "    ss = steadystate(L_dict['H_S'], [L_dict['L_lindblad']])\n",
    "    return -(qt.vector_to_operator(L_dict['L_R']*qt.operator_to_vector(ss))*n_c_RC).tr()\n",
    "\n",
    "def current_from_ss(ss, L_R, n_c_RC):\n",
    "    return -(qt.vector_to_operator(L_R*qt.operator_to_vector(ss))*n_c_RC).tr()\n",
    "\n",
    "def current_and_obs_from_L(H, L_full, L_track, obs_ops):\n",
    "    obs_out = []\n",
    "    rho_ss = qt.steadystate(H, [L_full])\n",
    "    obs_out.append(-(qt.vector_to_operator(L_track*qt.operator_to_vector(rho_ss))*obs_ops[0]).tr())\n",
    "    for obs in obs_ops[1::]:\n",
    "        obs_out.append((rho_ss*obs).tr())\n",
    "    del rho_ss\n",
    "    return obs_out\n",
    "\n",
    "def band_populations_voltage(PARAMS):\n",
    "    #bias_voltages = [0, 0.5, 1]\n",
    "    bias_voltages = np. linspace(0, PARAMS['omega_exciton']*1., 100)\n",
    "    conduction_population = []\n",
    "    valence_population = []\n",
    "    for i, bv in enumerate(bias_voltages):\n",
    "        PARAMS.update({'mu_R': PARAMS['mu_L']+bv})\n",
    "        #if i in [10, 90]:\n",
    "        #    print_PARAMS(PARAMS)\n",
    "        L_Lindblad_dict = build_Lindblad_L(PARAMS, silent=True)\n",
    "        #ops = make_expectation_operators(PARAMS)\n",
    "        n_c = tensor(d_e.dag()*d_e, qeye(PARAMS['N']))\n",
    "        n_v = tensor(d_h.dag()*d_h, qeye(PARAMS['N']))\n",
    "        ss = steadystate(L_Lindblad_dict['H_S'], [L_Lindblad_dict['L_lindblad']])\n",
    "        if i in [10, 90]:\n",
    "            print( ss.ptrace(0) )\n",
    "        conduction_population.append((n_c*ss).tr())\n",
    "        valence_population.append((n_v*ss).tr())\n",
    "    bias_voltages/=ev_to_inv_cm\n",
    "    return bias_voltages, conduction_population, valence_population\n",
    "\n",
    "def simple_current_voltage(PARAMS, x_scale=1):\n",
    "    bias_voltages = np. linspace(0, PARAMS['omega_exciton']*x_scale, 100)\n",
    "    currents = []\n",
    "    for i, bv in enumerate(bias_voltages):\n",
    "        PARAMS.update({'mu_R': PARAMS['mu']+bv/2, 'mu_L': PARAMS['mu']-bv/2})\n",
    "        #if i in [10, 90]:\n",
    "        #    print_PARAMS(PARAMS)\n",
    "        L_Lindblad_dict = build_Lindblad_L(PARAMS, silent=True)\n",
    "        #ops = make_expectation_operators(PARAMS)\n",
    "        n_c = tensor(d_e.dag()*d_e, qeye(PARAMS['N']))\n",
    "        ss = steadystate(L_Lindblad_dict['H_S'], [L_Lindblad_dict['L_lindblad']])\n",
    "        currents.append(current_from_ss(ss, L_Lindblad_dict['L_R_lindblad'], n_c))\n",
    "        \n",
    "        if i in [10, 90]:\n",
    "            print( ss.ptrace(0) )\n",
    "            print_PARAMS(PARAMS)\n",
    "    bias_voltages/=ev_to_inv_cm\n",
    "    return bias_voltages, currents\n"
   ]
  },
  {
   "cell_type": "code",
   "execution_count": 7,
   "metadata": {
    "scrolled": true
   },
   "outputs": [
    {
     "name": "stdout",
     "output_type": "stream",
     "text": [
      "Phonon occupation: 2.12. Phonon thermal energy is 208.50. Phonon SD peak is 0.00. V=0.0. N=3.\n",
      "Quantum object: dims = [[4], [4]], shape = (4, 4), type = oper, isherm = True\n",
      "Qobj data =\n",
      "[[ 0.91033613  0.          0.          0.        ]\n",
      " [ 0.          0.02988796  0.          0.        ]\n",
      " [ 0.          0.          0.02988796  0.        ]\n",
      " [ 0.          0.          0.          0.02988796]]\n",
      "Omega_RC : 80.655\n",
      "gamma_RC : 0.0159154943092\n",
      "bandgap : 11291.7\n",
      "mu_R : 7755.91515152\n",
      "mu_L : 5148.88484848\n",
      "delta_R : 24.1965\n",
      "energy_shift : 0.0\n",
      "mu : 6452.4\n",
      "Omega_ph : 80.655\n",
      "T_ph : 300.0\n",
      "binding_energy : 0.0\n",
      "deformation_ratio : 0.5\n",
      "radiative_lifetime : 1\n",
      "leads_lifetime : 1\n",
      "omega_exciton : 12904.8\n",
      "Gamma_EM : 0.005309\n",
      "Omega_R : 12098.25\n",
      "J : <function J_minimal at 0x7f8e16fb2050>\n",
      "omega_v : 806.55\n",
      "T_EM : 5800\n",
      "alpha_ph : 0.0\n",
      "Omega_L : -806.55\n",
      "omega_c : 12098.25\n",
      "N : 3\n",
      "Gamma_L : 0.005309\n",
      "T_L : 300.0\n",
      "sys_dim : 4\n",
      "Gamma_ph : 8.0655\n",
      "delta_L : 24.1965\n",
      "T_R : 300.0\n",
      "kappa_RC : 0.0\n",
      "Gamma_R : 0.005309\n",
      "Quantum object: dims = [[4], [4]], shape = (4, 4), type = oper, isherm = True\n",
      "Qobj data =\n",
      "[[ 0.30482887  0.          0.          0.        ]\n",
      " [ 0.          0.30482887  0.          0.        ]\n",
      " [ 0.          0.          0.30482887  0.        ]\n",
      " [ 0.          0.          0.          0.0855134 ]]\n",
      "Omega_RC : 80.655\n",
      "gamma_RC : 0.0159154943092\n",
      "bandgap : 11291.7\n",
      "mu_R : 18184.0363636\n",
      "mu_L : -5279.23636364\n",
      "delta_R : 24.1965\n",
      "energy_shift : 0.0\n",
      "mu : 6452.4\n",
      "Omega_ph : 80.655\n",
      "T_ph : 300.0\n",
      "binding_energy : 0.0\n",
      "deformation_ratio : 0.5\n",
      "radiative_lifetime : 1\n",
      "leads_lifetime : 1\n",
      "omega_exciton : 12904.8\n",
      "Gamma_EM : 0.005309\n",
      "Omega_R : 12098.25\n",
      "J : <function J_minimal at 0x7f8e16fb2050>\n",
      "omega_v : 806.55\n",
      "T_EM : 5800\n",
      "alpha_ph : 0.0\n",
      "Omega_L : -806.55\n",
      "omega_c : 12098.25\n",
      "N : 3\n",
      "Gamma_L : 0.005309\n",
      "T_L : 300.0\n",
      "sys_dim : 4\n",
      "Gamma_ph : 8.0655\n",
      "delta_L : 24.1965\n",
      "T_R : 300.0\n",
      "kappa_RC : 0.0\n",
      "Gamma_R : 0.005309\n"
     ]
    },
    {
     "data": {
      "image/png": "[encoded data removed]",
      "text/plain": [
       "<matplotlib.figure.Figure at 0x7f8e16fee910>"
      ]
     },
     "metadata": {},
     "output_type": "display_data"
    }
   ],
   "source": [
    "PARAMS = PARAMS_setup(binding_energy=0.0, radiative_lifetime=1, alpha_ph=0, mu=800e-3,\n",
    "                      bias_voltage=0, N=3, silent=False)\n",
    "V_values, I = simple_current_voltage(PARAMS, x_scale=2)\n",
    "plt.plot(V_values, np.array(I).real)\n",
    "plt.show()"
   ]
  },
  {
   "cell_type": "code",
   "execution_count": 13,
   "metadata": {},
   "outputs": [
    {
     "data": {
      "image/png": "[encoded data removed]",
      "text/plain": [
       "<matplotlib.figure.Figure at 0x7f8e11a2b150>"
      ]
     },
     "metadata": {},
     "output_type": "display_data"
    }
   ],
   "source": [
    "plt.plot(V_values, np.array(I).real)\n",
    "plt.axvline(PARAMS['omega_exciton']/ev_to_inv_cm, linestyle='dashed')\n",
    "plt.axvline(PARAMS['bandgap']/ev_to_inv_cm, linestyle='dashed', color='b')\n",
    "plt.show()"
   ]
  },
  {
   "cell_type": "code",
   "execution_count": 8,
   "metadata": {},
   "outputs": [
    {
     "data": {
      "text/plain": [
       "1.5999999999999999"
      ]
     },
     "execution_count": 8,
     "metadata": {},
     "output_type": "execute_result"
    }
   ],
   "source": [
    "12904.8/ev_to_inv_cm"
   ]
  },
  {
   "cell_type": "code",
   "execution_count": 9,
   "metadata": {
    "scrolled": true
   },
   "outputs": [
    {
     "name": "stdout",
     "output_type": "stream",
     "text": [
      "Phonon occupation: 2.12. Phonon thermal energy is 208.50. Phonon SD peak is 0.00. V=0.0. N=3.\n"
     ]
    },
    {
     "ename": "KeyboardInterrupt",
     "evalue": "",
     "output_type": "error",
     "traceback": [
      "\u001b[0;31m---------------------------------------------------------------------------\u001b[0m",
      "\u001b[0;31mKeyboardInterrupt\u001b[0m                         Traceback (most recent call last)",
      "\u001b[0;32m<ipython-input-9-0afcc07984a2>\u001b[0m in \u001b[0;36m<module>\u001b[0;34m()\u001b[0m\n\u001b[1;32m      1\u001b[0m PARAMS = PARAMS_setup(binding_energy=0, radiative_lifetime=1, alpha_ph=0, mu=800e-3, T_EM=0,\n\u001b[1;32m      2\u001b[0m                       bias_voltage=0, N=3, silent=False)\n\u001b[0;32m----> 3\u001b[0;31m \u001b[0mV_values\u001b[0m\u001b[0;34m,\u001b[0m \u001b[0mI\u001b[0m \u001b[0;34m=\u001b[0m \u001b[0msimple_current_voltage\u001b[0m\u001b[0;34m(\u001b[0m\u001b[0mPARAMS\u001b[0m\u001b[0;34m,\u001b[0m \u001b[0mx_scale\u001b[0m\u001b[0;34m=\u001b[0m\u001b[0;36m2\u001b[0m\u001b[0;34m)\u001b[0m\u001b[0;34m\u001b[0m\u001b[0m\n\u001b[0m\u001b[1;32m      4\u001b[0m \u001b[0mplt\u001b[0m\u001b[0;34m.\u001b[0m\u001b[0mplot\u001b[0m\u001b[0;34m(\u001b[0m\u001b[0mV_values\u001b[0m\u001b[0;34m,\u001b[0m \u001b[0mnp\u001b[0m\u001b[0;34m.\u001b[0m\u001b[0marray\u001b[0m\u001b[0;34m(\u001b[0m\u001b[0mI\u001b[0m\u001b[0;34m)\u001b[0m\u001b[0;34m.\u001b[0m\u001b[0mreal\u001b[0m\u001b[0;34m)\u001b[0m\u001b[0;34m\u001b[0m\u001b[0m\n\u001b[1;32m      5\u001b[0m \u001b[0mplt\u001b[0m\u001b[0;34m.\u001b[0m\u001b[0mshow\u001b[0m\u001b[0;34m(\u001b[0m\u001b[0;34m)\u001b[0m\u001b[0;34m\u001b[0m\u001b[0m\n",
      "\u001b[0;32m<ipython-input-6-40b8e44b9fdb>\u001b[0m in \u001b[0;36msimple_current_voltage\u001b[0;34m(PARAMS, x_scale)\u001b[0m\n\u001b[1;32m     43\u001b[0m         \u001b[0;31m#if i in [10, 90]:\u001b[0m\u001b[0;34m\u001b[0m\u001b[0;34m\u001b[0m\u001b[0m\n\u001b[1;32m     44\u001b[0m         \u001b[0;31m#    print_PARAMS(PARAMS)\u001b[0m\u001b[0;34m\u001b[0m\u001b[0;34m\u001b[0m\u001b[0m\n\u001b[0;32m---> 45\u001b[0;31m         \u001b[0mL_Lindblad_dict\u001b[0m \u001b[0;34m=\u001b[0m \u001b[0mbuild_Lindblad_L\u001b[0m\u001b[0;34m(\u001b[0m\u001b[0mPARAMS\u001b[0m\u001b[0;34m,\u001b[0m \u001b[0msilent\u001b[0m\u001b[0;34m=\u001b[0m\u001b[0mTrue\u001b[0m\u001b[0;34m)\u001b[0m\u001b[0;34m\u001b[0m\u001b[0m\n\u001b[0m\u001b[1;32m     46\u001b[0m         \u001b[0;31m#ops = make_expectation_operators(PARAMS)\u001b[0m\u001b[0;34m\u001b[0m\u001b[0;34m\u001b[0m\u001b[0m\n\u001b[1;32m     47\u001b[0m         \u001b[0mn_c\u001b[0m \u001b[0;34m=\u001b[0m \u001b[0mtensor\u001b[0m\u001b[0;34m(\u001b[0m\u001b[0md_e\u001b[0m\u001b[0;34m.\u001b[0m\u001b[0mdag\u001b[0m\u001b[0;34m(\u001b[0m\u001b[0;34m)\u001b[0m\u001b[0;34m*\u001b[0m\u001b[0md_e\u001b[0m\u001b[0;34m,\u001b[0m \u001b[0mqeye\u001b[0m\u001b[0;34m(\u001b[0m\u001b[0mPARAMS\u001b[0m\u001b[0;34m[\u001b[0m\u001b[0;34m'N'\u001b[0m\u001b[0;34m]\u001b[0m\u001b[0;34m)\u001b[0m\u001b[0;34m)\u001b[0m\u001b[0;34m\u001b[0m\u001b[0m\n",
      "\u001b[0;32m<ipython-input-3-490c70ea18f6>\u001b[0m in \u001b[0;36mbuild_Lindblad_L\u001b[0;34m(PARAMS, silent)\u001b[0m\n\u001b[1;32m     49\u001b[0m         L_EM = EM.L_non_rwa(H_S, A_nrwa, PARAMS['omega_exciton'], PARAMS['Gamma_EM'], \n\u001b[1;32m     50\u001b[0m                             \u001b[0mPARAMS\u001b[0m\u001b[0;34m[\u001b[0m\u001b[0;34m'T_EM'\u001b[0m\u001b[0;34m]\u001b[0m\u001b[0;34m,\u001b[0m \u001b[0mPARAMS\u001b[0m\u001b[0;34m[\u001b[0m\u001b[0;34m'J'\u001b[0m\u001b[0;34m]\u001b[0m\u001b[0;34m,\u001b[0m\u001b[0;34m\u001b[0m\u001b[0m\n\u001b[0;32m---> 51\u001b[0;31m                                     silent=silent, tol=0)\n\u001b[0m\u001b[1;32m     52\u001b[0m \u001b[0;34m\u001b[0m\u001b[0m\n\u001b[1;32m     53\u001b[0m     \u001b[0;31m#  Left and right leads and additive\u001b[0m\u001b[0;34m\u001b[0m\u001b[0;34m\u001b[0m\u001b[0m\n",
      "\u001b[0;32m/home/henry/Work/phd-work/TLS-photocell-code/optical.pyc\u001b[0m in \u001b[0;36mL_non_rwa\u001b[0;34m(H_vib, A, w_0, Gamma, T_EM, J, principal, silent, alpha, tol)\u001b[0m\n\u001b[1;32m    144\u001b[0m             \u001b[0ms\u001b[0m \u001b[0;34m=\u001b[0m \u001b[0meVecs\u001b[0m\u001b[0;34m[\u001b[0m\u001b[0mi\u001b[0m\u001b[0;34m]\u001b[0m\u001b[0;34m*\u001b[0m\u001b[0;34m(\u001b[0m\u001b[0meVecs\u001b[0m\u001b[0;34m[\u001b[0m\u001b[0mj\u001b[0m\u001b[0;34m]\u001b[0m\u001b[0;34m.\u001b[0m\u001b[0mdag\u001b[0m\u001b[0;34m(\u001b[0m\u001b[0;34m)\u001b[0m\u001b[0;34m)\u001b[0m\u001b[0;34m\u001b[0m\u001b[0m\n\u001b[1;32m    145\u001b[0m             \u001b[0;31m#print A.matrix_element(eVecs[i].dag(), eVecs[j])\u001b[0m\u001b[0;34m\u001b[0m\u001b[0;34m\u001b[0m\u001b[0m\n\u001b[0;32m--> 146\u001b[0;31m             \u001b[0moverlap\u001b[0m \u001b[0;34m=\u001b[0m \u001b[0mA\u001b[0m\u001b[0;34m.\u001b[0m\u001b[0mmatrix_element\u001b[0m\u001b[0;34m(\u001b[0m\u001b[0meVecs\u001b[0m\u001b[0;34m[\u001b[0m\u001b[0mi\u001b[0m\u001b[0;34m]\u001b[0m\u001b[0;34m.\u001b[0m\u001b[0mdag\u001b[0m\u001b[0;34m(\u001b[0m\u001b[0;34m)\u001b[0m\u001b[0;34m,\u001b[0m \u001b[0meVecs\u001b[0m\u001b[0;34m[\u001b[0m\u001b[0mj\u001b[0m\u001b[0;34m]\u001b[0m\u001b[0;34m)\u001b[0m\u001b[0;34m\u001b[0m\u001b[0m\n\u001b[0m\u001b[1;32m    147\u001b[0m             \u001b[0ms\u001b[0m\u001b[0;34m*=\u001b[0m \u001b[0mA\u001b[0m\u001b[0;34m.\u001b[0m\u001b[0mmatrix_element\u001b[0m\u001b[0;34m(\u001b[0m\u001b[0meVecs\u001b[0m\u001b[0;34m[\u001b[0m\u001b[0mi\u001b[0m\u001b[0;34m]\u001b[0m\u001b[0;34m.\u001b[0m\u001b[0mdag\u001b[0m\u001b[0;34m(\u001b[0m\u001b[0;34m)\u001b[0m\u001b[0;34m,\u001b[0m \u001b[0meVecs\u001b[0m\u001b[0;34m[\u001b[0m\u001b[0mj\u001b[0m\u001b[0;34m]\u001b[0m\u001b[0;34m)\u001b[0m\u001b[0;34m\u001b[0m\u001b[0m\n\u001b[1;32m    148\u001b[0m             \u001b[0ms\u001b[0m\u001b[0;34m*=\u001b[0m \u001b[0mDecayRate\u001b[0m\u001b[0;34m(\u001b[0m\u001b[0meta\u001b[0m\u001b[0;34m,\u001b[0m \u001b[0mbeta\u001b[0m\u001b[0;34m,\u001b[0m \u001b[0mJ\u001b[0m\u001b[0;34m,\u001b[0m \u001b[0mGamma\u001b[0m\u001b[0;34m,\u001b[0m \u001b[0mw_0\u001b[0m\u001b[0;34m,\u001b[0m \u001b[0mimag_part\u001b[0m\u001b[0;34m=\u001b[0m\u001b[0mprincipal\u001b[0m\u001b[0;34m,\u001b[0m \u001b[0malpha\u001b[0m\u001b[0;34m=\u001b[0m\u001b[0malpha\u001b[0m\u001b[0;34m,\u001b[0m \u001b[0mtol\u001b[0m\u001b[0;34m=\u001b[0m\u001b[0mtol\u001b[0m\u001b[0;34m)\u001b[0m\u001b[0;34m\u001b[0m\u001b[0m\n",
      "\u001b[0;32m/home/henry/anaconda2/envs/qutip/lib/python2.7/site-packages/qutip/qobj.pyc\u001b[0m in \u001b[0;36mdag\u001b[0;34m(self)\u001b[0m\n\u001b[1;32m    866\u001b[0m         \"\"\"Adjoint operator of quantum object.\n\u001b[1;32m    867\u001b[0m         \"\"\"\n\u001b[0;32m--> 868\u001b[0;31m         \u001b[0mout\u001b[0m \u001b[0;34m=\u001b[0m \u001b[0mQobj\u001b[0m\u001b[0;34m(\u001b[0m\u001b[0;34m)\u001b[0m\u001b[0;34m\u001b[0m\u001b[0m\n\u001b[0m\u001b[1;32m    869\u001b[0m         \u001b[0mout\u001b[0m\u001b[0;34m.\u001b[0m\u001b[0mdata\u001b[0m \u001b[0;34m=\u001b[0m \u001b[0mzcsr_adjoint\u001b[0m\u001b[0;34m(\u001b[0m\u001b[0mself\u001b[0m\u001b[0;34m.\u001b[0m\u001b[0mdata\u001b[0m\u001b[0;34m)\u001b[0m\u001b[0;34m\u001b[0m\u001b[0m\n\u001b[1;32m    870\u001b[0m         \u001b[0mout\u001b[0m\u001b[0;34m.\u001b[0m\u001b[0mdims\u001b[0m \u001b[0;34m=\u001b[0m \u001b[0;34m[\u001b[0m\u001b[0mself\u001b[0m\u001b[0;34m.\u001b[0m\u001b[0mdims\u001b[0m\u001b[0;34m[\u001b[0m\u001b[0;36m1\u001b[0m\u001b[0;34m]\u001b[0m\u001b[0;34m,\u001b[0m \u001b[0mself\u001b[0m\u001b[0;34m.\u001b[0m\u001b[0mdims\u001b[0m\u001b[0;34m[\u001b[0m\u001b[0;36m0\u001b[0m\u001b[0;34m]\u001b[0m\u001b[0;34m]\u001b[0m\u001b[0;34m\u001b[0m\u001b[0m\n",
      "\u001b[0;32m/home/henry/anaconda2/envs/qutip/lib/python2.7/site-packages/qutip/qobj.pyc\u001b[0m in \u001b[0;36m__init__\u001b[0;34m(self, inpt, dims, shape, type, isherm, copy, fast, superrep)\u001b[0m\n\u001b[1;32m    318\u001b[0m             \u001b[0mself\u001b[0m\u001b[0;34m.\u001b[0m\u001b[0msuperrep\u001b[0m \u001b[0;34m=\u001b[0m \u001b[0msuperrep\u001b[0m\u001b[0;34m\u001b[0m\u001b[0m\n\u001b[1;32m    319\u001b[0m         \u001b[0;32melse\u001b[0m\u001b[0;34m:\u001b[0m\u001b[0;34m\u001b[0m\u001b[0m\n\u001b[0;32m--> 320\u001b[0;31m             \u001b[0;32mif\u001b[0m \u001b[0mself\u001b[0m\u001b[0;34m.\u001b[0m\u001b[0mtype\u001b[0m \u001b[0;34m==\u001b[0m \u001b[0;34m'super'\u001b[0m \u001b[0;32mand\u001b[0m \u001b[0mself\u001b[0m\u001b[0;34m.\u001b[0m\u001b[0msuperrep\u001b[0m \u001b[0;32mis\u001b[0m \u001b[0mNone\u001b[0m\u001b[0;34m:\u001b[0m\u001b[0;34m\u001b[0m\u001b[0m\n\u001b[0m\u001b[1;32m    321\u001b[0m                 \u001b[0mself\u001b[0m\u001b[0;34m.\u001b[0m\u001b[0msuperrep\u001b[0m \u001b[0;34m=\u001b[0m \u001b[0;34m'super'\u001b[0m\u001b[0;34m\u001b[0m\u001b[0m\n\u001b[1;32m    322\u001b[0m \u001b[0;34m\u001b[0m\u001b[0m\n",
      "\u001b[0;32m/home/henry/anaconda2/envs/qutip/lib/python2.7/site-packages/qutip/qobj.pyc\u001b[0m in \u001b[0;36mtype\u001b[0;34m(self)\u001b[0m\n\u001b[1;32m   1810\u001b[0m     \u001b[0;32mdef\u001b[0m \u001b[0mtype\u001b[0m\u001b[0;34m(\u001b[0m\u001b[0mself\u001b[0m\u001b[0;34m)\u001b[0m\u001b[0;34m:\u001b[0m\u001b[0;34m\u001b[0m\u001b[0m\n\u001b[1;32m   1811\u001b[0m         \u001b[0;32mif\u001b[0m \u001b[0;32mnot\u001b[0m \u001b[0mself\u001b[0m\u001b[0;34m.\u001b[0m\u001b[0m_type\u001b[0m\u001b[0;34m:\u001b[0m\u001b[0;34m\u001b[0m\u001b[0m\n\u001b[0;32m-> 1812\u001b[0;31m             \u001b[0mself\u001b[0m\u001b[0;34m.\u001b[0m\u001b[0m_type\u001b[0m \u001b[0;34m=\u001b[0m \u001b[0mtype_from_dims\u001b[0m\u001b[0;34m(\u001b[0m\u001b[0mself\u001b[0m\u001b[0;34m.\u001b[0m\u001b[0mdims\u001b[0m\u001b[0;34m)\u001b[0m\u001b[0;34m\u001b[0m\u001b[0m\n\u001b[0m\u001b[1;32m   1813\u001b[0m \u001b[0;34m\u001b[0m\u001b[0m\n\u001b[1;32m   1814\u001b[0m         \u001b[0;32mreturn\u001b[0m \u001b[0mself\u001b[0m\u001b[0;34m.\u001b[0m\u001b[0m_type\u001b[0m\u001b[0;34m\u001b[0m\u001b[0m\n",
      "\u001b[0;32m/home/henry/anaconda2/envs/qutip/lib/python2.7/site-packages/qutip/dimensions.pyc\u001b[0m in \u001b[0;36mtype_from_dims\u001b[0;34m(dims, enforce_square)\u001b[0m\n\u001b[1;32m     63\u001b[0m \u001b[0;34m\u001b[0m\u001b[0m\n\u001b[1;32m     64\u001b[0m \u001b[0;32mdef\u001b[0m \u001b[0mtype_from_dims\u001b[0m\u001b[0;34m(\u001b[0m\u001b[0mdims\u001b[0m\u001b[0;34m,\u001b[0m \u001b[0menforce_square\u001b[0m\u001b[0;34m=\u001b[0m\u001b[0mTrue\u001b[0m\u001b[0;34m)\u001b[0m\u001b[0;34m:\u001b[0m\u001b[0;34m\u001b[0m\u001b[0m\n\u001b[0;32m---> 65\u001b[0;31m     \u001b[0mbra_like\u001b[0m\u001b[0;34m,\u001b[0m \u001b[0mket_like\u001b[0m \u001b[0;34m=\u001b[0m \u001b[0mmap\u001b[0m\u001b[0;34m(\u001b[0m\u001b[0mis_scalar\u001b[0m\u001b[0;34m,\u001b[0m \u001b[0mdims\u001b[0m\u001b[0;34m)\u001b[0m\u001b[0;34m\u001b[0m\u001b[0m\n\u001b[0m\u001b[1;32m     66\u001b[0m \u001b[0;34m\u001b[0m\u001b[0m\n\u001b[1;32m     67\u001b[0m     \u001b[0;32mif\u001b[0m \u001b[0mbra_like\u001b[0m\u001b[0;34m:\u001b[0m\u001b[0;34m\u001b[0m\u001b[0m\n",
      "\u001b[0;32m/home/henry/anaconda2/envs/qutip/lib/python2.7/site-packages/qutip/dimensions.pyc\u001b[0m in \u001b[0;36mis_scalar\u001b[0;34m(dims)\u001b[0m\n\u001b[1;32m     47\u001b[0m     \u001b[0ma\u001b[0m \u001b[0mscalar\u001b[0m \u001b[0;34m(\u001b[0m\u001b[0mhas\u001b[0m \u001b[0mdimension\u001b[0m \u001b[0;36m1\u001b[0m\u001b[0;34m)\u001b[0m\u001b[0;34m.\u001b[0m\u001b[0;34m\u001b[0m\u001b[0m\n\u001b[1;32m     48\u001b[0m     \"\"\"\n\u001b[0;32m---> 49\u001b[0;31m     \u001b[0;32mreturn\u001b[0m \u001b[0mnp\u001b[0m\u001b[0;34m.\u001b[0m\u001b[0mprod\u001b[0m\u001b[0;34m(\u001b[0m\u001b[0mflatten\u001b[0m\u001b[0;34m(\u001b[0m\u001b[0mdims\u001b[0m\u001b[0;34m)\u001b[0m\u001b[0;34m)\u001b[0m \u001b[0;34m==\u001b[0m \u001b[0;36m1\u001b[0m\u001b[0;34m\u001b[0m\u001b[0m\n\u001b[0m\u001b[1;32m     50\u001b[0m \u001b[0;34m\u001b[0m\u001b[0m\n\u001b[1;32m     51\u001b[0m \u001b[0;32mdef\u001b[0m \u001b[0mis_vector\u001b[0m\u001b[0;34m(\u001b[0m\u001b[0mdims\u001b[0m\u001b[0;34m)\u001b[0m\u001b[0;34m:\u001b[0m\u001b[0;34m\u001b[0m\u001b[0m\n",
      "\u001b[0;32m/home/henry/anaconda2/envs/qutip/lib/python2.7/site-packages/qutip/dimensions.pyc\u001b[0m in \u001b[0;36mflatten\u001b[0;34m(l)\u001b[0m\n\u001b[1;32m    108\u001b[0m \u001b[0;34m\u001b[0m\u001b[0m\n\u001b[1;32m    109\u001b[0m     \"\"\"\n\u001b[0;32m--> 110\u001b[0;31m     \u001b[0;32mif\u001b[0m \u001b[0;32mnot\u001b[0m \u001b[0misinstance\u001b[0m\u001b[0;34m(\u001b[0m\u001b[0ml\u001b[0m\u001b[0;34m,\u001b[0m \u001b[0mlist\u001b[0m\u001b[0;34m)\u001b[0m\u001b[0;34m:\u001b[0m\u001b[0;34m\u001b[0m\u001b[0m\n\u001b[0m\u001b[1;32m    111\u001b[0m         \u001b[0;32mreturn\u001b[0m \u001b[0;34m[\u001b[0m\u001b[0ml\u001b[0m\u001b[0;34m]\u001b[0m\u001b[0;34m\u001b[0m\u001b[0m\n\u001b[1;32m    112\u001b[0m     \u001b[0;32melse\u001b[0m\u001b[0;34m:\u001b[0m\u001b[0;34m\u001b[0m\u001b[0m\n",
      "\u001b[0;31mKeyboardInterrupt\u001b[0m: "
     ]
    }
   ],
   "source": [
    "PARAMS = PARAMS_setup(binding_energy=0, radiative_lifetime=1, alpha_ph=0, mu=800e-3, T_EM=0,\n",
    "                      bias_voltage=0, N=3, silent=False)\n",
    "V_values, I = simple_current_voltage(PARAMS, x_scale=2)\n",
    "plt.plot(V_values, np.array(I).real)\n",
    "plt.show()"
   ]
  },
  {
   "cell_type": "code",
   "execution_count": null,
   "metadata": {
    "scrolled": true
   },
   "outputs": [],
   "source": [
    "PARAMS = PARAMS_setup(binding_energy=0, radiative_lifetime=1, alpha_ph=0, mu=0, T_EM=6000,\n",
    "                      bias_voltage=0, N=3, silent=False)\n",
    "V_values, Pc, Pv = band_populations_voltage(PARAMS)\n",
    "plt.plot(V_values, np.array(Pc).real, label=r'$n_c$')\n",
    "plt.plot(V_values, np.array(Pv).real, label=r'$n_v$')\n",
    "plt.legend()\n",
    "plt.show()"
   ]
  },
  {
   "cell_type": "code",
   "execution_count": null,
   "metadata": {
    "scrolled": true
   },
   "outputs": [],
   "source": [
    "PARAMS = PARAMS_setup(binding_energy=0.0, radiative_lifetime=np.infty, alpha_ph=0, mu=0., \n",
    "                      bias_voltage=0, N=3, silent=False)\n",
    "L_dict = build_all_L(PARAMS)\n",
    "print_PARAMS(PARAMS)\n",
    "#print(L_dict['L_lindblad'].eigenenergies())\n",
    "ss = steadystate( L_dict['H_S'], [L_dict['L_lindblad']] )\n",
    "rho_dot = qt.vector_to_operator( L_dict['L_R_lindblad']*qt.operator_to_vector(ss) )\n",
    "print(ss.ptrace(0))\n",
    "print(rho_dot.ptrace(0))\n",
    "\n",
    "PARAMS = PARAMS_setup(binding_energy=0.0, radiative_lifetime=np.infty, alpha_ph=0, mu=0., \n",
    "                      bias_voltage=0.5, N=3, silent=False)\n",
    "L_dict = build_all_L(PARAMS)\n",
    "print_PARAMS(PARAMS)\n",
    "#print(L_dict['L_lindblad'].eigenenergies())\n",
    "ss = steadystate(L_dict['H_S'], [L_dict['L_lindblad']])\n",
    "print(ss.ptrace(0))\n",
    "\n",
    "PARAMS = PARAMS_setup(binding_energy=0.0, radiative_lifetime=np.infty, alpha_ph=0, mu=0., \n",
    "                      bias_voltage=1, N=3, silent=False)\n",
    "L_dict = build_all_L(PARAMS)\n",
    "print_PARAMS(PARAMS)\n",
    "#print(L_dict['L_lindblad'].eigenenergies())\n",
    "ss = steadystate(L_dict['H_S'], [L_dict['L_lindblad']])\n",
    "print(ss.ptrace(0))"
   ]
  },
  {
   "cell_type": "code",
   "execution_count": null,
   "metadata": {
    "collapsed": true
   },
   "outputs": [],
   "source": [
    "plt.plot(V_values, np.array(I).real)\n",
    "plt.show()"
   ]
  },
  {
   "cell_type": "code",
   "execution_count": null,
   "metadata": {
    "collapsed": true
   },
   "outputs": [],
   "source": [
    "plt.plot(V_values, I)\n",
    "plt.show()"
   ]
  },
  {
   "cell_type": "code",
   "execution_count": null,
   "metadata": {
    "collapsed": true
   },
   "outputs": [],
   "source": [
    "PARAMS"
   ]
  },
  {
   "cell_type": "code",
   "execution_count": null,
   "metadata": {
    "collapsed": true
   },
   "outputs": [],
   "source": []
  }
 ],
 "metadata": {
  "kernelspec": {
   "display_name": "Python 3",
   "language": "python",
   "name": "python3"
  },
  "language_info": {
   "codemirror_mode": {
    "name": "ipython",
    "version": 2
   },
   "file_extension": ".py",
   "mimetype": "text/x-python",
   "name": "python",
   "nbconvert_exporter": "python",
   "pygments_lexer": "ipython2",
   "version": "2.7.13"
  }
 },
 "nbformat": 4,
 "nbformat_minor": 2
}
