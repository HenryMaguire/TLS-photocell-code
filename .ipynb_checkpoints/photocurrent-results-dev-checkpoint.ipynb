{
 "cells": [
  {
   "cell_type": "code",
   "execution_count": 1,
   "metadata": {},
   "outputs": [
    {
     "name": "stdout",
     "output_type": "stream",
     "text": [
      "utils imported\n"
     ]
    }
   ],
   "source": [
    "%matplotlib inline\n",
    "import time \n",
    "from qutip import mesolve, steadystate\n",
    "import numpy as np\n",
    "import optical as EM\n",
    "import phonons as RC\n",
    "import leads as FL\n",
    "from utils import *\n",
    "from photocell_setup import *\n",
    "import matplotlib.pyplot as plt\n",
    "#from importlib import reload\n",
    "from style import *"
   ]
  },
  {
   "cell_type": "code",
   "execution_count": 2,
   "metadata": {
    "collapsed": true
   },
   "outputs": [],
   "source": [
    "def short_current(v,c):\n",
    "    # assumes that V=0 at element 0\n",
    "    return c[0]\n",
    "\n",
    "def estimate_Voc(v, c):\n",
    "    # voltage where current goes to zero\n",
    "    return v[np.argmin(np.abs(c))]\n",
    "\n",
    "def power_values(v, c):\n",
    "    return np.array(v)*np.array(c)\n",
    "\n",
    "def power_values_from_dict(_data_dict):\n",
    "    return np.array(_data_dict['bias_voltages'])*np.array(_data_dict['current'])\n",
    "\n",
    "def max_power(v, c):\n",
    "    # can make this more sophisticated at a later date\n",
    "    return np.max(power_values(v, c))\n",
    "\n",
    "def theoretical_max_power(v,c):\n",
    "    return short_current(v,c)*estimate_Voc(v, c)\n",
    "\n",
    "def fill_factor(v, c):\n",
    "    return max_power(v, c)/theoretical_max_power(v,c)\n",
    "\n",
    "def fill_factor_from_dict(_data_dict):\n",
    "    return fill_factor(_data_dict['bias_voltages'], _data_dict['current'])\n",
    "\n",
    "def voltage_at_max_power_from_dict(_data_dict):\n",
    "    return _data_dict['bias_voltages'][np.argmax(power_values_from_dict(_data_dict))]\n",
    "\n",
    "def plot_power(_data_dict):\n",
    "    current = _data_dict['current']\n",
    "    \n",
    "    voltage = _data_dict['bias_voltages']*ev_to_inv_cm\n",
    "    power = power_values(voltage, current)\n",
    "    plt.plot(voltage, power)\n",
    "    plt.axvline(estimate_Voc(voltage, current))\n",
    "    plt.axhline(max_power(power))\n",
    "\n",
    "def get_photovoltaic_summary(data_dict):\n",
    "    v, c = data_dict['bias_voltages'], data_dict['current']\n",
    "    return {\"fill_factor\": fill_factor_from_dict(data_dict), \n",
    "         \"V_OC\" : estimate_Voc(v, c),\n",
    "         \"I_SC\" : short_current(v, c),\n",
    "         \"P_max\": max_power(data_dict['bias_voltages'], data_dict['current']),\n",
    "         \"P_theoretical_max\": theoretical_max_power(v,c),\n",
    "         \"V_at_max_P\": voltage_at_max_power_from_dict(data_dict)\n",
    "        }"
   ]
  },
  {
   "cell_type": "code",
   "execution_count": null,
   "metadata": {
    "collapsed": true
   },
   "outputs": [],
   "source": [
    "def convergence(PARAMS, N_lim=[5,18]):\n",
    "    for N in range(N_lim[0],N_lim[-1]):\n",
    "        PARAMS.update({'N': N})\n",
    "        L_Lindblad_dict = build_L(PARAMS, silent=True)\n",
    "        ss = steadystate(L_Lindblad_dict['H_S'], [L_Lindblad_dict['L']])\n",
    "        "
   ]
  },
  {
   "cell_type": "code",
   "execution_count": 21,
   "metadata": {
    "code_folding": [],
    "collapsed": true
   },
   "outputs": [],
   "source": [
    "def populations_and_current_vs_voltage(PARAMS, x_range=[0,2], num_voltages=100):\n",
    "    ti = time.time()\n",
    "    if PARAMS['T_L']<100:\n",
    "        number_of_voltages = int(1.8*num_voltages)\n",
    "    else:\n",
    "        number_of_voltages = num_voltages\n",
    "    #bias_voltages = np. linspace(x_range[0]*ev_to_inv_cm, x_range[1]*ev_to_inv_cm, number_of_voltages)\n",
    "    bias_voltages = np.concatenate((np.array([0]), \n",
    "                    np.linspace(x_range[0]*ev_to_inv_cm, x_range[1]*ev_to_inv_cm, number_of_voltages)), \n",
    "                                   axis=0)\n",
    "    current = []\n",
    "    conduction_population = []\n",
    "    valence_population = []\n",
    "    ground_population = []\n",
    "    hole_population = []\n",
    "    electron_population = []\n",
    "    exciton_population = []\n",
    "    CC_population = []\n",
    "    ops = make_expectation_operators(PARAMS)\n",
    "    for i, bv in enumerate(bias_voltages):\n",
    "        PARAMS.update({'mu_R': PARAMS['mu']+bv/2, 'mu_L': PARAMS['mu']-bv/2})\n",
    "        #if i in [10, 90]:\n",
    "        #    print_PARAMS(PARAMS)\n",
    "        L_Lindblad_dict = build_L(PARAMS, silent=True)\n",
    "        #ops = make_expectation_operators(PARAMS)\n",
    "        n_c = tensor(d_e.dag()*d_e, qeye(PARAMS['N']))\n",
    "        n_v = tensor(d_h.dag()*d_h, qeye(PARAMS['N']))\n",
    "        ss = steadystate(L_Lindblad_dict['H_S'], [L_Lindblad_dict['L']])\n",
    "        current.append(current_from_ss(ss, L_Lindblad_dict['L_R'], n_c))\n",
    "        conduction_population.append((n_c*ss).tr())\n",
    "        valence_population.append((n_v*ss).tr())\n",
    "        ground_population.append((ops['vac']*ss).tr())\n",
    "        hole_population.append((ops['hole']*ss).tr())\n",
    "        electron_population.append((ops['electron']*ss).tr())\n",
    "        exciton_population.append((ops['exciton']*ss).tr())\n",
    "        CC_population.append((ops['CC_pop']*ss).tr())\n",
    "    bias_voltages/=ev_to_inv_cm\n",
    "    data_dict = {'bias_voltages':bias_voltages, \n",
    "                 'current': current,\n",
    "                 'conduction_population' : conduction_population, \n",
    "                 'valence_population' : valence_population,\n",
    "                 'ground_population': ground_population,\n",
    "                 'hole_population' : hole_population,\n",
    "                 'electron_population' : electron_population,\n",
    "                 'exciton_population' : exciton_population,\n",
    "                 'CC_population' : CC_population,\n",
    "                'PARAMS': PARAMS}\n",
    "    print(\"C-V data calculated in {:0.1f} seconds\".format(time.time() - ti))\n",
    "    return data_dict\n",
    "\n"
   ]
  },
  {
   "cell_type": "code",
   "execution_count": 22,
   "metadata": {
    "collapsed": true
   },
   "outputs": [],
   "source": [
    "def plot_voltage_current(data_dict, label='', plot_CC=False):\n",
    "    # if \n",
    "    _PARAMS = data_dict['PARAMS']\n",
    "    \n",
    "    fig, (ax1, ax2) = plt.subplots(2, 1, figsize=(8,10), sharex=True)\n",
    "    \n",
    "    X = data_dict['bias_voltages']\n",
    "    red_mu_R, red_mu_L = _PARAMS['omega_c'], 2*_PARAMS['mu']-_PARAMS['omega_c']\n",
    "    blue_mu_R  = 2*_PARAMS['mu']+(_PARAMS['omega_v']-_PARAMS['binding_energy'])\n",
    "    blue_mu_L = -(_PARAMS['omega_v']-_PARAMS['binding_energy'])\n",
    "    \n",
    "    \n",
    "    if abs(_PARAMS['binding_energy'])>0:\n",
    "        yellow_mu_R = _PARAMS['omega_c']-_PARAMS['binding_energy']\n",
    "        yellow_mu_L = 2*_PARAMS['mu']-(_PARAMS['omega_c']-_PARAMS['binding_energy'])\n",
    "        yellow_mu_R/= ev_to_inv_cm\n",
    "        yellow_mu_L/= ev_to_inv_cm\n",
    "        ax2.axvline(yellow_mu_R - yellow_mu_L, linestyle='dotted', color=colors[5], linewidth=2.2)\n",
    "        if _PARAMS['mu']<(_PARAMS['bandgap']/2):\n",
    "            red_mu_R = 2*_PARAMS['mu']+_PARAMS['omega_v']\n",
    "            red_mu_L = 2*_PARAMS['mu']-(red_mu_R)\n",
    "    red_mu_R /= ev_to_inv_cm\n",
    "    red_mu_L /= ev_to_inv_cm\n",
    "    blue_mu_R/= ev_to_inv_cm\n",
    "    blue_mu_L/= ev_to_inv_cm\n",
    "    \n",
    "    \n",
    "    \n",
    "    ax2.axvline(blue_mu_R-blue_mu_L, linestyle='dotted', color=colors[1], linewidth=2)\n",
    "    ax2.axvline(red_mu_R-red_mu_L, linestyle='dotted', color=colors[0], linewidth=2)\n",
    "    if plot_CC:\n",
    "        ax1.plot(X, np.array(data_dict['CC_population']).real, label=r'$n_{CC}$')\n",
    "    else:\n",
    "        ax1.plot(X, np.array(data_dict['electron_population']).real, label=r'$n_e$')\n",
    "        ax1.plot(X, np.array(data_dict['hole_population']).real, label=r'$n_h$')\n",
    "        ax1.plot(X, np.array(data_dict['exciton_population']).real, label=r'$n_x$')\n",
    "    \n",
    "    \n",
    "    ax2.set_xlabel('Bias voltage (eV)')\n",
    "    ax1.set_ylabel('Population')\n",
    "    ax2.set_ylabel('Current')\n",
    "    #ax1.plot(X, np.array(data_dict['ground_population']).real, label=r'v')\n",
    "    #ax1.plot(X, np.array(data_dict['hole_population']).real, label=r'h')\n",
    "    #ax1.plot(X, np.array(data_dict['electron_population']).real, label=r'e')\n",
    "    #ax1.plot(X, np.array(data_dict['exciton_population']).real, label=r'exc')\n",
    "    ax1.set_xlim(X[0],X[-1])\n",
    "    ax1.legend()\n",
    "    plt.subplots_adjust(left=0.18, bottom=0.065, right=0.97, top=0.98, wspace=0.24, hspace=0.015)\n",
    "    q = 1.602176634e-19 # coulomb\n",
    "    current = np.array(data_dict['current']).real # in electrons per second?\n",
    "    ax2.plot(X, current)\n",
    "    plt_title = \"PLOTS/C-V-{}.pdf\".format(label)\n",
    "    plt.savefig(plt_title)\n",
    "    print(\"saved at \"+plt_title)"
   ]
  },
  {
   "cell_type": "markdown",
   "metadata": {},
   "source": [
    "# No binding energy"
   ]
  },
  {
   "cell_type": "code",
   "execution_count": null,
   "metadata": {
    "scrolled": true
   },
   "outputs": [],
   "source": [
    "PARAMS = PARAMS_setup(valence_energy=100e-3, binding_energy=0.0, radiative_lifetime=1, alpha_ph=0, mu=700e-3,\n",
    "                      bias_voltage=0, N=2, silent=False, T_C=77.)\n",
    "\n",
    "data_dict_no_BE_1 = populations_and_current_vs_voltage(PARAMS)\n",
    "plot_voltage_current(data_dict_no_BE_1, label='center-0meV')\n",
    "\n",
    "PARAMS = PARAMS_setup(valence_energy=100e-3, binding_energy=0.0, radiative_lifetime=1, alpha_ph=0, mu=800e-3,\n",
    "                      bias_voltage=0, N=2, silent=False, T_C=77.)\n",
    "\n",
    "data_dict_no_BE_2 = populations_and_current_vs_voltage(PARAMS)\n",
    "plot_voltage_current(data_dict_no_BE_2, label='above-0meV')\n",
    "\n",
    "PARAMS = PARAMS_setup(valence_energy=100e-3, binding_energy=0.0, radiative_lifetime=1, alpha_ph=0, mu=600e-3,\n",
    "                      bias_voltage=0, N=2, silent=False, T_C=77.)\n",
    "\n",
    "data_dict_no_BE_3 = populations_and_current_vs_voltage(PARAMS)\n",
    "plot_voltage_current(data_dict_no_BE_3, label='below-0meV')"
   ]
  },
  {
   "cell_type": "markdown",
   "metadata": {},
   "source": [
    "# Small binding energy"
   ]
  },
  {
   "cell_type": "code",
   "execution_count": null,
   "metadata": {},
   "outputs": [],
   "source": [
    "PARAMS = PARAMS_setup(valence_energy=100e-3, binding_energy=0.1, radiative_lifetime=1, alpha_ph=0, mu=700e-3,\n",
    "                      bias_voltage=0, N=2, silent=False, T_C=77.)\n",
    "\n",
    "data_dict_100_1 = populations_and_current_vs_voltage(PARAMS, x_scale=1.3)\n",
    "plot_voltage_current(data_dict_100_1, label='center-100meV')\n",
    "\n",
    "PARAMS = PARAMS_setup(valence_energy=100e-3, binding_energy=0.1, radiative_lifetime=1, alpha_ph=0, mu=800e-3,\n",
    "                      bias_voltage=0, N=2, silent=False, T_C=77.)\n",
    "\n",
    "#data_dict_100_2 = populations_and_current_vs_voltage(PARAMS, x_scale=1.3)\n",
    "#plot_voltage_current(data_dict_100_2, label='above-100meV')\n",
    "\n",
    "#PARAMS = PARAMS_setup(valence_energy=100e-3, binding_energy=0.1, radiative_lifetime=1, alpha_ph=0, mu=600e-3,\n",
    "#                      bias_voltage=0, N=2, silent=False, T_C=77.)\n",
    "\n",
    "#data_dict_100_3 = populations_and_current_vs_voltage(PARAMS, x_scale=1.3)\n",
    "#plot_voltage_current(data_dict_100_3, label='below-100meV')"
   ]
  },
  {
   "cell_type": "markdown",
   "metadata": {},
   "source": [
    "exciton populations go to zero when $U=\\omega_h$"
   ]
  },
  {
   "cell_type": "code",
   "execution_count": null,
   "metadata": {},
   "outputs": [],
   "source": [
    "print_PARAMS(PARAMS)"
   ]
  },
  {
   "cell_type": "markdown",
   "metadata": {},
   "source": [
    "# Medium binding energy"
   ]
  },
  {
   "cell_type": "code",
   "execution_count": null,
   "metadata": {},
   "outputs": [],
   "source": [
    "PARAMS = PARAMS_setup(valence_energy=100e-3, binding_energy=0.2, radiative_lifetime=1, alpha_ph=0, mu=700e-3,\n",
    "                      bias_voltage=0, N=2, silent=False, T_C=77.)\n",
    "\n",
    "data_dict_200_1 = populations_and_current_vs_voltage(PARAMS, x_scale=1.3)\n",
    "plot_voltage_current(data_dict_200_1, label='center-200meV')\n",
    "\"\"\"\n",
    "PARAMS = PARAMS_setup(valence_energy=100e-3, binding_energy=0.2, radiative_lifetime=1, alpha_ph=0, mu=800e-3,\n",
    "                      bias_voltage=0, N=2, silent=False, T_C=77.)\n",
    "\n",
    "data_dict_200_2 = populations_and_current_vs_voltage(PARAMS, x_scale=1.3)\n",
    "plot_voltage_current(data_dict_200_2, label='above-200meV')\n",
    "\n",
    "PARAMS = PARAMS_setup(valence_energy=100e-3, binding_energy=0.2, radiative_lifetime=1, alpha_ph=0, mu=600e-3,\n",
    "                      bias_voltage=0, N=2, silent=False, T_C=77.)\n",
    "\n",
    "data_dict_200_3 = populations_and_current_vs_voltage(PARAMS, x_scale=1.3)\n",
    "plot_voltage_current(data_dict_200_3, label='below-200meV')\"\"\""
   ]
  },
  {
   "cell_type": "code",
   "execution_count": null,
   "metadata": {},
   "outputs": [],
   "source": [
    "plt.plot(data_dict_200_1['bias_voltages'], data_dict_200_1['exciton_population'], label='exc')\n",
    "plt.plot(data_dict_200_1['bias_voltages'], data_dict_200_1['electron_population'], label='e')\n",
    "plt.plot(data_dict_200_1['bias_voltages'], data_dict_200_1['hole_population'], label='h')\n",
    "plt.legend()"
   ]
  },
  {
   "cell_type": "code",
   "execution_count": null,
   "metadata": {},
   "outputs": [],
   "source": [
    "PARAMS = PARAMS_setup(valence_energy=100e-3, binding_energy=0.3, radiative_lifetime=1, alpha_ph=0, mu=700e-3,\n",
    "                      bias_voltage=0, N=2, silent=False, T_C=77.)\n",
    "\n",
    "data_dict_300_1 = populations_and_current_vs_voltage(PARAMS, x_scale=1.3)\n",
    "plot_voltage_current(data_dict_300_1, label='center-300meV')\n",
    "\n",
    "PARAMS = PARAMS_setup(valence_energy=100e-3, binding_energy=0.3, radiative_lifetime=1, alpha_ph=0, mu=800e-3,\n",
    "                      bias_voltage=0, N=2, silent=False, T_C=77.)\n",
    "\n",
    "data_dict_300_2 = populations_and_current_vs_voltage(PARAMS, x_scale=1.3)\n",
    "plot_voltage_current(data_dict_300_2, label='above-300meV')\n",
    "\n",
    "PARAMS = PARAMS_setup(valence_energy=100e-3, binding_energy=0.3, radiative_lifetime=1, alpha_ph=0, mu=600e-3,\n",
    "                      bias_voltage=0, N=2, silent=False, T_C=77.)\n",
    "\n",
    "data_dict_300_3 = populations_and_current_vs_voltage(PARAMS, x_scale=1.3)\n",
    "plot_voltage_current(data_dict_300_3, label='below-300meV')"
   ]
  },
  {
   "cell_type": "code",
   "execution_count": null,
   "metadata": {},
   "outputs": [],
   "source": [
    "data_dict_100_ph1.keys()"
   ]
  },
  {
   "cell_type": "code",
   "execution_count": null,
   "metadata": {},
   "outputs": [],
   "source": [
    "plt.plot(data_dict_100_ph1['bias_voltages'], data_dict_100_ph1['exciton_population'])\n",
    "plt.plot(data_dict_100_ph1['bias_voltages'], data_dict_100_ph1['electron_population'])\n",
    "plt.plot(data_dict_100_ph1['bias_voltages'], data_dict_100_ph1['hole_population'])"
   ]
  },
  {
   "cell_type": "markdown",
   "metadata": {},
   "source": [
    "## Analytical results"
   ]
  },
  {
   "cell_type": "code",
   "execution_count": null,
   "metadata": {},
   "outputs": [],
   "source": [
    "def CS_analytical_current(PARAMS):\n",
    "    Gamma_Ldown, Gamma_Lup, Gamma_Rdown, Gamma_Rup = FL.leads_rates(PARAMS)\n",
    "    Gamma_downEM, Gamma_upEM = EM.EM_rates(PARAMS)\n",
    "    Gamma_downEM*=2\n",
    "    Gamma_upEM*=2\n",
    "    \n",
    "    numer = 2*(Gamma_Ldown+Gamma_Lup+Gamma_Rdown+Gamma_Rup)\n",
    "    numer*=(Gamma_downEM*Gamma_Ldown*Gamma_Rup-Gamma_Lup*Gamma_Rdown*Gamma_upEM)\n",
    "    denom = (Gamma_Ldown+Gamma_Lup)*(Gamma_Rdown+Gamma_Rup)*(Gamma_Ldown+Gamma_Lup+Gamma_Rdown+Gamma_Rup)\n",
    "    denom += Gamma_downEM*(Gamma_Ldown**2+(Gamma_Rup+Gamma_Lup)*(Gamma_Rdown+Gamma_Rup)+Gamma_Ldown*(Gamma_Lup+Gamma_Rdown+Gamma_Rup))\n",
    "    denom += (Gamma_Lup**2+Gamma_Lup*(Gamma_Rdown+Gamma_Rup)+Gamma_Rdown*(Gamma_Rdown+Gamma_Rup)+Gamma_Ldown*(Gamma_Lup+Gamma_Rdown+Gamma_Rup))*Gamma_upEM\n",
    "    return -numer/denom\n",
    "\n",
    "def rate_analytical_current():\n",
    "    numer = Gamma_downalpha*Gamma_downbeta*Gamma_downI*Gamma_upEM\n",
    "    numer-= Gamma_downEM*Gamma_upalpha*Gamma_upbeta*Gamma_upI\n",
    "    denom = (Gamma_downI+Gamma_upalpha)*(Gamma_downEM*Gamma_upbeta + Gamma_downbeta*(Gamma_downEM+Gamma_upEM))\n",
    "    denom = Gamma_downEM*(Gamma_upalpha+Gamma_upbeta)\n",
    "    #nenom = Gamma_downalpha*Gamma_downbeta*Gamma_downI+Gamma_upEM+(Gamma_downI+Gamma_upI) (\\Gamma _{\\text{upC$\\beta $}}+\\Gamma _{\\text{upEM}}\\right)\\right)+\\left(\\Gamma _{\\text{downI}}+\\Gamma _{\\text{upC$\\alpha $}}\\right) \\left(\\Gamma _{\\text{downC$\\beta $}} \\left(\\Gamma _{\\text{downEM}}+\\Gamma _{\\text{upEM}}\\right)+\\Gamma _{\\text{downEM}} \\Gamma _{\\text{upC$\\beta $}}\\right)+\\Gamma _{\\text{upI}} \\left(\\Gamma _{\\text{downEM}} \\left(\\Gamma _{\\text{upC$\\alpha $}}+\\Gamma _{\\text{upC$\\beta $}}\\right)+\\Gamma _{\\text{upC$\\alpha $}} \\left(\\Gamma _{\\text{upC$\\beta $}}+\\Gamma _{\\text{upEM}}\\right)\\right)}\n",
    "\n",
    "PARAMS = PARAMS_setup(valence_energy=100e-3, binding_energy=0.0, radiative_lifetime=1, alpha_ph=0, mu=700e-3,\n",
    "                      bias_voltage=2, N=2, silent=False, T_C=77.)\n",
    "#Gamma_Ldown, Gamma_Lup, Gamma_Rdown, Gamma_Rup, Gamma_downEM, Gamma_upEM  = get_rates(PARAMS)\n",
    "print(print_PARAMS(PARAMS))\n",
    "print (CS_analytical_current(PARAMS))\n",
    "print(get_photovoltaic_summary(data_dict_no_BE))"
   ]
  },
  {
   "cell_type": "markdown",
   "metadata": {},
   "source": [
    "# Phonons"
   ]
  },
  {
   "cell_type": "code",
   "execution_count": null,
   "metadata": {
    "scrolled": false
   },
   "outputs": [],
   "source": [
    "PARAMS = PARAMS_setup(valence_energy=100e-3, binding_energy=0.1, radiative_lifetime=1, alpha_ph=1e-3,\n",
    "                      mu=700e-3, bias_voltage=0, N=6, silent=False, T_C=77.)\n",
    "data_dict_100_ph1 = populations_and_current_vs_voltage(PARAMS, x_scale=1.3, num_voltages=55)\n",
    "plot_voltage_current(data_dict_100_ph1, label='')\n",
    "\n",
    "get_photovoltaic_summary(data_dict_100_ph1)"
   ]
  },
  {
   "cell_type": "code",
   "execution_count": null,
   "metadata": {},
   "outputs": [],
   "source": [
    "PARAMS = PARAMS_setup(valence_energy=100e-3, binding_energy=0.1, radiative_lifetime=1, alpha_ph=10e-3,\n",
    "                      mu=700e-3, bias_voltage=0, N=8, silent=False, T_C=77.)\n",
    "data_dict_100_ph2 = populations_and_current_vs_voltage(PARAMS, x_scale=1.3, num_voltages=90)\n",
    "plot_voltage_current(data_dict_100_ph2, label='')\n",
    "get_photovoltaic_summary(data_dict_100_ph2)"
   ]
  },
  {
   "cell_type": "code",
   "execution_count": null,
   "metadata": {},
   "outputs": [],
   "source": [
    "PARAMS = PARAMS_setup(valence_energy=100e-3, binding_energy=0.1, radiative_lifetime=1, alpha_ph=100e-3,\n",
    "                      mu=700e-3, bias_voltage=0, N=11, silent=False, T_C=77.)\n",
    "data_dict_100_ph3 = populations_and_current_vs_voltage(PARAMS, x_scale=1.3, num_voltages=110)\n",
    "plot_voltage_current(data_dict_100_ph3, label='')\n",
    "get_photovoltaic_summary(data_dict_100_ph3)"
   ]
  },
  {
   "cell_type": "code",
   "execution_count": null,
   "metadata": {},
   "outputs": [],
   "source": [
    "print(data_dict_100_ph1['bias_voltages'][np.argmax(power_values_from_dict(data_dict_100_ph1))])\n",
    "print(data_dict_100_ph2['bias_voltages'][np.argmax(power_values_from_dict(data_dict_100_ph2))])\n",
    "print(data_dict_100_ph3['bias_voltages'][np.argmax(power_values_from_dict(data_dict_100_ph3))])"
   ]
  },
  {
   "cell_type": "markdown",
   "metadata": {},
   "source": [
    "The voltage at maximum power decreases as phonon-coupling increases. "
   ]
  },
  {
   "cell_type": "code",
   "execution_count": null,
   "metadata": {},
   "outputs": [],
   "source": [
    "print(get_photovoltaic_summary(data_dict_100_ph1))\n",
    "print(get_photovoltaic_summary(data_dict_100_ph2))\n",
    "print(get_photovoltaic_summary(data_dict_100_ph3))"
   ]
  },
  {
   "cell_type": "code",
   "execution_count": null,
   "metadata": {},
   "outputs": [],
   "source": [
    "PARAMS = PARAMS_setup(valence_energy=100e-3, binding_energy=0.1, radiative_lifetime=1, alpha_ph=100e-3,\n",
    "                      mu=700e-3, bias_voltage=0, N=16, silent=False, T_C=300.)\n",
    "data_dict_test = populations_and_current_vs_voltage(PARAMS, x_range=[0.6,1.5], num_voltages=30)\n"
   ]
  },
  {
   "cell_type": "code",
   "execution_count": null,
   "metadata": {},
   "outputs": [],
   "source": [
    "print(get_photovoltaic_summary(data_dict_test))"
   ]
  },
  {
   "cell_type": "code",
   "execution_count": null,
   "metadata": {},
   "outputs": [],
   "source": [
    "plot_voltage_current(data_dict_test, plot_CC=False)"
   ]
  },
  {
   "cell_type": "code",
   "execution_count": null,
   "metadata": {},
   "outputs": [],
   "source": [
    "print(get_photovoltaic_summary(data_dict_test))"
   ]
  },
  {
   "cell_type": "code",
   "execution_count": null,
   "metadata": {},
   "outputs": [],
   "source": [
    "plot_voltage_current(data_dict_test, label='')"
   ]
  },
  {
   "cell_type": "markdown",
   "metadata": {},
   "source": [
    "# Photovoltaic performance with respect to phonons"
   ]
  },
  {
   "cell_type": "code",
   "execution_count": 29,
   "metadata": {},
   "outputs": [],
   "source": [
    "def photovoltaic_performance_phonons(label='test', num_alpha=25, num_voltages=25, \n",
    "                                     valence_energy=100e-3, binding_energy=0.1, \n",
    "                                     radiative_lifetime=1, mu=700e-3, \n",
    "                                     N_max=13, T_C=300.):\n",
    "    N_values = [int(n) for n in np.linspace(5, N_max, num_alpha)]\n",
    "    print(N_values)\n",
    "    alpha_values = np.linspace(0, 100e-3, num_alpha)\n",
    "    pvpd_list = []\n",
    "    for alpha_ph, N in zip(alpha_values, N_values):\n",
    "        PARAMS = PARAMS_setup(valence_energy=valence_energy, binding_energy=binding_energy, \n",
    "                          radiative_lifetime=radiative_lifetime, alpha_ph=alpha_ph, mu=mu, \n",
    "                          bias_voltage=0, N=N, silent=False, T_C=T_C)\n",
    "        dd = populations_and_current_vs_voltage(PARAMS, x_range=[0.8,1.5], num_voltages=num_voltages)\n",
    "        pvpd_list.append(get_photovoltaic_summary(dd))\n",
    "    save_obj({\"alpha_values\" : alpha_values,\n",
    "              \"pvpd_list\": pvpd_list}, \"DATA/pvp/\"+label)\n",
    "    return alpha_values, pvpd_list\n",
    "\n",
    "\n",
    "# \"fill_factor\", \"V_OC\" , \"I_SC\", \"P_max\", \"P_theoretical_max\", \"V_at_max_P\"\n",
    "\n",
    "def plot_performance(alpha_values, pvpd_list, metric=\"P_max\"):\n",
    "    plt.figure()\n",
    "    av_meV = alpha_values*10e2 # convert to meV\n",
    "    metric_array = np.array([perf_dict[metric] for perf_dict in pvpd_list])\n",
    "    plt.plot(av_meV, metric_array)\n",
    "    plt.xlim(av_meV[0], av_meV[-1])\n"
   ]
  },
  {
   "cell_type": "code",
   "execution_count": 30,
   "metadata": {},
   "outputs": [
    {
     "name": "stdout",
     "output_type": "stream",
     "text": [
      "[5, 5, 6, 6, 7, 7, 8, 9, 9, 10, 10, 11, 11, 12, 13]\n",
      "Phonon occupation: 0.17. Phonon thermal energy is 208.50. Phonon SD peak is 0.00. V=0.0. N=5.\n",
      "C-V data calculated in 34.2 seconds\n",
      "Phonon occupation: 0.17. Phonon thermal energy is 208.50. Phonon SD peak is 0.00. V=0.0. N=5.\n",
      "C-V data calculated in 33.0 seconds\n",
      "Phonon occupation: 0.17. Phonon thermal energy is 208.50. Phonon SD peak is 0.00. V=0.0. N=6.\n",
      "C-V data calculated in 42.4 seconds\n",
      "Phonon occupation: 0.17. Phonon thermal energy is 208.50. Phonon SD peak is 0.00. V=0.0. N=6.\n",
      "C-V data calculated in 42.6 seconds\n",
      "Phonon occupation: 0.17. Phonon thermal energy is 208.50. Phonon SD peak is 0.00. V=0.0. N=7.\n",
      "C-V data calculated in 58.5 seconds\n",
      "Phonon occupation: 0.17. Phonon thermal energy is 208.50. Phonon SD peak is 0.00. V=0.0. N=7.\n",
      "C-V data calculated in 60.5 seconds\n",
      "Phonon occupation: 0.17. Phonon thermal energy is 208.50. Phonon SD peak is 0.00. V=0.0. N=8.\n",
      "C-V data calculated in 94.8 seconds\n",
      "Phonon occupation: 0.17. Phonon thermal energy is 208.50. Phonon SD peak is 0.00. V=0.0. N=9.\n",
      "C-V data calculated in 129.4 seconds\n",
      "Phonon occupation: 0.17. Phonon thermal energy is 208.50. Phonon SD peak is 0.00. V=0.0. N=9.\n",
      "C-V data calculated in 123.8 seconds\n",
      "Phonon occupation: 0.17. Phonon thermal energy is 208.50. Phonon SD peak is 0.00. V=0.0. N=10.\n",
      "C-V data calculated in 153.2 seconds\n",
      "Phonon occupation: 0.17. Phonon thermal energy is 208.50. Phonon SD peak is 0.00. V=0.0. N=10.\n",
      "C-V data calculated in 150.6 seconds\n",
      "Phonon occupation: 0.17. Phonon thermal energy is 208.50. Phonon SD peak is 0.00. V=0.0. N=11.\n",
      "C-V data calculated in 197.1 seconds\n",
      "Phonon occupation: 0.17. Phonon thermal energy is 208.50. Phonon SD peak is 0.00. V=0.0. N=11.\n",
      "C-V data calculated in 192.6 seconds\n",
      "Phonon occupation: 0.17. Phonon thermal energy is 208.50. Phonon SD peak is 0.00. V=0.0. N=12.\n",
      "C-V data calculated in 246.1 seconds\n",
      "Phonon occupation: 0.17. Phonon thermal energy is 208.50. Phonon SD peak is 0.00. V=0.0. N=13.\n",
      "C-V data calculated in 315.1 seconds\n"
     ]
    }
   ],
   "source": [
    "alpha_values, pvpd_list = photovoltaic_performance_phonons(num_alpha=15, num_voltages=20, \n",
    "                                                valence_energy=100e-3, binding_energy=100e-3, \n",
    "                                                radiative_lifetime=1, mu=700e-3, \n",
    "                                                N_max=13, T_C=300.)"
   ]
  },
  {
   "cell_type": "code",
   "execution_count": 31,
   "metadata": {},
   "outputs": [
    {
     "data": {
      "image/png": "[encoded data removed]",
      "text/plain": [
       "<matplotlib.figure.Figure at 0x7ff7244781d0>"
      ]
     },
     "metadata": {},
     "output_type": "display_data"
    },
    {
     "data": {
      "image/png": "[encoded data removed]",
      "text/plain": [
       "<matplotlib.figure.Figure at 0x7ff724478190>"
      ]
     },
     "metadata": {},
     "output_type": "display_data"
    },
    {
     "data": {
      "image/png": "[encoded data removed]",
      "text/plain": [
       "<matplotlib.figure.Figure at 0x7ff7244a3cd0>"
      ]
     },
     "metadata": {},
     "output_type": "display_data"
    }
   ],
   "source": [
    "plot_performance(alpha_values, pvpd_list, metric=\"fill_factor\")\n",
    "plot_performance(alpha_values, pvpd_list, metric=\"V_at_max_P\")\n",
    "plot_performance(alpha_values, pvpd_list, metric=\"P_max\")"
   ]
  },
  {
   "cell_type": "code",
   "execution_count": 33,
   "metadata": {},
   "outputs": [
    {
     "name": "stdout",
     "output_type": "stream",
     "text": [
      "[5, 5, 6, 6, 7, 7, 8, 8, 9, 9, 10, 10, 11, 11, 12]\n",
      "Phonon occupation: 0.02. Phonon thermal energy is 104.25. Phonon SD peak is 0.00. V=0.0. N=5.\n",
      "C-V data calculated in 27.4 seconds\n",
      "Phonon occupation: 0.02. Phonon thermal energy is 104.25. Phonon SD peak is 0.00. V=0.0. N=5.\n",
      "C-V data calculated in 34.2 seconds\n",
      "Phonon occupation: 0.02. Phonon thermal energy is 104.25. Phonon SD peak is 0.00. V=0.0. N=6.\n",
      "C-V data calculated in 45.9 seconds\n",
      "Phonon occupation: 0.02. Phonon thermal energy is 104.25. Phonon SD peak is 0.00. V=0.0. N=6.\n",
      "C-V data calculated in 50.0 seconds\n",
      "Phonon occupation: 0.02. Phonon thermal energy is 104.25. Phonon SD peak is 0.00. V=0.0. N=7.\n",
      "C-V data calculated in 66.4 seconds\n",
      "Phonon occupation: 0.02. Phonon thermal energy is 104.25. Phonon SD peak is 0.00. V=0.0. N=7.\n",
      "C-V data calculated in 66.9 seconds\n",
      "Phonon occupation: 0.02. Phonon thermal energy is 104.25. Phonon SD peak is 0.00. V=0.0. N=8.\n",
      "C-V data calculated in 97.6 seconds\n",
      "Phonon occupation: 0.02. Phonon thermal energy is 104.25. Phonon SD peak is 0.00. V=0.0. N=8.\n",
      "C-V data calculated in 101.3 seconds\n",
      "Phonon occupation: 0.02. Phonon thermal energy is 104.25. Phonon SD peak is 0.00. V=0.0. N=9.\n",
      "C-V data calculated in 116.2 seconds\n",
      "Phonon occupation: 0.02. Phonon thermal energy is 104.25. Phonon SD peak is 0.00. V=0.0. N=9.\n",
      "C-V data calculated in 118.7 seconds\n",
      "Phonon occupation: 0.02. Phonon thermal energy is 104.25. Phonon SD peak is 0.00. V=0.0. N=10.\n",
      "C-V data calculated in 149.1 seconds\n",
      "Phonon occupation: 0.02. Phonon thermal energy is 104.25. Phonon SD peak is 0.00. V=0.0. N=10.\n",
      "C-V data calculated in 152.2 seconds\n",
      "Phonon occupation: 0.02. Phonon thermal energy is 104.25. Phonon SD peak is 0.00. V=0.0. N=11.\n",
      "C-V data calculated in 190.5 seconds\n",
      "Phonon occupation: 0.02. Phonon thermal energy is 104.25. Phonon SD peak is 0.00. V=0.0. N=11.\n",
      "C-V data calculated in 193.2 seconds\n",
      "Phonon occupation: 0.02. Phonon thermal energy is 104.25. Phonon SD peak is 0.00. V=0.0. N=12.\n",
      "C-V data calculated in 249.4 seconds\n"
     ]
    }
   ],
   "source": [
    "alpha_values_200K, pvpd_list_200K = photovoltaic_performance_phonons(num_alpha=15, num_voltages=20, \n",
    "                                                valence_energy=100e-3, binding_energy=100e-3, \n",
    "                                                radiative_lifetime=1, mu=700e-3, \n",
    "                                                N_max=11, T_C=150.)"
   ]
  },
  {
   "cell_type": "code",
   "execution_count": 34,
   "metadata": {},
   "outputs": [
    {
     "data": {
      "image/png": "[encoded data removed]",
      "text/plain": [
       "<matplotlib.figure.Figure at 0x7ff724664fd0>"
      ]
     },
     "metadata": {},
     "output_type": "display_data"
    },
    {
     "data": {
      "image/png": "[encoded data removed]",
      "text/plain": [
       "<matplotlib.figure.Figure at 0x7ff724664190>"
      ]
     },
     "metadata": {},
     "output_type": "display_data"
    },
    {
     "data": {
      "image/png": "[encoded data removed]",
      "text/plain": [
       "<matplotlib.figure.Figure at 0x7ff728fc8b50>"
      ]
     },
     "metadata": {},
     "output_type": "display_data"
    }
   ],
   "source": [
    "plot_performance(alpha_values_200K, pvpd_list_200K, metric=\"fill_factor\")\n",
    "plot_performance(alpha_values_200K, pvpd_list_200K, metric=\"V_at_max_P\")\n",
    "plot_performance(alpha_values_200K, pvpd_list_200K, metric=\"P_max\")"
   ]
  },
  {
   "cell_type": "markdown",
   "metadata": {},
   "source": [
    "# Data for each theory (additive leads, non-additive, etc)"
   ]
  },
  {
   "cell_type": "code",
   "execution_count": 5,
   "metadata": {
    "collapsed": true
   },
   "outputs": [],
   "source": [
    "def populations_and_current_vs_voltage_all(PARAMS, x_range=[0.,2.], num_voltages=100):\n",
    "    \n",
    "    if PARAMS['T_L']<100:\n",
    "        number_of_voltages = int(1.8*num_voltages)\n",
    "    else:\n",
    "        number_of_voltages = num_voltages\n",
    "    bias_voltages = np.concatenate((np.array([0]), \n",
    "                                    np.linspace(x_range[0]*ev_to_inv_cm, x_range[1]*ev_to_inv_cm, number_of_voltages)), \n",
    "                                   axis=0)\n",
    "    labels = zip([\"L_R\", \"L_R\", \"L_R_add\", \"L_R_add\"], # Right lead \n",
    "                 [\"L\", \"L_add_EM\", \"L_add_leads\", \"L_add\"]) #and full dissipators (for current)\n",
    "    data_dict = {} # inner dicts are of current and population data etc.\n",
    "    for theory in labels:\n",
    "        ti = time.time()\n",
    "        current = []\n",
    "        conduction_population = []\n",
    "        valence_population = []\n",
    "        ground_population = []\n",
    "        hole_population = []\n",
    "        electron_population = []\n",
    "        exciton_population = []\n",
    "        CC_population = []\n",
    "        ops = make_expectation_operators(PARAMS)\n",
    "        for i, bv in enumerate(bias_voltages):\n",
    "            PARAMS.update({'mu_R': PARAMS['mu']+bv/2, 'mu_L': PARAMS['mu']-bv/2})\n",
    "            #if i in [10, 90]:\n",
    "            #    print_PARAMS(PARAMS)\n",
    "            L_Lindblad_dict = build_L(PARAMS, silent=True)\n",
    "            #ops = make_expectation_operators(PARAMS)\n",
    "            n_c = tensor(d_e.dag()*d_e, qeye(PARAMS['N']))\n",
    "            n_v = tensor(d_h.dag()*d_h, qeye(PARAMS['N']))\n",
    "            ss = steadystate(L_Lindblad_dict['H_S'], [L_Lindblad_dict[theory[1]]])\n",
    "            current.append(current_from_ss(ss, L_Lindblad_dict[theory[0]], n_c))\n",
    "            conduction_population.append((n_c*ss).tr())\n",
    "            valence_population.append((n_v*ss).tr())\n",
    "            ground_population.append((ops['vac']*ss).tr())\n",
    "            hole_population.append((ops['hole']*ss).tr())\n",
    "            electron_population.append((ops['electron']*ss).tr())\n",
    "            exciton_population.append((ops['exciton']*ss).tr())\n",
    "            CC_population.append((ops['CC_pop']*ss).tr())\n",
    "        data_dict[theory[1]] = {'bias_voltages':bias_voltages/ev_to_inv_cm, \n",
    "                     'current': current,\n",
    "                     'conduction_population' : conduction_population, \n",
    "                     'valence_population' : valence_population,\n",
    "                     'ground_population': ground_population,\n",
    "                     'hole_population' : hole_population,\n",
    "                     'electron_population' : electron_population,\n",
    "                     'exciton_population' : exciton_population,\n",
    "                     'CC_population' : CC_population,\n",
    "                    'PARAMS': PARAMS}\n",
    "        print(\"C-V {} calculated in {:0.1f} seconds\".format(theory[1], time.time() - ti))\n",
    "    return data_dict"
   ]
  },
  {
   "cell_type": "code",
   "execution_count": 11,
   "metadata": {},
   "outputs": [
    {
     "name": "stdout",
     "output_type": "stream",
     "text": [
      "Phonon occupation: 0.17. Phonon thermal energy is 208.50. Phonon SD peak is 0.00. V=0.0. N=4.\n",
      "C-V L calculated in 15.8 seconds\n",
      "C-V L_add_EM calculated in 16.9 seconds\n",
      "C-V L_add_leads calculated in 16.4 seconds\n",
      "C-V L_add calculated in 14.6 seconds\n"
     ]
    }
   ],
   "source": [
    "PARAMS = PARAMS_setup(valence_energy=100e-3, binding_energy=0.1, radiative_lifetime=1, alpha_ph=0.1e-3,\n",
    "                      mu=700e-3, bias_voltage=0, N=4, silent=False, T_C=300.)\n",
    "\n",
    "data_dict_test_0 = populations_and_current_vs_voltage_all(PARAMS, x_range=[0.8, 1.5], num_voltages=15)"
   ]
  },
  {
   "cell_type": "code",
   "execution_count": 12,
   "metadata": {},
   "outputs": [
    {
     "name": "stdout",
     "output_type": "stream",
     "text": [
      "Phonon occupation: 0.17. Phonon thermal energy is 208.50. Phonon SD peak is 0.00. V=0.0. N=13.\n",
      "C-V L calculated in 268.3 seconds\n",
      "C-V L_add_EM calculated in 263.5 seconds\n",
      "C-V L_add_leads calculated in 250.8 seconds\n",
      "C-V L_add calculated in 258.4 seconds\n"
     ]
    }
   ],
   "source": [
    "PARAMS = PARAMS_setup(valence_energy=100e-3, binding_energy=0.1, radiative_lifetime=1, alpha_ph=100e-3,\n",
    "                      mu=700e-3, bias_voltage=0, N=13, silent=False, T_C=300.)\n",
    "\n",
    "data_dict_test_1 = populations_and_current_vs_voltage_all(PARAMS, x_range=[0.8, 1.5], num_voltages=15)"
   ]
  },
  {
   "cell_type": "code",
   "execution_count": 13,
   "metadata": {},
   "outputs": [
    {
     "data": {
      "text/plain": [
       "[<matplotlib.lines.Line2D at 0x7ff72468bf50>]"
      ]
     },
     "execution_count": 13,
     "metadata": {},
     "output_type": "execute_result"
    },
    {
     "data": {
      "image/png": "[encoded data removed]",
      "text/plain": [
       "<matplotlib.figure.Figure at 0x7ff717a4e8d0>"
      ]
     },
     "metadata": {},
     "output_type": "display_data"
    }
   ],
   "source": [
    "lab_dict = {'L': 'full', 'L_add_EM': 'add. EM', 'L_add_leads': 'add. Leads', 'L_add': 'add.'}\n",
    "plt.figure(figsize=(8,9))\n",
    "plt.plot(data_dict_test_1['L_add_leads']['bias_voltages'], data_dict_test_1['L_add_leads']['current'], \n",
    "         linestyle='dashed')\n",
    "plt.plot(data_dict_test_0['L']['bias_voltages'], data_dict_test_0['L']['current'])\n",
    "plt.plot(data_dict_test_1['L']['bias_voltages'], data_dict_test_1['L']['current'])\n",
    "plt.plot(data_dict_test_1['L_add_EM']['bias_voltages'], data_dict_test_1['L_add_EM']['current'],\n",
    "        linestyle='dotted')\n",
    "#for lab, data in data_dict_test_1.items():\n",
    "#    plt.plot(data['bias_voltages'], data['current'], label=lab_dict[lab])\n",
    "#plt.legend()"
   ]
  },
  {
   "cell_type": "code",
   "execution_count": 14,
   "metadata": {},
   "outputs": [
    {
     "data": {
      "text/plain": [
       "{'I_SC': 1.946174886278277e-06,\n",
       " 'P_max': 2.387027687227405e-06,\n",
       " 'P_theoretical_max': 2.7246448407895878e-06,\n",
       " 'V_OC': 1.4000000000000001,\n",
       " 'V_at_max_P': 1.3000000000000003,\n",
       " 'fill_factor': 0.876087646908012}"
      ]
     },
     "execution_count": 14,
     "metadata": {},
     "output_type": "execute_result"
    }
   ],
   "source": [
    "get_photovoltaic_summary(data_dict_test_1['L'])"
   ]
  },
  {
   "cell_type": "code",
   "execution_count": 15,
   "metadata": {},
   "outputs": [
    {
     "data": {
      "text/plain": [
       "{'I_SC': 4.51906265080723e-07,\n",
       " 'P_max': 5.3350636032662315e-07,\n",
       " 'P_theoretical_max': 6.326687711130123e-07,\n",
       " 'V_OC': 1.4000000000000001,\n",
       " 'V_at_max_P': 1.25,\n",
       " 'fill_factor': 0.84326330725643484}"
      ]
     },
     "execution_count": 15,
     "metadata": {},
     "output_type": "execute_result"
    }
   ],
   "source": [
    "get_photovoltaic_summary(data_dict_test_0['L'])"
   ]
  },
  {
   "cell_type": "code",
   "execution_count": null,
   "metadata": {
    "collapsed": true
   },
   "outputs": [],
   "source": []
  }
 ],
 "metadata": {
  "kernelspec": {
   "display_name": "Python 3",
   "language": "python",
   "name": "python3"
  },
  "language_info": {
   "codemirror_mode": {
    "name": "ipython",
    "version": 2
   },
   "file_extension": ".py",
   "mimetype": "text/x-python",
   "name": "python",
   "nbconvert_exporter": "python",
   "pygments_lexer": "ipython2",
   "version": "2.7.13"
  }
 },
 "nbformat": 4,
 "nbformat_minor": 2
}
