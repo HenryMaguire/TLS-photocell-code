{
 "cells": [
  {
   "cell_type": "code",
   "execution_count": 1,
   "metadata": {},
   "outputs": [
    {
     "name": "stdout",
     "output_type": "stream",
     "text": [
      "utils imported\n"
     ]
    }
   ],
   "source": [
    "%matplotlib inline\n",
    "import time \n",
    "\n",
    "from qutip import mesolve, steadystate\n",
    "#from importlib import reload\n",
    "\n",
    "\n",
    "\n",
    "import numpy as np\n",
    "import optical as EM\n",
    "import phonons as RC\n",
    "import leads as FL\n",
    "from utils import *\n",
    "from photocell_setup import *\n",
    "import matplotlib.pyplot as plt\n",
    "from style import *\n",
    "\n"
   ]
  },
  {
   "cell_type": "code",
   "execution_count": 2,
   "metadata": {
    "scrolled": true
   },
   "outputs": [
    {
     "name": "stdout",
     "output_type": "stream",
     "text": [
      "Phonon occupation: 0.17. Phonon thermal energy is 208.50. Phonon SD peak is 0.00. V=0.0. N=3.\n"
     ]
    },
    {
     "ename": "KeyboardInterrupt",
     "evalue": "",
     "output_type": "error",
     "traceback": [
      "\u001b[0;31m---------------------------------------------------------------------------\u001b[0m",
      "\u001b[0;31mKeyboardInterrupt\u001b[0m                         Traceback (most recent call last)",
      "\u001b[0;32m<ipython-input-2-9de26c604cec>\u001b[0m in \u001b[0;36m<module>\u001b[0;34m()\u001b[0m\n\u001b[1;32m      2\u001b[0m                       bias_voltage=0, N=3, silent=False, T_C=300.)\n\u001b[1;32m      3\u001b[0m \u001b[0;34m\u001b[0m\u001b[0m\n\u001b[0;32m----> 4\u001b[0;31m \u001b[0mdata_dict_\u001b[0m \u001b[0;34m=\u001b[0m \u001b[0mpopulations_and_current_vs_voltage\u001b[0m\u001b[0;34m(\u001b[0m\u001b[0mPARAMS\u001b[0m\u001b[0;34m)\u001b[0m\u001b[0;34m\u001b[0m\u001b[0m\n\u001b[0m\u001b[1;32m      5\u001b[0m \u001b[0mplt\u001b[0m\u001b[0;34m.\u001b[0m\u001b[0mplot\u001b[0m\u001b[0;34m(\u001b[0m\u001b[0mdata_dict_\u001b[0m\u001b[0;34m[\u001b[0m\u001b[0;34m'bias_voltages'\u001b[0m\u001b[0;34m]\u001b[0m\u001b[0;34m,\u001b[0m \u001b[0mnp\u001b[0m\u001b[0;34m.\u001b[0m\u001b[0marray\u001b[0m\u001b[0;34m(\u001b[0m\u001b[0mdata_dict_\u001b[0m\u001b[0;34m[\u001b[0m\u001b[0;34m'current'\u001b[0m\u001b[0;34m]\u001b[0m\u001b[0;34m)\u001b[0m\u001b[0;34m,\u001b[0m \u001b[0mlabel\u001b[0m\u001b[0;34m=\u001b[0m\u001b[0;34mr'$\\alpha=0meV$'\u001b[0m\u001b[0;34m)\u001b[0m\u001b[0;34m\u001b[0m\u001b[0m\n",
      "\u001b[0;32m/Users/henrymaguire/Work/phd-work/CS-photocell-code/photocell_setup.pyc\u001b[0m in \u001b[0;36mpopulations_and_current_vs_voltage\u001b[0;34m(PARAMS, x_range, num_voltages)\u001b[0m\n\u001b[1;32m    206\u001b[0m         \u001b[0;31m#if i in [10, 90]:\u001b[0m\u001b[0;34m\u001b[0m\u001b[0;34m\u001b[0m\u001b[0m\n\u001b[1;32m    207\u001b[0m         \u001b[0;31m#    print_PARAMS(PARAMS)\u001b[0m\u001b[0;34m\u001b[0m\u001b[0;34m\u001b[0m\u001b[0m\n\u001b[0;32m--> 208\u001b[0;31m         \u001b[0mL_Lindblad_dict\u001b[0m \u001b[0;34m=\u001b[0m \u001b[0mbuild_L\u001b[0m\u001b[0;34m(\u001b[0m\u001b[0mPARAMS\u001b[0m\u001b[0;34m,\u001b[0m \u001b[0msilent\u001b[0m\u001b[0;34m=\u001b[0m\u001b[0mTrue\u001b[0m\u001b[0;34m)\u001b[0m\u001b[0;34m\u001b[0m\u001b[0m\n\u001b[0m\u001b[1;32m    209\u001b[0m         \u001b[0;31m#ops = make_expectation_operators(PARAMS)\u001b[0m\u001b[0;34m\u001b[0m\u001b[0;34m\u001b[0m\u001b[0m\n\u001b[1;32m    210\u001b[0m         \u001b[0mn_c\u001b[0m \u001b[0;34m=\u001b[0m \u001b[0mtensor\u001b[0m\u001b[0;34m(\u001b[0m\u001b[0md_e\u001b[0m\u001b[0;34m.\u001b[0m\u001b[0mdag\u001b[0m\u001b[0;34m(\u001b[0m\u001b[0;34m)\u001b[0m\u001b[0;34m*\u001b[0m\u001b[0md_e\u001b[0m\u001b[0;34m,\u001b[0m \u001b[0mqeye\u001b[0m\u001b[0;34m(\u001b[0m\u001b[0mPARAMS\u001b[0m\u001b[0;34m[\u001b[0m\u001b[0;34m'N'\u001b[0m\u001b[0;34m]\u001b[0m\u001b[0;34m)\u001b[0m\u001b[0;34m)\u001b[0m\u001b[0;34m\u001b[0m\u001b[0m\n",
      "\u001b[0;32m/Users/henrymaguire/Work/phd-work/CS-photocell-code/photocell_setup.pyc\u001b[0m in \u001b[0;36mbuild_L\u001b[0;34m(PARAMS, silent)\u001b[0m\n\u001b[1;32m    167\u001b[0m         L_EM = EM.L_non_rwa(H_S, A_nrwa, PARAMS['omega_exciton'], PARAMS['Gamma_EM'], \n\u001b[1;32m    168\u001b[0m                             \u001b[0mPARAMS\u001b[0m\u001b[0;34m[\u001b[0m\u001b[0;34m'T_EM'\u001b[0m\u001b[0;34m]\u001b[0m\u001b[0;34m,\u001b[0m \u001b[0mPARAMS\u001b[0m\u001b[0;34m[\u001b[0m\u001b[0;34m'J'\u001b[0m\u001b[0;34m]\u001b[0m\u001b[0;34m,\u001b[0m\u001b[0;34m\u001b[0m\u001b[0m\n\u001b[0;32m--> 169\u001b[0;31m                                     silent=silent, tol=0)\n\u001b[0m\u001b[1;32m    170\u001b[0m         L_EM_add = EM.L_non_rwa(H_add, A_nrwa, PARAMS['omega_exciton'], PARAMS['Gamma_EM'], \n\u001b[1;32m    171\u001b[0m                             PARAMS['T_EM'], PARAMS['J'], silent=silent, tol=0)\n",
      "\u001b[0;32m/Users/henrymaguire/Work/phd-work/CS-photocell-code/optical.pyc\u001b[0m in \u001b[0;36mL_non_rwa\u001b[0;34m(H_vib, A, w_0, Gamma, T_EM, J, principal, silent, alpha, tol)\u001b[0m\n\u001b[1;32m    152\u001b[0m             \u001b[0ms\u001b[0m\u001b[0;34m*=\u001b[0m \u001b[0mA\u001b[0m\u001b[0;34m.\u001b[0m\u001b[0mmatrix_element\u001b[0m\u001b[0;34m(\u001b[0m\u001b[0meVecs\u001b[0m\u001b[0;34m[\u001b[0m\u001b[0mi\u001b[0m\u001b[0;34m]\u001b[0m\u001b[0;34m.\u001b[0m\u001b[0mdag\u001b[0m\u001b[0;34m(\u001b[0m\u001b[0;34m)\u001b[0m\u001b[0;34m,\u001b[0m \u001b[0meVecs\u001b[0m\u001b[0;34m[\u001b[0m\u001b[0mj\u001b[0m\u001b[0;34m]\u001b[0m\u001b[0;34m)\u001b[0m\u001b[0;34m\u001b[0m\u001b[0m\n\u001b[1;32m    153\u001b[0m             \u001b[0ms\u001b[0m\u001b[0;34m*=\u001b[0m \u001b[0mDecayRate\u001b[0m\u001b[0;34m(\u001b[0m\u001b[0meta\u001b[0m\u001b[0;34m,\u001b[0m \u001b[0mbeta\u001b[0m\u001b[0;34m,\u001b[0m \u001b[0mJ\u001b[0m\u001b[0;34m,\u001b[0m \u001b[0mGamma\u001b[0m\u001b[0;34m,\u001b[0m \u001b[0mw_0\u001b[0m\u001b[0;34m,\u001b[0m \u001b[0mimag_part\u001b[0m\u001b[0;34m=\u001b[0m\u001b[0mprincipal\u001b[0m\u001b[0;34m,\u001b[0m \u001b[0malpha\u001b[0m\u001b[0;34m=\u001b[0m\u001b[0malpha\u001b[0m\u001b[0;34m,\u001b[0m \u001b[0mtol\u001b[0m\u001b[0;34m=\u001b[0m\u001b[0mtol\u001b[0m\u001b[0;34m)\u001b[0m\u001b[0;34m\u001b[0m\u001b[0m\n\u001b[0;32m--> 154\u001b[0;31m             \u001b[0mG\u001b[0m\u001b[0;34m+=\u001b[0m\u001b[0ms\u001b[0m\u001b[0;34m\u001b[0m\u001b[0m\n\u001b[0m\u001b[1;32m    155\u001b[0m     \u001b[0mG_dag\u001b[0m \u001b[0;34m=\u001b[0m \u001b[0mG\u001b[0m\u001b[0;34m.\u001b[0m\u001b[0mdag\u001b[0m\u001b[0;34m(\u001b[0m\u001b[0;34m)\u001b[0m\u001b[0;34m\u001b[0m\u001b[0m\n\u001b[1;32m    156\u001b[0m     \u001b[0;31m# Initialise liouvilliian\u001b[0m\u001b[0;34m\u001b[0m\u001b[0;34m\u001b[0m\u001b[0m\n",
      "\u001b[0;32m/Users/henrymaguire/.pyenv/versions/2.7.15/lib/python2.7/site-packages/qutip/qobj.pyc\u001b[0m in \u001b[0;36m__add__\u001b[0;34m(self, other)\u001b[0m\n\u001b[1;32m    434\u001b[0m         \u001b[0;32melse\u001b[0m\u001b[0;34m:\u001b[0m  \u001b[0;31m# case for matching quantum objects\u001b[0m\u001b[0;34m\u001b[0m\u001b[0m\n\u001b[1;32m    435\u001b[0m             \u001b[0mout\u001b[0m \u001b[0;34m=\u001b[0m \u001b[0mQobj\u001b[0m\u001b[0;34m(\u001b[0m\u001b[0;34m)\u001b[0m\u001b[0;34m\u001b[0m\u001b[0m\n\u001b[0;32m--> 436\u001b[0;31m             \u001b[0mout\u001b[0m\u001b[0;34m.\u001b[0m\u001b[0mdata\u001b[0m \u001b[0;34m=\u001b[0m \u001b[0mself\u001b[0m\u001b[0;34m.\u001b[0m\u001b[0mdata\u001b[0m \u001b[0;34m+\u001b[0m \u001b[0mother\u001b[0m\u001b[0;34m.\u001b[0m\u001b[0mdata\u001b[0m\u001b[0;34m\u001b[0m\u001b[0m\n\u001b[0m\u001b[1;32m    437\u001b[0m             \u001b[0mout\u001b[0m\u001b[0;34m.\u001b[0m\u001b[0mdims\u001b[0m \u001b[0;34m=\u001b[0m \u001b[0mself\u001b[0m\u001b[0;34m.\u001b[0m\u001b[0mdims\u001b[0m\u001b[0;34m\u001b[0m\u001b[0m\n\u001b[1;32m    438\u001b[0m             \u001b[0;32mif\u001b[0m \u001b[0msettings\u001b[0m\u001b[0;34m.\u001b[0m\u001b[0mauto_tidyup\u001b[0m\u001b[0;34m:\u001b[0m \u001b[0mout\u001b[0m\u001b[0;34m.\u001b[0m\u001b[0mtidyup\u001b[0m\u001b[0;34m(\u001b[0m\u001b[0;34m)\u001b[0m\u001b[0;34m\u001b[0m\u001b[0m\n",
      "\u001b[0;32m/Users/henrymaguire/.pyenv/versions/2.7.15/lib/python2.7/site-packages/scipy/sparse/base.pyc\u001b[0m in \u001b[0;36m__add__\u001b[0;34m(self, other)\u001b[0m\n\u001b[1;32m    412\u001b[0m             \u001b[0;32mif\u001b[0m \u001b[0mother\u001b[0m\u001b[0;34m.\u001b[0m\u001b[0mshape\u001b[0m \u001b[0;34m!=\u001b[0m \u001b[0mself\u001b[0m\u001b[0;34m.\u001b[0m\u001b[0mshape\u001b[0m\u001b[0;34m:\u001b[0m\u001b[0;34m\u001b[0m\u001b[0m\n\u001b[1;32m    413\u001b[0m                 \u001b[0;32mraise\u001b[0m \u001b[0mValueError\u001b[0m\u001b[0;34m(\u001b[0m\u001b[0;34m\"inconsistent shapes\"\u001b[0m\u001b[0;34m)\u001b[0m\u001b[0;34m\u001b[0m\u001b[0m\n\u001b[0;32m--> 414\u001b[0;31m             \u001b[0;32mreturn\u001b[0m \u001b[0mself\u001b[0m\u001b[0;34m.\u001b[0m\u001b[0m_add_sparse\u001b[0m\u001b[0;34m(\u001b[0m\u001b[0mother\u001b[0m\u001b[0;34m)\u001b[0m\u001b[0;34m\u001b[0m\u001b[0m\n\u001b[0m\u001b[1;32m    415\u001b[0m         \u001b[0;32melif\u001b[0m \u001b[0misdense\u001b[0m\u001b[0;34m(\u001b[0m\u001b[0mother\u001b[0m\u001b[0;34m)\u001b[0m\u001b[0;34m:\u001b[0m\u001b[0;34m\u001b[0m\u001b[0m\n\u001b[1;32m    416\u001b[0m             \u001b[0mother\u001b[0m \u001b[0;34m=\u001b[0m \u001b[0mbroadcast_to\u001b[0m\u001b[0;34m(\u001b[0m\u001b[0mother\u001b[0m\u001b[0;34m,\u001b[0m \u001b[0mself\u001b[0m\u001b[0;34m.\u001b[0m\u001b[0mshape\u001b[0m\u001b[0;34m)\u001b[0m\u001b[0;34m\u001b[0m\u001b[0m\n",
      "\u001b[0;32m/Users/henrymaguire/.pyenv/versions/2.7.15/lib/python2.7/site-packages/scipy/sparse/compressed.pyc\u001b[0m in \u001b[0;36m_add_sparse\u001b[0;34m(self, other)\u001b[0m\n\u001b[1;32m    340\u001b[0m \u001b[0;34m\u001b[0m\u001b[0m\n\u001b[1;32m    341\u001b[0m     \u001b[0;32mdef\u001b[0m \u001b[0m_add_sparse\u001b[0m\u001b[0;34m(\u001b[0m\u001b[0mself\u001b[0m\u001b[0;34m,\u001b[0m \u001b[0mother\u001b[0m\u001b[0;34m)\u001b[0m\u001b[0;34m:\u001b[0m\u001b[0;34m\u001b[0m\u001b[0m\n\u001b[0;32m--> 342\u001b[0;31m         \u001b[0;32mreturn\u001b[0m \u001b[0mself\u001b[0m\u001b[0;34m.\u001b[0m\u001b[0m_binopt\u001b[0m\u001b[0;34m(\u001b[0m\u001b[0mother\u001b[0m\u001b[0;34m,\u001b[0m \u001b[0;34m'_plus_'\u001b[0m\u001b[0;34m)\u001b[0m\u001b[0;34m\u001b[0m\u001b[0m\n\u001b[0m\u001b[1;32m    343\u001b[0m \u001b[0;34m\u001b[0m\u001b[0m\n\u001b[1;32m    344\u001b[0m     \u001b[0;32mdef\u001b[0m \u001b[0m_sub_sparse\u001b[0m\u001b[0;34m(\u001b[0m\u001b[0mself\u001b[0m\u001b[0;34m,\u001b[0m \u001b[0mother\u001b[0m\u001b[0;34m)\u001b[0m\u001b[0;34m:\u001b[0m\u001b[0;34m\u001b[0m\u001b[0m\n",
      "\u001b[0;32m/Users/henrymaguire/.pyenv/versions/2.7.15/lib/python2.7/site-packages/qutip/fastsparse.pyc\u001b[0m in \u001b[0;36m_binopt\u001b[0;34m(self, other, op)\u001b[0m\n\u001b[1;32m     72\u001b[0m         \u001b[0mself\u001b[0m\u001b[0;34m.\u001b[0m\u001b[0mformat\u001b[0m \u001b[0;34m=\u001b[0m \u001b[0;34m'csr'\u001b[0m\u001b[0;34m\u001b[0m\u001b[0m\n\u001b[1;32m     73\u001b[0m \u001b[0;34m\u001b[0m\u001b[0m\n\u001b[0;32m---> 74\u001b[0;31m     \u001b[0;32mdef\u001b[0m \u001b[0m_binopt\u001b[0m\u001b[0;34m(\u001b[0m\u001b[0mself\u001b[0m\u001b[0;34m,\u001b[0m \u001b[0mother\u001b[0m\u001b[0;34m,\u001b[0m \u001b[0mop\u001b[0m\u001b[0;34m)\u001b[0m\u001b[0;34m:\u001b[0m\u001b[0;34m\u001b[0m\u001b[0m\n\u001b[0m\u001b[1;32m     75\u001b[0m         \"\"\"\n\u001b[1;32m     76\u001b[0m         \u001b[0mDo\u001b[0m \u001b[0mthe\u001b[0m \u001b[0mbinary\u001b[0m \u001b[0moperation\u001b[0m \u001b[0mfn\u001b[0m \u001b[0mto\u001b[0m \u001b[0mtwo\u001b[0m \u001b[0msparse\u001b[0m \u001b[0mmatrices\u001b[0m \u001b[0musing\u001b[0m\u001b[0;34m\u001b[0m\u001b[0m\n",
      "\u001b[0;31mKeyboardInterrupt\u001b[0m: "
     ]
    }
   ],
   "source": [
    "PARAMS = PARAMS_setup(valence_energy=100e-3, binding_energy=0., radiative_lifetime=1, alpha_ph=0, mu=700e-3,\n",
    "                      bias_voltage=0, N=3, silent=False, T_C=300.)\n",
    "\n",
    "data_dict_ = populations_and_current_vs_voltage(PARAMS)\n",
    "plt.plot(data_dict_['bias_voltages'], np.array(data_dict_['current']), label=r'$\\alpha=0meV$')"
   ]
  },
  {
   "cell_type": "markdown",
   "metadata": {},
   "source": [
    "# Designing an experiment to understand non-additivity\n",
    "\n",
    "The dependence of populations on phonon coupling\n",
    "\n",
    "\n",
    "## Non-additivity of optical dissipator\n",
    "\n",
    "different effective transition rates sampling spectral density differently competes with different thermal occupations.\n",
    "\n",
    "\n",
    "## Non-additivity of lead dissipators\n",
    "\n",
    "<img src=\"PLOTS/FermionModel4LS.png\" alt=\"Drawing\" style=\"width: 500px;\"/>\n",
    "\n",
    "- different effective transition frequencies sampling spectral density differently. \n",
    "    - Since the maximum coupling is always at the non-additive conduction and (negative) valence frequencies, increasing phonon coupling tends to push a transition out of the optimal window\n",
    "    - For U=0, the charge-separation transitions will move out of the optimal window at the same time as the free-carrier transition rates\n",
    "    - For $U\\neq 0$, the CS step will be initially less well coupled to the leads. \n",
    "\n",
    "- different effective transition frequencies have different thermal occupations:\n",
    "\n",
    "\n",
    "- At zero phonon-coupling, "
   ]
  },
  {
   "cell_type": "code",
   "execution_count": 15,
   "metadata": {},
   "outputs": [
    {
     "data": {
      "text/plain": [
       "array([0. , 0.1])"
      ]
     },
     "execution_count": 15,
     "metadata": {},
     "output_type": "execute_result"
    }
   ],
   "source": [
    "np.linspace(0.0, 0.1, 2)"
   ]
  },
  {
   "cell_type": "code",
   "execution_count": 6,
   "metadata": {},
   "outputs": [
    {
     "name": "stdout",
     "output_type": "stream",
     "text": [
      "Phonon occupation: 0.00. Phonon thermal energy is 53.51. Phonon SD peak is 0.00. V=0.0. N=3.\n",
      "C-V data calculated in 1.7 seconds\n",
      "[0.0002698351384651592, 0.0002698351384651592]\n",
      "Phonon occupation: 0.00. Phonon thermal energy is 53.51. Phonon SD peak is 0.00. V=0.0. N=3.\n",
      "C-V data calculated in 2.0 seconds\n",
      "[0.00026939447434439607, 0.00026939447434439607]\n",
      "Phonon occupation: 0.00. Phonon thermal energy is 53.51. Phonon SD peak is 0.00. V=0.0. N=4.\n",
      "C-V data calculated in 3.5 seconds\n",
      "[0.00026895530078119496, 0.00026895530078119496]\n",
      "Phonon occupation: 0.00. Phonon thermal energy is 53.51. Phonon SD peak is 0.00. V=0.0. N=4.\n",
      "C-V data calculated in 3.4 seconds\n",
      "[0.00026851588839152824, 0.00026851588839152824]\n",
      "Phonon occupation: 0.00. Phonon thermal energy is 53.51. Phonon SD peak is 0.00. V=0.0. N=5.\n",
      "C-V data calculated in 5.2 seconds\n",
      "[0.00026807797012818197, 0.00026807797012818197]\n",
      "Phonon occupation: 0.00. Phonon thermal energy is 53.51. Phonon SD peak is 0.00. V=0.0. N=5.\n",
      "C-V data calculated in 5.3 seconds\n",
      "[0.00026764002625123684, 0.00026764002625123684]\n",
      "Phonon occupation: 0.00. Phonon thermal energy is 53.51. Phonon SD peak is 0.00. V=0.0. N=6.\n",
      "C-V data calculated in 7.5 seconds\n",
      "[0.0002672029810895052, 0.0002672029810895052]\n",
      "Phonon occupation: 0.00. Phonon thermal energy is 53.51. Phonon SD peak is 0.00. V=0.0. N=7.\n",
      "C-V data calculated in 10.4 seconds\n",
      "[0.00026676636008981277, 0.00026676636008981277]\n",
      "Phonon occupation: 0.00. Phonon thermal energy is 53.51. Phonon SD peak is 0.00. V=0.0. N=3.\n",
      "C-V data calculated in 1.6 seconds\n",
      "[0.0003250318257647671, 0.0003250318257647671]\n",
      "Phonon occupation: 0.00. Phonon thermal energy is 53.51. Phonon SD peak is 0.00. V=0.0. N=3.\n",
      "C-V data calculated in 2.0 seconds\n",
      "[0.00032452769955296316, 0.00032452769955296316]\n",
      "Phonon occupation: 0.00. Phonon thermal energy is 53.51. Phonon SD peak is 0.00. V=0.0. N=4.\n",
      "C-V data calculated in 3.2 seconds\n",
      "[0.00032402529941225435, 0.00032402529941225435]\n",
      "Phonon occupation: 0.00. Phonon thermal energy is 53.51. Phonon SD peak is 0.00. V=0.0. N=4.\n",
      "C-V data calculated in 3.3 seconds\n",
      "[0.0003235224893396436, 0.0003235224893396436]\n",
      "Phonon occupation: 0.00. Phonon thermal energy is 53.51. Phonon SD peak is 0.00. V=0.0. N=5.\n",
      "C-V data calculated in 5.4 seconds\n",
      "[0.000323021410176268, 0.000323021410176268]\n",
      "Phonon occupation: 0.00. Phonon thermal energy is 53.51. Phonon SD peak is 0.00. V=0.0. N=5.\n",
      "C-V data calculated in 5.2 seconds\n",
      "[0.00032252018489816565, 0.00032252018489816565]\n",
      "Phonon occupation: 0.00. Phonon thermal energy is 53.51. Phonon SD peak is 0.00. V=0.0. N=6.\n",
      "C-V data calculated in 7.1 seconds\n",
      "[0.00032201995549661466, 0.00032201995549661466]\n",
      "Phonon occupation: 0.00. Phonon thermal energy is 53.51. Phonon SD peak is 0.00. V=0.0. N=7.\n",
      "C-V data calculated in 9.9 seconds\n",
      "[0.0003215201373753721, 0.0003215201373753721]\n"
     ]
    },
    {
     "data": {
      "image/png": "[encoded data removed]",
      "text/plain": [
       "<Figure size 432x288 with 1 Axes>"
      ]
     },
     "metadata": {
      "needs_background": "light"
     },
     "output_type": "display_data"
    }
   ],
   "source": [
    "def short_current_from_dict(dd):\n",
    "    # assumes that V=0 at element 0\n",
    "    return dd['current'][0]\n",
    "\n",
    "def calculate_current_slope(binding_energies, alpha_values, lead_SD='Lorentzian'):\n",
    "    data = []\n",
    "    for BE in binding_energies: #[0., 0.025, 0.05, 0.075, 0.1, 0.2]:\n",
    "        I_SC = []\n",
    "        N_values = [int(n) for n in np.linspace(3,7,len(alpha_values))]\n",
    "        for N, alpha in zip(N_values, alpha_values):\n",
    "            PARAMS = PARAMS_setup(valence_energy=100e-3, binding_energy=BE, radiative_lifetime=1, alpha_ph=alpha, mu=700e-3,\n",
    "                                  bias_voltage=0, N=N, silent=False, T_C=77., lead_SD=lead_SD)\n",
    "            data_dict = populations_and_current_vs_voltage(PARAMS, x_range=[0.1,0.3],num_voltages=1)\n",
    "            print(data_dict['current'])\n",
    "            I_SC.append(short_current_from_dict(data_dict))\n",
    "        data.append(np.array(I_SC))\n",
    "        plt.plot(alpha_values, np.array(I_SC)/I_SC[0], label='U={}meV'.format(int(BE*100)))\n",
    "    plt.legend()\n",
    "    return np.array(data)\n",
    "\n",
    "    \n",
    "binding_energies = np.linspace(0.0, 0.1, 2)\n",
    "alpha_values = np.linspace(0, 30e-3, 8) #[0, 10e-3, 20e-3, 30e-3]\n",
    "data_77 = calculate_current_slope(binding_energies, alpha_values, lead_SD='flat')\n",
    "\n"
   ]
  },
  {
   "cell_type": "code",
   "execution_count": 28,
   "metadata": {},
   "outputs": [
    {
     "data": {
      "text/plain": [
       "208.49999999999997"
      ]
     },
     "execution_count": 28,
     "metadata": {},
     "output_type": "execute_result"
    }
   ],
   "source": [
    "300*0.695"
   ]
  },
  {
   "cell_type": "code",
   "execution_count": null,
   "metadata": {},
   "outputs": [],
   "source": [
    "\n",
    "data = []\n",
    "for BE in np.linspace(0.0, 0.3, 6): #[0., 0.025, 0.05, 0.075, 0.1, 0.2]:\n",
    "    I_SC = []\n",
    "    alpha_values = np.linspace(0,30e-3,8) #[0, 10e-3, 20e-3, 30e-3]\n",
    "    N_values = [int(n) for n in np.linspace(3,13,len(alpha_values))]\n",
    "    for N, alpha in zip(N_values, alpha_values):\n",
    "        PARAMS = PARAMS_setup(valence_energy=100e-3, binding_energy=BE, radiative_lifetime=1, \n",
    "                              alpha_ph=alpha, mu=700e-3,\n",
    "                              bias_voltage=0, N=N, silent=False, T_C=77.)\n",
    "        data_dict = populations_and_current_vs_voltage(PARAMS, x_range=[0.1,0.3],num_voltages=1)\n",
    "        print(data_dict['current'])\n",
    "        I_SC.append(short_current_from_dict(data_dict))\n",
    "    data.append(np.array(I_SC))\n",
    "    plt.plot(alpha_values, np.array(I_SC)/I_SC[0], label='U={}meV'.format(int(BE*100)))\n",
    "plt.legend()"
   ]
  },
  {
   "cell_type": "code",
   "execution_count": null,
   "metadata": {},
   "outputs": [],
   "source": [
    "data = []\n",
    "for BE in np.linspace(0.0, 0.3, 6): #[0., 0.025, 0.05, 0.075, 0.1, 0.2]:\n",
    "    I_SC = []\n",
    "    alpha_values = np.linspace(0,30e-3,8) #[0, 10e-3, 20e-3, 30e-3]\n",
    "    N_values = [int(n) for n in np.linspace(3,13,len(alpha_values))]\n",
    "    for N, alpha in zip(N_values, alpha_values):\n",
    "        PARAMS = PARAMS_setup(valence_energy=100e-3, binding_energy=BE, radiative_lifetime=1, \n",
    "                              alpha_ph=alpha, mu=700e-3, deformation_ratio=1e-1,\n",
    "                              bias_voltage=0, N=N, silent=False, T_C=77.)\n",
    "        data_dict = populations_and_current_vs_voltage(PARAMS, x_range=[0.1,0.3],num_voltages=1)\n",
    "        print(data_dict['current'])\n",
    "        I_SC.append(short_current_from_dict(data_dict))\n",
    "    data.append(np.array(I_SC))\n",
    "    plt.plot(alpha_values, np.array(I_SC)/I_SC[0], label='U={}meV'.format(int(BE*100)))\n",
    "plt.legend()"
   ]
  },
  {
   "cell_type": "markdown",
   "metadata": {},
   "source": [
    "$\\frac{2 \\Gamma _{\\text{downR}} \\Gamma _{\\text{upEM}} \\Gamma _{\\text{upL}} \\left(\\Gamma _{\\text{downRU}}+\\Gamma _{\\text{upLU}}\\right)}{\\Gamma _{\\text{downR}} \\left(\\Gamma _{\\text{upL}} \\left(\\Gamma _{\\text{downEM}}+\\Gamma _{\\text{upEM}}+\\Gamma _{\\text{upLU}}\\right)+\\Gamma _{\\text{downRU}} \\left(\\Gamma _{\\text{upEM}}+\\Gamma _{\\text{upL}}\\right)\\right)+\\Gamma _{\\text{upEM}} \\Gamma _{\\text{upL}} \\Gamma _{\\text{upLU}}}$"
   ]
  },
  {
   "cell_type": "code",
   "execution_count": 22,
   "metadata": {},
   "outputs": [],
   "source": [
    "import rate_functions as rf\n",
    "\n",
    "def analyticalCurrent(rd):\n",
    "    # rd is a dict with the various rates as key-value pairs\n",
    "    numer = rd['R_down']*rd['EM_up']*rd['L_up']*(rd['RU_down']+rd['LU_up'])\n",
    "    \n",
    "    denom = rd['R_down']*rd['L_up']*(rd['EM_down']+rd['EM_up']+rd['LU_up']) \n",
    "    denom += rd['R_down']*rd['RU_down']*(rd['EM_up']+rd['L_up']) + rd['EM_up']*rd['L_up']*rd['LU_up']\n",
    "    \n",
    "    return numer/denom\n",
    "def convert_dicts(rates, element=0):\n",
    "    return {'R_down': rates['e-0'][element], 'L_up': rates['h-0'][element], 'RU_down': rates['x-h'][element], \n",
    "          'EM_down': rates['x-0'][element], 'EM_up': rates['0-x'][element], 'LU_up': rates['x-e'][element]}\n",
    "\n",
    "reload(rf)\n",
    "def calculate_current_slope_analytic(binding_energies, alpha_lim=[0,30e-3], \n",
    "                                     num_alpha=5, lead_SD='Lorentzian', radiative_lifetime=1):\n",
    "    data = []\n",
    "    for BE in binding_energies:\n",
    "        alpha_values, rates = rf.get_all_rates_states(init_state=0, alpha_lim=alpha_lim, num_alpha=num_alpha,\n",
    "                       valence_energy=100e-3, binding_energy=BE, radiative_lifetime=radiative_lifetime,\n",
    "                          mu=700e-3, bias_voltage=0, N_max=10, silent=False, T_C=77., lead_SD=lead_SD)\n",
    "        rd = convert_dicts(rates)\n",
    "        I = []\n",
    "        for i in range(num_alpha):\n",
    "            rd = convert_dicts(rates, element=i)\n",
    "            I.append(analyticalCurrent(rd))\n",
    "        data.append(I)\n",
    "        plt.plot(alpha_values, np.array(I)/I[0])\n",
    "    return np.array(data)\n"
   ]
  },
  {
   "cell_type": "code",
   "execution_count": 8,
   "metadata": {},
   "outputs": [
    {
     "name": "stdout",
     "output_type": "stream",
     "text": [
      "init state 0 complete at T=77.0K\n",
      "init state 0 complete at T=77.0K\n"
     ]
    },
    {
     "data": {
      "image/png": "[encoded data removed]",
      "text/plain": [
       "<Figure size 432x288 with 1 Axes>"
      ]
     },
     "metadata": {
      "needs_background": "light"
     },
     "output_type": "display_data"
    }
   ],
   "source": [
    "\n",
    "binding_energies = np.linspace(0.0, 0.1, 2)\n",
    "alpha_values = np.linspace(0, 30e-3, 8) #[0, 10e-3, 20e-3, 30e-3]\n",
    "data_an_77 = calculate_current_slope_analytic(binding_energies, \n",
    "                                              alpha_lim=[alpha_values[0],alpha_values[-1]], \n",
    "                                              num_alpha=len(alpha_values), lead_SD='flat')"
   ]
  },
  {
   "cell_type": "code",
   "execution_count": 12,
   "metadata": {},
   "outputs": [
    {
     "data": {
      "text/plain": [
       "<matplotlib.legend.Legend at 0x11c16bd10>"
      ]
     },
     "execution_count": 12,
     "metadata": {},
     "output_type": "execute_result"
    },
    {
     "data": {
      "image/png": "[encoded data removed]",
      "text/plain": [
       "<Figure size 432x288 with 1 Axes>"
      ]
     },
     "metadata": {
      "needs_background": "light"
     },
     "output_type": "display_data"
    }
   ],
   "source": [
    "for BE,data in zip(binding_energies, np.array(data_77)):\n",
    "    plt.plot(alpha_values, data/data[0], label='BE={}'.format(int(100*BE)))\n",
    "for BE in np.array(data_an_77):\n",
    "    plt.plot(alpha_values, BE/BE[0], linestyle='dashed')\n",
    "plt.legend()"
   ]
  },
  {
   "cell_type": "code",
   "execution_count": 24,
   "metadata": {},
   "outputs": [
    {
     "name": "stdout",
     "output_type": "stream",
     "text": [
      "init state 0 complete at T=77.0K\n",
      "init state 0 complete at T=77.0K\n",
      "init state 0 complete at T=77.0K\n"
     ]
    },
    {
     "name": "stderr",
     "output_type": "stream",
     "text": [
      "WARNING:matplotlib.legend:No handles with labels found to put in legend.\n"
     ]
    },
    {
     "name": "stdout",
     "output_type": "stream",
     "text": [
      "init state 0 complete at T=77.0K\n"
     ]
    },
    {
     "data": {
      "text/plain": [
       "<matplotlib.legend.Legend at 0x11c48c390>"
      ]
     },
     "execution_count": 24,
     "metadata": {},
     "output_type": "execute_result"
    },
    {
     "data": {
      "image/png": "[encoded data removed]",
      "text/plain": [
       "<Figure size 432x288 with 1 Axes>"
      ]
     },
     "metadata": {
      "needs_background": "light"
     },
     "output_type": "display_data"
    }
   ],
   "source": [
    "binding_energies = np.linspace(0.0, 0.1, 2)\n",
    "alpha_values = np.linspace(0, 30e-3, 8) #[0, 10e-3, 20e-3, 30e-3]\n",
    "data_an_77_1 = calculate_current_slope_analytic(binding_energies, \n",
    "                                              alpha_lim=[alpha_values[0],alpha_values[-1]], \n",
    "                                              num_alpha=len(alpha_values), lead_SD='flat', radiative_lifetime=1)\n",
    "data_an_77_2 = calculate_current_slope_analytic(binding_energies, \n",
    "                                              alpha_lim=[alpha_values[0],alpha_values[-1]], \n",
    "                                              num_alpha=len(alpha_values), lead_SD='flat', radiative_lifetime=2)\n",
    "\n"
   ]
  },
  {
   "cell_type": "code",
   "execution_count": 27,
   "metadata": {},
   "outputs": [
    {
     "name": "stderr",
     "output_type": "stream",
     "text": [
      "WARNING:matplotlib.legend:No handles with labels found to put in legend.\n"
     ]
    },
    {
     "data": {
      "text/plain": [
       "<matplotlib.legend.Legend at 0x11beb6910>"
      ]
     },
     "execution_count": 27,
     "metadata": {},
     "output_type": "execute_result"
    },
    {
     "data": {
      "image/png": "[encoded data removed]",
      "text/plain": [
       "<Figure size 432x288 with 1 Axes>"
      ]
     },
     "metadata": {
      "needs_background": "light"
     },
     "output_type": "display_data"
    }
   ],
   "source": [
    "for BE in np.array(data_an_77_1):\n",
    "    plt.plot(alpha_values, BE/BE[0])\n",
    "    break\n",
    "for BE in np.array(data_an_77_2):\n",
    "    plt.plot(alpha_values, BE/BE[0], ls='dashed')\n",
    "    break\n",
    "plt.legend()"
   ]
  },
  {
   "cell_type": "code",
   "execution_count": 26,
   "metadata": {},
   "outputs": [
    {
     "name": "stderr",
     "output_type": "stream",
     "text": [
      "WARNING:matplotlib.legend:No handles with labels found to put in legend.\n"
     ]
    },
    {
     "data": {
      "text/plain": [
       "<matplotlib.legend.Legend at 0x10cb74c10>"
      ]
     },
     "execution_count": 26,
     "metadata": {},
     "output_type": "execute_result"
    },
    {
     "data": {
      "image/png": "[encoded data removed]",
      "text/plain": [
       "<Figure size 432x288 with 1 Axes>"
      ]
     },
     "metadata": {
      "needs_background": "light"
     },
     "output_type": "display_data"
    }
   ],
   "source": [
    "for BE in np.array(data_an_77_1):\n",
    "    plt.plot(alpha_values, BE)\n",
    "    break\n",
    "for BE in np.array(data_an_77_2):\n",
    "    plt.plot(alpha_values, BE, linestyle='dashed')\n",
    "    break\n",
    "plt.legend()"
   ]
  },
  {
   "cell_type": "markdown",
   "metadata": {},
   "source": [
    "longer lifetime (slower optical decay) means less current overall and more deleterious phonon effects on current (steeper decline in current wrt $\\alpha$)"
   ]
  },
  {
   "cell_type": "code",
   "execution_count": 9,
   "metadata": {},
   "outputs": [
    {
     "name": "stdout",
     "output_type": "stream",
     "text": [
      "[[2.69835138e-04 2.54010503e-04 2.39104082e-04 2.25089125e-04\n",
      "  2.11929593e-04 1.99587098e-04 1.88013847e-04 1.77165532e-04]\n",
      " [4.52019693e-07 4.31087162e-07 4.11639980e-07 3.93549671e-07\n",
      "  3.76697932e-07 3.60980468e-07 3.46300680e-07 3.32571878e-07]]\n"
     ]
    }
   ],
   "source": [
    "print(data_an_77/2)"
   ]
  },
  {
   "cell_type": "markdown",
   "metadata": {},
   "source": [
    "# Percentage change of rates with increasing $\\alpha$"
   ]
  },
  {
   "cell_type": "code",
   "execution_count": 14,
   "metadata": {},
   "outputs": [
    {
     "name": "stdout",
     "output_type": "stream",
     "text": [
      "With no binding energy\n",
      "x-h: 1.56562959788e-12\n",
      "0-x: 2.06519028595e-06\n",
      "h-0: -4.6398706647e-14\n",
      "e-0: 3.45605014229e-12\n",
      "x-e: 1.26648864059e-12\n",
      "x-0: 7.85993585626e-07\n",
      "\n",
      "With finite binding energy\n",
      "x-h: 1.56562959788e-12\n",
      "0-x: 2.03583476239e-06\n",
      "h-0: -4.6398706647e-14\n",
      "e-0: 3.45605014229e-12\n",
      "x-e: 1.26648864059e-12\n",
      "x-0: 8.17442647353e-07\n",
      "1.0\n"
     ]
    },
    {
     "data": {
      "text/plain": [
       "\"dic = build_L(PARAMS, silent=True)\\nrate_dic_single = rf.get_rates_state(PARAMS, dic, init_state=0)\\n\\nfor key, value in rate_dic_single.items():\\n    if value != 0.0:\\n        print(key+': '+str( value))\""
      ]
     },
     "execution_count": 14,
     "metadata": {},
     "output_type": "execute_result"
    }
   ],
   "source": [
    "def percentage_change_of_rates(PARAMS, alpha_vals = [0, 0.025], N_vals=[3,8]):\n",
    "    PARAMS.update({'alpha_ph' : alpha_vals[0], 'N': N_vals[0]})\n",
    "    \n",
    "    dic = build_L(PARAMS, silent=True)\n",
    "    rate_dic_0 = rf.get_rates_state(PARAMS, dic, init_state=0)\n",
    "    \n",
    "    \n",
    "    PARAMS.update({'alpha_ph' : alpha_vals[1], 'N': N_vals[1]})\n",
    "    dic = build_L(PARAMS, silent=True)\n",
    "    rate_dic_1 = rf.get_rates_state(PARAMS, dic, init_state=0)\n",
    "    \n",
    "    perc_change_dict = {}\n",
    "    for key, rate_0 in rate_dic_0.items():\n",
    "        if rate_0!=0.0:\n",
    "            perc_change_dict[key] = (rate_0-rate_dic_1[key])/rate_0\n",
    "        \n",
    "    for key, value in perc_change_dict.items():\n",
    "        if value != 0.0:\n",
    "            print(key+': '+str( value))\n",
    "    return perc_change_dict\n",
    "\n",
    "print(\"With no binding energy\")\n",
    "PARAMS = PARAMS_setup(valence_energy=100e-3, binding_energy=0., radiative_lifetime=1, alpha_ph=0, mu=700e-3,\n",
    "                      bias_voltage=0, N=3,  T_C=77., delta_leads=30e-3, lead_SD='flat')\n",
    "pc_0 = percentage_change_of_rates(PARAMS, alpha_vals = [0, 0.03], N_vals=[3,10])\n",
    "print(\"\")\n",
    "print(\"With finite binding energy\")\n",
    "\n",
    "PARAMS = PARAMS_setup(valence_energy=100e-3, binding_energy=0.1, radiative_lifetime=1, alpha_ph=0, mu=700e-3,\n",
    "                      bias_voltage=0, N=3, T_C=77., delta_leads=30e-3, lead_SD='flat')\n",
    "pc_1 = percentage_change_of_rates(PARAMS, alpha_vals = [0, 0.03], N_vals=[3,10])\n",
    "print(pc_0['x-h']/pc_1['x-h'])\n",
    "\"\"\"dic = build_L(PARAMS, silent=True)\n",
    "rate_dic_single = rf.get_rates_state(PARAMS, dic, init_state=0)\n",
    "\n",
    "for key, value in rate_dic_single.items():\n",
    "    if value != 0.0:\n",
    "        print(key+': '+str( value))\"\"\""
   ]
  },
  {
   "cell_type": "code",
   "execution_count": null,
   "metadata": {},
   "outputs": [],
   "source": [
    "1.79374395205"
   ]
  },
  {
   "cell_type": "markdown",
   "metadata": {},
   "source": [
    "The lead rates `x-h` and `x-e` (involving exciton dissociation) decrease more rapidly as a function of $\\alpha$ the smaller the binding energy. This is probably because the spectral density is more sensitive to changes in frequency near the peak of the Lorentzian (with U>0, the spectral density is sampled further away from the peak). This doesn't take into account the changing thermal occupations. \n",
    "\n",
    "I could use flat leads for this (or at least a very wide Lorentzian)."
   ]
  },
  {
   "cell_type": "code",
   "execution_count": 45,
   "metadata": {},
   "outputs": [
    {
     "name": "stdout",
     "output_type": "stream",
     "text": [
      "With no binding energy\n",
      "x-h: 7.15984747068e-05\n",
      "0-x: 1.7209410199e-06\n",
      "h-0: 1.79002917191e-05\n",
      "e-0: 7.15984740021e-05\n",
      "x-e: 1.79002920362e-05\n",
      "x-0: 6.54994671667e-07\n",
      "\n",
      "With finite binding energy\n",
      "x-h: 5.20254557602e-05\n",
      "0-x: 1.69647796468e-06\n",
      "h-0: 1.79002917191e-05\n",
      "e-0: 7.15984740021e-05\n",
      "x-e: 1.30105122233e-05\n",
      "x-0: 6.81202225223e-07\n",
      "1.37622003807\n"
     ]
    }
   ],
   "source": [
    "print(\"With no binding energy\")\n",
    "PARAMS = PARAMS_setup(valence_energy=100e-3, binding_energy=0., radiative_lifetime=1, alpha_ph=0, mu=700e-3,\n",
    "                      bias_voltage=0, N=3,  T_C=77., delta_leads=30e-3)\n",
    "pc_0 = percentage_change_of_rates(PARAMS, alpha_vals = [0, 0.025], N_vals=[3,8])\n",
    "print(\"\")\n",
    "print(\"With finite binding energy\")\n",
    "\n",
    "PARAMS = PARAMS_setup(valence_energy=100e-3, binding_energy=0.1, radiative_lifetime=1, alpha_ph=0, mu=700e-3,\n",
    "                      bias_voltage=0, N=3, T_C=77., delta_leads=30e-3)\n",
    "pc_1 = percentage_change_of_rates(PARAMS, alpha_vals = [0, 0.025], N_vals=[3,8])\n",
    "print(pc_0['x-h']/pc_1['x-h'])"
   ]
  },
  {
   "cell_type": "code",
   "execution_count": 48,
   "metadata": {},
   "outputs": [
    {
     "name": "stdout",
     "output_type": "stream",
     "text": [
      "With no binding energy\n",
      "x-h: 5.37984234825e-05\n",
      "0-x: 1.7209410199e-06\n",
      "h-0: 1.34498987433e-05\n",
      "e-0: 5.37984222869e-05\n",
      "x-e: 1.34498991498e-05\n",
      "x-0: 6.54994671667e-07\n",
      "\n",
      "With finite binding energy\n",
      "x-h: 4.96314855311e-05\n",
      "0-x: 1.69647796468e-06\n",
      "h-0: 1.34498987433e-05\n",
      "e-0: 5.37984222869e-05\n",
      "x-e: 1.24088087213e-05\n",
      "x-0: 6.81202225223e-07\n",
      "1.08395755047\n"
     ]
    }
   ],
   "source": [
    "print(\"With no binding energy\")\n",
    "PARAMS = PARAMS_setup(valence_energy=100e-3, binding_energy=0., radiative_lifetime=1, alpha_ph=0, mu=700e-3,\n",
    "                      bias_voltage=0, N=3,  T_C=77., delta_leads=45e-3)\n",
    "pc_0 = percentage_change_of_rates(PARAMS, alpha_vals = [0, 0.025], N_vals=[3,8])\n",
    "print(\"\")\n",
    "print(\"With finite binding energy\")\n",
    "\n",
    "PARAMS = PARAMS_setup(valence_energy=100e-3, binding_energy=0.1, radiative_lifetime=1, alpha_ph=0, mu=700e-3,\n",
    "                      bias_voltage=0, N=3, T_C=77., delta_leads=45e-3)\n",
    "pc_1 = percentage_change_of_rates(PARAMS, alpha_vals = [0, 0.025], N_vals=[3,8])\n",
    "print(pc_0['x-h']/pc_1['x-h'])"
   ]
  },
  {
   "cell_type": "code",
   "execution_count": 76,
   "metadata": {},
   "outputs": [
    {
     "data": {
      "text/plain": [
       "0.05"
      ]
     },
     "execution_count": 76,
     "metadata": {},
     "output_type": "execute_result"
    }
   ],
   "source": [
    "50e-3"
   ]
  },
  {
   "cell_type": "code",
   "execution_count": 20,
   "metadata": {},
   "outputs": [
    {
     "name": "stdout",
     "output_type": "stream",
     "text": [
      "With no binding energy\n",
      "x-h: 7.29975592384e-08\n",
      "0-x: 2.06519028595e-06\n",
      "h-0: 1.82473603563e-08\n",
      "e-0: 7.29994485153e-08\n",
      "x-e: 1.82486716099e-08\n",
      "x-0: 7.85993585626e-07\n",
      "\n",
      "With finite binding energy\n",
      "x-h: 3.63132844577e-07\n",
      "0-x: 2.03583476259e-06\n",
      "h-0: 1.82473603563e-08\n",
      "e-0: 7.29994485153e-08\n",
      "x-e: 9.07825353707e-08\n",
      "x-0: 8.17442647508e-07\n",
      "0.201021638027\n"
     ]
    }
   ],
   "source": [
    "print(\"With no binding energy\")\n",
    "PARAMS = PARAMS_setup(valence_energy=100e-3, binding_energy=0.0, radiative_lifetime=1, alpha_ph=0, mu=700e-3,\n",
    "                      bias_voltage=0, N=3,  T_C=77., delta_leads=2000e-3)\n",
    "pc_0 = percentage_change_of_rates(PARAMS, alpha_vals = [0, 0.03], N_vals=[3,7])\n",
    "print(\"\")\n",
    "print(\"With finite binding energy\")\n",
    "\n",
    "PARAMS = PARAMS_setup(valence_energy=100e-3, binding_energy=0.1, radiative_lifetime=1, alpha_ph=0, mu=700e-3,\n",
    "                      bias_voltage=0, N=3, T_C=77., delta_leads=2000e-3)\n",
    "pc_1 = percentage_change_of_rates(PARAMS, alpha_vals = [0, 0.03], N_vals=[3,7])\n",
    "print(pc_0['x-h']/pc_1['x-h'])"
   ]
  },
  {
   "cell_type": "markdown",
   "metadata": {},
   "source": [
    "# Puzzling phenomenon!\n",
    "If the lead SD width is equal to $50meV$ then the rate of decrease of current is the same for $U=0$ and $U=100meV$. For this to occur, the\n",
    "$J_{\\nu}(\\omega) = \\frac{1}{2\\pi}\\frac{\\Gamma\\delta_{\\nu}^2}{(\\omega-\\omega_{\\nu})^2+\\delta_{\\nu}^2}$\n",
    "\n",
    "$1/\\sqrt{U}$"
   ]
  },
  {
   "cell_type": "code",
   "execution_count": 90,
   "metadata": {},
   "outputs": [
    {
     "data": {
      "text/plain": [
       "3.162277660168379"
      ]
     },
     "execution_count": 90,
     "metadata": {},
     "output_type": "execute_result"
    }
   ],
   "source": [
    "1/np.sqrt(0.1)"
   ]
  },
  {
   "cell_type": "code",
   "execution_count": 91,
   "metadata": {},
   "outputs": [
    {
     "data": {
      "text/plain": [
       "0.07071067811865475"
      ]
     },
     "execution_count": 91,
     "metadata": {},
     "output_type": "execute_result"
    }
   ],
   "source": [
    "1/(np.sqrt(200))"
   ]
  },
  {
   "cell_type": "code",
   "execution_count": 2,
   "metadata": {},
   "outputs": [
    {
     "name": "stdout",
     "output_type": "stream",
     "text": [
      "With no binding energy\n"
     ]
    },
    {
     "ename": "NameError",
     "evalue": "name 'percentage_change_of_rates' is not defined",
     "output_type": "error",
     "traceback": [
      "\u001b[0;31m---------------------------------------------------------------------------\u001b[0m",
      "\u001b[0;31mNameError\u001b[0m                                 Traceback (most recent call last)",
      "\u001b[0;32m<ipython-input-2-5d9e1e0f974d>\u001b[0m in \u001b[0;36m<module>\u001b[0;34m()\u001b[0m\n\u001b[1;32m      4\u001b[0m PARAMS = PARAMS_setup(valence_energy=100e-3, binding_energy=0., radiative_lifetime=1, alpha_ph=0, mu=700e-3,\n\u001b[1;32m      5\u001b[0m                       bias_voltage=0, N=3,  T_C=77., delta_leads=0.07071)\n\u001b[0;32m----> 6\u001b[0;31m \u001b[0mpc_0\u001b[0m \u001b[0;34m=\u001b[0m \u001b[0mpercentage_change_of_rates\u001b[0m\u001b[0;34m(\u001b[0m\u001b[0mPARAMS\u001b[0m\u001b[0;34m,\u001b[0m \u001b[0malpha_vals\u001b[0m \u001b[0;34m=\u001b[0m \u001b[0;34m[\u001b[0m\u001b[0;36m0\u001b[0m\u001b[0;34m,\u001b[0m \u001b[0;36m0.025\u001b[0m\u001b[0;34m]\u001b[0m\u001b[0;34m,\u001b[0m \u001b[0mN_vals\u001b[0m\u001b[0;34m=\u001b[0m\u001b[0;34m[\u001b[0m\u001b[0;36m3\u001b[0m\u001b[0;34m,\u001b[0m\u001b[0;36m8\u001b[0m\u001b[0;34m]\u001b[0m\u001b[0;34m)\u001b[0m\u001b[0;34m\u001b[0m\u001b[0m\n\u001b[0m\u001b[1;32m      7\u001b[0m \u001b[0;32mprint\u001b[0m\u001b[0;34m(\u001b[0m\u001b[0;34m\"\"\u001b[0m\u001b[0;34m)\u001b[0m\u001b[0;34m\u001b[0m\u001b[0m\n\u001b[1;32m      8\u001b[0m \u001b[0;32mprint\u001b[0m\u001b[0;34m(\u001b[0m\u001b[0;34m\"With finite binding energy\"\u001b[0m\u001b[0;34m)\u001b[0m\u001b[0;34m\u001b[0m\u001b[0m\n",
      "\u001b[0;31mNameError\u001b[0m: name 'percentage_change_of_rates' is not defined"
     ]
    }
   ],
   "source": [
    "print(\"With no binding energy\")\n",
    "BE = 0.2\n",
    "delta = 1/(2*np.sqrt(BE*1000))\n",
    "PARAMS = PARAMS_setup(valence_energy=100e-3, binding_energy=0., radiative_lifetime=1, alpha_ph=0, mu=700e-3,\n",
    "                      bias_voltage=0, N=3,  T_C=77., delta_leads=0.07071)\n",
    "pc_0 = percentage_change_of_rates(PARAMS, alpha_vals = [0, 0.025], N_vals=[3,8])\n",
    "print(\"\")\n",
    "print(\"With finite binding energy\")\n",
    "\n",
    "PARAMS = PARAMS_setup(valence_energy=100e-3, binding_energy=0.2, radiative_lifetime=1, alpha_ph=0, mu=700e-3,\n",
    "                      bias_voltage=0, N=3, T_C=77., delta_leads=0.07071)\n",
    "pc_1 = percentage_change_of_rates(PARAMS, alpha_vals = [0, 0.025], N_vals=[3,8])\n",
    "print(pc_0['x-h']/pc_1['x-h'])"
   ]
  },
  {
   "cell_type": "code",
   "execution_count": null,
   "metadata": {},
   "outputs": [],
   "source": [
    "0.999910190097"
   ]
  },
  {
   "cell_type": "code",
   "execution_count": 13,
   "metadata": {},
   "outputs": [
    {
     "name": "stdout",
     "output_type": "stream",
     "text": [
      "With no binding energy\n",
      "x-h: 3.62596089902e-12\n",
      "0-x: 1.7209410199e-06\n",
      "h-0: 6.64449084272e-13\n",
      "e-0: 1.01358301422e-12\n",
      "x-e: 1.4238194663e-12\n",
      "x-0: 6.54994671667e-07\n",
      "\n",
      "With finite binding energy\n",
      "x-h: 3.60849964224e-11\n",
      "0-x: 1.64388750573e-06\n",
      "h-0: 6.64449084272e-13\n",
      "e-0: 1.01358301422e-12\n",
      "x-e: 9.53886477227e-12\n",
      "x-0: 7.37273597244e-07\n",
      "0.100483892435\n"
     ]
    }
   ],
   "source": [
    "print(\"With no binding energy\")\n",
    "BE = 0.3\n",
    "delta = 300.\n",
    "PARAMS = PARAMS_setup(valence_energy=100e-3, binding_energy=0., radiative_lifetime=1, alpha_ph=0, mu=700e-3,\n",
    "                      bias_voltage=0, N=3,  T_C=77., delta_leads=delta)\n",
    "pc_0 = percentage_change_of_rates(PARAMS, alpha_vals = [0, 0.025], N_vals=[3,8])\n",
    "print(\"\")\n",
    "print(\"With finite binding energy\")\n",
    "\n",
    "PARAMS = PARAMS_setup(valence_energy=100e-3, binding_energy=0.3, radiative_lifetime=1, alpha_ph=0, mu=700e-3,\n",
    "                      bias_voltage=0, N=3, T_C=77., delta_leads=delta)\n",
    "pc_1 = percentage_change_of_rates(PARAMS, alpha_vals = [0, 0.025], N_vals=[3,8])\n",
    "print(pc_0['x-h']/pc_1['x-h'])"
   ]
  },
  {
   "cell_type": "code",
   "execution_count": null,
   "metadata": {},
   "outputs": [],
   "source": [
    "1.01716354679"
   ]
  },
  {
   "cell_type": "code",
   "execution_count": null,
   "metadata": {},
   "outputs": [],
   "source": []
  }
 ],
 "metadata": {
  "kernelspec": {
   "display_name": "Python 2",
   "language": "python",
   "name": "python2"
  },
  "language_info": {
   "codemirror_mode": {
    "name": "ipython",
    "version": 2
   },
   "file_extension": ".py",
   "mimetype": "text/x-python",
   "name": "python",
   "nbconvert_exporter": "python",
   "pygments_lexer": "ipython2",
   "version": "2.7.15"
  }
 },
 "nbformat": 4,
 "nbformat_minor": 2
}
