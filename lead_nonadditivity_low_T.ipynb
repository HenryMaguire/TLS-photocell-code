{
 "cells": [
  {
   "cell_type": "code",
   "execution_count": 3,
   "metadata": {},
   "outputs": [
    {
     "name": "stdout",
     "output_type": "stream",
     "text": [
      "utils imported\n"
     ]
    }
   ],
   "source": [
    "%matplotlib inline\n",
    "import time \n",
    "\n",
    "from qutip import mesolve, steadystate\n",
    "#from importlib import reload\n",
    "\n",
    "\n",
    "\n",
    "import numpy as np\n",
    "import optical as EM\n",
    "import phonons as RC\n",
    "import leads as FL\n",
    "from utils import *\n",
    "from photocell_setup import *\n",
    "import matplotlib.pyplot as plt\n",
    "from style import *\n",
    "\n"
   ]
  },
  {
   "cell_type": "code",
   "execution_count": 2,
   "metadata": {
    "scrolled": true
   },
   "outputs": [
    {
     "name": "stdout",
     "output_type": "stream",
     "text": [
      "Phonon occupation: 0.17. Phonon thermal energy is 208.50. Phonon SD peak is 0.00. V=0.0. N=3.\n"
     ]
    },
    {
     "ename": "KeyboardInterrupt",
     "evalue": "",
     "output_type": "error",
     "traceback": [
      "\u001b[0;31m---------------------------------------------------------------------------\u001b[0m",
      "\u001b[0;31mKeyboardInterrupt\u001b[0m                         Traceback (most recent call last)",
      "\u001b[0;32m<ipython-input-2-9de26c604cec>\u001b[0m in \u001b[0;36m<module>\u001b[0;34m()\u001b[0m\n\u001b[1;32m      2\u001b[0m                       bias_voltage=0, N=3, silent=False, T_C=300.)\n\u001b[1;32m      3\u001b[0m \u001b[0;34m\u001b[0m\u001b[0m\n\u001b[0;32m----> 4\u001b[0;31m \u001b[0mdata_dict_\u001b[0m \u001b[0;34m=\u001b[0m \u001b[0mpopulations_and_current_vs_voltage\u001b[0m\u001b[0;34m(\u001b[0m\u001b[0mPARAMS\u001b[0m\u001b[0;34m)\u001b[0m\u001b[0;34m\u001b[0m\u001b[0m\n\u001b[0m\u001b[1;32m      5\u001b[0m \u001b[0mplt\u001b[0m\u001b[0;34m.\u001b[0m\u001b[0mplot\u001b[0m\u001b[0;34m(\u001b[0m\u001b[0mdata_dict_\u001b[0m\u001b[0;34m[\u001b[0m\u001b[0;34m'bias_voltages'\u001b[0m\u001b[0;34m]\u001b[0m\u001b[0;34m,\u001b[0m \u001b[0mnp\u001b[0m\u001b[0;34m.\u001b[0m\u001b[0marray\u001b[0m\u001b[0;34m(\u001b[0m\u001b[0mdata_dict_\u001b[0m\u001b[0;34m[\u001b[0m\u001b[0;34m'current'\u001b[0m\u001b[0;34m]\u001b[0m\u001b[0;34m)\u001b[0m\u001b[0;34m,\u001b[0m \u001b[0mlabel\u001b[0m\u001b[0;34m=\u001b[0m\u001b[0;34mr'$\\alpha=0meV$'\u001b[0m\u001b[0;34m)\u001b[0m\u001b[0;34m\u001b[0m\u001b[0m\n",
      "\u001b[0;32m/Users/henrymaguire/Work/phd-work/CS-photocell-code/photocell_setup.pyc\u001b[0m in \u001b[0;36mpopulations_and_current_vs_voltage\u001b[0;34m(PARAMS, x_range, num_voltages)\u001b[0m\n\u001b[1;32m    206\u001b[0m         \u001b[0;31m#if i in [10, 90]:\u001b[0m\u001b[0;34m\u001b[0m\u001b[0;34m\u001b[0m\u001b[0m\n\u001b[1;32m    207\u001b[0m         \u001b[0;31m#    print_PARAMS(PARAMS)\u001b[0m\u001b[0;34m\u001b[0m\u001b[0;34m\u001b[0m\u001b[0m\n\u001b[0;32m--> 208\u001b[0;31m         \u001b[0mL_Lindblad_dict\u001b[0m \u001b[0;34m=\u001b[0m \u001b[0mbuild_L\u001b[0m\u001b[0;34m(\u001b[0m\u001b[0mPARAMS\u001b[0m\u001b[0;34m,\u001b[0m \u001b[0msilent\u001b[0m\u001b[0;34m=\u001b[0m\u001b[0mTrue\u001b[0m\u001b[0;34m)\u001b[0m\u001b[0;34m\u001b[0m\u001b[0m\n\u001b[0m\u001b[1;32m    209\u001b[0m         \u001b[0;31m#ops = make_expectation_operators(PARAMS)\u001b[0m\u001b[0;34m\u001b[0m\u001b[0;34m\u001b[0m\u001b[0m\n\u001b[1;32m    210\u001b[0m         \u001b[0mn_c\u001b[0m \u001b[0;34m=\u001b[0m \u001b[0mtensor\u001b[0m\u001b[0;34m(\u001b[0m\u001b[0md_e\u001b[0m\u001b[0;34m.\u001b[0m\u001b[0mdag\u001b[0m\u001b[0;34m(\u001b[0m\u001b[0;34m)\u001b[0m\u001b[0;34m*\u001b[0m\u001b[0md_e\u001b[0m\u001b[0;34m,\u001b[0m \u001b[0mqeye\u001b[0m\u001b[0;34m(\u001b[0m\u001b[0mPARAMS\u001b[0m\u001b[0;34m[\u001b[0m\u001b[0;34m'N'\u001b[0m\u001b[0;34m]\u001b[0m\u001b[0;34m)\u001b[0m\u001b[0;34m)\u001b[0m\u001b[0;34m\u001b[0m\u001b[0m\n",
      "\u001b[0;32m/Users/henrymaguire/Work/phd-work/CS-photocell-code/photocell_setup.pyc\u001b[0m in \u001b[0;36mbuild_L\u001b[0;34m(PARAMS, silent)\u001b[0m\n\u001b[1;32m    167\u001b[0m         L_EM = EM.L_non_rwa(H_S, A_nrwa, PARAMS['omega_exciton'], PARAMS['Gamma_EM'], \n\u001b[1;32m    168\u001b[0m                             \u001b[0mPARAMS\u001b[0m\u001b[0;34m[\u001b[0m\u001b[0;34m'T_EM'\u001b[0m\u001b[0;34m]\u001b[0m\u001b[0;34m,\u001b[0m \u001b[0mPARAMS\u001b[0m\u001b[0;34m[\u001b[0m\u001b[0;34m'J'\u001b[0m\u001b[0;34m]\u001b[0m\u001b[0;34m,\u001b[0m\u001b[0;34m\u001b[0m\u001b[0m\n\u001b[0;32m--> 169\u001b[0;31m                                     silent=silent, tol=0)\n\u001b[0m\u001b[1;32m    170\u001b[0m         L_EM_add = EM.L_non_rwa(H_add, A_nrwa, PARAMS['omega_exciton'], PARAMS['Gamma_EM'], \n\u001b[1;32m    171\u001b[0m                             PARAMS['T_EM'], PARAMS['J'], silent=silent, tol=0)\n",
      "\u001b[0;32m/Users/henrymaguire/Work/phd-work/CS-photocell-code/optical.pyc\u001b[0m in \u001b[0;36mL_non_rwa\u001b[0;34m(H_vib, A, w_0, Gamma, T_EM, J, principal, silent, alpha, tol)\u001b[0m\n\u001b[1;32m    152\u001b[0m             \u001b[0ms\u001b[0m\u001b[0;34m*=\u001b[0m \u001b[0mA\u001b[0m\u001b[0;34m.\u001b[0m\u001b[0mmatrix_element\u001b[0m\u001b[0;34m(\u001b[0m\u001b[0meVecs\u001b[0m\u001b[0;34m[\u001b[0m\u001b[0mi\u001b[0m\u001b[0;34m]\u001b[0m\u001b[0;34m.\u001b[0m\u001b[0mdag\u001b[0m\u001b[0;34m(\u001b[0m\u001b[0;34m)\u001b[0m\u001b[0;34m,\u001b[0m \u001b[0meVecs\u001b[0m\u001b[0;34m[\u001b[0m\u001b[0mj\u001b[0m\u001b[0;34m]\u001b[0m\u001b[0;34m)\u001b[0m\u001b[0;34m\u001b[0m\u001b[0m\n\u001b[1;32m    153\u001b[0m             \u001b[0ms\u001b[0m\u001b[0;34m*=\u001b[0m \u001b[0mDecayRate\u001b[0m\u001b[0;34m(\u001b[0m\u001b[0meta\u001b[0m\u001b[0;34m,\u001b[0m \u001b[0mbeta\u001b[0m\u001b[0;34m,\u001b[0m \u001b[0mJ\u001b[0m\u001b[0;34m,\u001b[0m \u001b[0mGamma\u001b[0m\u001b[0;34m,\u001b[0m \u001b[0mw_0\u001b[0m\u001b[0;34m,\u001b[0m \u001b[0mimag_part\u001b[0m\u001b[0;34m=\u001b[0m\u001b[0mprincipal\u001b[0m\u001b[0;34m,\u001b[0m \u001b[0malpha\u001b[0m\u001b[0;34m=\u001b[0m\u001b[0malpha\u001b[0m\u001b[0;34m,\u001b[0m \u001b[0mtol\u001b[0m\u001b[0;34m=\u001b[0m\u001b[0mtol\u001b[0m\u001b[0;34m)\u001b[0m\u001b[0;34m\u001b[0m\u001b[0m\n\u001b[0;32m--> 154\u001b[0;31m             \u001b[0mG\u001b[0m\u001b[0;34m+=\u001b[0m\u001b[0ms\u001b[0m\u001b[0;34m\u001b[0m\u001b[0m\n\u001b[0m\u001b[1;32m    155\u001b[0m     \u001b[0mG_dag\u001b[0m \u001b[0;34m=\u001b[0m \u001b[0mG\u001b[0m\u001b[0;34m.\u001b[0m\u001b[0mdag\u001b[0m\u001b[0;34m(\u001b[0m\u001b[0;34m)\u001b[0m\u001b[0;34m\u001b[0m\u001b[0m\n\u001b[1;32m    156\u001b[0m     \u001b[0;31m# Initialise liouvilliian\u001b[0m\u001b[0;34m\u001b[0m\u001b[0;34m\u001b[0m\u001b[0m\n",
      "\u001b[0;32m/Users/henrymaguire/.pyenv/versions/2.7.15/lib/python2.7/site-packages/qutip/qobj.pyc\u001b[0m in \u001b[0;36m__add__\u001b[0;34m(self, other)\u001b[0m\n\u001b[1;32m    434\u001b[0m         \u001b[0;32melse\u001b[0m\u001b[0;34m:\u001b[0m  \u001b[0;31m# case for matching quantum objects\u001b[0m\u001b[0;34m\u001b[0m\u001b[0m\n\u001b[1;32m    435\u001b[0m             \u001b[0mout\u001b[0m \u001b[0;34m=\u001b[0m \u001b[0mQobj\u001b[0m\u001b[0;34m(\u001b[0m\u001b[0;34m)\u001b[0m\u001b[0;34m\u001b[0m\u001b[0m\n\u001b[0;32m--> 436\u001b[0;31m             \u001b[0mout\u001b[0m\u001b[0;34m.\u001b[0m\u001b[0mdata\u001b[0m \u001b[0;34m=\u001b[0m \u001b[0mself\u001b[0m\u001b[0;34m.\u001b[0m\u001b[0mdata\u001b[0m \u001b[0;34m+\u001b[0m \u001b[0mother\u001b[0m\u001b[0;34m.\u001b[0m\u001b[0mdata\u001b[0m\u001b[0;34m\u001b[0m\u001b[0m\n\u001b[0m\u001b[1;32m    437\u001b[0m             \u001b[0mout\u001b[0m\u001b[0;34m.\u001b[0m\u001b[0mdims\u001b[0m \u001b[0;34m=\u001b[0m \u001b[0mself\u001b[0m\u001b[0;34m.\u001b[0m\u001b[0mdims\u001b[0m\u001b[0;34m\u001b[0m\u001b[0m\n\u001b[1;32m    438\u001b[0m             \u001b[0;32mif\u001b[0m \u001b[0msettings\u001b[0m\u001b[0;34m.\u001b[0m\u001b[0mauto_tidyup\u001b[0m\u001b[0;34m:\u001b[0m \u001b[0mout\u001b[0m\u001b[0;34m.\u001b[0m\u001b[0mtidyup\u001b[0m\u001b[0;34m(\u001b[0m\u001b[0;34m)\u001b[0m\u001b[0;34m\u001b[0m\u001b[0m\n",
      "\u001b[0;32m/Users/henrymaguire/.pyenv/versions/2.7.15/lib/python2.7/site-packages/scipy/sparse/base.pyc\u001b[0m in \u001b[0;36m__add__\u001b[0;34m(self, other)\u001b[0m\n\u001b[1;32m    412\u001b[0m             \u001b[0;32mif\u001b[0m \u001b[0mother\u001b[0m\u001b[0;34m.\u001b[0m\u001b[0mshape\u001b[0m \u001b[0;34m!=\u001b[0m \u001b[0mself\u001b[0m\u001b[0;34m.\u001b[0m\u001b[0mshape\u001b[0m\u001b[0;34m:\u001b[0m\u001b[0;34m\u001b[0m\u001b[0m\n\u001b[1;32m    413\u001b[0m                 \u001b[0;32mraise\u001b[0m \u001b[0mValueError\u001b[0m\u001b[0;34m(\u001b[0m\u001b[0;34m\"inconsistent shapes\"\u001b[0m\u001b[0;34m)\u001b[0m\u001b[0;34m\u001b[0m\u001b[0m\n\u001b[0;32m--> 414\u001b[0;31m             \u001b[0;32mreturn\u001b[0m \u001b[0mself\u001b[0m\u001b[0;34m.\u001b[0m\u001b[0m_add_sparse\u001b[0m\u001b[0;34m(\u001b[0m\u001b[0mother\u001b[0m\u001b[0;34m)\u001b[0m\u001b[0;34m\u001b[0m\u001b[0m\n\u001b[0m\u001b[1;32m    415\u001b[0m         \u001b[0;32melif\u001b[0m \u001b[0misdense\u001b[0m\u001b[0;34m(\u001b[0m\u001b[0mother\u001b[0m\u001b[0;34m)\u001b[0m\u001b[0;34m:\u001b[0m\u001b[0;34m\u001b[0m\u001b[0m\n\u001b[1;32m    416\u001b[0m             \u001b[0mother\u001b[0m \u001b[0;34m=\u001b[0m \u001b[0mbroadcast_to\u001b[0m\u001b[0;34m(\u001b[0m\u001b[0mother\u001b[0m\u001b[0;34m,\u001b[0m \u001b[0mself\u001b[0m\u001b[0;34m.\u001b[0m\u001b[0mshape\u001b[0m\u001b[0;34m)\u001b[0m\u001b[0;34m\u001b[0m\u001b[0m\n",
      "\u001b[0;32m/Users/henrymaguire/.pyenv/versions/2.7.15/lib/python2.7/site-packages/scipy/sparse/compressed.pyc\u001b[0m in \u001b[0;36m_add_sparse\u001b[0;34m(self, other)\u001b[0m\n\u001b[1;32m    340\u001b[0m \u001b[0;34m\u001b[0m\u001b[0m\n\u001b[1;32m    341\u001b[0m     \u001b[0;32mdef\u001b[0m \u001b[0m_add_sparse\u001b[0m\u001b[0;34m(\u001b[0m\u001b[0mself\u001b[0m\u001b[0;34m,\u001b[0m \u001b[0mother\u001b[0m\u001b[0;34m)\u001b[0m\u001b[0;34m:\u001b[0m\u001b[0;34m\u001b[0m\u001b[0m\n\u001b[0;32m--> 342\u001b[0;31m         \u001b[0;32mreturn\u001b[0m \u001b[0mself\u001b[0m\u001b[0;34m.\u001b[0m\u001b[0m_binopt\u001b[0m\u001b[0;34m(\u001b[0m\u001b[0mother\u001b[0m\u001b[0;34m,\u001b[0m \u001b[0;34m'_plus_'\u001b[0m\u001b[0;34m)\u001b[0m\u001b[0;34m\u001b[0m\u001b[0m\n\u001b[0m\u001b[1;32m    343\u001b[0m \u001b[0;34m\u001b[0m\u001b[0m\n\u001b[1;32m    344\u001b[0m     \u001b[0;32mdef\u001b[0m \u001b[0m_sub_sparse\u001b[0m\u001b[0;34m(\u001b[0m\u001b[0mself\u001b[0m\u001b[0;34m,\u001b[0m \u001b[0mother\u001b[0m\u001b[0;34m)\u001b[0m\u001b[0;34m:\u001b[0m\u001b[0;34m\u001b[0m\u001b[0m\n",
      "\u001b[0;32m/Users/henrymaguire/.pyenv/versions/2.7.15/lib/python2.7/site-packages/qutip/fastsparse.pyc\u001b[0m in \u001b[0;36m_binopt\u001b[0;34m(self, other, op)\u001b[0m\n\u001b[1;32m     72\u001b[0m         \u001b[0mself\u001b[0m\u001b[0;34m.\u001b[0m\u001b[0mformat\u001b[0m \u001b[0;34m=\u001b[0m \u001b[0;34m'csr'\u001b[0m\u001b[0;34m\u001b[0m\u001b[0m\n\u001b[1;32m     73\u001b[0m \u001b[0;34m\u001b[0m\u001b[0m\n\u001b[0;32m---> 74\u001b[0;31m     \u001b[0;32mdef\u001b[0m \u001b[0m_binopt\u001b[0m\u001b[0;34m(\u001b[0m\u001b[0mself\u001b[0m\u001b[0;34m,\u001b[0m \u001b[0mother\u001b[0m\u001b[0;34m,\u001b[0m \u001b[0mop\u001b[0m\u001b[0;34m)\u001b[0m\u001b[0;34m:\u001b[0m\u001b[0;34m\u001b[0m\u001b[0m\n\u001b[0m\u001b[1;32m     75\u001b[0m         \"\"\"\n\u001b[1;32m     76\u001b[0m         \u001b[0mDo\u001b[0m \u001b[0mthe\u001b[0m \u001b[0mbinary\u001b[0m \u001b[0moperation\u001b[0m \u001b[0mfn\u001b[0m \u001b[0mto\u001b[0m \u001b[0mtwo\u001b[0m \u001b[0msparse\u001b[0m \u001b[0mmatrices\u001b[0m \u001b[0musing\u001b[0m\u001b[0;34m\u001b[0m\u001b[0m\n",
      "\u001b[0;31mKeyboardInterrupt\u001b[0m: "
     ]
    }
   ],
   "source": [
    "PARAMS = PARAMS_setup(valence_energy=100e-3, binding_energy=0., radiative_lifetime=1, alpha_ph=0, mu=700e-3,\n",
    "                      bias_voltage=0, N=3, silent=False, T_C=300.)\n",
    "\n",
    "data_dict_ = populations_and_current_vs_voltage(PARAMS)\n",
    "plt.plot(data_dict_['bias_voltages'], np.array(data_dict_['current']), label=r'$\\alpha=0meV$')"
   ]
  },
  {
   "cell_type": "markdown",
   "metadata": {},
   "source": [
    "# Designing an experiment to understand non-additivity\n",
    "\n",
    "The dependence of populations on phonon coupling\n",
    "\n",
    "\n",
    "## Non-additivity of optical dissipator\n",
    "\n",
    "different effective transition rates sampling spectral density differently competes with different thermal occupations.\n",
    "\n",
    "\n",
    "## Non-additivity of lead dissipators\n",
    "\n",
    "<img src=\"PLOTS/FermionModel4LS.png\" alt=\"Drawing\" style=\"width: 500px;\"/>\n",
    "\n",
    "- different effective transition frequencies sampling spectral density differently. \n",
    "    - Since the maximum coupling is always at the non-additive conduction and (negative) valence frequencies, increasing phonon coupling tends to push a transition out of the optimal window\n",
    "    - For U=0, the charge-separation transitions will move out of the optimal window at the same time as the free-carrier transition rates\n",
    "    - For $U\\neq 0$, the CS step will be initially less well coupled to the leads. \n",
    "\n",
    "- different effective transition frequencies have different thermal occupations:\n",
    "\n",
    "\n",
    "- At zero phonon-coupling, "
   ]
  },
  {
   "cell_type": "code",
   "execution_count": 15,
   "metadata": {},
   "outputs": [
    {
     "data": {
      "text/plain": [
       "array([0. , 0.1])"
      ]
     },
     "execution_count": 15,
     "metadata": {},
     "output_type": "execute_result"
    }
   ],
   "source": [
    "np.linspace(0.0, 0.1, 2)"
   ]
  },
  {
   "cell_type": "code",
   "execution_count": 4,
   "metadata": {},
   "outputs": [
    {
     "name": "stdout",
     "output_type": "stream",
     "text": [
      "Phonon occupation: 0.00. Phonon thermal energy is 34.75. Phonon SD peak is 0.00. V=0.0. N=4.\n",
      "C-V data calculated in 2.8 seconds\n",
      "[0.00026983513844271574, 0.00026983513844271574]\n",
      "Phonon occupation: 0.00. Phonon thermal energy is 34.75. Phonon SD peak is 0.00. V=0.0. N=4.\n",
      "C-V data calculated in 3.5 seconds\n",
      "[0.0002630209719172936, 0.0002630209719172936]\n",
      "Phonon occupation: 0.00. Phonon thermal energy is 34.75. Phonon SD peak is 0.00. V=0.0. N=4.\n",
      "C-V data calculated in 3.3 seconds\n",
      "[0.000256388936894537, 0.000256388936894537]\n",
      "Phonon occupation: 0.00. Phonon thermal energy is 34.75. Phonon SD peak is 0.00. V=0.0. N=4.\n",
      "C-V data calculated in 3.2 seconds\n",
      "[0.0002499518313035811, 0.0002499518313035811]\n",
      "Phonon occupation: 0.00. Phonon thermal energy is 34.75. Phonon SD peak is 0.00. V=0.0. N=4.\n",
      "C-V data calculated in 3.1 seconds\n",
      "[0.00024372589980228783, 0.00024372589980228783]\n",
      "Phonon occupation: 0.00. Phonon thermal energy is 34.75. Phonon SD peak is 0.00. V=0.0. N=5.\n",
      "C-V data calculated in 5.3 seconds\n",
      "[0.00023751545606053338, 0.00023751545606053338]\n",
      "Phonon occupation: 0.00. Phonon thermal energy is 34.75. Phonon SD peak is 0.00. V=0.0. N=5.\n",
      "C-V data calculated in 5.3 seconds\n",
      "[0.0002315837978588162, 0.0002315837978588162]\n",
      "Phonon occupation: 0.00. Phonon thermal energy is 34.75. Phonon SD peak is 0.00. V=0.0. N=5.\n",
      "C-V data calculated in 5.4 seconds\n",
      "[0.00022583627256352382, 0.00022583627256352382]\n",
      "Phonon occupation: 0.00. Phonon thermal energy is 34.75. Phonon SD peak is 0.00. V=0.0. N=5.\n",
      "C-V data calculated in 5.4 seconds\n",
      "[0.00022027709580256104, 0.00022027709580256104]\n",
      "Phonon occupation: 0.00. Phonon thermal energy is 34.75. Phonon SD peak is 0.00. V=0.0. N=5.\n",
      "C-V data calculated in 5.4 seconds\n",
      "[0.0002149103042258373, 0.0002149103042258373]\n",
      "Phonon occupation: 0.00. Phonon thermal energy is 34.75. Phonon SD peak is 0.00. V=0.0. N=6.\n",
      "C-V data calculated in 7.7 seconds\n",
      "[0.00020934971866485221, 0.00020934971866485221]\n",
      "Phonon occupation: 0.00. Phonon thermal energy is 34.75. Phonon SD peak is 0.00. V=0.0. N=6.\n",
      "C-V data calculated in 6.8 seconds\n",
      "[0.0002042106391492844, 0.0002042106391492844]\n",
      "Phonon occupation: 0.00. Phonon thermal energy is 34.75. Phonon SD peak is 0.00. V=0.0. N=6.\n",
      "C-V data calculated in 7.5 seconds\n",
      "[0.00019923392629235382, 0.00019923392629235382]\n",
      "Phonon occupation: 0.00. Phonon thermal energy is 34.75. Phonon SD peak is 0.00. V=0.0. N=6.\n",
      "C-V data calculated in 7.5 seconds\n",
      "[0.00019441952147295275, 0.00019441952147295275]\n",
      "Phonon occupation: 0.00. Phonon thermal energy is 34.75. Phonon SD peak is 0.00. V=0.0. N=6.\n",
      "C-V data calculated in 7.5 seconds\n",
      "[0.00018976729643909338, 0.00018976729643909338]\n",
      "Phonon occupation: 0.00. Phonon thermal energy is 34.75. Phonon SD peak is 0.00. V=0.0. N=7.\n",
      "C-V data calculated in 9.6 seconds\n",
      "[0.00018486196414291238, 0.00018486196414291238]\n",
      "Phonon occupation: 0.00. Phonon thermal energy is 34.75. Phonon SD peak is 0.00. V=0.0. N=7.\n",
      "C-V data calculated in 9.4 seconds\n",
      "[0.00018040211302716938, 0.00018040211302716938]\n",
      "Phonon occupation: 0.00. Phonon thermal energy is 34.75. Phonon SD peak is 0.00. V=0.0. N=7.\n",
      "C-V data calculated in 9.4 seconds\n",
      "[0.00017607915580125262, 0.00017607915580125262]\n",
      "Phonon occupation: 0.00. Phonon thermal energy is 34.75. Phonon SD peak is 0.00. V=0.0. N=7.\n",
      "C-V data calculated in 9.5 seconds\n",
      "[0.00017189129148472218, 0.00017189129148472218]\n",
      "Phonon occupation: 0.00. Phonon thermal energy is 34.75. Phonon SD peak is 0.00. V=0.0. N=7.\n",
      "C-V data calculated in 9.4 seconds\n",
      "[0.00016783678329530718, 0.00016783678329530718]\n",
      "Phonon occupation: 0.00. Phonon thermal energy is 34.75. Phonon SD peak is 0.00. V=0.0. N=8.\n",
      "C-V data calculated in 13.0 seconds\n",
      "[0.00016355152204604838, 0.00016355152204604838]\n",
      "Phonon occupation: 0.00. Phonon thermal energy is 34.75. Phonon SD peak is 0.00. V=0.0. N=8.\n",
      "C-V data calculated in 13.2 seconds\n",
      "[0.00015966322841350991, 0.00015966322841350991]\n",
      "Phonon occupation: 0.00. Phonon thermal energy is 34.75. Phonon SD peak is 0.00. V=0.0. N=8.\n",
      "C-V data calculated in 14.6 seconds\n",
      "[0.00015588781352906666, 0.00015588781352906666]\n",
      "Phonon occupation: 0.00. Phonon thermal energy is 34.75. Phonon SD peak is 0.00. V=0.0. N=8.\n",
      "C-V data calculated in 15.3 seconds\n",
      "[0.0001522228866003756, 0.0001522228866003756]\n",
      "Phonon occupation: 0.00. Phonon thermal energy is 34.75. Phonon SD peak is 0.00. V=0.0. N=9.\n",
      "C-V data calculated in 19.3 seconds\n",
      "[0.00014843774238333478, 0.00014843774238333478]\n",
      "Phonon occupation: 0.00. Phonon thermal energy is 34.75. Phonon SD peak is 0.00. V=0.0. N=4.\n",
      "C-V data calculated in 2.8 seconds\n",
      "[3.612437696059387e-05, 3.612437696059387e-05]\n",
      "Phonon occupation: 0.00. Phonon thermal energy is 34.75. Phonon SD peak is 0.00. V=0.0. N=4.\n",
      "C-V data calculated in 3.5 seconds\n",
      "[3.5141475670621226e-05, 3.5141475670621226e-05]\n",
      "Phonon occupation: 0.00. Phonon thermal energy is 34.75. Phonon SD peak is 0.00. V=0.0. N=4.\n",
      "C-V data calculated in 3.5 seconds\n",
      "[3.41980237665761e-05, 3.41980237665761e-05]\n",
      "Phonon occupation: 0.00. Phonon thermal energy is 34.75. Phonon SD peak is 0.00. V=0.0. N=4.\n",
      "C-V data calculated in 3.6 seconds\n",
      "[3.329153174074596e-05, 3.329153174074596e-05]\n",
      "Phonon occupation: 0.00. Phonon thermal energy is 34.75. Phonon SD peak is 0.00. V=0.0. N=4.\n",
      "C-V data calculated in 3.7 seconds\n",
      "[3.2419363519524354e-05, 3.2419363519524354e-05]\n",
      "Phonon occupation: 0.00. Phonon thermal energy is 34.75. Phonon SD peak is 0.00. V=0.0. N=5.\n",
      "C-V data calculated in 5.6 seconds\n",
      "[3.158845592152852e-05, 3.158845592152852e-05]\n",
      "Phonon occupation: 0.00. Phonon thermal energy is 34.75. Phonon SD peak is 0.00. V=0.0. N=5.\n",
      "C-V data calculated in 5.1 seconds\n",
      "[3.078562580961564e-05, 3.078562580961564e-05]\n",
      "Phonon occupation: 0.00. Phonon thermal energy is 34.75. Phonon SD peak is 0.00. V=0.0. N=5.\n",
      "C-V data calculated in 4.6 seconds\n",
      "[3.0013415462053455e-05, 3.0013415462053455e-05]\n",
      "Phonon occupation: 0.00. Phonon thermal energy is 34.75. Phonon SD peak is 0.00. V=0.0. N=5.\n",
      "C-V data calculated in 4.7 seconds\n",
      "[2.9270109877953937e-05, 2.9270109877953937e-05]\n",
      "Phonon occupation: 0.00. Phonon thermal energy is 34.75. Phonon SD peak is 0.00. V=0.0. N=5.\n",
      "C-V data calculated in 5.2 seconds\n",
      "[2.855403580037826e-05, 2.855403580037826e-05]\n",
      "Phonon occupation: 0.00. Phonon thermal energy is 34.75. Phonon SD peak is 0.00. V=0.0. N=6.\n",
      "C-V data calculated in 7.7 seconds\n",
      "[2.787563544000583e-05, 2.787563544000583e-05]\n",
      "Phonon occupation: 0.00. Phonon thermal energy is 34.75. Phonon SD peak is 0.00. V=0.0. N=6.\n",
      "C-V data calculated in 7.7 seconds\n",
      "[2.721498662813563e-05, 2.721498662813563e-05]\n",
      "Phonon occupation: 0.00. Phonon thermal energy is 34.75. Phonon SD peak is 0.00. V=0.0. N=6.\n",
      "C-V data calculated in 7.5 seconds\n",
      "[2.657856153554458e-05, 2.657856153554458e-05]\n",
      "Phonon occupation: 0.00. Phonon thermal energy is 34.75. Phonon SD peak is 0.00. V=0.0. N=6.\n",
      "C-V data calculated in 6.7 seconds\n",
      "[2.5965122318957205e-05, 2.5965122318957205e-05]\n",
      "Phonon occupation: 0.00. Phonon thermal energy is 34.75. Phonon SD peak is 0.00. V=0.0. N=6.\n",
      "C-V data calculated in 6.6 seconds\n",
      "[2.5373478354176842e-05, 2.5373478354176842e-05]\n",
      "Phonon occupation: 0.00. Phonon thermal energy is 34.75. Phonon SD peak is 0.00. V=0.0. N=7.\n",
      "C-V data calculated in 9.7 seconds\n",
      "[2.4811154183942662e-05, 2.4811154183942662e-05]\n",
      "Phonon occupation: 0.00. Phonon thermal energy is 34.75. Phonon SD peak is 0.00. V=0.0. N=7.\n",
      "C-V data calculated in 10.1 seconds\n",
      "[2.4262778245264774e-05, 2.4262778245264774e-05]\n",
      "Phonon occupation: 0.00. Phonon thermal energy is 34.75. Phonon SD peak is 0.00. V=0.0. N=7.\n",
      "C-V data calculated in 9.3 seconds\n",
      "[2.3733616160547936e-05, 2.3733616160547936e-05]\n",
      "Phonon occupation: 0.00. Phonon thermal energy is 34.75. Phonon SD peak is 0.00. V=0.0. N=7.\n",
      "C-V data calculated in 9.3 seconds\n",
      "[2.3222740226011186e-05, 2.3222740226011186e-05]\n",
      "Phonon occupation: 0.00. Phonon thermal energy is 34.75. Phonon SD peak is 0.00. V=0.0. N=7.\n",
      "C-V data calculated in 10.7 seconds\n",
      "[2.272926309806636e-05, 2.272926309806636e-05]\n",
      "Phonon occupation: 0.00. Phonon thermal energy is 34.75. Phonon SD peak is 0.00. V=0.0. N=8.\n",
      "C-V data calculated in 15.3 seconds\n",
      "[2.2257400102256194e-05, 2.2257400102256194e-05]\n",
      "Phonon occupation: 0.00. Phonon thermal energy is 34.75. Phonon SD peak is 0.00. V=0.0. N=8.\n"
     ]
    },
    {
     "name": "stdout",
     "output_type": "stream",
     "text": [
      "C-V data calculated in 14.5 seconds\n",
      "[2.1797688279667908e-05, 2.1797688279667908e-05]\n",
      "Phonon occupation: 0.00. Phonon thermal energy is 34.75. Phonon SD peak is 0.00. V=0.0. N=8.\n",
      "C-V data calculated in 13.9 seconds\n",
      "[2.1353237544775036e-05, 2.1353237544775036e-05]\n",
      "Phonon occupation: 0.00. Phonon thermal energy is 34.75. Phonon SD peak is 0.00. V=0.0. N=8.\n",
      "C-V data calculated in 14.9 seconds\n",
      "[2.0923340772695113e-05, 2.0923340772695113e-05]\n",
      "Phonon occupation: 0.00. Phonon thermal energy is 34.75. Phonon SD peak is 0.00. V=0.0. N=9.\n",
      "C-V data calculated in 19.1 seconds\n",
      "[2.050934571526082e-05, 2.050934571526082e-05]\n",
      "Phonon occupation: 0.00. Phonon thermal energy is 34.75. Phonon SD peak is 0.00. V=0.0. N=4.\n",
      "C-V data calculated in 2.8 seconds\n",
      "[1.0935501932267479e-05, 1.0935501932267479e-05]\n",
      "Phonon occupation: 0.00. Phonon thermal energy is 34.75. Phonon SD peak is 0.00. V=0.0. N=4.\n",
      "C-V data calculated in 3.5 seconds\n",
      "[1.0709794733280894e-05, 1.0709794733280894e-05]\n",
      "Phonon occupation: 0.00. Phonon thermal energy is 34.75. Phonon SD peak is 0.00. V=0.0. N=4.\n",
      "C-V data calculated in 3.5 seconds\n",
      "[1.0491724416410137e-05, 1.0491724416410137e-05]\n",
      "Phonon occupation: 0.00. Phonon thermal energy is 34.75. Phonon SD peak is 0.00. V=0.0. N=4.\n",
      "C-V data calculated in 3.2 seconds\n",
      "[1.0280917168889206e-05, 1.0280917168889206e-05]\n",
      "Phonon occupation: 0.00. Phonon thermal energy is 34.75. Phonon SD peak is 0.00. V=0.0. N=4.\n",
      "C-V data calculated in 3.3 seconds\n",
      "[1.0076990330107852e-05, 1.0076990330107852e-05]\n",
      "Phonon occupation: 0.00. Phonon thermal energy is 34.75. Phonon SD peak is 0.00. V=0.0. N=5.\n",
      "C-V data calculated in 5.2 seconds\n",
      "[9.880414841941403e-06, 9.880414841941403e-06]\n",
      "Phonon occupation: 0.00. Phonon thermal energy is 34.75. Phonon SD peak is 0.00. V=0.0. N=5.\n",
      "C-V data calculated in 5.3 seconds\n",
      "[9.689901276144277e-06, 9.689901276144277e-06]\n",
      "Phonon occupation: 0.00. Phonon thermal energy is 34.75. Phonon SD peak is 0.00. V=0.0. N=5.\n",
      "C-V data calculated in 5.4 seconds\n",
      "[9.50554244527426e-06, 9.50554244527426e-06]\n",
      "Phonon occupation: 0.00. Phonon thermal energy is 34.75. Phonon SD peak is 0.00. V=0.0. N=5.\n",
      "C-V data calculated in 5.1 seconds\n",
      "[9.327063992480776e-06, 9.327063992480776e-06]\n",
      "Phonon occupation: 0.00. Phonon thermal energy is 34.75. Phonon SD peak is 0.00. V=0.0. N=5.\n",
      "C-V data calculated in 4.6 seconds\n",
      "[9.154199450454205e-06, 9.154199450454205e-06]\n",
      "Phonon occupation: 0.00. Phonon thermal energy is 34.75. Phonon SD peak is 0.00. V=0.0. N=6.\n",
      "C-V data calculated in 6.6 seconds\n",
      "[8.987629418568608e-06, 8.987629418568608e-06]\n",
      "Phonon occupation: 0.00. Phonon thermal energy is 34.75. Phonon SD peak is 0.00. V=0.0. N=6.\n",
      "C-V data calculated in 6.7 seconds\n",
      "[8.825700314214223e-06, 8.825700314214223e-06]\n",
      "Phonon occupation: 0.00. Phonon thermal energy is 34.75. Phonon SD peak is 0.00. V=0.0. N=6.\n",
      "C-V data calculated in 7.3 seconds\n",
      "[8.668787471530726e-06, 8.668787471530726e-06]\n",
      "Phonon occupation: 0.00. Phonon thermal energy is 34.75. Phonon SD peak is 0.00. V=0.0. N=6.\n",
      "C-V data calculated in 7.7 seconds\n",
      "[8.516681487741989e-06, 8.516681487741989e-06]\n",
      "Phonon occupation: 0.00. Phonon thermal energy is 34.75. Phonon SD peak is 0.00. V=0.0. N=6.\n",
      "C-V data calculated in 7.6 seconds\n",
      "[8.369181536779613e-06, 8.369181536779613e-06]\n",
      "Phonon occupation: 0.00. Phonon thermal energy is 34.75. Phonon SD peak is 0.00. V=0.0. N=7.\n",
      "C-V data calculated in 12.5 seconds\n",
      "[8.226654832943955e-06, 8.226654832943955e-06]\n",
      "Phonon occupation: 0.00. Phonon thermal energy is 34.75. Phonon SD peak is 0.00. V=0.0. N=7.\n",
      "C-V data calculated in 10.7 seconds\n",
      "[8.088004325771164e-06, 8.088004325771164e-06]\n",
      "Phonon occupation: 0.00. Phonon thermal energy is 34.75. Phonon SD peak is 0.00. V=0.0. N=7.\n",
      "C-V data calculated in 10.0 seconds\n",
      "[7.953455639585803e-06, 7.953455639585803e-06]\n",
      "Phonon occupation: 0.00. Phonon thermal energy is 34.75. Phonon SD peak is 0.00. V=0.0. N=7.\n",
      "C-V data calculated in 10.4 seconds\n",
      "[7.822844644076924e-06, 7.822844644076924e-06]\n",
      "Phonon occupation: 0.00. Phonon thermal energy is 34.75. Phonon SD peak is 0.00. V=0.0. N=7.\n",
      "C-V data calculated in 11.2 seconds\n",
      "[7.696013743451427e-06, 7.696013743451427e-06]\n",
      "Phonon occupation: 0.00. Phonon thermal energy is 34.75. Phonon SD peak is 0.00. V=0.0. N=8.\n",
      "C-V data calculated in 15.0 seconds\n",
      "[7.573059632817209e-06, 7.573059632817209e-06]\n",
      "Phonon occupation: 0.00. Phonon thermal energy is 34.75. Phonon SD peak is 0.00. V=0.0. N=8.\n",
      "C-V data calculated in 15.2 seconds\n",
      "[7.453419883274833e-06, 7.453419883274833e-06]\n",
      "Phonon occupation: 0.00. Phonon thermal energy is 34.75. Phonon SD peak is 0.00. V=0.0. N=8.\n",
      "C-V data calculated in 14.5 seconds\n",
      "[7.337143337964737e-06, 7.337143337964737e-06]\n",
      "Phonon occupation: 0.00. Phonon thermal energy is 34.75. Phonon SD peak is 0.00. V=0.0. N=8.\n",
      "C-V data calculated in 14.7 seconds\n",
      "[7.2240993309240984e-06, 7.2240993309240984e-06]\n",
      "Phonon occupation: 0.00. Phonon thermal energy is 34.75. Phonon SD peak is 0.00. V=0.0. N=9.\n",
      "C-V data calculated in 16.9 seconds\n",
      "[7.114217953040721e-06, 7.114217953040721e-06]\n",
      "Phonon occupation: 0.00. Phonon thermal energy is 34.75. Phonon SD peak is 0.00. V=0.0. N=4.\n",
      "C-V data calculated in 2.4 seconds\n",
      "[3.3901406904135757e-06, 3.3901406904135757e-06]\n",
      "Phonon occupation: 0.00. Phonon thermal energy is 34.75. Phonon SD peak is 0.00. V=0.0. N=4.\n",
      "C-V data calculated in 3.0 seconds\n",
      "[3.3460398386970837e-06, 3.3460398386970837e-06]\n",
      "Phonon occupation: 0.00. Phonon thermal energy is 34.75. Phonon SD peak is 0.00. V=0.0. N=4.\n",
      "C-V data calculated in 3.4 seconds\n",
      "[3.3030135248283905e-06, 3.3030135248283905e-06]\n",
      "Phonon occupation: 0.00. Phonon thermal energy is 34.75. Phonon SD peak is 0.00. V=0.0. N=4.\n",
      "C-V data calculated in 3.7 seconds\n",
      "[3.261023178544428e-06, 3.261023178544428e-06]\n",
      "Phonon occupation: 0.00. Phonon thermal energy is 34.75. Phonon SD peak is 0.00. V=0.0. N=4.\n",
      "C-V data calculated in 3.6 seconds\n",
      "[3.2200299887771256e-06, 3.2200299887771256e-06]\n",
      "Phonon occupation: 0.00. Phonon thermal energy is 34.75. Phonon SD peak is 0.00. V=0.0. N=5.\n",
      "C-V data calculated in 5.8 seconds\n",
      "[3.180060771379775e-06, 3.180060771379775e-06]\n",
      "Phonon occupation: 0.00. Phonon thermal energy is 34.75. Phonon SD peak is 0.00. V=0.0. N=5.\n",
      "C-V data calculated in 5.2 seconds\n",
      "[3.1410083923679753e-06, 3.1410083923679753e-06]\n",
      "Phonon occupation: 0.00. Phonon thermal energy is 34.75. Phonon SD peak is 0.00. V=0.0. N=5.\n",
      "C-V data calculated in 5.5 seconds\n",
      "[3.1028701456478654e-06, 3.1028701456478654e-06]\n",
      "Phonon occupation: 0.00. Phonon thermal energy is 34.75. Phonon SD peak is 0.00. V=0.0. N=5.\n",
      "C-V data calculated in 5.2 seconds\n",
      "[3.0656165400670357e-06, 3.0656165400670357e-06]\n",
      "Phonon occupation: 0.00. Phonon thermal energy is 34.75. Phonon SD peak is 0.00. V=0.0. N=5.\n",
      "C-V data calculated in 5.3 seconds\n",
      "[3.029218497137752e-06, 3.029218497137752e-06]\n",
      "Phonon occupation: 0.00. Phonon thermal energy is 34.75. Phonon SD peak is 0.00. V=0.0. N=6.\n",
      "C-V data calculated in 8.6 seconds\n",
      "[2.993708606159876e-06, 2.993708606159876e-06]\n",
      "Phonon occupation: 0.00. Phonon thermal energy is 34.75. Phonon SD peak is 0.00. V=0.0. N=6.\n",
      "C-V data calculated in 7.5 seconds\n",
      "[2.9589695836724496e-06, 2.9589695836724496e-06]\n",
      "Phonon occupation: 0.00. Phonon thermal energy is 34.75. Phonon SD peak is 0.00. V=0.0. N=6.\n",
      "C-V data calculated in 8.5 seconds\n",
      "[2.925014186560748e-06, 2.925014186560748e-06]\n",
      "Phonon occupation: 0.00. Phonon thermal energy is 34.75. Phonon SD peak is 0.00. V=0.0. N=6.\n",
      "C-V data calculated in 8.7 seconds\n",
      "[2.8918181800862837e-06, 2.8918181800862837e-06]\n",
      "Phonon occupation: 0.00. Phonon thermal energy is 34.75. Phonon SD peak is 0.00. V=0.0. N=6.\n",
      "C-V data calculated in 7.8 seconds\n",
      "[2.859358285912238e-06, 2.859358285912238e-06]\n",
      "Phonon occupation: 0.00. Phonon thermal energy is 34.75. Phonon SD peak is 0.00. V=0.0. N=7.\n",
      "C-V data calculated in 11.7 seconds\n",
      "[2.827637004178299e-06, 2.827637004178299e-06]\n",
      "Phonon occupation: 0.00. Phonon thermal energy is 34.75. Phonon SD peak is 0.00. V=0.0. N=7.\n",
      "C-V data calculated in 11.7 seconds\n",
      "[2.796591993552067e-06, 2.796591993552067e-06]\n",
      "Phonon occupation: 0.00. Phonon thermal energy is 34.75. Phonon SD peak is 0.00. V=0.0. N=7.\n",
      "C-V data calculated in 11.0 seconds\n",
      "[2.7662202357573674e-06, 2.7662202357573674e-06]\n",
      "Phonon occupation: 0.00. Phonon thermal energy is 34.75. Phonon SD peak is 0.00. V=0.0. N=7.\n"
     ]
    },
    {
     "name": "stdout",
     "output_type": "stream",
     "text": [
      "C-V data calculated in 11.1 seconds\n",
      "[2.736501616527076e-06, 2.736501616527076e-06]\n",
      "Phonon occupation: 0.00. Phonon thermal energy is 34.75. Phonon SD peak is 0.00. V=0.0. N=7.\n",
      "C-V data calculated in 11.3 seconds\n",
      "[2.7074173418644355e-06, 2.7074173418644355e-06]\n",
      "Phonon occupation: 0.00. Phonon thermal energy is 34.75. Phonon SD peak is 0.00. V=0.0. N=8.\n",
      "C-V data calculated in 14.3 seconds\n",
      "[2.678949120203352e-06, 2.678949120203352e-06]\n",
      "Phonon occupation: 0.00. Phonon thermal energy is 34.75. Phonon SD peak is 0.00. V=0.0. N=8.\n",
      "C-V data calculated in 14.5 seconds\n",
      "[2.651076663999728e-06, 2.651076663999728e-06]\n",
      "Phonon occupation: 0.00. Phonon thermal energy is 34.75. Phonon SD peak is 0.00. V=0.0. N=8.\n",
      "C-V data calculated in 14.2 seconds\n",
      "[2.6237836071922304e-06, 2.6237836071922304e-06]\n",
      "Phonon occupation: 0.00. Phonon thermal energy is 34.75. Phonon SD peak is 0.00. V=0.0. N=8.\n",
      "C-V data calculated in 14.6 seconds\n",
      "[2.5970530120490384e-06, 2.5970530120490384e-06]\n",
      "Phonon occupation: 0.00. Phonon thermal energy is 34.75. Phonon SD peak is 0.00. V=0.0. N=9.\n",
      "C-V data calculated in 25.6 seconds\n",
      "[2.5708614083076983e-06, 2.5708614074939114e-06]\n",
      "Phonon occupation: 0.00. Phonon thermal energy is 34.75. Phonon SD peak is 0.00. V=0.0. N=4.\n",
      "C-V data calculated in 3.7 seconds\n",
      "[1.8261884307501402e-06, 1.8261884307501402e-06]\n",
      "Phonon occupation: 0.00. Phonon thermal energy is 34.75. Phonon SD peak is 0.00. V=0.0. N=4.\n",
      "C-V data calculated in 4.0 seconds\n",
      "[1.809598624937503e-06, 1.809598624937503e-06]\n",
      "Phonon occupation: 0.00. Phonon thermal energy is 34.75. Phonon SD peak is 0.00. V=0.0. N=4.\n",
      "C-V data calculated in 4.1 seconds\n",
      "[1.79332447459277e-06, 1.79332447459277e-06]\n",
      "Phonon occupation: 0.00. Phonon thermal energy is 34.75. Phonon SD peak is 0.00. V=0.0. N=4.\n",
      "C-V data calculated in 3.7 seconds\n",
      "[1.7773552735898837e-06, 1.7773552735898837e-06]\n",
      "Phonon occupation: 0.00. Phonon thermal energy is 34.75. Phonon SD peak is 0.00. V=0.0. N=4.\n",
      "C-V data calculated in 3.6 seconds\n",
      "[1.7616820058795262e-06, 1.7616820058795262e-06]\n",
      "Phonon occupation: 0.00. Phonon thermal energy is 34.75. Phonon SD peak is 0.00. V=0.0. N=5.\n",
      "C-V data calculated in 6.1 seconds\n",
      "[1.7463125732056618e-06, 1.7463125732056618e-06]\n",
      "Phonon occupation: 0.00. Phonon thermal energy is 34.75. Phonon SD peak is 0.00. V=0.0. N=5.\n",
      "C-V data calculated in 5.8 seconds\n",
      "[1.7312195794232905e-06, 1.7312195794232905e-06]\n",
      "Phonon occupation: 0.00. Phonon thermal energy is 34.75. Phonon SD peak is 0.00. V=0.0. N=5.\n",
      "C-V data calculated in 5.5 seconds\n",
      "[1.7164032239684722e-06, 1.7164032239684722e-06]\n",
      "Phonon occupation: 0.00. Phonon thermal energy is 34.75. Phonon SD peak is 0.00. V=0.0. N=5.\n",
      "C-V data calculated in 6.4 seconds\n",
      "[1.701856363828923e-06, 1.701856363828923e-06]\n",
      "Phonon occupation: 0.00. Phonon thermal energy is 34.75. Phonon SD peak is 0.00. V=0.0. N=5.\n",
      "C-V data calculated in 6.1 seconds\n",
      "[1.6875717345853064e-06, 1.6875717345853064e-06]\n",
      "Phonon occupation: 0.00. Phonon thermal energy is 34.75. Phonon SD peak is 0.00. V=0.0. N=6.\n",
      "C-V data calculated in 7.2 seconds\n",
      "[1.6735557117957425e-06, 1.6735557117957425e-06]\n",
      "Phonon occupation: 0.00. Phonon thermal energy is 34.75. Phonon SD peak is 0.00. V=0.0. N=6.\n",
      "C-V data calculated in 6.8 seconds\n",
      "[1.6597823406105804e-06, 1.6597823406105804e-06]\n",
      "Phonon occupation: 0.00. Phonon thermal energy is 34.75. Phonon SD peak is 0.00. V=0.0. N=6.\n",
      "C-V data calculated in 7.4 seconds\n",
      "[1.6462550156176621e-06, 1.6462550156176621e-06]\n",
      "Phonon occupation: 0.00. Phonon thermal energy is 34.75. Phonon SD peak is 0.00. V=0.0. N=6.\n",
      "C-V data calculated in 7.4 seconds\n",
      "[1.632965420474398e-06, 1.632965420474398e-06]\n",
      "Phonon occupation: 0.00. Phonon thermal energy is 34.75. Phonon SD peak is 0.00. V=0.0. N=6.\n",
      "C-V data calculated in 7.4 seconds\n",
      "[1.6199082719204868e-06, 1.6199082719204868e-06]\n",
      "Phonon occupation: 0.00. Phonon thermal energy is 34.75. Phonon SD peak is 0.00. V=0.0. N=7.\n",
      "C-V data calculated in 10.4 seconds\n",
      "[1.607082451177801e-06, 1.6070824511777825e-06]\n",
      "Phonon occupation: 0.00. Phonon thermal energy is 34.75. Phonon SD peak is 0.00. V=0.0. N=7.\n",
      "C-V data calculated in 10.4 seconds\n",
      "[1.5944753622944743e-06, 1.594475362294422e-06]\n",
      "Phonon occupation: 0.00. Phonon thermal energy is 34.75. Phonon SD peak is 0.00. V=0.0. N=7.\n",
      "C-V data calculated in 10.3 seconds\n",
      "[1.5820848714533068e-06, 1.582084871453171e-06]\n",
      "Phonon occupation: 0.00. Phonon thermal energy is 34.75. Phonon SD peak is 0.00. V=0.0. N=7.\n",
      "C-V data calculated in 10.4 seconds\n",
      "[1.5699058394388883e-06, 1.5699058394385186e-06]\n",
      "Phonon occupation: 0.00. Phonon thermal energy is 34.75. Phonon SD peak is 0.00. V=0.0. N=7.\n",
      "C-V data calculated in 10.3 seconds\n",
      "[1.5579333237843502e-06, 1.557933323783407e-06]\n",
      "Phonon occupation: 0.00. Phonon thermal energy is 34.75. Phonon SD peak is 0.00. V=0.0. N=8.\n",
      "C-V data calculated in 14.6 seconds\n",
      "[1.5461597773458031e-06, 1.5461596306110369e-06]\n",
      "Phonon occupation: 0.00. Phonon thermal energy is 34.75. Phonon SD peak is 0.00. V=0.0. N=8.\n",
      "C-V data calculated in 14.6 seconds\n",
      "[1.5345855598517328e-06, 1.5345851739605557e-06]\n",
      "Phonon occupation: 0.00. Phonon thermal energy is 34.75. Phonon SD peak is 0.00. V=0.0. N=8.\n",
      "C-V data calculated in 16.9 seconds\n",
      "[1.5232025043387955e-06, 1.523201530592993e-06]\n",
      "Phonon occupation: 0.00. Phonon thermal energy is 34.75. Phonon SD peak is 0.00. V=0.0. N=8.\n",
      "C-V data calculated in 15.3 seconds\n",
      "[1.512006795567711e-06, 1.5120045360850938e-06]\n",
      "Phonon occupation: 0.00. Phonon thermal energy is 34.75. Phonon SD peak is 0.00. V=0.0. N=9.\n",
      "C-V data calculated in 19.0 seconds\n",
      "[1.5009896311112303e-06, 1.5009893171972846e-06]\n",
      "Phonon occupation: 0.00. Phonon thermal energy is 34.75. Phonon SD peak is 0.00. V=0.0. N=4.\n",
      "C-V data calculated in 2.8 seconds\n",
      "[1.2379565189035193e-06, 1.2379565189035193e-06]\n",
      "Phonon occupation: 0.00. Phonon thermal energy is 34.75. Phonon SD peak is 0.00. V=0.0. N=4.\n",
      "C-V data calculated in 3.5 seconds\n",
      "[1.2296967030577768e-06, 1.2296967030577768e-06]\n",
      "Phonon occupation: 0.00. Phonon thermal energy is 34.75. Phonon SD peak is 0.00. V=0.0. N=4.\n",
      "C-V data calculated in 3.5 seconds\n",
      "[1.2215667809773054e-06, 1.2215667809773054e-06]\n",
      "Phonon occupation: 0.00. Phonon thermal energy is 34.75. Phonon SD peak is 0.00. V=0.0. N=4.\n",
      "C-V data calculated in 3.6 seconds\n",
      "[1.2135624365327634e-06, 1.2135624365327634e-06]\n",
      "Phonon occupation: 0.00. Phonon thermal energy is 34.75. Phonon SD peak is 0.00. V=0.0. N=4.\n",
      "C-V data calculated in 3.5 seconds\n",
      "[1.2056799595715632e-06, 1.2056799595715632e-06]\n",
      "Phonon occupation: 0.00. Phonon thermal energy is 34.75. Phonon SD peak is 0.00. V=0.0. N=5.\n",
      "C-V data calculated in 5.4 seconds\n",
      "[1.197923256878288e-06, 1.197923256878288e-06]\n",
      "Phonon occupation: 0.00. Phonon thermal energy is 34.75. Phonon SD peak is 0.00. V=0.0. N=5.\n",
      "C-V data calculated in 4.8 seconds\n",
      "[1.1902837169098073e-06, 1.1902837169098073e-06]\n",
      "Phonon occupation: 0.00. Phonon thermal energy is 34.75. Phonon SD peak is 0.00. V=0.0. N=5.\n",
      "C-V data calculated in 4.6 seconds\n",
      "[1.1827588042600425e-06, 1.1827588042600425e-06]\n",
      "Phonon occupation: 0.00. Phonon thermal energy is 34.75. Phonon SD peak is 0.00. V=0.0. N=5.\n",
      "C-V data calculated in 5.1 seconds\n",
      "[1.1753475564213476e-06, 1.1753475564213476e-06]\n",
      "Phonon occupation: 0.00. Phonon thermal energy is 34.75. Phonon SD peak is 0.00. V=0.0. N=5.\n",
      "C-V data calculated in 5.2 seconds\n",
      "[1.1680468147049634e-06, 1.1680468147049631e-06]\n",
      "Phonon occupation: 0.00. Phonon thermal energy is 34.75. Phonon SD peak is 0.00. V=0.0. N=6.\n",
      "C-V data calculated in 7.8 seconds\n",
      "[1.1608599254880506e-06, 1.1608599254620308e-06]\n",
      "Phonon occupation: 0.00. Phonon thermal energy is 34.75. Phonon SD peak is 0.00. V=0.0. N=6.\n",
      "C-V data calculated in 7.8 seconds\n",
      "[1.153776447943789e-06, 1.153776447865176e-06]\n",
      "Phonon occupation: 0.00. Phonon thermal energy is 34.75. Phonon SD peak is 0.00. V=0.0. N=6.\n",
      "C-V data calculated in 7.0 seconds\n",
      "[1.1467985398081936e-06, 1.1467985395815742e-06]\n",
      "Phonon occupation: 0.00. Phonon thermal energy is 34.75. Phonon SD peak is 0.00. V=0.0. N=6.\n",
      "C-V data calculated in 7.3 seconds\n",
      "[1.1399224247002865e-06, 1.1399224240763686e-06]\n",
      "Phonon occupation: 0.00. Phonon thermal energy is 34.75. Phonon SD peak is 0.00. V=0.0. N=6.\n",
      "C-V data calculated in 7.5 seconds\n",
      "[1.1331468313957719e-06, 1.1331468297446065e-06]\n",
      "Phonon occupation: 0.00. Phonon thermal energy is 34.75. Phonon SD peak is 0.00. V=0.0. N=7.\n"
     ]
    },
    {
     "name": "stdout",
     "output_type": "stream",
     "text": [
      "C-V data calculated in 9.3 seconds\n",
      "[1.1264715726478478e-06, 1.1264562735786857e-06]\n",
      "Phonon occupation: 0.00. Phonon thermal energy is 34.75. Phonon SD peak is 0.00. V=0.0. N=7.\n",
      "C-V data calculated in 9.8 seconds\n",
      "[1.1198910869576077e-06, 1.1198700534217883e-06]\n",
      "Phonon occupation: 0.00. Phonon thermal energy is 34.75. Phonon SD peak is 0.00. V=0.0. N=7.\n",
      "C-V data calculated in 10.3 seconds\n",
      "[1.1134052659441878e-06, 1.1133774412873055e-06]\n",
      "Phonon occupation: 0.00. Phonon thermal energy is 34.75. Phonon SD peak is 0.00. V=0.0. N=7.\n",
      "C-V data calculated in 9.8 seconds\n",
      "[1.1070115521808753e-06, 1.1069757388460538e-06]\n",
      "Phonon occupation: 0.00. Phonon thermal energy is 34.75. Phonon SD peak is 0.00. V=0.0. N=7.\n",
      "C-V data calculated in 9.4 seconds\n",
      "[1.1007088988366024e-06, 1.1006638676143524e-06]\n",
      "Phonon occupation: 0.00. Phonon thermal energy is 34.75. Phonon SD peak is 0.00. V=0.0. N=8.\n",
      "C-V data calculated in 12.9 seconds\n",
      "[1.094487978246584e-06, 1.094483279925555e-06]\n",
      "Phonon occupation: 0.00. Phonon thermal energy is 34.75. Phonon SD peak is 0.00. V=0.0. N=8.\n",
      "C-V data calculated in 12.9 seconds\n",
      "[1.088359099164985e-06, 1.088350156738883e-06]\n",
      "Phonon occupation: 0.00. Phonon thermal energy is 34.75. Phonon SD peak is 0.00. V=0.0. N=8.\n",
      "C-V data calculated in 12.9 seconds\n",
      "[1.082317061659243e-06, 1.0823003422462822e-06]\n",
      "Phonon occupation: 0.00. Phonon thermal energy is 34.75. Phonon SD peak is 0.00. V=0.0. N=8.\n",
      "C-V data calculated in 13.3 seconds\n",
      "[1.0763569189840958e-06, 1.0763262989788159e-06]\n",
      "Phonon occupation: 0.00. Phonon thermal energy is 34.75. Phonon SD peak is 0.00. V=0.0. N=9.\n",
      "C-V data calculated in 17.0 seconds\n",
      "[1.0704671926871016e-06, 1.0704287967741905e-06]\n"
     ]
    },
    {
     "data": {
      "image/png": "[encoded data removed]",
      "text/plain": [
       "<Figure size 432x288 with 1 Axes>"
      ]
     },
     "metadata": {
      "needs_background": "light"
     },
     "output_type": "display_data"
    }
   ],
   "source": [
    "def short_current_from_dict(dd):\n",
    "    # assumes that V=0 at element 0\n",
    "    return dd['current'][0]\n",
    "\n",
    "def calculate_current_slope(binding_energies, alpha_values, lead_SD='Lorentzian'):\n",
    "    data = []\n",
    "    for BE in binding_energies: #[0., 0.025, 0.05, 0.075, 0.1, 0.2]:\n",
    "        I_SC = []\n",
    "        N_values = [int(n) for n in np.linspace(4,9,len(alpha_values))]\n",
    "        for N, alpha in zip(N_values, alpha_values):\n",
    "            PARAMS = PARAMS_setup(valence_energy=100e-3, binding_energy=BE, radiative_lifetime=1, \n",
    "                                  alpha_ph=alpha, mu=700e-3,\n",
    "                                  bias_voltage=0, N=N, silent=True, T_C=50., lead_SD=lead_SD)\n",
    "            data_dict = populations_and_current_vs_voltage(PARAMS, x_range=[0.1,0.3],num_voltages=1)\n",
    "            print(data_dict['current'])\n",
    "            I_SC.append(short_current_from_dict(data_dict))\n",
    "        data.append(np.array(I_SC))\n",
    "        plt.plot(alpha_values*1000, np.array(I_SC)/I_SC[0], label='U={}meV'.format(int(BE*1000)))\n",
    "        plt.xlim(alpha_values[0]*1000, alpha_values[-1]*1000)\n",
    "    plt.legend()\n",
    "    return np.array(data)\n",
    "\n",
    "    \n",
    "binding_energies = [0, 0.05, 0.1, 0.2, 0.3, 0.4] #np.linspace(0.0, 0.5, 6)\n",
    "alpha_values = np.linspace(0, 50e-3, 25) #[0, 10e-3, 20e-3, 30e-3]\n",
    "data_77 = calculate_current_slope(binding_energies, alpha_values, lead_SD='Lorentzian')\n",
    "plt.xlabel(r'$\\alpha$ $(meV)$')\n",
    "plt.ylabel(r'$I_{SC}$ (normalised)')\n",
    "plt.savefig(\"Isc_slope_lowT.pdf\")\n"
   ]
  },
  {
   "cell_type": "code",
   "execution_count": null,
   "metadata": {},
   "outputs": [],
   "source": [
    "\n",
    "data = []\n",
    "for BE in np.linspace(0.0, 0.3, 6): #[0., 0.025, 0.05, 0.075, 0.1, 0.2]:\n",
    "    I_SC = []\n",
    "    alpha_values = np.linspace(0,30e-3,8) #[0, 10e-3, 20e-3, 30e-3]\n",
    "    N_values = [int(n) for n in np.linspace(3,13,len(alpha_values))]\n",
    "    for N, alpha in zip(N_values, alpha_values):\n",
    "        PARAMS = PARAMS_setup(valence_energy=100e-3, binding_energy=BE, radiative_lifetime=1, \n",
    "                              alpha_ph=alpha, mu=700e-3,\n",
    "                              bias_voltage=0, N=N, silent=False, T_C=77.)\n",
    "        data_dict = populations_and_current_vs_voltage(PARAMS, x_range=[0.1,0.3],num_voltages=1)\n",
    "        print(data_dict['current'])\n",
    "        I_SC.append(short_current_from_dict(data_dict))\n",
    "    data.append(np.array(I_SC))\n",
    "    plt.plot(alpha_values, np.array(I_SC)/I_SC[0], label='U={}meV'.format(int(BE*100)))\n",
    "plt.legend()"
   ]
  },
  {
   "cell_type": "code",
   "execution_count": null,
   "metadata": {},
   "outputs": [],
   "source": [
    "data = []\n",
    "for BE in np.linspace(0.0, 0.3, 6): #[0., 0.025, 0.05, 0.075, 0.1, 0.2]:\n",
    "    I_SC = []\n",
    "    alpha_values = np.linspace(0,30e-3,8) #[0, 10e-3, 20e-3, 30e-3]\n",
    "    N_values = [int(n) for n in np.linspace(3,13,len(alpha_values))]\n",
    "    for N, alpha in zip(N_values, alpha_values):\n",
    "        PARAMS = PARAMS_setup(valence_energy=100e-3, binding_energy=BE, radiative_lifetime=1, \n",
    "                              alpha_ph=alpha, mu=700e-3, deformation_ratio=1e-1,\n",
    "                              bias_voltage=0, N=N, silent=False, T_C=77.)\n",
    "        data_dict = populations_and_current_vs_voltage(PARAMS, x_range=[0.1,0.3],num_voltages=1)\n",
    "        print(data_dict['current'])\n",
    "        I_SC.append(short_current_from_dict(data_dict))\n",
    "    data.append(np.array(I_SC))\n",
    "    plt.plot(alpha_values, np.array(I_SC)/I_SC[0], label='U={}meV'.format(int(BE*100)))\n",
    "plt.legend()"
   ]
  },
  {
   "cell_type": "markdown",
   "metadata": {},
   "source": [
    "$\\frac{2 \\Gamma _{\\text{downR}} \\Gamma _{\\text{upEM}} \\Gamma _{\\text{upL}} \\left(\\Gamma _{\\text{downRU}}+\\Gamma _{\\text{upLU}}\\right)}{\\Gamma _{\\text{downR}} \\left(\\Gamma _{\\text{upL}} \\left(\\Gamma _{\\text{downEM}}+\\Gamma _{\\text{upEM}}+\\Gamma _{\\text{upLU}}\\right)+\\Gamma _{\\text{downRU}} \\left(\\Gamma _{\\text{upEM}}+\\Gamma _{\\text{upL}}\\right)\\right)+\\Gamma _{\\text{upEM}} \\Gamma _{\\text{upL}} \\Gamma _{\\text{upLU}}}$"
   ]
  },
  {
   "cell_type": "code",
   "execution_count": 22,
   "metadata": {},
   "outputs": [],
   "source": [
    "import rate_functions as rf\n",
    "\n",
    "def analyticalCurrent(rd):\n",
    "    # rd is a dict with the various rates as key-value pairs\n",
    "    numer = rd['R_down']*rd['EM_up']*rd['L_up']*(rd['RU_down']+rd['LU_up'])\n",
    "    \n",
    "    denom = rd['R_down']*rd['L_up']*(rd['EM_down']+rd['EM_up']+rd['LU_up']) \n",
    "    denom += rd['R_down']*rd['RU_down']*(rd['EM_up']+rd['L_up']) + rd['EM_up']*rd['L_up']*rd['LU_up']\n",
    "    \n",
    "    return numer/denom\n",
    "def convert_dicts(rates, element=0):\n",
    "    return {'R_down': rates['e-0'][element], 'L_up': rates['h-0'][element], 'RU_down': rates['x-h'][element], \n",
    "          'EM_down': rates['x-0'][element], 'EM_up': rates['0-x'][element], 'LU_up': rates['x-e'][element]}\n",
    "\n",
    "reload(rf)\n",
    "def calculate_current_slope_analytic(binding_energies, alpha_lim=[0,30e-3], \n",
    "                                     num_alpha=5, lead_SD='Lorentzian', radiative_lifetime=1):\n",
    "    data = []\n",
    "    for BE in binding_energies:\n",
    "        alpha_values, rates = rf.get_all_rates_states(init_state=0, alpha_lim=alpha_lim, num_alpha=num_alpha,\n",
    "                       valence_energy=100e-3, binding_energy=BE, radiative_lifetime=radiative_lifetime,\n",
    "                          mu=700e-3, bias_voltage=0, N_max=10, silent=False, T_C=77., lead_SD=lead_SD)\n",
    "        rd = convert_dicts(rates)\n",
    "        I = []\n",
    "        for i in range(num_alpha):\n",
    "            rd = convert_dicts(rates, element=i)\n",
    "            I.append(analyticalCurrent(rd))\n",
    "        data.append(I)\n",
    "        plt.plot(alpha_values, np.array(I)/I[0])\n",
    "    return np.array(data)\n"
   ]
  },
  {
   "cell_type": "code",
   "execution_count": 8,
   "metadata": {},
   "outputs": [
    {
     "name": "stdout",
     "output_type": "stream",
     "text": [
      "init state 0 complete at T=77.0K\n",
      "init state 0 complete at T=77.0K\n"
     ]
    },
    {
     "data": {
      "image/png": "[encoded data removed]",
      "text/plain": [
       "<Figure size 432x288 with 1 Axes>"
      ]
     },
     "metadata": {
      "needs_background": "light"
     },
     "output_type": "display_data"
    }
   ],
   "source": [
    "\n",
    "binding_energies = np.linspace(0.0, 0.1, 2)\n",
    "alpha_values = np.linspace(0, 30e-3, 8) #[0, 10e-3, 20e-3, 30e-3]\n",
    "data_an_77 = calculate_current_slope_analytic(binding_energies, \n",
    "                                              alpha_lim=[alpha_values[0],alpha_values[-1]], \n",
    "                                              num_alpha=len(alpha_values), lead_SD='flat')"
   ]
  },
  {
   "cell_type": "code",
   "execution_count": 12,
   "metadata": {},
   "outputs": [
    {
     "data": {
      "text/plain": [
       "<matplotlib.legend.Legend at 0x11c16bd10>"
      ]
     },
     "execution_count": 12,
     "metadata": {},
     "output_type": "execute_result"
    },
    {
     "data": {
      "image/png": "[encoded data removed]",
      "text/plain": [
       "<Figure size 432x288 with 1 Axes>"
      ]
     },
     "metadata": {
      "needs_background": "light"
     },
     "output_type": "display_data"
    }
   ],
   "source": [
    "for BE,data in zip(binding_energies, np.array(data_77)):\n",
    "    plt.plot(alpha_values, data/data[0], label='BE={}'.format(int(100*BE)))\n",
    "for BE in np.array(data_an_77):\n",
    "    plt.plot(alpha_values, BE/BE[0], linestyle='dashed')\n",
    "plt.legend()"
   ]
  },
  {
   "cell_type": "code",
   "execution_count": 24,
   "metadata": {},
   "outputs": [
    {
     "name": "stdout",
     "output_type": "stream",
     "text": [
      "init state 0 complete at T=77.0K\n",
      "init state 0 complete at T=77.0K\n",
      "init state 0 complete at T=77.0K\n"
     ]
    },
    {
     "name": "stderr",
     "output_type": "stream",
     "text": [
      "WARNING:matplotlib.legend:No handles with labels found to put in legend.\n"
     ]
    },
    {
     "name": "stdout",
     "output_type": "stream",
     "text": [
      "init state 0 complete at T=77.0K\n"
     ]
    },
    {
     "data": {
      "text/plain": [
       "<matplotlib.legend.Legend at 0x11c48c390>"
      ]
     },
     "execution_count": 24,
     "metadata": {},
     "output_type": "execute_result"
    },
    {
     "data": {
      "image/png": "[encoded data removed]",
      "text/plain": [
       "<Figure size 432x288 with 1 Axes>"
      ]
     },
     "metadata": {
      "needs_background": "light"
     },
     "output_type": "display_data"
    }
   ],
   "source": [
    "binding_energies = np.linspace(0.0, 0.1, 2)\n",
    "alpha_values = np.linspace(0, 30e-3, 8) #[0, 10e-3, 20e-3, 30e-3]\n",
    "data_an_77_1 = calculate_current_slope_analytic(binding_energies, \n",
    "                                              alpha_lim=[alpha_values[0],alpha_values[-1]], \n",
    "                                              num_alpha=len(alpha_values), lead_SD='flat', radiative_lifetime=1)\n",
    "data_an_77_2 = calculate_current_slope_analytic(binding_energies, \n",
    "                                              alpha_lim=[alpha_values[0],alpha_values[-1]], \n",
    "                                              num_alpha=len(alpha_values), lead_SD='flat', radiative_lifetime=2)\n",
    "\n"
   ]
  },
  {
   "cell_type": "code",
   "execution_count": 27,
   "metadata": {},
   "outputs": [
    {
     "name": "stderr",
     "output_type": "stream",
     "text": [
      "WARNING:matplotlib.legend:No handles with labels found to put in legend.\n"
     ]
    },
    {
     "data": {
      "text/plain": [
       "<matplotlib.legend.Legend at 0x11beb6910>"
      ]
     },
     "execution_count": 27,
     "metadata": {},
     "output_type": "execute_result"
    },
    {
     "data": {
      "image/png": "[encoded data removed]",
      "text/plain": [
       "<Figure size 432x288 with 1 Axes>"
      ]
     },
     "metadata": {
      "needs_background": "light"
     },
     "output_type": "display_data"
    }
   ],
   "source": [
    "for BE in np.array(data_an_77_1):\n",
    "    plt.plot(alpha_values, BE/BE[0])\n",
    "    break\n",
    "for BE in np.array(data_an_77_2):\n",
    "    plt.plot(alpha_values, BE/BE[0], ls='dashed')\n",
    "    break\n",
    "plt.legend()"
   ]
  },
  {
   "cell_type": "code",
   "execution_count": 26,
   "metadata": {},
   "outputs": [
    {
     "name": "stderr",
     "output_type": "stream",
     "text": [
      "WARNING:matplotlib.legend:No handles with labels found to put in legend.\n"
     ]
    },
    {
     "data": {
      "text/plain": [
       "<matplotlib.legend.Legend at 0x10cb74c10>"
      ]
     },
     "execution_count": 26,
     "metadata": {},
     "output_type": "execute_result"
    },
    {
     "data": {
      "image/png": "[encoded data removed]",
      "text/plain": [
       "<Figure size 432x288 with 1 Axes>"
      ]
     },
     "metadata": {
      "needs_background": "light"
     },
     "output_type": "display_data"
    }
   ],
   "source": [
    "for BE in np.array(data_an_77_1):\n",
    "    plt.plot(alpha_values, BE)\n",
    "    break\n",
    "for BE in np.array(data_an_77_2):\n",
    "    plt.plot(alpha_values, BE, linestyle='dashed')\n",
    "    break\n",
    "plt.legend()"
   ]
  },
  {
   "cell_type": "markdown",
   "metadata": {},
   "source": [
    "longer lifetime (slower optical decay) means less current overall and more deleterious phonon effects on current (steeper decline in current wrt $\\alpha$)"
   ]
  },
  {
   "cell_type": "code",
   "execution_count": 9,
   "metadata": {},
   "outputs": [
    {
     "name": "stdout",
     "output_type": "stream",
     "text": [
      "[[2.69835138e-04 2.54010503e-04 2.39104082e-04 2.25089125e-04\n",
      "  2.11929593e-04 1.99587098e-04 1.88013847e-04 1.77165532e-04]\n",
      " [4.52019693e-07 4.31087162e-07 4.11639980e-07 3.93549671e-07\n",
      "  3.76697932e-07 3.60980468e-07 3.46300680e-07 3.32571878e-07]]\n"
     ]
    }
   ],
   "source": [
    "print(data_an_77/2)"
   ]
  },
  {
   "cell_type": "markdown",
   "metadata": {},
   "source": [
    "# Percentage change of rates with increasing $\\alpha$"
   ]
  },
  {
   "cell_type": "code",
   "execution_count": 14,
   "metadata": {},
   "outputs": [
    {
     "name": "stdout",
     "output_type": "stream",
     "text": [
      "With no binding energy\n",
      "x-h: 1.56562959788e-12\n",
      "0-x: 2.06519028595e-06\n",
      "h-0: -4.6398706647e-14\n",
      "e-0: 3.45605014229e-12\n",
      "x-e: 1.26648864059e-12\n",
      "x-0: 7.85993585626e-07\n",
      "\n",
      "With finite binding energy\n",
      "x-h: 1.56562959788e-12\n",
      "0-x: 2.03583476239e-06\n",
      "h-0: -4.6398706647e-14\n",
      "e-0: 3.45605014229e-12\n",
      "x-e: 1.26648864059e-12\n",
      "x-0: 8.17442647353e-07\n",
      "1.0\n"
     ]
    },
    {
     "data": {
      "text/plain": [
       "\"dic = build_L(PARAMS, silent=True)\\nrate_dic_single = rf.get_rates_state(PARAMS, dic, init_state=0)\\n\\nfor key, value in rate_dic_single.items():\\n    if value != 0.0:\\n        print(key+': '+str( value))\""
      ]
     },
     "execution_count": 14,
     "metadata": {},
     "output_type": "execute_result"
    }
   ],
   "source": [
    "def percentage_change_of_rates(PARAMS, alpha_vals = [0, 0.025], N_vals=[3,8]):\n",
    "    PARAMS.update({'alpha_ph' : alpha_vals[0], 'N': N_vals[0]})\n",
    "    \n",
    "    dic = build_L(PARAMS, silent=True)\n",
    "    rate_dic_0 = rf.get_rates_state(PARAMS, dic, init_state=0)\n",
    "    \n",
    "    \n",
    "    PARAMS.update({'alpha_ph' : alpha_vals[1], 'N': N_vals[1]})\n",
    "    dic = build_L(PARAMS, silent=True)\n",
    "    rate_dic_1 = rf.get_rates_state(PARAMS, dic, init_state=0)\n",
    "    \n",
    "    perc_change_dict = {}\n",
    "    for key, rate_0 in rate_dic_0.items():\n",
    "        if rate_0!=0.0:\n",
    "            perc_change_dict[key] = (rate_0-rate_dic_1[key])/rate_0\n",
    "        \n",
    "    for key, value in perc_change_dict.items():\n",
    "        if value != 0.0:\n",
    "            print(key+': '+str( value))\n",
    "    return perc_change_dict\n",
    "\n",
    "print(\"With no binding energy\")\n",
    "PARAMS = PARAMS_setup(valence_energy=100e-3, binding_energy=0., radiative_lifetime=1, alpha_ph=0, mu=700e-3,\n",
    "                      bias_voltage=0, N=3,  T_C=77., delta_leads=30e-3, lead_SD='flat')\n",
    "pc_0 = percentage_change_of_rates(PARAMS, alpha_vals = [0, 0.03], N_vals=[3,10])\n",
    "print(\"\")\n",
    "print(\"With finite binding energy\")\n",
    "\n",
    "PARAMS = PARAMS_setup(valence_energy=100e-3, binding_energy=0.1, radiative_lifetime=1, alpha_ph=0, mu=700e-3,\n",
    "                      bias_voltage=0, N=3, T_C=77., delta_leads=30e-3, lead_SD='flat')\n",
    "pc_1 = percentage_change_of_rates(PARAMS, alpha_vals = [0, 0.03], N_vals=[3,10])\n",
    "print(pc_0['x-h']/pc_1['x-h'])\n",
    "\"\"\"dic = build_L(PARAMS, silent=True)\n",
    "rate_dic_single = rf.get_rates_state(PARAMS, dic, init_state=0)\n",
    "\n",
    "for key, value in rate_dic_single.items():\n",
    "    if value != 0.0:\n",
    "        print(key+': '+str( value))\"\"\""
   ]
  },
  {
   "cell_type": "code",
   "execution_count": null,
   "metadata": {},
   "outputs": [],
   "source": [
    "1.79374395205"
   ]
  },
  {
   "cell_type": "markdown",
   "metadata": {},
   "source": [
    "The lead rates `x-h` and `x-e` (involving exciton dissociation) decrease more rapidly as a function of $\\alpha$ the smaller the binding energy. This is probably because the spectral density is more sensitive to changes in frequency near the peak of the Lorentzian (with U>0, the spectral density is sampled further away from the peak). This doesn't take into account the changing thermal occupations. \n",
    "\n",
    "I could use flat leads for this (or at least a very wide Lorentzian)."
   ]
  },
  {
   "cell_type": "code",
   "execution_count": 45,
   "metadata": {},
   "outputs": [
    {
     "name": "stdout",
     "output_type": "stream",
     "text": [
      "With no binding energy\n",
      "x-h: 7.15984747068e-05\n",
      "0-x: 1.7209410199e-06\n",
      "h-0: 1.79002917191e-05\n",
      "e-0: 7.15984740021e-05\n",
      "x-e: 1.79002920362e-05\n",
      "x-0: 6.54994671667e-07\n",
      "\n",
      "With finite binding energy\n",
      "x-h: 5.20254557602e-05\n",
      "0-x: 1.69647796468e-06\n",
      "h-0: 1.79002917191e-05\n",
      "e-0: 7.15984740021e-05\n",
      "x-e: 1.30105122233e-05\n",
      "x-0: 6.81202225223e-07\n",
      "1.37622003807\n"
     ]
    }
   ],
   "source": [
    "print(\"With no binding energy\")\n",
    "PARAMS = PARAMS_setup(valence_energy=100e-3, binding_energy=0., radiative_lifetime=1, alpha_ph=0, mu=700e-3,\n",
    "                      bias_voltage=0, N=3,  T_C=77., delta_leads=30e-3)\n",
    "pc_0 = percentage_change_of_rates(PARAMS, alpha_vals = [0, 0.025], N_vals=[3,8])\n",
    "print(\"\")\n",
    "print(\"With finite binding energy\")\n",
    "\n",
    "PARAMS = PARAMS_setup(valence_energy=100e-3, binding_energy=0.1, radiative_lifetime=1, alpha_ph=0, mu=700e-3,\n",
    "                      bias_voltage=0, N=3, T_C=77., delta_leads=30e-3)\n",
    "pc_1 = percentage_change_of_rates(PARAMS, alpha_vals = [0, 0.025], N_vals=[3,8])\n",
    "print(pc_0['x-h']/pc_1['x-h'])"
   ]
  },
  {
   "cell_type": "code",
   "execution_count": 48,
   "metadata": {},
   "outputs": [
    {
     "name": "stdout",
     "output_type": "stream",
     "text": [
      "With no binding energy\n",
      "x-h: 5.37984234825e-05\n",
      "0-x: 1.7209410199e-06\n",
      "h-0: 1.34498987433e-05\n",
      "e-0: 5.37984222869e-05\n",
      "x-e: 1.34498991498e-05\n",
      "x-0: 6.54994671667e-07\n",
      "\n",
      "With finite binding energy\n",
      "x-h: 4.96314855311e-05\n",
      "0-x: 1.69647796468e-06\n",
      "h-0: 1.34498987433e-05\n",
      "e-0: 5.37984222869e-05\n",
      "x-e: 1.24088087213e-05\n",
      "x-0: 6.81202225223e-07\n",
      "1.08395755047\n"
     ]
    }
   ],
   "source": [
    "print(\"With no binding energy\")\n",
    "PARAMS = PARAMS_setup(valence_energy=100e-3, binding_energy=0., radiative_lifetime=1, alpha_ph=0, mu=700e-3,\n",
    "                      bias_voltage=0, N=3,  T_C=77., delta_leads=45e-3)\n",
    "pc_0 = percentage_change_of_rates(PARAMS, alpha_vals = [0, 0.025], N_vals=[3,8])\n",
    "print(\"\")\n",
    "print(\"With finite binding energy\")\n",
    "\n",
    "PARAMS = PARAMS_setup(valence_energy=100e-3, binding_energy=0.1, radiative_lifetime=1, alpha_ph=0, mu=700e-3,\n",
    "                      bias_voltage=0, N=3, T_C=77., delta_leads=45e-3)\n",
    "pc_1 = percentage_change_of_rates(PARAMS, alpha_vals = [0, 0.025], N_vals=[3,8])\n",
    "print(pc_0['x-h']/pc_1['x-h'])"
   ]
  },
  {
   "cell_type": "code",
   "execution_count": 76,
   "metadata": {},
   "outputs": [
    {
     "data": {
      "text/plain": [
       "0.05"
      ]
     },
     "execution_count": 76,
     "metadata": {},
     "output_type": "execute_result"
    }
   ],
   "source": [
    "50e-3"
   ]
  },
  {
   "cell_type": "code",
   "execution_count": 20,
   "metadata": {},
   "outputs": [
    {
     "name": "stdout",
     "output_type": "stream",
     "text": [
      "With no binding energy\n",
      "x-h: 7.29975592384e-08\n",
      "0-x: 2.06519028595e-06\n",
      "h-0: 1.82473603563e-08\n",
      "e-0: 7.29994485153e-08\n",
      "x-e: 1.82486716099e-08\n",
      "x-0: 7.85993585626e-07\n",
      "\n",
      "With finite binding energy\n",
      "x-h: 3.63132844577e-07\n",
      "0-x: 2.03583476259e-06\n",
      "h-0: 1.82473603563e-08\n",
      "e-0: 7.29994485153e-08\n",
      "x-e: 9.07825353707e-08\n",
      "x-0: 8.17442647508e-07\n",
      "0.201021638027\n"
     ]
    }
   ],
   "source": [
    "print(\"With no binding energy\")\n",
    "PARAMS = PARAMS_setup(valence_energy=100e-3, binding_energy=0.0, radiative_lifetime=1, alpha_ph=0, mu=700e-3,\n",
    "                      bias_voltage=0, N=3,  T_C=77., delta_leads=2000e-3)\n",
    "pc_0 = percentage_change_of_rates(PARAMS, alpha_vals = [0, 0.03], N_vals=[3,7])\n",
    "print(\"\")\n",
    "print(\"With finite binding energy\")\n",
    "\n",
    "PARAMS = PARAMS_setup(valence_energy=100e-3, binding_energy=0.1, radiative_lifetime=1, alpha_ph=0, mu=700e-3,\n",
    "                      bias_voltage=0, N=3, T_C=77., delta_leads=2000e-3)\n",
    "pc_1 = percentage_change_of_rates(PARAMS, alpha_vals = [0, 0.03], N_vals=[3,7])\n",
    "print(pc_0['x-h']/pc_1['x-h'])"
   ]
  },
  {
   "cell_type": "markdown",
   "metadata": {},
   "source": [
    "# Puzzling phenomenon!\n",
    "If the lead SD width is equal to $50meV$ then the rate of decrease of current is the same for $U=0$ and $U=100meV$. For this to occur, the\n",
    "$J_{\\nu}(\\omega) = \\frac{1}{2\\pi}\\frac{\\Gamma\\delta_{\\nu}^2}{(\\omega-\\omega_{\\nu})^2+\\delta_{\\nu}^2}$\n",
    "\n",
    "$1/\\sqrt{U}$"
   ]
  },
  {
   "cell_type": "code",
   "execution_count": 90,
   "metadata": {},
   "outputs": [
    {
     "data": {
      "text/plain": [
       "3.162277660168379"
      ]
     },
     "execution_count": 90,
     "metadata": {},
     "output_type": "execute_result"
    }
   ],
   "source": [
    "1/np.sqrt(0.1)"
   ]
  },
  {
   "cell_type": "code",
   "execution_count": 91,
   "metadata": {},
   "outputs": [
    {
     "data": {
      "text/plain": [
       "0.07071067811865475"
      ]
     },
     "execution_count": 91,
     "metadata": {},
     "output_type": "execute_result"
    }
   ],
   "source": [
    "1/(np.sqrt(200))"
   ]
  },
  {
   "cell_type": "code",
   "execution_count": 2,
   "metadata": {},
   "outputs": [
    {
     "name": "stdout",
     "output_type": "stream",
     "text": [
      "With no binding energy\n"
     ]
    },
    {
     "ename": "NameError",
     "evalue": "name 'percentage_change_of_rates' is not defined",
     "output_type": "error",
     "traceback": [
      "\u001b[0;31m---------------------------------------------------------------------------\u001b[0m",
      "\u001b[0;31mNameError\u001b[0m                                 Traceback (most recent call last)",
      "\u001b[0;32m<ipython-input-2-5d9e1e0f974d>\u001b[0m in \u001b[0;36m<module>\u001b[0;34m()\u001b[0m\n\u001b[1;32m      4\u001b[0m PARAMS = PARAMS_setup(valence_energy=100e-3, binding_energy=0., radiative_lifetime=1, alpha_ph=0, mu=700e-3,\n\u001b[1;32m      5\u001b[0m                       bias_voltage=0, N=3,  T_C=77., delta_leads=0.07071)\n\u001b[0;32m----> 6\u001b[0;31m \u001b[0mpc_0\u001b[0m \u001b[0;34m=\u001b[0m \u001b[0mpercentage_change_of_rates\u001b[0m\u001b[0;34m(\u001b[0m\u001b[0mPARAMS\u001b[0m\u001b[0;34m,\u001b[0m \u001b[0malpha_vals\u001b[0m \u001b[0;34m=\u001b[0m \u001b[0;34m[\u001b[0m\u001b[0;36m0\u001b[0m\u001b[0;34m,\u001b[0m \u001b[0;36m0.025\u001b[0m\u001b[0;34m]\u001b[0m\u001b[0;34m,\u001b[0m \u001b[0mN_vals\u001b[0m\u001b[0;34m=\u001b[0m\u001b[0;34m[\u001b[0m\u001b[0;36m3\u001b[0m\u001b[0;34m,\u001b[0m\u001b[0;36m8\u001b[0m\u001b[0;34m]\u001b[0m\u001b[0;34m)\u001b[0m\u001b[0;34m\u001b[0m\u001b[0m\n\u001b[0m\u001b[1;32m      7\u001b[0m \u001b[0;32mprint\u001b[0m\u001b[0;34m(\u001b[0m\u001b[0;34m\"\"\u001b[0m\u001b[0;34m)\u001b[0m\u001b[0;34m\u001b[0m\u001b[0m\n\u001b[1;32m      8\u001b[0m \u001b[0;32mprint\u001b[0m\u001b[0;34m(\u001b[0m\u001b[0;34m\"With finite binding energy\"\u001b[0m\u001b[0;34m)\u001b[0m\u001b[0;34m\u001b[0m\u001b[0m\n",
      "\u001b[0;31mNameError\u001b[0m: name 'percentage_change_of_rates' is not defined"
     ]
    }
   ],
   "source": [
    "print(\"With no binding energy\")\n",
    "BE = 0.2\n",
    "delta = 1/(2*np.sqrt(BE*1000))\n",
    "PARAMS = PARAMS_setup(valence_energy=100e-3, binding_energy=0., radiative_lifetime=1, alpha_ph=0, mu=700e-3,\n",
    "                      bias_voltage=0, N=3,  T_C=77., delta_leads=0.07071)\n",
    "pc_0 = percentage_change_of_rates(PARAMS, alpha_vals = [0, 0.025], N_vals=[3,8])\n",
    "print(\"\")\n",
    "print(\"With finite binding energy\")\n",
    "\n",
    "PARAMS = PARAMS_setup(valence_energy=100e-3, binding_energy=0.2, radiative_lifetime=1, alpha_ph=0, mu=700e-3,\n",
    "                      bias_voltage=0, N=3, T_C=77., delta_leads=0.07071)\n",
    "pc_1 = percentage_change_of_rates(PARAMS, alpha_vals = [0, 0.025], N_vals=[3,8])\n",
    "print(pc_0['x-h']/pc_1['x-h'])"
   ]
  },
  {
   "cell_type": "code",
   "execution_count": null,
   "metadata": {},
   "outputs": [],
   "source": [
    "0.999910190097"
   ]
  },
  {
   "cell_type": "code",
   "execution_count": 13,
   "metadata": {},
   "outputs": [
    {
     "name": "stdout",
     "output_type": "stream",
     "text": [
      "With no binding energy\n",
      "x-h: 3.62596089902e-12\n",
      "0-x: 1.7209410199e-06\n",
      "h-0: 6.64449084272e-13\n",
      "e-0: 1.01358301422e-12\n",
      "x-e: 1.4238194663e-12\n",
      "x-0: 6.54994671667e-07\n",
      "\n",
      "With finite binding energy\n",
      "x-h: 3.60849964224e-11\n",
      "0-x: 1.64388750573e-06\n",
      "h-0: 6.64449084272e-13\n",
      "e-0: 1.01358301422e-12\n",
      "x-e: 9.53886477227e-12\n",
      "x-0: 7.37273597244e-07\n",
      "0.100483892435\n"
     ]
    }
   ],
   "source": [
    "print(\"With no binding energy\")\n",
    "BE = 0.3\n",
    "delta = 300.\n",
    "PARAMS = PARAMS_setup(valence_energy=100e-3, binding_energy=0., radiative_lifetime=1, alpha_ph=0, mu=700e-3,\n",
    "                      bias_voltage=0, N=3,  T_C=77., delta_leads=delta)\n",
    "pc_0 = percentage_change_of_rates(PARAMS, alpha_vals = [0, 0.025], N_vals=[3,8])\n",
    "print(\"\")\n",
    "print(\"With finite binding energy\")\n",
    "\n",
    "PARAMS = PARAMS_setup(valence_energy=100e-3, binding_energy=0.3, radiative_lifetime=1, alpha_ph=0, mu=700e-3,\n",
    "                      bias_voltage=0, N=3, T_C=77., delta_leads=delta)\n",
    "pc_1 = percentage_change_of_rates(PARAMS, alpha_vals = [0, 0.025], N_vals=[3,8])\n",
    "print(pc_0['x-h']/pc_1['x-h'])"
   ]
  },
  {
   "cell_type": "code",
   "execution_count": null,
   "metadata": {},
   "outputs": [],
   "source": [
    "1.01716354679"
   ]
  },
  {
   "cell_type": "code",
   "execution_count": null,
   "metadata": {},
   "outputs": [],
   "source": []
  }
 ],
 "metadata": {
  "kernelspec": {
   "display_name": "Python 2",
   "language": "python",
   "name": "python2"
  },
  "language_info": {
   "codemirror_mode": {
    "name": "ipython",
    "version": 2
   },
   "file_extension": ".py",
   "mimetype": "text/x-python",
   "name": "python",
   "nbconvert_exporter": "python",
   "pygments_lexer": "ipython2",
   "version": "2.7.15"
  }
 },
 "nbformat": 4,
 "nbformat_minor": 2
}
